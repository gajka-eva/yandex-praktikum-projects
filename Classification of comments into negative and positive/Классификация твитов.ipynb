{
 "cells": [
  {
   "cell_type": "markdown",
   "metadata": {
    "id": "LSwJKIWpNPZz"
   },
   "source": [
    "# Проект для «Викишоп»"
   ]
  },
  {
   "cell_type": "markdown",
   "metadata": {
    "id": "dOqPfVZvNPZz"
   },
   "source": [
    "<div class=\"alert alert-block alert-info\">\n",
    "    \n",
    "Интернет-магазин «Викишоп» запускает новый сервис: клиентам можно предлагать свои правки и комментировать изменения других. Магазину нужен инструмент, который будет искать токсичные комментарии пользователей, редактирующих и дополняющих описание товаров, и отправлять их на модерацию. \n",
    "\n",
    "Цель - обучить модель классифицировать комментарии на позитивные и негативные. В распоряжении набор данных с разметкой о токсичности правок."
   ]
  },
  {
   "cell_type": "markdown",
   "metadata": {
    "id": "qEVzP0AxNPZ0"
   },
   "source": [
    "## Подготовка"
   ]
  },
  {
   "cell_type": "code",
   "execution_count": 16,
   "metadata": {
    "colab": {
     "base_uri": "https://localhost:8080/"
    },
    "id": "jm_CCOjdNPZ1",
    "outputId": "d169c70d-6337-4bd4-8ef6-9cc3a17f3b29"
   },
   "outputs": [
    {
     "name": "stderr",
     "output_type": "stream",
     "text": [
      "[nltk_data] Downloading package wordnet to /root/nltk_data...\n",
      "[nltk_data]   Package wordnet is already up-to-date!\n",
      "[nltk_data] Downloading package punkt to /root/nltk_data...\n",
      "[nltk_data]   Package punkt is already up-to-date!\n",
      "[nltk_data] Downloading package omw-1.4 to /root/nltk_data...\n",
      "[nltk_data]   Unzipping corpora/omw-1.4.zip.\n",
      "[nltk_data] Downloading package averaged_perceptron_tagger to\n",
      "[nltk_data]     /root/nltk_data...\n",
      "[nltk_data]   Package averaged_perceptron_tagger is already up-to-\n",
      "[nltk_data]       date!\n"
     ]
    }
   ],
   "source": [
    "# загрузка библиотек\n",
    "import pandas as pd\n",
    "import numpy as np\n",
    "import nltk\n",
    "nltk.download('wordnet')\n",
    "nltk.download('punkt')\n",
    "nltk.download('omw-1.4')\n",
    "from nltk.corpus import wordnet\n",
    "nltk.download('averaged_perceptron_tagger')\n",
    "from nltk.stem import WordNetLemmatizer \n",
    "import re\n",
    "from nltk.corpus import stopwords\n",
    "from sklearn.feature_extraction.text import TfidfVectorizer\n",
    "from sklearn.model_selection import train_test_split, TimeSeriesSplit, GridSearchCV\n",
    "from sklearn.metrics import f1_score\n",
    "from sklearn.linear_model import LogisticRegression\n",
    "from sklearn.tree import DecisionTreeClassifier\n",
    "import warnings\n",
    "warnings.filterwarnings('ignore')"
   ]
  },
  {
   "cell_type": "code",
   "execution_count": 17,
   "metadata": {
    "id": "ardS3GpKNPZ4"
   },
   "outputs": [],
   "source": [
    "# открытие файла\n",
    "df = pd.read_csv('/content/toxic_comments.csv')\n",
    "\n",
    "# функция для изучения данных датафрейма\n",
    "def open_info(data):\n",
    "    # вывод 5 строк данных\n",
    "    print('*******************************************************')\n",
    "    print('Представление датафрейма')\n",
    "    display(data.head())\n",
    "    print('*******************************************************')\n",
    "    # вывод информации о датафрейме\n",
    "    print('Общая информация о датафрейме')\n",
    "    print('')\n",
    "    print(data.info())\n",
    "    print('*******************************************************')\n",
    "    # проверка на наличие пропусков\n",
    "    print('Пропуски:', data.isna().sum().sum())\n",
    "    print('*******************************************************')\n",
    "    # проверка на наличие дубликатов\n",
    "    print('Дубликаты:', data.duplicated().sum())"
   ]
  },
  {
   "cell_type": "code",
   "execution_count": 19,
   "metadata": {
    "colab": {
     "base_uri": "https://localhost:8080/",
     "height": 536
    },
    "id": "_wcoqV26NPZ5",
    "outputId": "596a19b0-5dde-48fb-fa08-d45169827ab4"
   },
   "outputs": [
    {
     "name": "stdout",
     "output_type": "stream",
     "text": [
      "*******************************************************\n",
      "Представление датафрейма\n"
     ]
    },
    {
     "data": {
      "text/html": [
       "\n",
       "  <div id=\"df-2d1103f4-1615-467d-821e-5ff5c3b4162e\">\n",
       "    <div class=\"colab-df-container\">\n",
       "      <div>\n",
       "<style scoped>\n",
       "    .dataframe tbody tr th:only-of-type {\n",
       "        vertical-align: middle;\n",
       "    }\n",
       "\n",
       "    .dataframe tbody tr th {\n",
       "        vertical-align: top;\n",
       "    }\n",
       "\n",
       "    .dataframe thead th {\n",
       "        text-align: right;\n",
       "    }\n",
       "</style>\n",
       "<table border=\"1\" class=\"dataframe\">\n",
       "  <thead>\n",
       "    <tr style=\"text-align: right;\">\n",
       "      <th></th>\n",
       "      <th>text</th>\n",
       "      <th>toxic</th>\n",
       "    </tr>\n",
       "  </thead>\n",
       "  <tbody>\n",
       "    <tr>\n",
       "      <th>0</th>\n",
       "      <td>Explanation\\nWhy the edits made under my usern...</td>\n",
       "      <td>0</td>\n",
       "    </tr>\n",
       "    <tr>\n",
       "      <th>1</th>\n",
       "      <td>D'aww! He matches this background colour I'm s...</td>\n",
       "      <td>0</td>\n",
       "    </tr>\n",
       "    <tr>\n",
       "      <th>2</th>\n",
       "      <td>Hey man, I'm really not trying to edit war. It...</td>\n",
       "      <td>0</td>\n",
       "    </tr>\n",
       "    <tr>\n",
       "      <th>3</th>\n",
       "      <td>\"\\nMore\\nI can't make any real suggestions on ...</td>\n",
       "      <td>0</td>\n",
       "    </tr>\n",
       "    <tr>\n",
       "      <th>4</th>\n",
       "      <td>You, sir, are my hero. Any chance you remember...</td>\n",
       "      <td>0</td>\n",
       "    </tr>\n",
       "  </tbody>\n",
       "</table>\n",
       "</div>\n",
       "      <button class=\"colab-df-convert\" onclick=\"convertToInteractive('df-2d1103f4-1615-467d-821e-5ff5c3b4162e')\"\n",
       "              title=\"Convert this dataframe to an interactive table.\"\n",
       "              style=\"display:none;\">\n",
       "        \n",
       "  <svg xmlns=\"http://www.w3.org/2000/svg\" height=\"24px\"viewBox=\"0 0 24 24\"\n",
       "       width=\"24px\">\n",
       "    <path d=\"M0 0h24v24H0V0z\" fill=\"none\"/>\n",
       "    <path d=\"M18.56 5.44l.94 2.06.94-2.06 2.06-.94-2.06-.94-.94-2.06-.94 2.06-2.06.94zm-11 1L8.5 8.5l.94-2.06 2.06-.94-2.06-.94L8.5 2.5l-.94 2.06-2.06.94zm10 10l.94 2.06.94-2.06 2.06-.94-2.06-.94-.94-2.06-.94 2.06-2.06.94z\"/><path d=\"M17.41 7.96l-1.37-1.37c-.4-.4-.92-.59-1.43-.59-.52 0-1.04.2-1.43.59L10.3 9.45l-7.72 7.72c-.78.78-.78 2.05 0 2.83L4 21.41c.39.39.9.59 1.41.59.51 0 1.02-.2 1.41-.59l7.78-7.78 2.81-2.81c.8-.78.8-2.07 0-2.86zM5.41 20L4 18.59l7.72-7.72 1.47 1.35L5.41 20z\"/>\n",
       "  </svg>\n",
       "      </button>\n",
       "      \n",
       "  <style>\n",
       "    .colab-df-container {\n",
       "      display:flex;\n",
       "      flex-wrap:wrap;\n",
       "      gap: 12px;\n",
       "    }\n",
       "\n",
       "    .colab-df-convert {\n",
       "      background-color: #E8F0FE;\n",
       "      border: none;\n",
       "      border-radius: 50%;\n",
       "      cursor: pointer;\n",
       "      display: none;\n",
       "      fill: #1967D2;\n",
       "      height: 32px;\n",
       "      padding: 0 0 0 0;\n",
       "      width: 32px;\n",
       "    }\n",
       "\n",
       "    .colab-df-convert:hover {\n",
       "      background-color: #E2EBFA;\n",
       "      box-shadow: 0px 1px 2px rgba(60, 64, 67, 0.3), 0px 1px 3px 1px rgba(60, 64, 67, 0.15);\n",
       "      fill: #174EA6;\n",
       "    }\n",
       "\n",
       "    [theme=dark] .colab-df-convert {\n",
       "      background-color: #3B4455;\n",
       "      fill: #D2E3FC;\n",
       "    }\n",
       "\n",
       "    [theme=dark] .colab-df-convert:hover {\n",
       "      background-color: #434B5C;\n",
       "      box-shadow: 0px 1px 3px 1px rgba(0, 0, 0, 0.15);\n",
       "      filter: drop-shadow(0px 1px 2px rgba(0, 0, 0, 0.3));\n",
       "      fill: #FFFFFF;\n",
       "    }\n",
       "  </style>\n",
       "\n",
       "      <script>\n",
       "        const buttonEl =\n",
       "          document.querySelector('#df-2d1103f4-1615-467d-821e-5ff5c3b4162e button.colab-df-convert');\n",
       "        buttonEl.style.display =\n",
       "          google.colab.kernel.accessAllowed ? 'block' : 'none';\n",
       "\n",
       "        async function convertToInteractive(key) {\n",
       "          const element = document.querySelector('#df-2d1103f4-1615-467d-821e-5ff5c3b4162e');\n",
       "          const dataTable =\n",
       "            await google.colab.kernel.invokeFunction('convertToInteractive',\n",
       "                                                     [key], {});\n",
       "          if (!dataTable) return;\n",
       "\n",
       "          const docLinkHtml = 'Like what you see? Visit the ' +\n",
       "            '<a target=\"_blank\" href=https://colab.research.google.com/notebooks/data_table.ipynb>data table notebook</a>'\n",
       "            + ' to learn more about interactive tables.';\n",
       "          element.innerHTML = '';\n",
       "          dataTable['output_type'] = 'display_data';\n",
       "          await google.colab.output.renderOutput(dataTable, element);\n",
       "          const docLink = document.createElement('div');\n",
       "          docLink.innerHTML = docLinkHtml;\n",
       "          element.appendChild(docLink);\n",
       "        }\n",
       "      </script>\n",
       "    </div>\n",
       "  </div>\n",
       "  "
      ],
      "text/plain": [
       "                                                text  toxic\n",
       "0  Explanation\\nWhy the edits made under my usern...      0\n",
       "1  D'aww! He matches this background colour I'm s...      0\n",
       "2  Hey man, I'm really not trying to edit war. It...      0\n",
       "3  \"\\nMore\\nI can't make any real suggestions on ...      0\n",
       "4  You, sir, are my hero. Any chance you remember...      0"
      ]
     },
     "metadata": {},
     "output_type": "display_data"
    },
    {
     "name": "stdout",
     "output_type": "stream",
     "text": [
      "*******************************************************\n",
      "Общая информация о датафрейме\n",
      "\n",
      "<class 'pandas.core.frame.DataFrame'>\n",
      "RangeIndex: 159571 entries, 0 to 159570\n",
      "Data columns (total 2 columns):\n",
      " #   Column  Non-Null Count   Dtype \n",
      "---  ------  --------------   ----- \n",
      " 0   text    159571 non-null  object\n",
      " 1   toxic   159571 non-null  int64 \n",
      "dtypes: int64(1), object(1)\n",
      "memory usage: 2.4+ MB\n",
      "None\n",
      "*******************************************************\n",
      "Пропуски: 0\n",
      "*******************************************************\n",
      "Дубликаты: 0\n"
     ]
    }
   ],
   "source": [
    "open_info(df)"
   ]
  },
  {
   "cell_type": "markdown",
   "metadata": {
    "id": "Qn2d_VswNPZ6"
   },
   "source": [
    "Итак, в датафрейме 159571 строка и 2 столбца: 'toxic'(обозначения того, является ли текст токсичным или нет), 'text' (тексты твитов). Дубликатов и пропусков нет.  \n",
    "\n",
    "Посмотрим, сколько у нас токсичных твитов."
   ]
  },
  {
   "cell_type": "code",
   "execution_count": 20,
   "metadata": {
    "colab": {
     "base_uri": "https://localhost:8080/",
     "height": 86
    },
    "id": "5k6VDMRUNPZ6",
    "outputId": "eeeeac16-10ad-4d68-fefb-8f02f77078de"
   },
   "outputs": [
    {
     "data": {
      "text/plain": [
       "0    143346\n",
       "1     16225\n",
       "Name: toxic, dtype: int64"
      ]
     },
     "metadata": {},
     "output_type": "display_data"
    },
    {
     "data": {
      "text/plain": [
       "8.834884437596301"
      ]
     },
     "execution_count": 20,
     "metadata": {},
     "output_type": "execute_result"
    }
   ],
   "source": [
    "# количество токсичных и нетоксичных твитов\n",
    "display(df['toxic'].value_counts())\n",
    "# соотношение\n",
    "df['toxic'].value_counts()[0] / df['toxic'].value_counts()[1]\n"
   ]
  },
  {
   "cell_type": "markdown",
   "metadata": {
    "id": "bX4EmwV7NPZ6"
   },
   "source": [
    "Классы не сбалансированы. Видим, что токсичных твитов не так много, если сравнивать с количеством нетоксичных твитов. Нужно при обучении моделей это учесть."
   ]
  },
  {
   "cell_type": "markdown",
   "metadata": {
    "id": "FNPgQ2esNPZ7"
   },
   "source": [
    "Прежде чем извлечь признаки из текста, нужно его упростить. Для этого необходимо сделать лемматизацию, очищение текста и токенизацию."
   ]
  },
  {
   "cell_type": "code",
   "execution_count": 21,
   "metadata": {
    "colab": {
     "base_uri": "https://localhost:8080/",
     "height": 122
    },
    "id": "uZkLapoUNPZ7",
    "outputId": "79197591-92bc-47d3-acc1-8642e16ba74b"
   },
   "outputs": [
    {
     "data": {
      "application/vnd.google.colaboratory.intrinsic+json": {
       "type": "string"
      },
      "text/plain": [
       "\"Explanation\\nWhy the edits made under my username Hardcore Metallica Fan were reverted? They weren't vandalisms, just closure on some GAs after I voted at New York Dolls FAC. And please don't remove the template from the talk page since I'm retired now.89.205.38.27\""
      ]
     },
     "metadata": {},
     "output_type": "display_data"
    },
    {
     "data": {
      "application/vnd.google.colaboratory.intrinsic+json": {
       "type": "string"
      },
      "text/plain": [
       "'explanation why the edits make under my username hardcore metallica fan be revert they be not vandalism just closure on some gas after i vote at new york doll fac and please do not remove the template from the talk page since i be retire now'"
      ]
     },
     "execution_count": 21,
     "metadata": {},
     "output_type": "execute_result"
    }
   ],
   "source": [
    "# функция, чтобы вернуть слово к начальной форме\n",
    "def get_wordnet_pos(word):\n",
    "    tag = nltk.pos_tag([word])[0][1][0].upper()\n",
    "    tag_dict = {\"J\": wordnet.ADJ,\n",
    "                \"N\": wordnet.NOUN,\n",
    "                \"V\": wordnet.VERB,\n",
    "                \"R\": wordnet.ADV}\n",
    "    return tag_dict.get(tag, wordnet.NOUN)\n",
    "\n",
    "# функция лемматизации\n",
    "def lemmatize(text):\n",
    "    lemmatizer = WordNetLemmatizer()\n",
    "    text = text.lower()\n",
    "    lemm_list = nltk.word_tokenize(text)\n",
    "    lemm_text = ' '.join([lemmatizer.lemmatize(w, get_wordnet_pos(w)) for w in lemm_list])      \n",
    "    return lemm_text\n",
    "\n",
    "# функция очищения текста\n",
    "def clear_text(text):\n",
    "    text = re.sub(r\"\\'m\", \" am \", text)\n",
    "    text = re.sub(r\"can't\", \"cannot \", text)\n",
    "    text = re.sub(r\"what's\", \"what is \", text)\n",
    "    text = re.sub(r\"there's\", \"there is \", text)\n",
    "    text = re.sub(r\"it's\", \"it is \", text)\n",
    "    text = re.sub(r\"\\'s\", \" \", text)\n",
    "    text = re.sub(r\"\\'ve\", \" have \", text)\n",
    "    text = re.sub(r\"n't\", \" not \", text)\n",
    "    text = re.sub(r\"\\'re\", \" are \", text)\n",
    "    text = re.sub(r\"\\'d\", \" would \", text)\n",
    "    text = re.sub(r\"\\'ll\", \" will \", text)\n",
    "    text = re.sub('\\W', ' ', text)\n",
    "    text = re.sub('\\s+', ' ', text)\n",
    "    clear_text = re.sub(r'[^a-zA-Z]', ' ', text)\n",
    "    clear_text = clear_text.lower().split()\n",
    "    return ' '.join(clear_text)\n",
    "\n",
    "# токенизация\n",
    "df['lemm_text'] = df['text'].apply(lambda text: lemmatize(clear_text(text)))\n",
    "\n",
    "# проверка\n",
    "display(df.loc[0, 'text'])\n",
    "df.loc[0, 'lemm_text']"
   ]
  },
  {
   "cell_type": "markdown",
   "metadata": {
    "id": "mBBzTnhdNPZ9"
   },
   "source": [
    "Токенизация прошла успешно. Сохраним полученные данные в новом датафрейме."
   ]
  },
  {
   "cell_type": "code",
   "execution_count": 22,
   "metadata": {
    "id": "aHUd9tlUNPZ9"
   },
   "outputs": [],
   "source": [
    "# сохранение файла\n",
    "df.to_csv('lemm_toxic.csv', index=False)\n",
    "\n",
    "# открытие файла\n",
    "df = pd.read_csv('lemm_toxic.csv')"
   ]
  },
  {
   "cell_type": "markdown",
   "metadata": {
    "id": "jy1KfRU2NPZ-"
   },
   "source": [
    "Подготовим признаки для обучения моделей."
   ]
  },
  {
   "cell_type": "code",
   "execution_count": 23,
   "metadata": {
    "colab": {
     "base_uri": "https://localhost:8080/",
     "height": 52
    },
    "id": "4mbDJwPBNPZ-",
    "outputId": "8a7462a7-f1a5-4752-82c9-799a0c90e111"
   },
   "outputs": [
    {
     "data": {
      "text/plain": [
       "(111699,)"
      ]
     },
     "metadata": {},
     "output_type": "display_data"
    },
    {
     "data": {
      "text/plain": [
       "(47872,)"
      ]
     },
     "execution_count": 23,
     "metadata": {},
     "output_type": "execute_result"
    }
   ],
   "source": [
    "# признаки и целевой признак\n",
    "features = df['lemm_text']\n",
    "target = df['toxic']\n",
    "\n",
    "# создание тренировочной и тестовой выборок\n",
    "features_train, features_test, target_train, target_test = train_test_split(features,\n",
    "                                                                            target,\n",
    "                                                                            test_size = 0.3,\n",
    "                                                                            random_state=12345)\n",
    "# проверка\n",
    "display(features_train.shape)\n",
    "features_test.shape"
   ]
  },
  {
   "cell_type": "code",
   "execution_count": 24,
   "metadata": {
    "id": "DHd8UV_MNPZ_"
   },
   "outputs": [],
   "source": [
    "# Создададим корпуса слов для обучающей и тестовой выборок:\n",
    "corpus_train = features_train.values.astype('U')\n",
    "corpus_test = features_test.values.astype('U')"
   ]
  },
  {
   "cell_type": "code",
   "execution_count": 25,
   "metadata": {
    "colab": {
     "base_uri": "https://localhost:8080/"
    },
    "id": "Qcn33_NlNPZ_",
    "outputId": "a883ac74-efe9-44c0-d705-060eb228263a"
   },
   "outputs": [
    {
     "name": "stderr",
     "output_type": "stream",
     "text": [
      "[nltk_data] Downloading package stopwords to /root/nltk_data...\n",
      "[nltk_data]   Unzipping corpora/stopwords.zip.\n"
     ]
    }
   ],
   "source": [
    "# очищение текста от стоп-слов и ненужных символов\n",
    "nltk.download('stopwords')\n",
    "stopwords = set(stopwords.words('english'))"
   ]
  },
  {
   "cell_type": "code",
   "execution_count": 26,
   "metadata": {
    "colab": {
     "base_uri": "https://localhost:8080/",
     "height": 52
    },
    "id": "Zyb_oRQRNPaA",
    "outputId": "b305352d-74c5-4343-af43-621b0626eaad"
   },
   "outputs": [
    {
     "data": {
      "text/plain": [
       "(111699, 122927)"
      ]
     },
     "metadata": {},
     "output_type": "display_data"
    },
    {
     "data": {
      "text/plain": [
       "(47872, 122927)"
      ]
     },
     "execution_count": 26,
     "metadata": {},
     "output_type": "execute_result"
    }
   ],
   "source": [
    "# получение TF-IDF для корпуса текста\n",
    "count_tf_idf = TfidfVectorizer(stop_words=stopwords)\n",
    "tfidf_train = count_tf_idf.fit_transform(corpus_train)\n",
    "tfidf_test = count_tf_idf.transform(corpus_test)\n",
    "# размеры матриц\n",
    "display(tfidf_train.shape)\n",
    "tfidf_test.shape"
   ]
  },
  {
   "cell_type": "markdown",
   "metadata": {
    "id": "sanYpZliNPaA"
   },
   "source": [
    "Таким образом, мы подготовили данные для обучения модели. Преобразовали твиты в векторный вид, необходимый для обучения моделей. TF-IDF увеличил количество признаков, равное количеству в мешке слов."
   ]
  },
  {
   "cell_type": "markdown",
   "metadata": {
    "id": "CYAo6ECnNPaA"
   },
   "source": [
    "## Обучение"
   ]
  },
  {
   "cell_type": "markdown",
   "metadata": {
    "id": "PxgymAf4NPaA"
   },
   "source": [
    "Обучим несколько моделей и оценим полученные результаты.\n",
    "Модели для обучения: LogisticRegression и DecisionTreeClassifier."
   ]
  },
  {
   "cell_type": "markdown",
   "metadata": {
    "id": "-XWGYif6NPaB"
   },
   "source": [
    "### Модель LogisticRegression"
   ]
  },
  {
   "cell_type": "code",
   "execution_count": 27,
   "metadata": {
    "colab": {
     "base_uri": "https://localhost:8080/"
    },
    "id": "4epeR4sVNPaB",
    "outputId": "568af02a-705d-4174-c150-352573346757"
   },
   "outputs": [
    {
     "name": "stdout",
     "output_type": "stream",
     "text": [
      "F1 на тренировочной выборке: 0.76\n"
     ]
    }
   ],
   "source": [
    "model_LR = LogisticRegression()\n",
    "model_LR.fit(tfidf_train, target_train)\n",
    "predictions = model_LR.predict(tfidf_train)\n",
    "train_f1 = f1_score(target_train, predictions)\n",
    "\n",
    "print('F1 на тренировочной выборке: {:.2f}'.format(train_f1))"
   ]
  },
  {
   "cell_type": "markdown",
   "metadata": {
    "id": "exJZ92p1NPaB"
   },
   "source": [
    "### Модель DecisionTreeClassifier"
   ]
  },
  {
   "cell_type": "code",
   "execution_count": 28,
   "metadata": {
    "id": "KVBrSZ-MNPaB"
   },
   "outputs": [],
   "source": [
    "# подбор параметров\n",
    "#best_result = 0\n",
    "#for depth in range(1, 20):\n",
    "    #model_DTC = DecisionTreeClassifier(max_depth=depth, random_state=12345)\n",
    "    #model_DTC.fit(tfidf_train, target_train)\n",
    "    #predicted = model_DTC.predict(tfidf_train)\n",
    "    #result = f1_score(target_train, predicted)\n",
    "    #if result > best_result:\n",
    "        #best_result = result\n",
    "        #best_depth = depth\n",
    "#print('Глубина дерева:', best_depth)\n",
    "#print('F1-мера:', best_result)"
   ]
  },
  {
   "cell_type": "markdown",
   "metadata": {
    "id": "YFRi6sWqNPaC"
   },
   "source": [
    "Лучший результат при depth = 19."
   ]
  },
  {
   "cell_type": "code",
   "execution_count": 29,
   "metadata": {
    "colab": {
     "base_uri": "https://localhost:8080/"
    },
    "id": "fxUc8OSDNPaC",
    "outputId": "982f9987-04a4-4f54-84e3-8ac78982ec19"
   },
   "outputs": [
    {
     "name": "stdout",
     "output_type": "stream",
     "text": [
      "F1 на тренировочной выборке: 0.70\n"
     ]
    }
   ],
   "source": [
    "model_DTC = DecisionTreeClassifier(max_depth = 19, random_state=12345)\n",
    "model_DTC.fit(tfidf_train, target_train)\n",
    "predicted = model_DTC.predict(tfidf_train)\n",
    "train_f1 = f1_score(target_train, predicted)\n",
    "\n",
    "print('F1 на тренировочной выборке: {:.2f}'.format(train_f1))"
   ]
  },
  {
   "cell_type": "markdown",
   "metadata": {
    "id": "ki5cM3rvNPaC"
   },
   "source": [
    "По метрике F1 на тренировочной выборке лучшая модель LogisticRegression. Посмотрим, какова метрика F1 на тестовых выборках."
   ]
  },
  {
   "cell_type": "markdown",
   "metadata": {
    "id": "ksoxDgH1NPaD"
   },
   "source": [
    "## Тестирование моделей"
   ]
  },
  {
   "cell_type": "markdown",
   "metadata": {
    "id": "RoSdhjPONPaD"
   },
   "source": [
    "Сделаем функцию для тестирования моделей."
   ]
  },
  {
   "cell_type": "code",
   "execution_count": 30,
   "metadata": {
    "id": "F-OEDnhPNPaD"
   },
   "outputs": [],
   "source": [
    "# функция скоринга для определения метрики F1 для тестовой выбороки:\n",
    "def scoring(model):\n",
    "    test_pred = model.predict(tfidf_test)\n",
    "    test_f1 = f1_score(target_test, test_pred)\n",
    "    \n",
    "    print('F1 на тестовой выборке: {:.2f}'.format(test_f1))"
   ]
  },
  {
   "cell_type": "code",
   "execution_count": 31,
   "metadata": {
    "colab": {
     "base_uri": "https://localhost:8080/"
    },
    "id": "zkTzTZ_CNPaD",
    "outputId": "f510ecf1-120b-4a18-f96a-3e679a6ab5c1"
   },
   "outputs": [
    {
     "name": "stdout",
     "output_type": "stream",
     "text": [
      "LogisticRegression\n",
      "F1 на тестовой выборке: 0.74\n",
      "DecisionTreeClassifier\n",
      "F1 на тестовой выборке: 0.66\n"
     ]
    }
   ],
   "source": [
    "print('LogisticRegression')\n",
    "scoring(model_LR)\n",
    "print('DecisionTreeClassifier')\n",
    "scoring(model_DTC)"
   ]
  },
  {
   "cell_type": "markdown",
   "metadata": {
    "id": "QXAnGly4NPaE"
   },
   "source": [
    "F1 выше у модели LogisticRegression.\n",
    "Поскольку классы неуравновешены, попробуем обучить модель с балансировкой классов."
   ]
  },
  {
   "cell_type": "code",
   "execution_count": 32,
   "metadata": {
    "colab": {
     "base_uri": "https://localhost:8080/"
    },
    "id": "fucNWt_RNPaE",
    "outputId": "c53ba000-2e18-461c-d12c-1edb5049a319"
   },
   "outputs": [
    {
     "name": "stdout",
     "output_type": "stream",
     "text": [
      "F1 на тренировочной выборке: 0.83\n"
     ]
    }
   ],
   "source": [
    "model_LR_bal = LogisticRegression(class_weight='balanced')\n",
    "model_LR_bal.fit(tfidf_train, target_train)\n",
    "predictions = model_LR_bal.predict(tfidf_train)\n",
    "train_f1 = f1_score(target_train, predictions)\n",
    "\n",
    "print('F1 на тренировочной выборке: {:.2f}'.format(train_f1))"
   ]
  },
  {
   "cell_type": "markdown",
   "metadata": {
    "id": "chWOeWkBNPaE"
   },
   "source": [
    "В этом случае F1 оказывается выше, протестируем модель."
   ]
  },
  {
   "cell_type": "code",
   "execution_count": 33,
   "metadata": {
    "colab": {
     "base_uri": "https://localhost:8080/"
    },
    "id": "6o0JvRFaNPaE",
    "outputId": "1c7d6104-efff-4a0b-b935-0d3d99fbd795"
   },
   "outputs": [
    {
     "name": "stdout",
     "output_type": "stream",
     "text": [
      "LogisticRegression\n",
      "F1 на тестовой выборке: 0.75\n"
     ]
    }
   ],
   "source": [
    "# тестирование модели\n",
    "print('LogisticRegression')\n",
    "scoring(model_LR_bal)"
   ]
  },
  {
   "cell_type": "markdown",
   "metadata": {
    "id": "6GBs5gGBNPaF"
   },
   "source": [
    "При балансировке метрика F1 оказывается выше."
   ]
  },
  {
   "cell_type": "markdown",
   "metadata": {
    "id": "9gkzwn92NPaF"
   },
   "source": [
    "## Выводы"
   ]
  },
  {
   "cell_type": "markdown",
   "metadata": {
    "id": "_saalwJmNPaF"
   },
   "source": [
    "<div class=\"alert alert-success\">\n",
    "    \n",
    "Таким образом, была сделана попытка обучить модель классифицировать комментарии на позитивные и негативные и достигнуто значение 0.75 по метрике F1. Перед обучением модели было сделано упрощение текста, в частности его лемматизация, очищение и токенизация. Далее все твиты были преобразованы в векторный вид, необходимый для обучения моделей. TF-IDF увеличил количество признаков, равное количеству в мешке слов. Для обучения были выбраны две модели: LogisticRegression и DecisionTreeClassifier. Также был проведен эксперимент с обучением модели с изменением весов классов. В результате был сделан вывод, лучше обучается классифицировать комментарии на позитивные и негативные модель LogisticRegression с изменением весов классов."
   ]
  },
  {
   "cell_type": "code",
   "execution_count": null,
   "metadata": {},
   "outputs": [],
   "source": []
  }
 ],
 "metadata": {
  "ExecuteTimeLog": [
   {
    "duration": 592,
    "start_time": "2022-02-16T11:29:10.754Z"
   },
   {
    "duration": 363,
    "start_time": "2022-02-16T11:29:15.022Z"
   },
   {
    "duration": 3250,
    "start_time": "2022-02-16T11:30:36.722Z"
   },
   {
    "duration": 4,
    "start_time": "2022-02-16T11:30:43.393Z"
   },
   {
    "duration": 290,
    "start_time": "2022-02-16T11:30:47.229Z"
   },
   {
    "duration": 12,
    "start_time": "2022-02-16T19:43:21.529Z"
   },
   {
    "duration": 138,
    "start_time": "2022-02-16T19:45:06.173Z"
   },
   {
    "duration": 17,
    "start_time": "2022-02-16T19:45:40.866Z"
   },
   {
    "duration": 1803,
    "start_time": "2022-02-16T19:45:44.989Z"
   },
   {
    "duration": 3,
    "start_time": "2022-02-16T19:46:03.685Z"
   },
   {
    "duration": 109935,
    "start_time": "2022-02-16T19:46:08.184Z"
   },
   {
    "duration": 3,
    "start_time": "2022-02-16T19:54:15.516Z"
   },
   {
    "duration": 695,
    "start_time": "2022-02-16T19:54:17.733Z"
   },
   {
    "duration": 5,
    "start_time": "2022-02-16T19:54:20.595Z"
   },
   {
    "duration": 298,
    "start_time": "2022-02-16T19:54:23.502Z"
   },
   {
    "duration": 13,
    "start_time": "2022-02-17T11:23:55.811Z"
   },
   {
    "duration": 15,
    "start_time": "2022-02-17T11:25:48.306Z"
   },
   {
    "duration": 7,
    "start_time": "2022-02-17T11:27:40.630Z"
   },
   {
    "duration": 42981,
    "start_time": "2022-02-17T17:54:38.433Z"
   },
   {
    "duration": 1189,
    "start_time": "2022-02-17T17:57:45.203Z"
   },
   {
    "duration": 3,
    "start_time": "2022-02-17T18:00:40.954Z"
   },
   {
    "duration": 181,
    "start_time": "2022-02-17T18:01:38.063Z"
   },
   {
    "duration": 10,
    "start_time": "2022-02-17T18:01:46.252Z"
   },
   {
    "duration": 5589,
    "start_time": "2022-02-17T18:05:42.529Z"
   },
   {
    "duration": 5,
    "start_time": "2022-02-17T18:07:46.624Z"
   },
   {
    "duration": 697,
    "start_time": "2022-02-17T18:07:50.153Z"
   },
   {
    "duration": 4,
    "start_time": "2022-02-17T18:07:52.624Z"
   },
   {
    "duration": 285,
    "start_time": "2022-02-17T18:07:56.692Z"
   },
   {
    "duration": 15,
    "start_time": "2022-02-17T18:08:00.566Z"
   },
   {
    "duration": 116011,
    "start_time": "2022-02-17T18:08:08.145Z"
   },
   {
    "duration": 1797,
    "start_time": "2022-02-18T13:40:40.231Z"
   },
   {
    "duration": 781,
    "start_time": "2022-02-18T13:40:44.981Z"
   },
   {
    "duration": 7,
    "start_time": "2022-02-18T13:40:48.350Z"
   },
   {
    "duration": 450,
    "start_time": "2022-02-18T13:40:51.684Z"
   },
   {
    "duration": 18,
    "start_time": "2022-02-18T13:40:56.958Z"
   },
   {
    "duration": 17,
    "start_time": "2022-02-18T13:41:01.230Z"
   },
   {
    "duration": 1714,
    "start_time": "2022-02-18T13:41:04.650Z"
   },
   {
    "duration": 6,
    "start_time": "2022-02-18T13:42:15.335Z"
   },
   {
    "duration": 1664,
    "start_time": "2022-02-18T13:42:22.992Z"
   },
   {
    "duration": 5,
    "start_time": "2022-02-18T13:43:01.244Z"
   },
   {
    "duration": 1665,
    "start_time": "2022-02-18T13:43:07.812Z"
   },
   {
    "duration": 1594,
    "start_time": "2022-02-18T13:43:29.608Z"
   },
   {
    "duration": 1496,
    "start_time": "2022-02-18T13:43:42.071Z"
   },
   {
    "duration": 9363,
    "start_time": "2022-02-18T13:43:56.009Z"
   },
   {
    "duration": 15,
    "start_time": "2022-02-18T13:44:10.768Z"
   },
   {
    "duration": 7,
    "start_time": "2022-02-18T14:25:16.272Z"
   },
   {
    "duration": 1684,
    "start_time": "2022-02-18T14:31:26.676Z"
   },
   {
    "duration": 782,
    "start_time": "2022-02-18T14:31:28.363Z"
   },
   {
    "duration": 13,
    "start_time": "2022-02-18T14:31:29.148Z"
   },
   {
    "duration": 389,
    "start_time": "2022-02-18T14:31:29.164Z"
   },
   {
    "duration": 19,
    "start_time": "2022-02-18T14:31:29.560Z"
   },
   {
    "duration": 18,
    "start_time": "2022-02-18T14:31:29.582Z"
   },
   {
    "duration": 13417,
    "start_time": "2022-02-18T14:31:29.602Z"
   },
   {
    "duration": 9305,
    "start_time": "2022-02-18T14:31:43.023Z"
   },
   {
    "duration": 200,
    "start_time": "2022-02-18T14:31:52.331Z"
   },
   {
    "duration": 18041912,
    "start_time": "2022-02-18T09:31:10.622Z"
   },
   {
    "duration": 12,
    "start_time": "2022-02-18T14:32:06.843Z"
   },
   {
    "duration": 1754,
    "start_time": "2022-02-18T14:33:12.031Z"
   },
   {
    "duration": 741,
    "start_time": "2022-02-18T14:33:13.789Z"
   },
   {
    "duration": 6,
    "start_time": "2022-02-18T14:33:14.533Z"
   },
   {
    "duration": 376,
    "start_time": "2022-02-18T14:33:14.543Z"
   },
   {
    "duration": 18,
    "start_time": "2022-02-18T14:33:14.922Z"
   },
   {
    "duration": 34,
    "start_time": "2022-02-18T14:33:14.943Z"
   },
   {
    "duration": 1740,
    "start_time": "2022-02-18T14:33:14.980Z"
   },
   {
    "duration": 18041903,
    "start_time": "2022-02-18T09:32:34.819Z"
   },
   {
    "duration": 18041900,
    "start_time": "2022-02-18T09:32:34.824Z"
   },
   {
    "duration": 18041895,
    "start_time": "2022-02-18T09:32:34.830Z"
   },
   {
    "duration": 1656,
    "start_time": "2022-02-18T14:33:43.079Z"
   },
   {
    "duration": 770,
    "start_time": "2022-02-18T14:33:44.738Z"
   },
   {
    "duration": 6,
    "start_time": "2022-02-18T14:33:45.511Z"
   },
   {
    "duration": 379,
    "start_time": "2022-02-18T14:33:45.520Z"
   },
   {
    "duration": 19,
    "start_time": "2022-02-18T14:33:45.901Z"
   },
   {
    "duration": 43,
    "start_time": "2022-02-18T14:33:45.923Z"
   },
   {
    "duration": 17731,
    "start_time": "2022-02-18T14:33:45.968Z"
   },
   {
    "duration": 9192,
    "start_time": "2022-02-18T14:34:03.703Z"
   },
   {
    "duration": 141,
    "start_time": "2022-02-18T14:34:12.898Z"
   },
   {
    "duration": 18041915,
    "start_time": "2022-02-18T09:33:31.126Z"
   },
   {
    "duration": 13,
    "start_time": "2022-02-18T14:34:20.913Z"
   },
   {
    "duration": 1664,
    "start_time": "2022-02-18T14:35:30.553Z"
   },
   {
    "duration": 711,
    "start_time": "2022-02-18T14:35:32.221Z"
   },
   {
    "duration": 7,
    "start_time": "2022-02-18T14:35:32.936Z"
   },
   {
    "duration": 379,
    "start_time": "2022-02-18T14:35:32.946Z"
   },
   {
    "duration": 34,
    "start_time": "2022-02-18T14:35:33.327Z"
   },
   {
    "duration": 16,
    "start_time": "2022-02-18T14:35:33.364Z"
   },
   {
    "duration": 18753,
    "start_time": "2022-02-18T14:35:33.382Z"
   },
   {
    "duration": 1711,
    "start_time": "2022-02-18T14:35:52.139Z"
   },
   {
    "duration": 18041921,
    "start_time": "2022-02-18T09:35:11.931Z"
   },
   {
    "duration": 18041916,
    "start_time": "2022-02-18T09:35:11.937Z"
   },
   {
    "duration": 1765,
    "start_time": "2022-02-18T14:37:18.976Z"
   },
   {
    "duration": 752,
    "start_time": "2022-02-18T14:37:20.744Z"
   },
   {
    "duration": 6,
    "start_time": "2022-02-18T14:37:21.499Z"
   },
   {
    "duration": 387,
    "start_time": "2022-02-18T14:37:21.508Z"
   },
   {
    "duration": 21,
    "start_time": "2022-02-18T14:37:21.897Z"
   },
   {
    "duration": 49,
    "start_time": "2022-02-18T14:37:21.921Z"
   },
   {
    "duration": 18524,
    "start_time": "2022-02-18T14:37:21.973Z"
   },
   {
    "duration": 4,
    "start_time": "2022-02-18T14:37:40.500Z"
   },
   {
    "duration": 205,
    "start_time": "2022-02-18T14:37:40.507Z"
   },
   {
    "duration": 18041921,
    "start_time": "2022-02-18T09:36:58.793Z"
   },
   {
    "duration": 11,
    "start_time": "2022-02-18T14:37:45.935Z"
   },
   {
    "duration": 1739,
    "start_time": "2022-02-18T14:39:25.958Z"
   },
   {
    "duration": 765,
    "start_time": "2022-02-18T14:39:27.700Z"
   },
   {
    "duration": 6,
    "start_time": "2022-02-18T14:39:28.471Z"
   },
   {
    "duration": 386,
    "start_time": "2022-02-18T14:39:28.479Z"
   },
   {
    "duration": 22,
    "start_time": "2022-02-18T14:39:28.868Z"
   },
   {
    "duration": 19,
    "start_time": "2022-02-18T14:39:28.893Z"
   },
   {
    "duration": 17920,
    "start_time": "2022-02-18T14:39:28.915Z"
   },
   {
    "duration": 4,
    "start_time": "2022-02-18T14:39:46.838Z"
   },
   {
    "duration": 2000,
    "start_time": "2022-02-18T14:39:46.844Z"
   },
   {
    "duration": 18041912,
    "start_time": "2022-02-18T09:39:06.935Z"
   },
   {
    "duration": 18041908,
    "start_time": "2022-02-18T09:39:06.941Z"
   },
   {
    "duration": 1792,
    "start_time": "2022-02-18T14:40:12.084Z"
   },
   {
    "duration": 773,
    "start_time": "2022-02-18T14:40:13.879Z"
   },
   {
    "duration": 6,
    "start_time": "2022-02-18T14:40:14.656Z"
   },
   {
    "duration": 390,
    "start_time": "2022-02-18T14:40:14.665Z"
   },
   {
    "duration": 20,
    "start_time": "2022-02-18T14:40:15.057Z"
   },
   {
    "duration": 18,
    "start_time": "2022-02-18T14:40:15.079Z"
   },
   {
    "duration": 17888,
    "start_time": "2022-02-18T14:40:15.100Z"
   },
   {
    "duration": 4,
    "start_time": "2022-02-18T14:40:32.992Z"
   },
   {
    "duration": 2759643,
    "start_time": "2022-02-18T14:40:32.998Z"
   },
   {
    "duration": 18041861,
    "start_time": "2022-02-18T10:25:50.783Z"
   },
   {
    "duration": 18041861,
    "start_time": "2022-02-18T10:25:50.785Z"
   },
   {
    "duration": 1781,
    "start_time": "2022-02-18T15:28:41.062Z"
   },
   {
    "duration": 770,
    "start_time": "2022-02-18T15:28:42.846Z"
   },
   {
    "duration": 6,
    "start_time": "2022-02-18T15:28:43.619Z"
   },
   {
    "duration": 386,
    "start_time": "2022-02-18T15:28:43.627Z"
   },
   {
    "duration": 22,
    "start_time": "2022-02-18T15:28:44.016Z"
   },
   {
    "duration": 34,
    "start_time": "2022-02-18T15:28:44.041Z"
   },
   {
    "duration": 18887,
    "start_time": "2022-02-18T15:28:44.078Z"
   },
   {
    "duration": 3,
    "start_time": "2022-02-18T15:29:02.967Z"
   },
   {
    "duration": 5221,
    "start_time": "2022-02-18T15:29:02.975Z"
   },
   {
    "duration": 105,
    "start_time": "2022-02-18T15:29:08.200Z"
   },
   {
    "duration": 18041267,
    "start_time": "2022-02-18T10:28:27.040Z"
   },
   {
    "duration": 13,
    "start_time": "2022-02-18T15:29:30.554Z"
   },
   {
    "duration": 1684,
    "start_time": "2022-02-18T15:35:40.676Z"
   },
   {
    "duration": 777,
    "start_time": "2022-02-18T15:35:42.362Z"
   },
   {
    "duration": 5,
    "start_time": "2022-02-18T15:35:43.142Z"
   },
   {
    "duration": 379,
    "start_time": "2022-02-18T15:35:43.162Z"
   },
   {
    "duration": 27,
    "start_time": "2022-02-18T15:35:43.544Z"
   },
   {
    "duration": 17,
    "start_time": "2022-02-18T15:35:43.574Z"
   },
   {
    "duration": 18030,
    "start_time": "2022-02-18T15:35:43.593Z"
   },
   {
    "duration": 3,
    "start_time": "2022-02-18T15:36:01.627Z"
   },
   {
    "duration": 1781,
    "start_time": "2022-02-18T15:36:01.633Z"
   },
   {
    "duration": 18041929,
    "start_time": "2022-02-18T10:35:21.488Z"
   },
   {
    "duration": 18041922,
    "start_time": "2022-02-18T10:35:21.496Z"
   },
   {
    "duration": 1870,
    "start_time": "2022-02-18T15:36:59.178Z"
   },
   {
    "duration": 746,
    "start_time": "2022-02-18T15:37:01.051Z"
   },
   {
    "duration": 5,
    "start_time": "2022-02-18T15:37:01.800Z"
   },
   {
    "duration": 379,
    "start_time": "2022-02-18T15:37:01.808Z"
   },
   {
    "duration": 21,
    "start_time": "2022-02-18T15:37:02.190Z"
   },
   {
    "duration": 49,
    "start_time": "2022-02-18T15:37:02.214Z"
   },
   {
    "duration": 18397,
    "start_time": "2022-02-18T15:37:02.266Z"
   },
   {
    "duration": 4,
    "start_time": "2022-02-18T15:37:20.667Z"
   },
   {
    "duration": 5446,
    "start_time": "2022-02-18T15:37:20.674Z"
   },
   {
    "duration": 112,
    "start_time": "2022-02-18T15:37:26.123Z"
   },
   {
    "duration": 18041948,
    "start_time": "2022-02-18T10:36:44.290Z"
   },
   {
    "duration": 11,
    "start_time": "2022-02-18T15:42:24.933Z"
   },
   {
    "duration": 1718,
    "start_time": "2022-02-18T15:43:08.268Z"
   },
   {
    "duration": 774,
    "start_time": "2022-02-18T15:43:09.994Z"
   },
   {
    "duration": 6,
    "start_time": "2022-02-18T15:43:10.771Z"
   },
   {
    "duration": 399,
    "start_time": "2022-02-18T15:43:10.780Z"
   },
   {
    "duration": 20,
    "start_time": "2022-02-18T15:43:11.182Z"
   },
   {
    "duration": 18,
    "start_time": "2022-02-18T15:43:11.204Z"
   },
   {
    "duration": 18461,
    "start_time": "2022-02-18T15:43:11.225Z"
   },
   {
    "duration": 3,
    "start_time": "2022-02-18T15:43:29.689Z"
   },
   {
    "duration": 3733,
    "start_time": "2022-02-18T15:43:29.694Z"
   },
   {
    "duration": 18041947,
    "start_time": "2022-02-18T10:42:51.483Z"
   },
   {
    "duration": 18041947,
    "start_time": "2022-02-18T10:42:51.485Z"
   },
   {
    "duration": 1721,
    "start_time": "2022-02-18T15:49:48.187Z"
   },
   {
    "duration": 766,
    "start_time": "2022-02-18T15:49:49.911Z"
   },
   {
    "duration": 6,
    "start_time": "2022-02-18T15:49:50.680Z"
   },
   {
    "duration": 393,
    "start_time": "2022-02-18T15:49:50.688Z"
   },
   {
    "duration": 18,
    "start_time": "2022-02-18T15:49:51.084Z"
   },
   {
    "duration": 16,
    "start_time": "2022-02-18T15:49:51.104Z"
   },
   {
    "duration": 5,
    "start_time": "2022-02-18T15:49:51.123Z"
   },
   {
    "duration": 19004,
    "start_time": "2022-02-18T15:49:51.162Z"
   },
   {
    "duration": 3,
    "start_time": "2022-02-18T15:50:10.169Z"
   },
   {
    "duration": 132,
    "start_time": "2022-02-18T15:50:10.175Z"
   },
   {
    "duration": 18041954,
    "start_time": "2022-02-18T10:49:28.356Z"
   },
   {
    "duration": 11,
    "start_time": "2022-02-18T15:51:08.484Z"
   },
   {
    "duration": 1746,
    "start_time": "2022-02-18T15:55:35.890Z"
   },
   {
    "duration": 763,
    "start_time": "2022-02-18T15:55:37.639Z"
   },
   {
    "duration": 5,
    "start_time": "2022-02-18T15:55:38.405Z"
   },
   {
    "duration": 391,
    "start_time": "2022-02-18T15:55:38.413Z"
   },
   {
    "duration": 20,
    "start_time": "2022-02-18T15:55:38.807Z"
   },
   {
    "duration": 43,
    "start_time": "2022-02-18T15:55:38.830Z"
   },
   {
    "duration": 18359,
    "start_time": "2022-02-18T15:55:38.875Z"
   },
   {
    "duration": 18661,
    "start_time": "2022-02-18T15:55:57.239Z"
   },
   {
    "duration": 3,
    "start_time": "2022-02-18T15:56:15.905Z"
   },
   {
    "duration": 102,
    "start_time": "2022-02-18T15:56:15.910Z"
   },
   {
    "duration": 18041965,
    "start_time": "2022-02-18T10:55:34.050Z"
   },
   {
    "duration": 11,
    "start_time": "2022-02-18T15:56:36.610Z"
   },
   {
    "duration": 625,
    "start_time": "2022-02-18T19:44:55.324Z"
   },
   {
    "duration": 43,
    "start_time": "2022-02-18T19:45:17.424Z"
   },
   {
    "duration": 442,
    "start_time": "2022-02-18T19:45:20.901Z"
   },
   {
    "duration": 147,
    "start_time": "2022-02-18T19:45:48.386Z"
   },
   {
    "duration": 456,
    "start_time": "2022-02-18T19:45:53.811Z"
   },
   {
    "duration": 45,
    "start_time": "2022-02-18T19:46:03.108Z"
   },
   {
    "duration": 41,
    "start_time": "2022-02-18T19:46:17.806Z"
   },
   {
    "duration": 5,
    "start_time": "2022-02-18T19:52:58.160Z"
   },
   {
    "duration": 735,
    "start_time": "2022-02-18T19:53:01.471Z"
   },
   {
    "duration": 5,
    "start_time": "2022-02-18T19:53:04.786Z"
   },
   {
    "duration": 358,
    "start_time": "2022-02-18T19:53:07.988Z"
   },
   {
    "duration": 18,
    "start_time": "2022-02-18T19:53:11.825Z"
   },
   {
    "duration": 18,
    "start_time": "2022-02-18T19:53:16.926Z"
   },
   {
    "duration": 338,
    "start_time": "2022-02-18T19:55:18.862Z"
   },
   {
    "duration": 344,
    "start_time": "2022-02-18T19:56:25.687Z"
   },
   {
    "duration": 493,
    "start_time": "2022-02-18T19:56:37.458Z"
   },
   {
    "duration": 185,
    "start_time": "2022-02-18T19:59:10.061Z"
   },
   {
    "duration": 183,
    "start_time": "2022-02-18T19:59:23.384Z"
   },
   {
    "duration": 8159,
    "start_time": "2022-02-18T19:59:50.947Z"
   },
   {
    "duration": 192,
    "start_time": "2022-02-18T20:00:10.144Z"
   },
   {
    "duration": 181,
    "start_time": "2022-02-19T17:11:12.893Z"
   },
   {
    "duration": 175,
    "start_time": "2022-02-19T17:15:50.146Z"
   },
   {
    "duration": 208,
    "start_time": "2022-02-19T17:15:55.756Z"
   },
   {
    "duration": 264,
    "start_time": "2022-02-19T17:17:10.288Z"
   },
   {
    "duration": 194,
    "start_time": "2022-02-19T17:18:37.897Z"
   },
   {
    "duration": 237,
    "start_time": "2022-02-19T17:19:28.426Z"
   },
   {
    "duration": 838,
    "start_time": "2022-02-19T17:28:02.809Z"
   },
   {
    "duration": 4,
    "start_time": "2022-02-19T17:29:06.486Z"
   },
   {
    "duration": 4,
    "start_time": "2022-02-19T17:29:15.344Z"
   },
   {
    "duration": 750,
    "start_time": "2022-02-19T17:29:17.463Z"
   },
   {
    "duration": 5,
    "start_time": "2022-02-19T17:29:20.456Z"
   },
   {
    "duration": 349,
    "start_time": "2022-02-19T17:29:23.272Z"
   },
   {
    "duration": 21,
    "start_time": "2022-02-19T17:29:26.833Z"
   },
   {
    "duration": 19,
    "start_time": "2022-02-19T17:29:30.918Z"
   },
   {
    "duration": 237,
    "start_time": "2022-02-19T17:29:34.408Z"
   },
   {
    "duration": 19559,
    "start_time": "2022-02-19T17:29:43.035Z"
   },
   {
    "duration": 49,
    "start_time": "2022-02-19T17:30:11.243Z"
   },
   {
    "duration": 67,
    "start_time": "2022-02-19T17:30:14.389Z"
   },
   {
    "duration": 379,
    "start_time": "2022-02-19T17:30:18.197Z"
   },
   {
    "duration": 7,
    "start_time": "2022-02-19T17:31:40.888Z"
   },
   {
    "duration": 120,
    "start_time": "2022-02-19T17:34:04.931Z"
   },
   {
    "duration": 5,
    "start_time": "2022-02-19T17:34:13.786Z"
   },
   {
    "duration": 392,
    "start_time": "2022-02-19T17:35:03.793Z"
   },
   {
    "duration": 2735,
    "start_time": "2022-02-19T17:35:24.604Z"
   },
   {
    "duration": 13,
    "start_time": "2022-02-19T17:37:35.149Z"
   },
   {
    "duration": 4,
    "start_time": "2022-02-19T17:38:14.221Z"
   },
   {
    "duration": 4,
    "start_time": "2022-02-19T17:43:22.356Z"
   },
   {
    "duration": 736,
    "start_time": "2022-02-19T17:43:24.405Z"
   },
   {
    "duration": 7,
    "start_time": "2022-02-19T17:43:26.439Z"
   },
   {
    "duration": 352,
    "start_time": "2022-02-19T17:43:29.161Z"
   },
   {
    "duration": 18,
    "start_time": "2022-02-19T17:43:32.478Z"
   },
   {
    "duration": 19733,
    "start_time": "2022-02-19T17:43:46.385Z"
   },
   {
    "duration": 7,
    "start_time": "2022-02-19T17:44:29.249Z"
   },
   {
    "duration": 343,
    "start_time": "2022-02-19T17:44:51.795Z"
   },
   {
    "duration": 1586,
    "start_time": "2022-02-19T17:45:12.420Z"
   },
   {
    "duration": 772,
    "start_time": "2022-02-19T17:45:14.009Z"
   },
   {
    "duration": 6,
    "start_time": "2022-02-19T17:45:14.783Z"
   },
   {
    "duration": 393,
    "start_time": "2022-02-19T17:45:14.792Z"
   },
   {
    "duration": 19,
    "start_time": "2022-02-19T17:45:15.188Z"
   },
   {
    "duration": 19,
    "start_time": "2022-02-19T17:45:15.209Z"
   },
   {
    "duration": 686,
    "start_time": "2022-02-19T17:45:15.262Z"
   },
   {
    "duration": 18042219,
    "start_time": "2022-02-19T12:44:33.732Z"
   },
   {
    "duration": 18042215,
    "start_time": "2022-02-19T12:44:33.738Z"
   },
   {
    "duration": 18042211,
    "start_time": "2022-02-19T12:44:33.743Z"
   },
   {
    "duration": 18042188,
    "start_time": "2022-02-19T12:44:33.767Z"
   },
   {
    "duration": 18042176,
    "start_time": "2022-02-19T12:44:33.781Z"
   },
   {
    "duration": 18042168,
    "start_time": "2022-02-19T12:44:33.790Z"
   },
   {
    "duration": 18042166,
    "start_time": "2022-02-19T12:44:33.794Z"
   },
   {
    "duration": 24673,
    "start_time": "2022-02-19T17:46:08.379Z"
   },
   {
    "duration": 120,
    "start_time": "2022-02-19T17:46:43.301Z"
   },
   {
    "duration": 110,
    "start_time": "2022-02-19T17:47:44.593Z"
   },
   {
    "duration": 115,
    "start_time": "2022-02-19T17:48:00.458Z"
   },
   {
    "duration": 44,
    "start_time": "2022-02-19T17:48:12.215Z"
   },
   {
    "duration": 17137,
    "start_time": "2022-02-19T17:48:44.315Z"
   },
   {
    "duration": 71,
    "start_time": "2022-02-19T17:49:39.503Z"
   },
   {
    "duration": 1461,
    "start_time": "2022-02-19T17:53:18.189Z"
   },
   {
    "duration": 735,
    "start_time": "2022-02-19T17:53:19.652Z"
   },
   {
    "duration": 6,
    "start_time": "2022-02-19T17:53:20.390Z"
   },
   {
    "duration": 379,
    "start_time": "2022-02-19T17:53:20.399Z"
   },
   {
    "duration": 18,
    "start_time": "2022-02-19T17:53:20.780Z"
   },
   {
    "duration": 17,
    "start_time": "2022-02-19T17:53:20.800Z"
   },
   {
    "duration": 25309,
    "start_time": "2022-02-19T17:53:20.820Z"
   },
   {
    "duration": 131,
    "start_time": "2022-02-19T17:53:46.131Z"
   },
   {
    "duration": 40,
    "start_time": "2022-02-19T17:53:46.266Z"
   },
   {
    "duration": 17191,
    "start_time": "2022-02-19T17:53:46.309Z"
   },
   {
    "duration": 92,
    "start_time": "2022-02-19T17:54:03.503Z"
   },
   {
    "duration": 156,
    "start_time": "2022-02-19T17:54:03.598Z"
   },
   {
    "duration": 18042235,
    "start_time": "2022-02-19T12:53:21.523Z"
   },
   {
    "duration": 18042234,
    "start_time": "2022-02-19T12:53:21.526Z"
   },
   {
    "duration": 18042231,
    "start_time": "2022-02-19T12:53:21.531Z"
   },
   {
    "duration": 18042226,
    "start_time": "2022-02-19T12:53:21.539Z"
   },
   {
    "duration": 18042226,
    "start_time": "2022-02-19T12:53:21.541Z"
   },
   {
    "duration": 18042226,
    "start_time": "2022-02-19T12:53:21.544Z"
   },
   {
    "duration": 516,
    "start_time": "2022-02-19T17:59:37.068Z"
   },
   {
    "duration": 4,
    "start_time": "2022-02-19T18:00:06.336Z"
   },
   {
    "duration": 350,
    "start_time": "2022-02-19T18:00:12.651Z"
   },
   {
    "duration": 4,
    "start_time": "2022-02-19T18:00:54.195Z"
   },
   {
    "duration": 347,
    "start_time": "2022-02-19T18:01:01.311Z"
   },
   {
    "duration": 574,
    "start_time": "2022-02-19T18:03:08.699Z"
   },
   {
    "duration": 6,
    "start_time": "2022-02-19T18:03:34.926Z"
   },
   {
    "duration": 262,
    "start_time": "2022-02-19T18:03:42.660Z"
   },
   {
    "duration": 263,
    "start_time": "2022-02-19T18:04:11.432Z"
   },
   {
    "duration": 263,
    "start_time": "2022-02-19T18:07:18.892Z"
   },
   {
    "duration": 405,
    "start_time": "2022-02-19T18:08:46.512Z"
   },
   {
    "duration": 20,
    "start_time": "2022-02-19T18:09:47.504Z"
   },
   {
    "duration": 392,
    "start_time": "2022-02-19T18:09:58.738Z"
   },
   {
    "duration": 5,
    "start_time": "2022-02-19T18:10:24.858Z"
   },
   {
    "duration": 1671,
    "start_time": "2022-02-19T18:56:28.880Z"
   },
   {
    "duration": 784,
    "start_time": "2022-02-19T18:56:30.554Z"
   },
   {
    "duration": 5,
    "start_time": "2022-02-19T18:56:31.341Z"
   },
   {
    "duration": 391,
    "start_time": "2022-02-19T18:56:31.349Z"
   },
   {
    "duration": 29,
    "start_time": "2022-02-19T18:56:31.742Z"
   },
   {
    "duration": 18,
    "start_time": "2022-02-19T18:56:31.774Z"
   },
   {
    "duration": 26226,
    "start_time": "2022-02-19T18:56:31.794Z"
   },
   {
    "duration": 219,
    "start_time": "2022-02-19T18:56:58.023Z"
   },
   {
    "duration": 46,
    "start_time": "2022-02-19T18:56:58.245Z"
   },
   {
    "duration": 17362,
    "start_time": "2022-02-19T18:56:58.294Z"
   },
   {
    "duration": 73,
    "start_time": "2022-02-19T18:57:15.661Z"
   },
   {
    "duration": 391,
    "start_time": "2022-02-19T18:57:15.737Z"
   },
   {
    "duration": 114,
    "start_time": "2022-02-19T18:57:16.131Z"
   },
   {
    "duration": 18041381,
    "start_time": "2022-02-19T13:56:34.866Z"
   },
   {
    "duration": 18041380,
    "start_time": "2022-02-19T13:56:34.869Z"
   },
   {
    "duration": 18041371,
    "start_time": "2022-02-19T13:56:34.880Z"
   },
   {
    "duration": 18041358,
    "start_time": "2022-02-19T13:56:34.894Z"
   },
   {
    "duration": 18041357,
    "start_time": "2022-02-19T13:56:34.897Z"
   },
   {
    "duration": 18041356,
    "start_time": "2022-02-19T13:56:34.899Z"
   },
   {
    "duration": 18041353,
    "start_time": "2022-02-19T13:56:34.904Z"
   },
   {
    "duration": 1642,
    "start_time": "2022-02-19T19:31:13.674Z"
   },
   {
    "duration": 758,
    "start_time": "2022-02-19T19:31:15.319Z"
   },
   {
    "duration": 5,
    "start_time": "2022-02-19T19:31:16.080Z"
   },
   {
    "duration": 385,
    "start_time": "2022-02-19T19:31:16.088Z"
   },
   {
    "duration": 18,
    "start_time": "2022-02-19T19:31:16.476Z"
   },
   {
    "duration": 17,
    "start_time": "2022-02-19T19:31:16.497Z"
   },
   {
    "duration": 25167,
    "start_time": "2022-02-19T19:31:16.517Z"
   },
   {
    "duration": 118,
    "start_time": "2022-02-19T19:31:41.688Z"
   },
   {
    "duration": 43,
    "start_time": "2022-02-19T19:31:41.812Z"
   },
   {
    "duration": 17520,
    "start_time": "2022-02-19T19:31:41.857Z"
   },
   {
    "duration": 207,
    "start_time": "2022-02-19T19:31:59.379Z"
   },
   {
    "duration": 10,
    "start_time": "2022-02-19T19:31:59.589Z"
   },
   {
    "duration": 112,
    "start_time": "2022-02-19T19:31:59.601Z"
   },
   {
    "duration": 18041383,
    "start_time": "2022-02-19T14:31:18.333Z"
   },
   {
    "duration": 18041382,
    "start_time": "2022-02-19T14:31:18.336Z"
   },
   {
    "duration": 18041380,
    "start_time": "2022-02-19T14:31:18.340Z"
   },
   {
    "duration": 18041377,
    "start_time": "2022-02-19T14:31:18.344Z"
   },
   {
    "duration": 18041369,
    "start_time": "2022-02-19T14:31:18.354Z"
   },
   {
    "duration": 18041366,
    "start_time": "2022-02-19T14:31:18.358Z"
   },
   {
    "duration": 18041366,
    "start_time": "2022-02-19T14:31:18.360Z"
   },
   {
    "duration": 18041362,
    "start_time": "2022-02-19T14:31:18.365Z"
   },
   {
    "duration": 18041353,
    "start_time": "2022-02-19T14:31:18.376Z"
   },
   {
    "duration": 493,
    "start_time": "2022-02-19T19:32:35.792Z"
   },
   {
    "duration": 10622,
    "start_time": "2022-02-19T19:33:08.237Z"
   },
   {
    "duration": 10856,
    "start_time": "2022-02-19T19:33:36.458Z"
   },
   {
    "duration": 315740,
    "start_time": "2022-02-19T19:34:07.034Z"
   },
   {
    "duration": 1487,
    "start_time": "2022-02-19T19:57:31.682Z"
   },
   {
    "duration": 120,
    "start_time": "2022-02-19T19:57:33.172Z"
   },
   {
    "duration": 18041403,
    "start_time": "2022-02-19T14:56:51.893Z"
   },
   {
    "duration": 18041400,
    "start_time": "2022-02-19T14:56:51.897Z"
   },
   {
    "duration": 18041398,
    "start_time": "2022-02-19T14:56:51.901Z"
   },
   {
    "duration": 18041390,
    "start_time": "2022-02-19T14:56:51.910Z"
   },
   {
    "duration": 18041378,
    "start_time": "2022-02-19T14:56:51.924Z"
   },
   {
    "duration": 18041376,
    "start_time": "2022-02-19T14:56:51.927Z"
   },
   {
    "duration": 18041373,
    "start_time": "2022-02-19T14:56:51.931Z"
   },
   {
    "duration": 18041361,
    "start_time": "2022-02-19T14:56:51.945Z"
   },
   {
    "duration": 18041355,
    "start_time": "2022-02-19T14:56:51.952Z"
   },
   {
    "duration": 18041347,
    "start_time": "2022-02-19T14:56:51.962Z"
   },
   {
    "duration": 18041335,
    "start_time": "2022-02-19T14:56:51.975Z"
   },
   {
    "duration": 18041333,
    "start_time": "2022-02-19T14:56:51.978Z"
   },
   {
    "duration": 18041328,
    "start_time": "2022-02-19T14:56:51.985Z"
   },
   {
    "duration": 18041316,
    "start_time": "2022-02-19T14:56:51.999Z"
   },
   {
    "duration": 18041302,
    "start_time": "2022-02-19T14:56:52.014Z"
   },
   {
    "duration": 18041300,
    "start_time": "2022-02-19T14:56:52.018Z"
   },
   {
    "duration": 18041296,
    "start_time": "2022-02-19T14:56:52.023Z"
   },
   {
    "duration": 18041286,
    "start_time": "2022-02-19T14:56:52.034Z"
   },
   {
    "duration": 18041285,
    "start_time": "2022-02-19T14:56:52.037Z"
   },
   {
    "duration": 18041273,
    "start_time": "2022-02-19T14:56:52.050Z"
   },
   {
    "duration": 18041272,
    "start_time": "2022-02-19T14:56:52.053Z"
   },
   {
    "duration": 18041264,
    "start_time": "2022-02-19T14:56:52.062Z"
   },
   {
    "duration": 759,
    "start_time": "2022-02-19T19:57:37.863Z"
   },
   {
    "duration": 6,
    "start_time": "2022-02-19T19:57:41.134Z"
   },
   {
    "duration": 366,
    "start_time": "2022-02-19T19:57:44.977Z"
   },
   {
    "duration": 19,
    "start_time": "2022-02-19T19:57:48.512Z"
   },
   {
    "duration": 16,
    "start_time": "2022-02-19T19:57:52.032Z"
   },
   {
    "duration": 25414,
    "start_time": "2022-02-19T19:57:54.820Z"
   },
   {
    "duration": 236,
    "start_time": "2022-02-19T20:01:13.668Z"
   },
   {
    "duration": 6,
    "start_time": "2022-02-19T20:01:21.005Z"
   },
   {
    "duration": 777,
    "start_time": "2022-02-19T20:01:23.869Z"
   },
   {
    "duration": 6,
    "start_time": "2022-02-19T20:01:26.385Z"
   },
   {
    "duration": 342,
    "start_time": "2022-02-19T20:01:29.678Z"
   },
   {
    "duration": 19,
    "start_time": "2022-02-19T20:01:33.392Z"
   },
   {
    "duration": 8,
    "start_time": "2022-02-19T20:01:36.925Z"
   },
   {
    "duration": 4,
    "start_time": "2022-02-19T20:01:43.352Z"
   },
   {
    "duration": 620,
    "start_time": "2022-02-19T20:01:57.643Z"
   },
   {
    "duration": 3,
    "start_time": "2022-02-19T20:02:13.944Z"
   },
   {
    "duration": 5,
    "start_time": "2022-02-19T20:02:27.951Z"
   },
   {
    "duration": 5,
    "start_time": "2022-02-19T20:02:42.684Z"
   },
   {
    "duration": 4,
    "start_time": "2022-02-19T20:02:56.160Z"
   },
   {
    "duration": 15,
    "start_time": "2022-02-19T20:03:13.668Z"
   },
   {
    "duration": 155,
    "start_time": "2022-02-19T20:03:27.290Z"
   },
   {
    "duration": 1809,
    "start_time": "2022-02-20T06:23:50.444Z"
   },
   {
    "duration": 788,
    "start_time": "2022-02-20T06:23:52.257Z"
   },
   {
    "duration": 14,
    "start_time": "2022-02-20T06:23:53.049Z"
   },
   {
    "duration": 390,
    "start_time": "2022-02-20T06:23:53.067Z"
   },
   {
    "duration": 20,
    "start_time": "2022-02-20T06:23:53.462Z"
   },
   {
    "duration": 7,
    "start_time": "2022-02-20T06:23:53.484Z"
   },
   {
    "duration": 2145937,
    "start_time": "2022-02-20T06:23:53.493Z"
   },
   {
    "duration": 15,
    "start_time": "2022-02-20T06:59:39.434Z"
   },
   {
    "duration": 76,
    "start_time": "2022-02-20T06:59:39.453Z"
   },
   {
    "duration": 3160,
    "start_time": "2022-02-20T06:59:39.531Z"
   },
   {
    "duration": 9,
    "start_time": "2022-02-20T06:59:42.694Z"
   },
   {
    "duration": 526,
    "start_time": "2022-02-20T06:59:42.705Z"
   },
   {
    "duration": 16747210,
    "start_time": "2022-02-20T02:20:36.024Z"
   },
   {
    "duration": 16747124,
    "start_time": "2022-02-20T02:20:36.112Z"
   },
   {
    "duration": 16747105,
    "start_time": "2022-02-20T02:20:36.132Z"
   },
   {
    "duration": 16747083,
    "start_time": "2022-02-20T02:20:36.155Z"
   },
   {
    "duration": 16747078,
    "start_time": "2022-02-20T02:20:36.162Z"
   },
   {
    "duration": 16747071,
    "start_time": "2022-02-20T02:20:36.170Z"
   },
   {
    "duration": 16747065,
    "start_time": "2022-02-20T02:20:36.178Z"
   },
   {
    "duration": 16747055,
    "start_time": "2022-02-20T02:20:36.190Z"
   },
   {
    "duration": 16747041,
    "start_time": "2022-02-20T02:20:36.205Z"
   },
   {
    "duration": 16746990,
    "start_time": "2022-02-20T02:20:36.258Z"
   },
   {
    "duration": 16746941,
    "start_time": "2022-02-20T02:20:36.309Z"
   },
   {
    "duration": 16746936,
    "start_time": "2022-02-20T02:20:36.316Z"
   },
   {
    "duration": 16746932,
    "start_time": "2022-02-20T02:20:36.322Z"
   },
   {
    "duration": 16746926,
    "start_time": "2022-02-20T02:20:36.329Z"
   },
   {
    "duration": 16746915,
    "start_time": "2022-02-20T02:20:36.342Z"
   },
   {
    "duration": 16746881,
    "start_time": "2022-02-20T02:20:36.377Z"
   },
   {
    "duration": 16746874,
    "start_time": "2022-02-20T02:20:36.386Z"
   },
   {
    "duration": 16746834,
    "start_time": "2022-02-20T02:20:36.428Z"
   },
   {
    "duration": 1692,
    "start_time": "2022-02-20T08:12:46.700Z"
   },
   {
    "duration": 867,
    "start_time": "2022-02-20T08:12:48.395Z"
   },
   {
    "duration": 5,
    "start_time": "2022-02-20T08:12:49.265Z"
   },
   {
    "duration": 388,
    "start_time": "2022-02-20T08:12:49.273Z"
   },
   {
    "duration": 19,
    "start_time": "2022-02-20T08:12:49.663Z"
   },
   {
    "duration": 12,
    "start_time": "2022-02-20T08:12:49.684Z"
   },
   {
    "duration": 2121798,
    "start_time": "2022-02-20T08:12:49.698Z"
   },
   {
    "duration": 15,
    "start_time": "2022-02-20T08:48:11.500Z"
   },
   {
    "duration": 94,
    "start_time": "2022-02-20T08:48:11.518Z"
   },
   {
    "duration": 3249,
    "start_time": "2022-02-20T08:48:11.615Z"
   },
   {
    "duration": 8,
    "start_time": "2022-02-20T08:48:14.866Z"
   },
   {
    "duration": 565,
    "start_time": "2022-02-20T08:48:14.877Z"
   },
   {
    "duration": 18041492,
    "start_time": "2022-02-20T03:47:33.953Z"
   },
   {
    "duration": 18041482,
    "start_time": "2022-02-20T03:47:33.964Z"
   },
   {
    "duration": 18041478,
    "start_time": "2022-02-20T03:47:33.969Z"
   },
   {
    "duration": 18041476,
    "start_time": "2022-02-20T03:47:33.973Z"
   },
   {
    "duration": 18041474,
    "start_time": "2022-02-20T03:47:33.976Z"
   },
   {
    "duration": 18041473,
    "start_time": "2022-02-20T03:47:33.979Z"
   },
   {
    "duration": 18041470,
    "start_time": "2022-02-20T03:47:33.983Z"
   },
   {
    "duration": 18041467,
    "start_time": "2022-02-20T03:47:33.988Z"
   },
   {
    "duration": 18041465,
    "start_time": "2022-02-20T03:47:33.991Z"
   },
   {
    "duration": 18041464,
    "start_time": "2022-02-20T03:47:33.994Z"
   },
   {
    "duration": 18041461,
    "start_time": "2022-02-20T03:47:33.998Z"
   },
   {
    "duration": 18041460,
    "start_time": "2022-02-20T03:47:34.001Z"
   },
   {
    "duration": 18041458,
    "start_time": "2022-02-20T03:47:34.004Z"
   },
   {
    "duration": 18041456,
    "start_time": "2022-02-20T03:47:34.007Z"
   },
   {
    "duration": 18041455,
    "start_time": "2022-02-20T03:47:34.010Z"
   },
   {
    "duration": 18041453,
    "start_time": "2022-02-20T03:47:34.013Z"
   },
   {
    "duration": 18041441,
    "start_time": "2022-02-20T03:47:34.027Z"
   },
   {
    "duration": 18041438,
    "start_time": "2022-02-20T03:47:34.031Z"
   },
   {
    "duration": 379,
    "start_time": "2022-02-20T10:09:41.286Z"
   },
   {
    "duration": 1962,
    "start_time": "2022-02-20T10:11:59.436Z"
   },
   {
    "duration": 800,
    "start_time": "2022-02-20T10:12:01.401Z"
   },
   {
    "duration": 6,
    "start_time": "2022-02-20T10:12:02.204Z"
   },
   {
    "duration": 429,
    "start_time": "2022-02-20T10:12:02.213Z"
   },
   {
    "duration": 26,
    "start_time": "2022-02-20T10:12:02.645Z"
   },
   {
    "duration": 10,
    "start_time": "2022-02-20T10:12:02.674Z"
   },
   {
    "duration": 2141354,
    "start_time": "2022-02-20T10:12:02.687Z"
   },
   {
    "duration": 26,
    "start_time": "2022-02-20T10:47:44.047Z"
   },
   {
    "duration": 93,
    "start_time": "2022-02-20T10:47:44.076Z"
   },
   {
    "duration": 3165,
    "start_time": "2022-02-20T10:47:44.172Z"
   },
   {
    "duration": 24,
    "start_time": "2022-02-20T10:47:47.340Z"
   },
   {
    "duration": 531,
    "start_time": "2022-02-20T10:47:47.367Z"
   },
   {
    "duration": 18041128,
    "start_time": "2022-02-20T05:47:06.773Z"
   },
   {
    "duration": 18041118,
    "start_time": "2022-02-20T05:47:06.785Z"
   },
   {
    "duration": 18041115,
    "start_time": "2022-02-20T05:47:06.789Z"
   },
   {
    "duration": 18041104,
    "start_time": "2022-02-20T05:47:06.801Z"
   },
   {
    "duration": 18041100,
    "start_time": "2022-02-20T05:47:06.807Z"
   },
   {
    "duration": 18041088,
    "start_time": "2022-02-20T05:47:06.820Z"
   },
   {
    "duration": 18041086,
    "start_time": "2022-02-20T05:47:06.823Z"
   },
   {
    "duration": 18041087,
    "start_time": "2022-02-20T05:47:06.825Z"
   },
   {
    "duration": 18041060,
    "start_time": "2022-02-20T05:47:06.853Z"
   },
   {
    "duration": 18041059,
    "start_time": "2022-02-20T05:47:06.856Z"
   },
   {
    "duration": 18041044,
    "start_time": "2022-02-20T05:47:06.872Z"
   },
   {
    "duration": 18041043,
    "start_time": "2022-02-20T05:47:06.875Z"
   },
   {
    "duration": 18041033,
    "start_time": "2022-02-20T05:47:06.886Z"
   },
   {
    "duration": 18041017,
    "start_time": "2022-02-20T05:47:06.903Z"
   },
   {
    "duration": 18041003,
    "start_time": "2022-02-20T05:47:06.918Z"
   },
   {
    "duration": 18041001,
    "start_time": "2022-02-20T05:47:06.922Z"
   },
   {
    "duration": 18040996,
    "start_time": "2022-02-20T05:47:06.928Z"
   },
   {
    "duration": 18040979,
    "start_time": "2022-02-20T05:47:06.946Z"
   },
   {
    "duration": 59,
    "start_time": "2022-02-20T10:57:20.664Z"
   },
   {
    "duration": 451,
    "start_time": "2022-02-20T10:58:15.849Z"
   },
   {
    "duration": 1775,
    "start_time": "2022-02-20T10:58:27.732Z"
   },
   {
    "duration": 789,
    "start_time": "2022-02-20T10:58:29.510Z"
   },
   {
    "duration": 6,
    "start_time": "2022-02-20T10:58:30.302Z"
   },
   {
    "duration": 402,
    "start_time": "2022-02-20T10:58:30.311Z"
   },
   {
    "duration": 20,
    "start_time": "2022-02-20T10:58:30.716Z"
   },
   {
    "duration": 33,
    "start_time": "2022-02-20T10:58:30.738Z"
   },
   {
    "duration": 2274868,
    "start_time": "2022-02-20T10:58:30.773Z"
   },
   {
    "duration": 26,
    "start_time": "2022-02-20T11:36:25.645Z"
   },
   {
    "duration": 91,
    "start_time": "2022-02-20T11:36:25.674Z"
   },
   {
    "duration": 5000,
    "start_time": "2022-02-20T11:36:25.768Z"
   },
   {
    "duration": 33,
    "start_time": "2022-02-20T11:36:30.772Z"
   },
   {
    "duration": 16763,
    "start_time": "2022-02-20T11:36:30.808Z"
   },
   {
    "duration": 127,
    "start_time": "2022-02-20T11:36:47.574Z"
   },
   {
    "duration": 18040770,
    "start_time": "2022-02-20T06:36:06.935Z"
   },
   {
    "duration": 18040749,
    "start_time": "2022-02-20T06:36:06.958Z"
   },
   {
    "duration": 18040745,
    "start_time": "2022-02-20T06:36:06.963Z"
   },
   {
    "duration": 18040723,
    "start_time": "2022-02-20T06:36:06.987Z"
   },
   {
    "duration": 18040719,
    "start_time": "2022-02-20T06:36:06.992Z"
   },
   {
    "duration": 18040713,
    "start_time": "2022-02-20T06:36:07.000Z"
   },
   {
    "duration": 18040711,
    "start_time": "2022-02-20T06:36:07.003Z"
   },
   {
    "duration": 18040696,
    "start_time": "2022-02-20T06:36:07.020Z"
   },
   {
    "duration": 18040693,
    "start_time": "2022-02-20T06:36:07.024Z"
   },
   {
    "duration": 18040692,
    "start_time": "2022-02-20T06:36:07.027Z"
   },
   {
    "duration": 18040689,
    "start_time": "2022-02-20T06:36:07.031Z"
   },
   {
    "duration": 18040689,
    "start_time": "2022-02-20T06:36:07.033Z"
   },
   {
    "duration": 18040666,
    "start_time": "2022-02-20T06:36:07.058Z"
   },
   {
    "duration": 18040655,
    "start_time": "2022-02-20T06:36:07.073Z"
   },
   {
    "duration": 18040651,
    "start_time": "2022-02-20T06:36:07.078Z"
   },
   {
    "duration": 18040642,
    "start_time": "2022-02-20T06:36:07.089Z"
   },
   {
    "duration": 6,
    "start_time": "2022-02-20T11:39:42.306Z"
   },
   {
    "duration": 6,
    "start_time": "2022-02-20T12:47:43.767Z"
   },
   {
    "duration": 4,
    "start_time": "2022-02-20T12:47:46.044Z"
   },
   {
    "duration": 4,
    "start_time": "2022-02-20T12:47:48.576Z"
   },
   {
    "duration": 580,
    "start_time": "2022-02-20T13:00:09.664Z"
   },
   {
    "duration": 2677191,
    "start_time": "2022-02-20T13:00:30.804Z"
   },
   {
    "duration": 9,
    "start_time": "2022-02-20T13:45:19.228Z"
   },
   {
    "duration": 10,
    "start_time": "2022-02-20T13:46:49.352Z"
   },
   {
    "duration": 338,
    "start_time": "2022-02-20T13:48:08.973Z"
   },
   {
    "duration": 617611,
    "start_time": "2022-02-20T13:48:43.427Z"
   },
   {
    "duration": 13562,
    "start_time": "2022-02-20T14:04:15.637Z"
   },
   {
    "duration": 5861,
    "start_time": "2022-02-20T14:05:12.261Z"
   },
   {
    "duration": 2503,
    "start_time": "2022-02-20T14:09:41.209Z"
   },
   {
    "duration": 1422,
    "start_time": "2022-02-20T14:09:43.716Z"
   },
   {
    "duration": 5,
    "start_time": "2022-02-20T14:09:45.142Z"
   },
   {
    "duration": 369,
    "start_time": "2022-02-20T14:09:45.162Z"
   },
   {
    "duration": 35,
    "start_time": "2022-02-20T14:09:45.533Z"
   },
   {
    "duration": 10,
    "start_time": "2022-02-20T14:09:45.570Z"
   },
   {
    "duration": 2200471,
    "start_time": "2022-02-20T14:09:45.582Z"
   },
   {
    "duration": 18,
    "start_time": "2022-02-20T14:46:26.061Z"
   },
   {
    "duration": 99,
    "start_time": "2022-02-20T14:46:26.082Z"
   },
   {
    "duration": 2988,
    "start_time": "2022-02-20T14:46:26.184Z"
   },
   {
    "duration": 8,
    "start_time": "2022-02-20T14:46:29.175Z"
   },
   {
    "duration": 14048,
    "start_time": "2022-02-20T14:46:29.186Z"
   },
   {
    "duration": 4,
    "start_time": "2022-02-20T14:46:43.237Z"
   },
   {
    "duration": 28,
    "start_time": "2022-02-20T14:46:43.243Z"
   },
   {
    "duration": 3138637,
    "start_time": "2022-02-20T14:46:43.273Z"
   },
   {
    "duration": 18041760,
    "start_time": "2022-02-20T10:38:20.153Z"
   },
   {
    "duration": 18041755,
    "start_time": "2022-02-20T10:38:20.159Z"
   },
   {
    "duration": 18041755,
    "start_time": "2022-02-20T10:38:20.161Z"
   },
   {
    "duration": 18041752,
    "start_time": "2022-02-20T10:38:20.166Z"
   },
   {
    "duration": 18041750,
    "start_time": "2022-02-20T10:38:20.169Z"
   },
   {
    "duration": 46,
    "start_time": "2022-02-20T15:39:23.942Z"
   },
   {
    "duration": 2910,
    "start_time": "2022-02-20T15:40:07.549Z"
   },
   {
    "duration": 1519,
    "start_time": "2022-02-20T15:40:10.699Z"
   },
   {
    "duration": 6,
    "start_time": "2022-02-20T15:40:16.216Z"
   },
   {
    "duration": 374,
    "start_time": "2022-02-20T15:40:21.643Z"
   },
   {
    "duration": 19,
    "start_time": "2022-02-20T15:40:25.929Z"
   },
   {
    "duration": 12,
    "start_time": "2022-02-20T15:40:29.782Z"
   },
   {
    "duration": 2174726,
    "start_time": "2022-02-20T15:40:37.203Z"
   },
   {
    "duration": 16,
    "start_time": "2022-02-20T16:17:23.324Z"
   },
   {
    "duration": 9,
    "start_time": "2022-02-20T16:17:33.598Z"
   },
   {
    "duration": 78,
    "start_time": "2022-02-20T16:17:44.076Z"
   },
   {
    "duration": 3254,
    "start_time": "2022-02-20T16:17:47.777Z"
   },
   {
    "duration": 16,
    "start_time": "2022-02-20T16:17:54.819Z"
   },
   {
    "duration": 490,
    "start_time": "2022-02-20T16:17:58.475Z"
   },
   {
    "duration": 15,
    "start_time": "2022-02-20T16:19:17.132Z"
   },
   {
    "duration": 388,
    "start_time": "2022-02-20T16:19:39.666Z"
   },
   {
    "duration": 2942,
    "start_time": "2022-02-20T16:19:48.706Z"
   },
   {
    "duration": 1454,
    "start_time": "2022-02-20T16:19:53.975Z"
   },
   {
    "duration": 6,
    "start_time": "2022-02-20T16:19:58.346Z"
   },
   {
    "duration": 368,
    "start_time": "2022-02-20T16:20:01.119Z"
   },
   {
    "duration": 19,
    "start_time": "2022-02-20T16:20:04.481Z"
   },
   {
    "duration": 12,
    "start_time": "2022-02-20T16:20:09.841Z"
   },
   {
    "duration": 8160,
    "start_time": "2022-02-20T16:20:14.790Z"
   },
   {
    "duration": 5,
    "start_time": "2022-02-20T16:20:28.495Z"
   },
   {
    "duration": 4,
    "start_time": "2022-02-20T16:20:35.987Z"
   },
   {
    "duration": 9,
    "start_time": "2022-02-20T16:20:58.482Z"
   },
   {
    "duration": 758,
    "start_time": "2022-02-20T16:21:02.604Z"
   },
   {
    "duration": 5,
    "start_time": "2022-02-20T16:21:05.752Z"
   },
   {
    "duration": 385,
    "start_time": "2022-02-20T16:21:10.059Z"
   },
   {
    "duration": 18,
    "start_time": "2022-02-20T16:21:13.605Z"
   },
   {
    "duration": 11,
    "start_time": "2022-02-20T16:21:17.669Z"
   },
   {
    "duration": 1773,
    "start_time": "2022-02-20T16:27:41.575Z"
   },
   {
    "duration": 817,
    "start_time": "2022-02-20T16:27:43.351Z"
   },
   {
    "duration": 6,
    "start_time": "2022-02-20T16:27:44.171Z"
   },
   {
    "duration": 383,
    "start_time": "2022-02-20T16:27:44.179Z"
   },
   {
    "duration": 17,
    "start_time": "2022-02-20T16:27:44.565Z"
   },
   {
    "duration": 10,
    "start_time": "2022-02-20T16:27:44.585Z"
   },
   {
    "duration": 2262501,
    "start_time": "2022-02-20T16:27:44.597Z"
   },
   {
    "duration": 17,
    "start_time": "2022-02-20T17:05:27.102Z"
   },
   {
    "duration": 181,
    "start_time": "2022-02-20T17:05:27.122Z"
   },
   {
    "duration": 18041889,
    "start_time": "2022-02-20T12:04:45.416Z"
   },
   {
    "duration": 18041885,
    "start_time": "2022-02-20T12:04:45.422Z"
   },
   {
    "duration": 18041884,
    "start_time": "2022-02-20T12:04:45.425Z"
   },
   {
    "duration": 18041881,
    "start_time": "2022-02-20T12:04:45.430Z"
   },
   {
    "duration": 18041879,
    "start_time": "2022-02-20T12:04:45.434Z"
   },
   {
    "duration": 18041877,
    "start_time": "2022-02-20T12:04:45.438Z"
   },
   {
    "duration": 18041875,
    "start_time": "2022-02-20T12:04:45.443Z"
   },
   {
    "duration": 18041874,
    "start_time": "2022-02-20T12:04:45.447Z"
   },
   {
    "duration": 18041859,
    "start_time": "2022-02-20T12:04:45.464Z"
   },
   {
    "duration": 18041858,
    "start_time": "2022-02-20T12:04:45.467Z"
   },
   {
    "duration": 18041857,
    "start_time": "2022-02-20T12:04:45.470Z"
   },
   {
    "duration": 18041855,
    "start_time": "2022-02-20T12:04:45.474Z"
   },
   {
    "duration": 18041854,
    "start_time": "2022-02-20T12:04:45.477Z"
   },
   {
    "duration": 42,
    "start_time": "2022-02-20T17:06:12.717Z"
   },
   {
    "duration": 8530,
    "start_time": "2022-02-20T17:06:20.363Z"
   },
   {
    "duration": 6442,
    "start_time": "2022-02-20T17:06:32.466Z"
   },
   {
    "duration": 66,
    "start_time": "2022-02-20T17:06:43.942Z"
   },
   {
    "duration": 2771,
    "start_time": "2022-02-20T17:06:58.397Z"
   },
   {
    "duration": 14,
    "start_time": "2022-02-20T17:07:04.678Z"
   },
   {
    "duration": 9529,
    "start_time": "2022-02-20T17:07:08.639Z"
   },
   {
    "duration": 9210,
    "start_time": "2022-02-20T17:07:49.883Z"
   },
   {
    "duration": 10435,
    "start_time": "2022-02-20T17:08:15.187Z"
   },
   {
    "duration": 8838,
    "start_time": "2022-02-20T17:09:08.730Z"
   },
   {
    "duration": 461,
    "start_time": "2022-02-20T17:14:37.716Z"
   },
   {
    "duration": 302,
    "start_time": "2022-02-20T17:14:43.261Z"
   },
   {
    "duration": 2683,
    "start_time": "2022-02-20T17:14:49.713Z"
   },
   {
    "duration": 11041,
    "start_time": "2022-02-20T17:14:59.275Z"
   },
   {
    "duration": 49,
    "start_time": "2022-02-20T17:15:13.223Z"
   },
   {
    "duration": 2809,
    "start_time": "2022-02-20T17:15:16.824Z"
   },
   {
    "duration": 27,
    "start_time": "2022-02-20T17:15:25.686Z"
   },
   {
    "duration": 11845,
    "start_time": "2022-02-20T17:15:30.434Z"
   },
   {
    "duration": 9660,
    "start_time": "2022-02-20T17:15:46.451Z"
   },
   {
    "duration": 357,
    "start_time": "2022-02-20T17:30:44.343Z"
   },
   {
    "duration": 2571,
    "start_time": "2022-02-20T17:30:50.115Z"
   },
   {
    "duration": 5906,
    "start_time": "2022-02-20T17:31:00.919Z"
   },
   {
    "duration": 47,
    "start_time": "2022-02-20T17:31:10.198Z"
   },
   {
    "duration": 2784,
    "start_time": "2022-02-20T17:31:13.746Z"
   },
   {
    "duration": 12,
    "start_time": "2022-02-20T17:31:19.224Z"
   },
   {
    "duration": 9476,
    "start_time": "2022-02-20T17:31:22.610Z"
   },
   {
    "duration": 8798,
    "start_time": "2022-02-20T17:31:35.970Z"
   },
   {
    "duration": 33314,
    "start_time": "2022-02-20T17:34:14.389Z"
   },
   {
    "duration": 49925,
    "start_time": "2022-02-20T17:34:55.968Z"
   },
   {
    "duration": 387,
    "start_time": "2022-02-20T17:36:05.703Z"
   },
   {
    "duration": 2681,
    "start_time": "2022-02-20T17:36:13.888Z"
   },
   {
    "duration": 7946,
    "start_time": "2022-02-20T17:36:21.308Z"
   },
   {
    "duration": 45,
    "start_time": "2022-02-20T17:36:33.489Z"
   },
   {
    "duration": 2727,
    "start_time": "2022-02-20T17:36:41.724Z"
   },
   {
    "duration": 13,
    "start_time": "2022-02-20T17:36:49.559Z"
   },
   {
    "duration": 9208,
    "start_time": "2022-02-20T17:36:52.620Z"
   },
   {
    "duration": 2548,
    "start_time": "2022-02-20T18:10:21.437Z"
   },
   {
    "duration": 9,
    "start_time": "2022-02-20T18:10:26.406Z"
   },
   {
    "duration": 10619,
    "start_time": "2022-02-20T18:10:32.210Z"
   },
   {
    "duration": 44,
    "start_time": "2022-02-20T18:10:46.962Z"
   },
   {
    "duration": 2810,
    "start_time": "2022-02-20T18:10:50.383Z"
   },
   {
    "duration": 13,
    "start_time": "2022-02-20T18:10:55.755Z"
   },
   {
    "duration": 9536,
    "start_time": "2022-02-20T18:10:59.210Z"
   },
   {
    "duration": 8915,
    "start_time": "2022-02-20T18:11:12.748Z"
   },
   {
    "duration": 23167,
    "start_time": "2022-02-20T18:11:38.564Z"
   },
   {
    "duration": 8884,
    "start_time": "2022-02-20T18:12:18.864Z"
   },
   {
    "duration": 31055,
    "start_time": "2022-02-20T18:12:33.657Z"
   },
   {
    "duration": 27005,
    "start_time": "2022-02-20T18:13:17.820Z"
   },
   {
    "duration": 35762,
    "start_time": "2022-02-20T18:13:56.272Z"
   },
   {
    "duration": 36860,
    "start_time": "2022-02-20T18:15:14.260Z"
   },
   {
    "duration": 26419,
    "start_time": "2022-02-20T18:16:12.569Z"
   },
   {
    "duration": 9312,
    "start_time": "2022-02-20T18:16:47.253Z"
   },
   {
    "duration": 31181,
    "start_time": "2022-02-20T18:17:10.628Z"
   },
   {
    "duration": 4,
    "start_time": "2022-02-20T18:19:08.588Z"
   },
   {
    "duration": 315,
    "start_time": "2022-02-20T18:19:28.962Z"
   },
   {
    "duration": 620,
    "start_time": "2022-02-20T18:19:43.718Z"
   },
   {
    "duration": 2930,
    "start_time": "2022-02-20T18:20:49.280Z"
   },
   {
    "duration": 12558,
    "start_time": "2022-02-20T18:20:57.584Z"
   },
   {
    "duration": 48,
    "start_time": "2022-02-20T18:21:12.560Z"
   },
   {
    "duration": 2915,
    "start_time": "2022-02-20T18:21:15.854Z"
   },
   {
    "duration": 11,
    "start_time": "2022-02-20T18:21:29.174Z"
   },
   {
    "duration": 9882,
    "start_time": "2022-02-20T18:21:32.406Z"
   },
   {
    "duration": 8875,
    "start_time": "2022-02-20T18:21:46.197Z"
   },
   {
    "duration": 2691,
    "start_time": "2022-02-20T18:22:39.160Z"
   },
   {
    "duration": 7425,
    "start_time": "2022-02-20T18:22:47.536Z"
   },
   {
    "duration": 51,
    "start_time": "2022-02-20T18:22:57.079Z"
   },
   {
    "duration": 2814,
    "start_time": "2022-02-20T18:23:01.200Z"
   },
   {
    "duration": 11,
    "start_time": "2022-02-20T18:23:06.837Z"
   },
   {
    "duration": 9516,
    "start_time": "2022-02-20T18:23:09.995Z"
   },
   {
    "duration": 4153,
    "start_time": "2022-02-20T18:24:12.637Z"
   },
   {
    "duration": 4,
    "start_time": "2022-02-20T18:24:27.954Z"
   },
   {
    "duration": 476,
    "start_time": "2022-02-20T18:24:31.115Z"
   },
   {
    "duration": 8818,
    "start_time": "2022-02-20T18:24:38.932Z"
   },
   {
    "duration": 1270,
    "start_time": "2022-02-20T18:24:55.981Z"
   },
   {
    "duration": 5,
    "start_time": "2022-02-20T18:25:32.947Z"
   },
   {
    "duration": 589,
    "start_time": "2022-02-20T18:25:35.786Z"
   },
   {
    "duration": 5,
    "start_time": "2022-02-20T18:25:49.485Z"
   },
   {
    "duration": 28,
    "start_time": "2022-02-20T18:25:52.035Z"
   },
   {
    "duration": 691,
    "start_time": "2022-02-20T18:26:36.894Z"
   },
   {
    "duration": 814513,
    "start_time": "2022-02-20T18:29:57.612Z"
   },
   {
    "duration": 18041854,
    "start_time": "2022-02-20T13:42:50.274Z"
   },
   {
    "duration": 8,
    "start_time": "2022-02-20T18:48:16.330Z"
   },
   {
    "duration": 3955,
    "start_time": "2022-02-20T18:48:23.003Z"
   },
   {
    "duration": 71,
    "start_time": "2022-02-20T18:48:30.525Z"
   },
   {
    "duration": 7,
    "start_time": "2022-02-20T18:48:43.912Z"
   },
   {
    "duration": 1257,
    "start_time": "2022-02-20T18:49:07.414Z"
   },
   {
    "duration": 3615,
    "start_time": "2022-02-20T18:49:31.326Z"
   },
   {
    "duration": 9371,
    "start_time": "2022-02-20T18:49:39.837Z"
   },
   {
    "duration": 49,
    "start_time": "2022-02-20T18:49:51.856Z"
   },
   {
    "duration": 2827,
    "start_time": "2022-02-20T18:49:55.729Z"
   },
   {
    "duration": 13,
    "start_time": "2022-02-20T18:50:03.814Z"
   },
   {
    "duration": 1384,
    "start_time": "2022-02-20T18:50:06.531Z"
   },
   {
    "duration": 9648,
    "start_time": "2022-02-20T18:50:19.913Z"
   },
   {
    "duration": 9806,
    "start_time": "2022-02-20T18:50:32.407Z"
   },
   {
    "duration": 4401,
    "start_time": "2022-02-20T18:50:48.664Z"
   },
   {
    "duration": 8822,
    "start_time": "2022-02-20T18:51:06.943Z"
   },
   {
    "duration": 14641,
    "start_time": "2022-02-20T18:51:34.320Z"
   },
   {
    "duration": 4,
    "start_time": "2022-02-20T18:52:08.643Z"
   },
   {
    "duration": 26,
    "start_time": "2022-02-20T18:52:12.979Z"
   },
   {
    "duration": 8760,
    "start_time": "2022-02-20T18:52:53.987Z"
   },
   {
    "duration": 317,
    "start_time": "2022-02-20T18:56:09.698Z"
   },
   {
    "duration": 302,
    "start_time": "2022-02-20T18:57:09.588Z"
   },
   {
    "duration": 4,
    "start_time": "2022-02-20T18:57:16.139Z"
   },
   {
    "duration": 409,
    "start_time": "2022-02-20T19:01:08.612Z"
   },
   {
    "duration": 4356,
    "start_time": "2022-02-20T19:01:17.524Z"
   },
   {
    "duration": 7805,
    "start_time": "2022-02-20T19:01:27.475Z"
   },
   {
    "duration": 53,
    "start_time": "2022-02-20T19:01:40.365Z"
   },
   {
    "duration": 2798,
    "start_time": "2022-02-20T19:01:44.193Z"
   },
   {
    "duration": 10,
    "start_time": "2022-02-20T19:01:54.212Z"
   },
   {
    "duration": 13840,
    "start_time": "2022-02-20T19:02:26.514Z"
   },
   {
    "duration": 8844,
    "start_time": "2022-02-20T19:02:53.422Z"
   },
   {
    "duration": 14510,
    "start_time": "2022-02-20T19:03:06.265Z"
   },
   {
    "duration": 14722,
    "start_time": "2022-02-20T19:03:35.650Z"
   },
   {
    "duration": 4,
    "start_time": "2022-02-20T19:03:58.974Z"
   },
   {
    "duration": 550548,
    "start_time": "2022-02-20T19:04:03.907Z"
   },
   {
    "duration": 19934,
    "start_time": "2022-02-20T19:13:38.381Z"
   },
   {
    "duration": 4786,
    "start_time": "2022-02-20T19:14:04.494Z"
   },
   {
    "duration": 53,
    "start_time": "2022-02-20T19:14:11.942Z"
   },
   {
    "duration": 2973,
    "start_time": "2022-02-20T19:14:15.707Z"
   },
   {
    "duration": 119,
    "start_time": "2022-02-20T19:14:22.330Z"
   },
   {
    "duration": 14983,
    "start_time": "2022-02-20T19:14:26.094Z"
   },
   {
    "duration": 4,
    "start_time": "2022-02-20T19:14:49.147Z"
   },
   {
    "duration": 104086,
    "start_time": "2022-02-20T19:14:53.115Z"
   },
   {
    "duration": 9595,
    "start_time": "2022-02-20T19:16:57.569Z"
   },
   {
    "duration": 4,
    "start_time": "2022-02-20T19:17:11.658Z"
   },
   {
    "duration": 148276,
    "start_time": "2022-02-20T19:17:17.122Z"
   },
   {
    "duration": 238966,
    "start_time": "2022-02-20T19:21:11.032Z"
   },
   {
    "duration": 160356,
    "start_time": "2022-02-20T19:26:06.241Z"
   },
   {
    "duration": 172753,
    "start_time": "2022-02-20T19:30:07.458Z"
   },
   {
    "duration": 406,
    "start_time": "2022-02-20T19:35:35.768Z"
   },
   {
    "duration": 5,
    "start_time": "2022-02-20T19:35:41.430Z"
   },
   {
    "duration": 81,
    "start_time": "2022-02-20T19:35:44.065Z"
   },
   {
    "duration": 3,
    "start_time": "2022-02-20T19:39:45.192Z"
   },
   {
    "duration": 371,
    "start_time": "2022-02-20T19:51:38.026Z"
   },
   {
    "duration": 15752,
    "start_time": "2022-02-20T19:51:54.704Z"
   },
   {
    "duration": 19310,
    "start_time": "2022-02-20T20:03:57.485Z"
   },
   {
    "duration": 4392,
    "start_time": "2022-02-20T20:04:24.536Z"
   },
   {
    "duration": 47,
    "start_time": "2022-02-20T20:04:36.375Z"
   },
   {
    "duration": 2982,
    "start_time": "2022-02-20T20:04:40.368Z"
   },
   {
    "duration": 107,
    "start_time": "2022-02-20T20:04:46.483Z"
   },
   {
    "duration": 13758,
    "start_time": "2022-02-20T20:04:49.844Z"
   },
   {
    "duration": 8909,
    "start_time": "2022-02-20T20:05:12.842Z"
   },
   {
    "duration": 16286,
    "start_time": "2022-02-20T20:05:26.900Z"
   },
   {
    "duration": 6,
    "start_time": "2022-02-20T20:08:20.709Z"
   },
   {
    "duration": 18839,
    "start_time": "2022-02-20T20:08:27.238Z"
   },
   {
    "duration": 7891,
    "start_time": "2022-02-20T20:08:46.081Z"
   },
   {
    "duration": 54,
    "start_time": "2022-02-20T20:08:59.094Z"
   },
   {
    "duration": 3176,
    "start_time": "2022-02-20T20:09:02.283Z"
   },
   {
    "duration": 96,
    "start_time": "2022-02-20T20:09:11.372Z"
   },
   {
    "duration": 13982,
    "start_time": "2022-02-20T20:09:14.329Z"
   },
   {
    "duration": 9185,
    "start_time": "2022-02-20T20:09:43.183Z"
   },
   {
    "duration": 16845,
    "start_time": "2022-02-20T20:09:57.122Z"
   },
   {
    "duration": 5,
    "start_time": "2022-02-20T20:10:18.363Z"
   },
   {
    "duration": 77,
    "start_time": "2022-02-20T20:10:21.269Z"
   },
   {
    "duration": 15088,
    "start_time": "2022-02-20T20:10:33.208Z"
   },
   {
    "duration": 27,
    "start_time": "2022-02-20T20:11:17.482Z"
   },
   {
    "duration": 4,
    "start_time": "2022-02-20T20:11:27.901Z"
   },
   {
    "duration": 62,
    "start_time": "2022-02-20T20:11:30.567Z"
   },
   {
    "duration": 27,
    "start_time": "2022-02-20T20:11:34.710Z"
   }
  ],
  "colab": {
   "name": "Двенадцатый проект с комментариями.ipynb",
   "provenance": []
  },
  "kernelspec": {
   "display_name": "Python 3 (ipykernel)",
   "language": "python",
   "name": "python3"
  },
  "language_info": {
   "codemirror_mode": {
    "name": "ipython",
    "version": 3
   },
   "file_extension": ".py",
   "mimetype": "text/x-python",
   "name": "python",
   "nbconvert_exporter": "python",
   "pygments_lexer": "ipython3",
   "version": "3.9.7"
  },
  "toc": {
   "base_numbering": 1,
   "nav_menu": {},
   "number_sections": true,
   "sideBar": true,
   "skip_h1_title": true,
   "title_cell": "Содержание",
   "title_sidebar": "Contents",
   "toc_cell": true,
   "toc_position": {
    "height": "calc(100% - 180px)",
    "left": "10px",
    "top": "150px",
    "width": "302.391px"
   },
   "toc_section_display": true,
   "toc_window_display": false
  }
 },
 "nbformat": 4,
 "nbformat_minor": 1
}
