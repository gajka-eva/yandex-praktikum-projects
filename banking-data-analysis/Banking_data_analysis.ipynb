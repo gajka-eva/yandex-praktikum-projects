{
 "cells": [
  {
   "cell_type": "markdown",
   "metadata": {},
   "source": [
    "\n",
    "# Исследование надёжности заёмщиков\n",
    "<div class=\"alert alert-block alert-info\">\n",
    "Заказчик — кредитный отдел банка. Нужно разобраться, влияет ли семейное положение и количество детей клиента на факт погашения кредита в срок. Входные данные от банка — статистика о платёжеспособности клиентов.\n",
    "\n",
    "Результаты исследования будут учтены при построении модели **кредитного скоринга** — специальной системы, которая оценивает способность потенциального заёмщика вернуть кредит банку."
   ]
  },
  {
   "cell_type": "markdown",
   "metadata": {},
   "source": [
    "## 1. Подготовка данных\n",
    "\n",
    "### 1.1. Изучение общей информации"
   ]
  },
  {
   "cell_type": "code",
   "execution_count": 1,
   "metadata": {},
   "outputs": [
    {
     "data": {
      "text/html": [
       "<div>\n",
       "<style scoped>\n",
       "    .dataframe tbody tr th:only-of-type {\n",
       "        vertical-align: middle;\n",
       "    }\n",
       "\n",
       "    .dataframe tbody tr th {\n",
       "        vertical-align: top;\n",
       "    }\n",
       "\n",
       "    .dataframe thead th {\n",
       "        text-align: right;\n",
       "    }\n",
       "</style>\n",
       "<table border=\"1\" class=\"dataframe\">\n",
       "  <thead>\n",
       "    <tr style=\"text-align: right;\">\n",
       "      <th></th>\n",
       "      <th>children</th>\n",
       "      <th>days_employed</th>\n",
       "      <th>dob_years</th>\n",
       "      <th>education</th>\n",
       "      <th>education_id</th>\n",
       "      <th>family_status</th>\n",
       "      <th>family_status_id</th>\n",
       "      <th>gender</th>\n",
       "      <th>income_type</th>\n",
       "      <th>debt</th>\n",
       "      <th>total_income</th>\n",
       "      <th>purpose</th>\n",
       "    </tr>\n",
       "  </thead>\n",
       "  <tbody>\n",
       "    <tr>\n",
       "      <th>0</th>\n",
       "      <td>1</td>\n",
       "      <td>-8437.673028</td>\n",
       "      <td>42</td>\n",
       "      <td>высшее</td>\n",
       "      <td>0</td>\n",
       "      <td>женат / замужем</td>\n",
       "      <td>0</td>\n",
       "      <td>F</td>\n",
       "      <td>сотрудник</td>\n",
       "      <td>0</td>\n",
       "      <td>253875.639453</td>\n",
       "      <td>покупка жилья</td>\n",
       "    </tr>\n",
       "    <tr>\n",
       "      <th>1</th>\n",
       "      <td>1</td>\n",
       "      <td>-4024.803754</td>\n",
       "      <td>36</td>\n",
       "      <td>среднее</td>\n",
       "      <td>1</td>\n",
       "      <td>женат / замужем</td>\n",
       "      <td>0</td>\n",
       "      <td>F</td>\n",
       "      <td>сотрудник</td>\n",
       "      <td>0</td>\n",
       "      <td>112080.014102</td>\n",
       "      <td>приобретение автомобиля</td>\n",
       "    </tr>\n",
       "    <tr>\n",
       "      <th>2</th>\n",
       "      <td>0</td>\n",
       "      <td>-5623.422610</td>\n",
       "      <td>33</td>\n",
       "      <td>Среднее</td>\n",
       "      <td>1</td>\n",
       "      <td>женат / замужем</td>\n",
       "      <td>0</td>\n",
       "      <td>M</td>\n",
       "      <td>сотрудник</td>\n",
       "      <td>0</td>\n",
       "      <td>145885.952297</td>\n",
       "      <td>покупка жилья</td>\n",
       "    </tr>\n",
       "    <tr>\n",
       "      <th>3</th>\n",
       "      <td>3</td>\n",
       "      <td>-4124.747207</td>\n",
       "      <td>32</td>\n",
       "      <td>среднее</td>\n",
       "      <td>1</td>\n",
       "      <td>женат / замужем</td>\n",
       "      <td>0</td>\n",
       "      <td>M</td>\n",
       "      <td>сотрудник</td>\n",
       "      <td>0</td>\n",
       "      <td>267628.550329</td>\n",
       "      <td>дополнительное образование</td>\n",
       "    </tr>\n",
       "    <tr>\n",
       "      <th>4</th>\n",
       "      <td>0</td>\n",
       "      <td>340266.072047</td>\n",
       "      <td>53</td>\n",
       "      <td>среднее</td>\n",
       "      <td>1</td>\n",
       "      <td>гражданский брак</td>\n",
       "      <td>1</td>\n",
       "      <td>F</td>\n",
       "      <td>пенсионер</td>\n",
       "      <td>0</td>\n",
       "      <td>158616.077870</td>\n",
       "      <td>сыграть свадьбу</td>\n",
       "    </tr>\n",
       "  </tbody>\n",
       "</table>\n",
       "</div>"
      ],
      "text/plain": [
       "   children  days_employed  dob_years education  education_id  \\\n",
       "0         1   -8437.673028         42    высшее             0   \n",
       "1         1   -4024.803754         36   среднее             1   \n",
       "2         0   -5623.422610         33   Среднее             1   \n",
       "3         3   -4124.747207         32   среднее             1   \n",
       "4         0  340266.072047         53   среднее             1   \n",
       "\n",
       "      family_status  family_status_id gender income_type  debt   total_income  \\\n",
       "0   женат / замужем                 0      F   сотрудник     0  253875.639453   \n",
       "1   женат / замужем                 0      F   сотрудник     0  112080.014102   \n",
       "2   женат / замужем                 0      M   сотрудник     0  145885.952297   \n",
       "3   женат / замужем                 0      M   сотрудник     0  267628.550329   \n",
       "4  гражданский брак                 1      F   пенсионер     0  158616.077870   \n",
       "\n",
       "                      purpose  \n",
       "0               покупка жилья  \n",
       "1     приобретение автомобиля  \n",
       "2               покупка жилья  \n",
       "3  дополнительное образование  \n",
       "4             сыграть свадьбу  "
      ]
     },
     "execution_count": 1,
     "metadata": {},
     "output_type": "execute_result"
    }
   ],
   "source": [
    "# импорт библиотек\n",
    "import pandas as pd\n",
    "import matplotlib.pyplot as plt\n",
    "import seaborn as sns\n",
    "from nltk.stem import SnowballStemmer \n",
    "russian_stemmer = SnowballStemmer('russian')\n",
    "\n",
    "# открытие файла\n",
    "data = pd.read_csv('data.csv')\n",
    "data.head(5)"
   ]
  },
  {
   "cell_type": "code",
   "execution_count": 2,
   "metadata": {},
   "outputs": [],
   "source": [
    "# функция для изучения данных\n",
    "def open_info(data):\n",
    "    # вывод 5 строк данных\n",
    "    print('*******************************************************')\n",
    "    print('Представление датафрейма')\n",
    "    display(data.head())\n",
    "    print('*******************************************************')\n",
    "    # вывод информации о датафрейме\n",
    "    print('Общая информация о датафрейме')\n",
    "    print('')\n",
    "    print(data.info())\n",
    "    print('*******************************************************')\n",
    "    # вывод информации о распределении данных\n",
    "    print('Распределение данных')\n",
    "    display(data.describe())\n",
    "    print('*******************************************************')\n",
    "    # проверка на наличие дубликатов\n",
    "    print('Дубликаты:', data.duplicated().sum())\n",
    "    print('*******************************************************')\n",
    "    # проверка на наличие пропусков\n",
    "    print('Пропуски:', data.isnull().sum())"
   ]
  },
  {
   "cell_type": "code",
   "execution_count": 3,
   "metadata": {},
   "outputs": [
    {
     "name": "stdout",
     "output_type": "stream",
     "text": [
      "*******************************************************\n",
      "Представление датафрейма\n"
     ]
    },
    {
     "data": {
      "text/html": [
       "<div>\n",
       "<style scoped>\n",
       "    .dataframe tbody tr th:only-of-type {\n",
       "        vertical-align: middle;\n",
       "    }\n",
       "\n",
       "    .dataframe tbody tr th {\n",
       "        vertical-align: top;\n",
       "    }\n",
       "\n",
       "    .dataframe thead th {\n",
       "        text-align: right;\n",
       "    }\n",
       "</style>\n",
       "<table border=\"1\" class=\"dataframe\">\n",
       "  <thead>\n",
       "    <tr style=\"text-align: right;\">\n",
       "      <th></th>\n",
       "      <th>children</th>\n",
       "      <th>days_employed</th>\n",
       "      <th>dob_years</th>\n",
       "      <th>education</th>\n",
       "      <th>education_id</th>\n",
       "      <th>family_status</th>\n",
       "      <th>family_status_id</th>\n",
       "      <th>gender</th>\n",
       "      <th>income_type</th>\n",
       "      <th>debt</th>\n",
       "      <th>total_income</th>\n",
       "      <th>purpose</th>\n",
       "    </tr>\n",
       "  </thead>\n",
       "  <tbody>\n",
       "    <tr>\n",
       "      <th>0</th>\n",
       "      <td>1</td>\n",
       "      <td>-8437.673028</td>\n",
       "      <td>42</td>\n",
       "      <td>высшее</td>\n",
       "      <td>0</td>\n",
       "      <td>женат / замужем</td>\n",
       "      <td>0</td>\n",
       "      <td>F</td>\n",
       "      <td>сотрудник</td>\n",
       "      <td>0</td>\n",
       "      <td>253875.639453</td>\n",
       "      <td>покупка жилья</td>\n",
       "    </tr>\n",
       "    <tr>\n",
       "      <th>1</th>\n",
       "      <td>1</td>\n",
       "      <td>-4024.803754</td>\n",
       "      <td>36</td>\n",
       "      <td>среднее</td>\n",
       "      <td>1</td>\n",
       "      <td>женат / замужем</td>\n",
       "      <td>0</td>\n",
       "      <td>F</td>\n",
       "      <td>сотрудник</td>\n",
       "      <td>0</td>\n",
       "      <td>112080.014102</td>\n",
       "      <td>приобретение автомобиля</td>\n",
       "    </tr>\n",
       "    <tr>\n",
       "      <th>2</th>\n",
       "      <td>0</td>\n",
       "      <td>-5623.422610</td>\n",
       "      <td>33</td>\n",
       "      <td>Среднее</td>\n",
       "      <td>1</td>\n",
       "      <td>женат / замужем</td>\n",
       "      <td>0</td>\n",
       "      <td>M</td>\n",
       "      <td>сотрудник</td>\n",
       "      <td>0</td>\n",
       "      <td>145885.952297</td>\n",
       "      <td>покупка жилья</td>\n",
       "    </tr>\n",
       "    <tr>\n",
       "      <th>3</th>\n",
       "      <td>3</td>\n",
       "      <td>-4124.747207</td>\n",
       "      <td>32</td>\n",
       "      <td>среднее</td>\n",
       "      <td>1</td>\n",
       "      <td>женат / замужем</td>\n",
       "      <td>0</td>\n",
       "      <td>M</td>\n",
       "      <td>сотрудник</td>\n",
       "      <td>0</td>\n",
       "      <td>267628.550329</td>\n",
       "      <td>дополнительное образование</td>\n",
       "    </tr>\n",
       "    <tr>\n",
       "      <th>4</th>\n",
       "      <td>0</td>\n",
       "      <td>340266.072047</td>\n",
       "      <td>53</td>\n",
       "      <td>среднее</td>\n",
       "      <td>1</td>\n",
       "      <td>гражданский брак</td>\n",
       "      <td>1</td>\n",
       "      <td>F</td>\n",
       "      <td>пенсионер</td>\n",
       "      <td>0</td>\n",
       "      <td>158616.077870</td>\n",
       "      <td>сыграть свадьбу</td>\n",
       "    </tr>\n",
       "  </tbody>\n",
       "</table>\n",
       "</div>"
      ],
      "text/plain": [
       "   children  days_employed  dob_years education  education_id  \\\n",
       "0         1   -8437.673028         42    высшее             0   \n",
       "1         1   -4024.803754         36   среднее             1   \n",
       "2         0   -5623.422610         33   Среднее             1   \n",
       "3         3   -4124.747207         32   среднее             1   \n",
       "4         0  340266.072047         53   среднее             1   \n",
       "\n",
       "      family_status  family_status_id gender income_type  debt   total_income  \\\n",
       "0   женат / замужем                 0      F   сотрудник     0  253875.639453   \n",
       "1   женат / замужем                 0      F   сотрудник     0  112080.014102   \n",
       "2   женат / замужем                 0      M   сотрудник     0  145885.952297   \n",
       "3   женат / замужем                 0      M   сотрудник     0  267628.550329   \n",
       "4  гражданский брак                 1      F   пенсионер     0  158616.077870   \n",
       "\n",
       "                      purpose  \n",
       "0               покупка жилья  \n",
       "1     приобретение автомобиля  \n",
       "2               покупка жилья  \n",
       "3  дополнительное образование  \n",
       "4             сыграть свадьбу  "
      ]
     },
     "metadata": {},
     "output_type": "display_data"
    },
    {
     "name": "stdout",
     "output_type": "stream",
     "text": [
      "*******************************************************\n",
      "Общая информация о датафрейме\n",
      "\n",
      "<class 'pandas.core.frame.DataFrame'>\n",
      "RangeIndex: 21525 entries, 0 to 21524\n",
      "Data columns (total 12 columns):\n",
      " #   Column            Non-Null Count  Dtype  \n",
      "---  ------            --------------  -----  \n",
      " 0   children          21525 non-null  int64  \n",
      " 1   days_employed     19351 non-null  float64\n",
      " 2   dob_years         21525 non-null  int64  \n",
      " 3   education         21525 non-null  object \n",
      " 4   education_id      21525 non-null  int64  \n",
      " 5   family_status     21525 non-null  object \n",
      " 6   family_status_id  21525 non-null  int64  \n",
      " 7   gender            21525 non-null  object \n",
      " 8   income_type       21525 non-null  object \n",
      " 9   debt              21525 non-null  int64  \n",
      " 10  total_income      19351 non-null  float64\n",
      " 11  purpose           21525 non-null  object \n",
      "dtypes: float64(2), int64(5), object(5)\n",
      "memory usage: 2.0+ MB\n",
      "None\n",
      "*******************************************************\n",
      "Распределение данных\n"
     ]
    },
    {
     "data": {
      "text/html": [
       "<div>\n",
       "<style scoped>\n",
       "    .dataframe tbody tr th:only-of-type {\n",
       "        vertical-align: middle;\n",
       "    }\n",
       "\n",
       "    .dataframe tbody tr th {\n",
       "        vertical-align: top;\n",
       "    }\n",
       "\n",
       "    .dataframe thead th {\n",
       "        text-align: right;\n",
       "    }\n",
       "</style>\n",
       "<table border=\"1\" class=\"dataframe\">\n",
       "  <thead>\n",
       "    <tr style=\"text-align: right;\">\n",
       "      <th></th>\n",
       "      <th>children</th>\n",
       "      <th>days_employed</th>\n",
       "      <th>dob_years</th>\n",
       "      <th>education_id</th>\n",
       "      <th>family_status_id</th>\n",
       "      <th>debt</th>\n",
       "      <th>total_income</th>\n",
       "    </tr>\n",
       "  </thead>\n",
       "  <tbody>\n",
       "    <tr>\n",
       "      <th>count</th>\n",
       "      <td>21525.000000</td>\n",
       "      <td>19351.000000</td>\n",
       "      <td>21525.000000</td>\n",
       "      <td>21525.000000</td>\n",
       "      <td>21525.000000</td>\n",
       "      <td>21525.000000</td>\n",
       "      <td>1.935100e+04</td>\n",
       "    </tr>\n",
       "    <tr>\n",
       "      <th>mean</th>\n",
       "      <td>0.538908</td>\n",
       "      <td>63046.497661</td>\n",
       "      <td>43.293380</td>\n",
       "      <td>0.817236</td>\n",
       "      <td>0.972544</td>\n",
       "      <td>0.080883</td>\n",
       "      <td>1.674223e+05</td>\n",
       "    </tr>\n",
       "    <tr>\n",
       "      <th>std</th>\n",
       "      <td>1.381587</td>\n",
       "      <td>140827.311974</td>\n",
       "      <td>12.574584</td>\n",
       "      <td>0.548138</td>\n",
       "      <td>1.420324</td>\n",
       "      <td>0.272661</td>\n",
       "      <td>1.029716e+05</td>\n",
       "    </tr>\n",
       "    <tr>\n",
       "      <th>min</th>\n",
       "      <td>-1.000000</td>\n",
       "      <td>-18388.949901</td>\n",
       "      <td>0.000000</td>\n",
       "      <td>0.000000</td>\n",
       "      <td>0.000000</td>\n",
       "      <td>0.000000</td>\n",
       "      <td>2.066726e+04</td>\n",
       "    </tr>\n",
       "    <tr>\n",
       "      <th>25%</th>\n",
       "      <td>0.000000</td>\n",
       "      <td>-2747.423625</td>\n",
       "      <td>33.000000</td>\n",
       "      <td>1.000000</td>\n",
       "      <td>0.000000</td>\n",
       "      <td>0.000000</td>\n",
       "      <td>1.030532e+05</td>\n",
       "    </tr>\n",
       "    <tr>\n",
       "      <th>50%</th>\n",
       "      <td>0.000000</td>\n",
       "      <td>-1203.369529</td>\n",
       "      <td>42.000000</td>\n",
       "      <td>1.000000</td>\n",
       "      <td>0.000000</td>\n",
       "      <td>0.000000</td>\n",
       "      <td>1.450179e+05</td>\n",
       "    </tr>\n",
       "    <tr>\n",
       "      <th>75%</th>\n",
       "      <td>1.000000</td>\n",
       "      <td>-291.095954</td>\n",
       "      <td>53.000000</td>\n",
       "      <td>1.000000</td>\n",
       "      <td>1.000000</td>\n",
       "      <td>0.000000</td>\n",
       "      <td>2.034351e+05</td>\n",
       "    </tr>\n",
       "    <tr>\n",
       "      <th>max</th>\n",
       "      <td>20.000000</td>\n",
       "      <td>401755.400475</td>\n",
       "      <td>75.000000</td>\n",
       "      <td>4.000000</td>\n",
       "      <td>4.000000</td>\n",
       "      <td>1.000000</td>\n",
       "      <td>2.265604e+06</td>\n",
       "    </tr>\n",
       "  </tbody>\n",
       "</table>\n",
       "</div>"
      ],
      "text/plain": [
       "           children  days_employed     dob_years  education_id  \\\n",
       "count  21525.000000   19351.000000  21525.000000  21525.000000   \n",
       "mean       0.538908   63046.497661     43.293380      0.817236   \n",
       "std        1.381587  140827.311974     12.574584      0.548138   \n",
       "min       -1.000000  -18388.949901      0.000000      0.000000   \n",
       "25%        0.000000   -2747.423625     33.000000      1.000000   \n",
       "50%        0.000000   -1203.369529     42.000000      1.000000   \n",
       "75%        1.000000    -291.095954     53.000000      1.000000   \n",
       "max       20.000000  401755.400475     75.000000      4.000000   \n",
       "\n",
       "       family_status_id          debt  total_income  \n",
       "count      21525.000000  21525.000000  1.935100e+04  \n",
       "mean           0.972544      0.080883  1.674223e+05  \n",
       "std            1.420324      0.272661  1.029716e+05  \n",
       "min            0.000000      0.000000  2.066726e+04  \n",
       "25%            0.000000      0.000000  1.030532e+05  \n",
       "50%            0.000000      0.000000  1.450179e+05  \n",
       "75%            1.000000      0.000000  2.034351e+05  \n",
       "max            4.000000      1.000000  2.265604e+06  "
      ]
     },
     "metadata": {},
     "output_type": "display_data"
    },
    {
     "name": "stdout",
     "output_type": "stream",
     "text": [
      "*******************************************************\n",
      "Дубликаты: 54\n",
      "*******************************************************\n",
      "Пропуски: children               0\n",
      "days_employed       2174\n",
      "dob_years              0\n",
      "education              0\n",
      "education_id           0\n",
      "family_status          0\n",
      "family_status_id       0\n",
      "gender                 0\n",
      "income_type            0\n",
      "debt                   0\n",
      "total_income        2174\n",
      "purpose                0\n",
      "dtype: int64\n"
     ]
    }
   ],
   "source": [
    "open_info(data)"
   ]
  },
  {
   "cell_type": "markdown",
   "metadata": {},
   "source": [
    "<div class=\"alert alert-success\"> \n",
    "    \n",
    "**Общие сведения**  \n",
    "В файле 12 столбцов и 21525 строк. Соответственно в таблице представлены данные по 21524 людям.\n",
    "\n",
    "**Информация по данным в столбцах**  \n",
    "**Тип данных**  \n",
    "7 столбцов с количественными данными: 5 с целочисленными: 'children', 'dob_years', 'education_id', 'family_status_id', 'debt' - 2 с вещественными: 'days_employed' и 'total_income'. 5 столбцов с категориальными данными: 'education', 'family_status', 'gender', 'income_type', 'purpose'.  \n",
    "\n",
    "**Наличие / отсутствие пропусков**  \n",
    "Есть пропуски в столбцах 'days_employed' и 'total_income', так как строк с заполненной информацией в них меньше, чем в других столбцах.  \n",
    "\n",
    "**Наличие / отсутствие дубликатов**  \n",
    "При первом знакомстве с таблицей видно, что присутствуют дупликаты в столбцах 'education' и 'purpose'."
   ]
  },
  {
   "cell_type": "markdown",
   "metadata": {},
   "source": [
    "### 1.2. Обработка пропусков"
   ]
  },
  {
   "cell_type": "code",
   "execution_count": 4,
   "metadata": {
    "scrolled": true
   },
   "outputs": [
    {
     "data": {
      "text/html": [
       "<div>\n",
       "<style scoped>\n",
       "    .dataframe tbody tr th:only-of-type {\n",
       "        vertical-align: middle;\n",
       "    }\n",
       "\n",
       "    .dataframe tbody tr th {\n",
       "        vertical-align: top;\n",
       "    }\n",
       "\n",
       "    .dataframe thead th {\n",
       "        text-align: right;\n",
       "    }\n",
       "</style>\n",
       "<table border=\"1\" class=\"dataframe\">\n",
       "  <thead>\n",
       "    <tr style=\"text-align: right;\">\n",
       "      <th></th>\n",
       "      <th>children</th>\n",
       "      <th>days_employed</th>\n",
       "      <th>dob_years</th>\n",
       "      <th>education</th>\n",
       "      <th>education_id</th>\n",
       "      <th>family_status</th>\n",
       "      <th>family_status_id</th>\n",
       "      <th>gender</th>\n",
       "      <th>income_type</th>\n",
       "      <th>debt</th>\n",
       "      <th>total_income</th>\n",
       "      <th>purpose</th>\n",
       "    </tr>\n",
       "  </thead>\n",
       "  <tbody>\n",
       "    <tr>\n",
       "      <th>12</th>\n",
       "      <td>0</td>\n",
       "      <td>NaN</td>\n",
       "      <td>65</td>\n",
       "      <td>среднее</td>\n",
       "      <td>1</td>\n",
       "      <td>гражданский брак</td>\n",
       "      <td>1</td>\n",
       "      <td>M</td>\n",
       "      <td>пенсионер</td>\n",
       "      <td>0</td>\n",
       "      <td>NaN</td>\n",
       "      <td>сыграть свадьбу</td>\n",
       "    </tr>\n",
       "    <tr>\n",
       "      <th>26</th>\n",
       "      <td>0</td>\n",
       "      <td>NaN</td>\n",
       "      <td>41</td>\n",
       "      <td>среднее</td>\n",
       "      <td>1</td>\n",
       "      <td>женат / замужем</td>\n",
       "      <td>0</td>\n",
       "      <td>M</td>\n",
       "      <td>госслужащий</td>\n",
       "      <td>0</td>\n",
       "      <td>NaN</td>\n",
       "      <td>образование</td>\n",
       "    </tr>\n",
       "    <tr>\n",
       "      <th>29</th>\n",
       "      <td>0</td>\n",
       "      <td>NaN</td>\n",
       "      <td>63</td>\n",
       "      <td>среднее</td>\n",
       "      <td>1</td>\n",
       "      <td>Не женат / не замужем</td>\n",
       "      <td>4</td>\n",
       "      <td>F</td>\n",
       "      <td>пенсионер</td>\n",
       "      <td>0</td>\n",
       "      <td>NaN</td>\n",
       "      <td>строительство жилой недвижимости</td>\n",
       "    </tr>\n",
       "    <tr>\n",
       "      <th>41</th>\n",
       "      <td>0</td>\n",
       "      <td>NaN</td>\n",
       "      <td>50</td>\n",
       "      <td>среднее</td>\n",
       "      <td>1</td>\n",
       "      <td>женат / замужем</td>\n",
       "      <td>0</td>\n",
       "      <td>F</td>\n",
       "      <td>госслужащий</td>\n",
       "      <td>0</td>\n",
       "      <td>NaN</td>\n",
       "      <td>сделка с подержанным автомобилем</td>\n",
       "    </tr>\n",
       "    <tr>\n",
       "      <th>55</th>\n",
       "      <td>0</td>\n",
       "      <td>NaN</td>\n",
       "      <td>54</td>\n",
       "      <td>среднее</td>\n",
       "      <td>1</td>\n",
       "      <td>гражданский брак</td>\n",
       "      <td>1</td>\n",
       "      <td>F</td>\n",
       "      <td>пенсионер</td>\n",
       "      <td>1</td>\n",
       "      <td>NaN</td>\n",
       "      <td>сыграть свадьбу</td>\n",
       "    </tr>\n",
       "    <tr>\n",
       "      <th>65</th>\n",
       "      <td>0</td>\n",
       "      <td>NaN</td>\n",
       "      <td>21</td>\n",
       "      <td>среднее</td>\n",
       "      <td>1</td>\n",
       "      <td>Не женат / не замужем</td>\n",
       "      <td>4</td>\n",
       "      <td>M</td>\n",
       "      <td>компаньон</td>\n",
       "      <td>0</td>\n",
       "      <td>NaN</td>\n",
       "      <td>операции с коммерческой недвижимостью</td>\n",
       "    </tr>\n",
       "    <tr>\n",
       "      <th>67</th>\n",
       "      <td>0</td>\n",
       "      <td>NaN</td>\n",
       "      <td>52</td>\n",
       "      <td>высшее</td>\n",
       "      <td>0</td>\n",
       "      <td>женат / замужем</td>\n",
       "      <td>0</td>\n",
       "      <td>F</td>\n",
       "      <td>пенсионер</td>\n",
       "      <td>0</td>\n",
       "      <td>NaN</td>\n",
       "      <td>покупка жилья для семьи</td>\n",
       "    </tr>\n",
       "    <tr>\n",
       "      <th>72</th>\n",
       "      <td>1</td>\n",
       "      <td>NaN</td>\n",
       "      <td>32</td>\n",
       "      <td>высшее</td>\n",
       "      <td>0</td>\n",
       "      <td>женат / замужем</td>\n",
       "      <td>0</td>\n",
       "      <td>M</td>\n",
       "      <td>госслужащий</td>\n",
       "      <td>0</td>\n",
       "      <td>NaN</td>\n",
       "      <td>операции с коммерческой недвижимостью</td>\n",
       "    </tr>\n",
       "    <tr>\n",
       "      <th>82</th>\n",
       "      <td>2</td>\n",
       "      <td>NaN</td>\n",
       "      <td>50</td>\n",
       "      <td>высшее</td>\n",
       "      <td>0</td>\n",
       "      <td>женат / замужем</td>\n",
       "      <td>0</td>\n",
       "      <td>F</td>\n",
       "      <td>сотрудник</td>\n",
       "      <td>0</td>\n",
       "      <td>NaN</td>\n",
       "      <td>жилье</td>\n",
       "    </tr>\n",
       "    <tr>\n",
       "      <th>83</th>\n",
       "      <td>0</td>\n",
       "      <td>NaN</td>\n",
       "      <td>52</td>\n",
       "      <td>среднее</td>\n",
       "      <td>1</td>\n",
       "      <td>женат / замужем</td>\n",
       "      <td>0</td>\n",
       "      <td>M</td>\n",
       "      <td>сотрудник</td>\n",
       "      <td>0</td>\n",
       "      <td>NaN</td>\n",
       "      <td>жилье</td>\n",
       "    </tr>\n",
       "  </tbody>\n",
       "</table>\n",
       "</div>"
      ],
      "text/plain": [
       "    children  days_employed  dob_years education  education_id  \\\n",
       "12         0            NaN         65   среднее             1   \n",
       "26         0            NaN         41   среднее             1   \n",
       "29         0            NaN         63   среднее             1   \n",
       "41         0            NaN         50   среднее             1   \n",
       "55         0            NaN         54   среднее             1   \n",
       "65         0            NaN         21   среднее             1   \n",
       "67         0            NaN         52    высшее             0   \n",
       "72         1            NaN         32    высшее             0   \n",
       "82         2            NaN         50    высшее             0   \n",
       "83         0            NaN         52   среднее             1   \n",
       "\n",
       "            family_status  family_status_id gender  income_type  debt  \\\n",
       "12       гражданский брак                 1      M    пенсионер     0   \n",
       "26        женат / замужем                 0      M  госслужащий     0   \n",
       "29  Не женат / не замужем                 4      F    пенсионер     0   \n",
       "41        женат / замужем                 0      F  госслужащий     0   \n",
       "55       гражданский брак                 1      F    пенсионер     1   \n",
       "65  Не женат / не замужем                 4      M    компаньон     0   \n",
       "67        женат / замужем                 0      F    пенсионер     0   \n",
       "72        женат / замужем                 0      M  госслужащий     0   \n",
       "82        женат / замужем                 0      F    сотрудник     0   \n",
       "83        женат / замужем                 0      M    сотрудник     0   \n",
       "\n",
       "    total_income                                purpose  \n",
       "12           NaN                        сыграть свадьбу  \n",
       "26           NaN                            образование  \n",
       "29           NaN       строительство жилой недвижимости  \n",
       "41           NaN       сделка с подержанным автомобилем  \n",
       "55           NaN                        сыграть свадьбу  \n",
       "65           NaN  операции с коммерческой недвижимостью  \n",
       "67           NaN                покупка жилья для семьи  \n",
       "72           NaN  операции с коммерческой недвижимостью  \n",
       "82           NaN                                  жилье  \n",
       "83           NaN                                  жилье  "
      ]
     },
     "execution_count": 4,
     "metadata": {},
     "output_type": "execute_result"
    }
   ],
   "source": [
    "# анализ данных таблицы в строках, где есть пропуски\n",
    "data[data['days_employed'].isna()].head(10)"
   ]
  },
  {
   "cell_type": "code",
   "execution_count": 5,
   "metadata": {},
   "outputs": [
    {
     "data": {
      "text/plain": [
       "children            0\n",
       "days_employed       0\n",
       "dob_years           0\n",
       "education           0\n",
       "education_id        0\n",
       "family_status       0\n",
       "family_status_id    0\n",
       "gender              0\n",
       "income_type         0\n",
       "debt                0\n",
       "total_income        0\n",
       "purpose             0\n",
       "dtype: int64"
      ]
     },
     "execution_count": 5,
     "metadata": {},
     "output_type": "execute_result"
    }
   ],
   "source": [
    "# заполнение пропущенных значений в столбце 'days_employed' нулевыми значениями\n",
    "data['days_employed'].fillna(0, inplace=True)\n",
    "\n",
    "# заполнение пропущенных значений в столбце 'total_income' медианным значением с учетом данных столбца 'income_type'\n",
    "data['total_income'] = data.groupby('income_type')['total_income'].apply(lambda x: x.fillna(x.median()))\n",
    "\n",
    "# проверка\n",
    "data.isnull().sum()"
   ]
  },
  {
   "cell_type": "markdown",
   "metadata": {},
   "source": [
    "### 1.3. Работа с аномальными значениями"
   ]
  },
  {
   "cell_type": "code",
   "execution_count": 6,
   "metadata": {},
   "outputs": [
    {
     "data": {
      "text/plain": [
       " 0     14149\n",
       " 1      4818\n",
       " 2      2055\n",
       " 3       330\n",
       " 20       76\n",
       "-1        47\n",
       " 4        41\n",
       " 5         9\n",
       "Name: children, dtype: int64"
      ]
     },
     "execution_count": 6,
     "metadata": {},
     "output_type": "execute_result"
    }
   ],
   "source": [
    "# поиск нестандартных данных в столбце 'children'\n",
    "data['children'].value_counts()"
   ]
  },
  {
   "cell_type": "code",
   "execution_count": 7,
   "metadata": {},
   "outputs": [
    {
     "data": {
      "text/html": [
       "<div>\n",
       "<style scoped>\n",
       "    .dataframe tbody tr th:only-of-type {\n",
       "        vertical-align: middle;\n",
       "    }\n",
       "\n",
       "    .dataframe tbody tr th {\n",
       "        vertical-align: top;\n",
       "    }\n",
       "\n",
       "    .dataframe thead th {\n",
       "        text-align: right;\n",
       "    }\n",
       "</style>\n",
       "<table border=\"1\" class=\"dataframe\">\n",
       "  <thead>\n",
       "    <tr style=\"text-align: right;\">\n",
       "      <th></th>\n",
       "      <th>children</th>\n",
       "      <th>days_employed</th>\n",
       "      <th>dob_years</th>\n",
       "      <th>education</th>\n",
       "      <th>education_id</th>\n",
       "      <th>family_status</th>\n",
       "      <th>family_status_id</th>\n",
       "      <th>gender</th>\n",
       "      <th>income_type</th>\n",
       "      <th>debt</th>\n",
       "      <th>total_income</th>\n",
       "      <th>purpose</th>\n",
       "    </tr>\n",
       "  </thead>\n",
       "  <tbody>\n",
       "    <tr>\n",
       "      <th>291</th>\n",
       "      <td>-1</td>\n",
       "      <td>-4417.703588</td>\n",
       "      <td>46</td>\n",
       "      <td>среднее</td>\n",
       "      <td>1</td>\n",
       "      <td>гражданский брак</td>\n",
       "      <td>1</td>\n",
       "      <td>F</td>\n",
       "      <td>сотрудник</td>\n",
       "      <td>0</td>\n",
       "      <td>102816.346412</td>\n",
       "      <td>профильное образование</td>\n",
       "    </tr>\n",
       "    <tr>\n",
       "      <th>705</th>\n",
       "      <td>-1</td>\n",
       "      <td>-902.084528</td>\n",
       "      <td>50</td>\n",
       "      <td>среднее</td>\n",
       "      <td>1</td>\n",
       "      <td>женат / замужем</td>\n",
       "      <td>0</td>\n",
       "      <td>F</td>\n",
       "      <td>госслужащий</td>\n",
       "      <td>0</td>\n",
       "      <td>137882.899271</td>\n",
       "      <td>приобретение автомобиля</td>\n",
       "    </tr>\n",
       "    <tr>\n",
       "      <th>742</th>\n",
       "      <td>-1</td>\n",
       "      <td>-3174.456205</td>\n",
       "      <td>57</td>\n",
       "      <td>среднее</td>\n",
       "      <td>1</td>\n",
       "      <td>женат / замужем</td>\n",
       "      <td>0</td>\n",
       "      <td>F</td>\n",
       "      <td>сотрудник</td>\n",
       "      <td>0</td>\n",
       "      <td>64268.044444</td>\n",
       "      <td>дополнительное образование</td>\n",
       "    </tr>\n",
       "    <tr>\n",
       "      <th>800</th>\n",
       "      <td>-1</td>\n",
       "      <td>349987.852217</td>\n",
       "      <td>54</td>\n",
       "      <td>среднее</td>\n",
       "      <td>1</td>\n",
       "      <td>Не женат / не замужем</td>\n",
       "      <td>4</td>\n",
       "      <td>F</td>\n",
       "      <td>пенсионер</td>\n",
       "      <td>0</td>\n",
       "      <td>86293.724153</td>\n",
       "      <td>дополнительное образование</td>\n",
       "    </tr>\n",
       "    <tr>\n",
       "      <th>941</th>\n",
       "      <td>-1</td>\n",
       "      <td>0.000000</td>\n",
       "      <td>57</td>\n",
       "      <td>Среднее</td>\n",
       "      <td>1</td>\n",
       "      <td>женат / замужем</td>\n",
       "      <td>0</td>\n",
       "      <td>F</td>\n",
       "      <td>пенсионер</td>\n",
       "      <td>0</td>\n",
       "      <td>118514.486412</td>\n",
       "      <td>на покупку своего автомобиля</td>\n",
       "    </tr>\n",
       "    <tr>\n",
       "      <th>1363</th>\n",
       "      <td>-1</td>\n",
       "      <td>-1195.264956</td>\n",
       "      <td>55</td>\n",
       "      <td>СРЕДНЕЕ</td>\n",
       "      <td>1</td>\n",
       "      <td>женат / замужем</td>\n",
       "      <td>0</td>\n",
       "      <td>F</td>\n",
       "      <td>компаньон</td>\n",
       "      <td>0</td>\n",
       "      <td>69550.699692</td>\n",
       "      <td>профильное образование</td>\n",
       "    </tr>\n",
       "    <tr>\n",
       "      <th>1929</th>\n",
       "      <td>-1</td>\n",
       "      <td>-1461.303336</td>\n",
       "      <td>38</td>\n",
       "      <td>среднее</td>\n",
       "      <td>1</td>\n",
       "      <td>Не женат / не замужем</td>\n",
       "      <td>4</td>\n",
       "      <td>M</td>\n",
       "      <td>сотрудник</td>\n",
       "      <td>0</td>\n",
       "      <td>109121.569013</td>\n",
       "      <td>покупка жилья</td>\n",
       "    </tr>\n",
       "    <tr>\n",
       "      <th>2073</th>\n",
       "      <td>-1</td>\n",
       "      <td>-2539.761232</td>\n",
       "      <td>42</td>\n",
       "      <td>среднее</td>\n",
       "      <td>1</td>\n",
       "      <td>в разводе</td>\n",
       "      <td>3</td>\n",
       "      <td>F</td>\n",
       "      <td>компаньон</td>\n",
       "      <td>0</td>\n",
       "      <td>162638.609373</td>\n",
       "      <td>покупка жилья</td>\n",
       "    </tr>\n",
       "    <tr>\n",
       "      <th>3814</th>\n",
       "      <td>-1</td>\n",
       "      <td>-3045.290443</td>\n",
       "      <td>26</td>\n",
       "      <td>Среднее</td>\n",
       "      <td>1</td>\n",
       "      <td>гражданский брак</td>\n",
       "      <td>1</td>\n",
       "      <td>F</td>\n",
       "      <td>госслужащий</td>\n",
       "      <td>0</td>\n",
       "      <td>131892.785435</td>\n",
       "      <td>на проведение свадьбы</td>\n",
       "    </tr>\n",
       "    <tr>\n",
       "      <th>4201</th>\n",
       "      <td>-1</td>\n",
       "      <td>-901.101738</td>\n",
       "      <td>41</td>\n",
       "      <td>среднее</td>\n",
       "      <td>1</td>\n",
       "      <td>женат / замужем</td>\n",
       "      <td>0</td>\n",
       "      <td>F</td>\n",
       "      <td>госслужащий</td>\n",
       "      <td>0</td>\n",
       "      <td>226375.766751</td>\n",
       "      <td>операции со своей недвижимостью</td>\n",
       "    </tr>\n",
       "    <tr>\n",
       "      <th>4402</th>\n",
       "      <td>-1</td>\n",
       "      <td>398001.302888</td>\n",
       "      <td>64</td>\n",
       "      <td>СРЕДНЕЕ</td>\n",
       "      <td>1</td>\n",
       "      <td>женат / замужем</td>\n",
       "      <td>0</td>\n",
       "      <td>F</td>\n",
       "      <td>пенсионер</td>\n",
       "      <td>0</td>\n",
       "      <td>163264.062064</td>\n",
       "      <td>покупка недвижимости</td>\n",
       "    </tr>\n",
       "    <tr>\n",
       "      <th>4542</th>\n",
       "      <td>-1</td>\n",
       "      <td>-1811.899756</td>\n",
       "      <td>32</td>\n",
       "      <td>среднее</td>\n",
       "      <td>1</td>\n",
       "      <td>женат / замужем</td>\n",
       "      <td>0</td>\n",
       "      <td>F</td>\n",
       "      <td>сотрудник</td>\n",
       "      <td>0</td>\n",
       "      <td>160544.718446</td>\n",
       "      <td>образование</td>\n",
       "    </tr>\n",
       "    <tr>\n",
       "      <th>5272</th>\n",
       "      <td>-1</td>\n",
       "      <td>-1143.485347</td>\n",
       "      <td>46</td>\n",
       "      <td>среднее</td>\n",
       "      <td>1</td>\n",
       "      <td>вдовец / вдова</td>\n",
       "      <td>2</td>\n",
       "      <td>F</td>\n",
       "      <td>сотрудник</td>\n",
       "      <td>0</td>\n",
       "      <td>278708.018820</td>\n",
       "      <td>покупка недвижимости</td>\n",
       "    </tr>\n",
       "    <tr>\n",
       "      <th>6013</th>\n",
       "      <td>-1</td>\n",
       "      <td>-1361.258696</td>\n",
       "      <td>46</td>\n",
       "      <td>высшее</td>\n",
       "      <td>0</td>\n",
       "      <td>женат / замужем</td>\n",
       "      <td>0</td>\n",
       "      <td>F</td>\n",
       "      <td>сотрудник</td>\n",
       "      <td>0</td>\n",
       "      <td>143008.454914</td>\n",
       "      <td>строительство собственной недвижимости</td>\n",
       "    </tr>\n",
       "    <tr>\n",
       "      <th>6385</th>\n",
       "      <td>-1</td>\n",
       "      <td>370215.476226</td>\n",
       "      <td>48</td>\n",
       "      <td>среднее</td>\n",
       "      <td>1</td>\n",
       "      <td>вдовец / вдова</td>\n",
       "      <td>2</td>\n",
       "      <td>F</td>\n",
       "      <td>пенсионер</td>\n",
       "      <td>0</td>\n",
       "      <td>36052.447435</td>\n",
       "      <td>образование</td>\n",
       "    </tr>\n",
       "    <tr>\n",
       "      <th>7190</th>\n",
       "      <td>-1</td>\n",
       "      <td>-5928.202068</td>\n",
       "      <td>34</td>\n",
       "      <td>СРЕДНЕЕ</td>\n",
       "      <td>1</td>\n",
       "      <td>женат / замужем</td>\n",
       "      <td>0</td>\n",
       "      <td>M</td>\n",
       "      <td>сотрудник</td>\n",
       "      <td>0</td>\n",
       "      <td>184315.121979</td>\n",
       "      <td>приобретение автомобиля</td>\n",
       "    </tr>\n",
       "    <tr>\n",
       "      <th>7278</th>\n",
       "      <td>-1</td>\n",
       "      <td>-526.318451</td>\n",
       "      <td>51</td>\n",
       "      <td>среднее</td>\n",
       "      <td>1</td>\n",
       "      <td>женат / замужем</td>\n",
       "      <td>0</td>\n",
       "      <td>F</td>\n",
       "      <td>сотрудник</td>\n",
       "      <td>0</td>\n",
       "      <td>146928.769439</td>\n",
       "      <td>операции с коммерческой недвижимостью</td>\n",
       "    </tr>\n",
       "    <tr>\n",
       "      <th>7615</th>\n",
       "      <td>-1</td>\n",
       "      <td>0.000000</td>\n",
       "      <td>35</td>\n",
       "      <td>среднее</td>\n",
       "      <td>1</td>\n",
       "      <td>женат / замужем</td>\n",
       "      <td>0</td>\n",
       "      <td>M</td>\n",
       "      <td>сотрудник</td>\n",
       "      <td>0</td>\n",
       "      <td>142594.396847</td>\n",
       "      <td>образование</td>\n",
       "    </tr>\n",
       "    <tr>\n",
       "      <th>7685</th>\n",
       "      <td>-1</td>\n",
       "      <td>-3237.360455</td>\n",
       "      <td>53</td>\n",
       "      <td>среднее</td>\n",
       "      <td>1</td>\n",
       "      <td>вдовец / вдова</td>\n",
       "      <td>2</td>\n",
       "      <td>F</td>\n",
       "      <td>сотрудник</td>\n",
       "      <td>0</td>\n",
       "      <td>159676.174958</td>\n",
       "      <td>строительство жилой недвижимости</td>\n",
       "    </tr>\n",
       "    <tr>\n",
       "      <th>8229</th>\n",
       "      <td>-1</td>\n",
       "      <td>-1803.441074</td>\n",
       "      <td>54</td>\n",
       "      <td>высшее</td>\n",
       "      <td>0</td>\n",
       "      <td>женат / замужем</td>\n",
       "      <td>0</td>\n",
       "      <td>F</td>\n",
       "      <td>компаньон</td>\n",
       "      <td>0</td>\n",
       "      <td>138809.082930</td>\n",
       "      <td>покупка недвижимости</td>\n",
       "    </tr>\n",
       "    <tr>\n",
       "      <th>8251</th>\n",
       "      <td>-1</td>\n",
       "      <td>-3113.998449</td>\n",
       "      <td>31</td>\n",
       "      <td>среднее</td>\n",
       "      <td>1</td>\n",
       "      <td>гражданский брак</td>\n",
       "      <td>1</td>\n",
       "      <td>F</td>\n",
       "      <td>сотрудник</td>\n",
       "      <td>0</td>\n",
       "      <td>54412.056005</td>\n",
       "      <td>свой автомобиль</td>\n",
       "    </tr>\n",
       "    <tr>\n",
       "      <th>8561</th>\n",
       "      <td>-1</td>\n",
       "      <td>-195.479496</td>\n",
       "      <td>31</td>\n",
       "      <td>среднее</td>\n",
       "      <td>1</td>\n",
       "      <td>женат / замужем</td>\n",
       "      <td>0</td>\n",
       "      <td>F</td>\n",
       "      <td>сотрудник</td>\n",
       "      <td>0</td>\n",
       "      <td>145577.881522</td>\n",
       "      <td>ремонт жилью</td>\n",
       "    </tr>\n",
       "    <tr>\n",
       "      <th>9565</th>\n",
       "      <td>-1</td>\n",
       "      <td>-2896.629686</td>\n",
       "      <td>34</td>\n",
       "      <td>высшее</td>\n",
       "      <td>0</td>\n",
       "      <td>женат / замужем</td>\n",
       "      <td>0</td>\n",
       "      <td>M</td>\n",
       "      <td>сотрудник</td>\n",
       "      <td>0</td>\n",
       "      <td>126754.656529</td>\n",
       "      <td>операции с недвижимостью</td>\n",
       "    </tr>\n",
       "    <tr>\n",
       "      <th>9574</th>\n",
       "      <td>-1</td>\n",
       "      <td>-2710.419901</td>\n",
       "      <td>28</td>\n",
       "      <td>высшее</td>\n",
       "      <td>0</td>\n",
       "      <td>женат / замужем</td>\n",
       "      <td>0</td>\n",
       "      <td>M</td>\n",
       "      <td>госслужащий</td>\n",
       "      <td>0</td>\n",
       "      <td>303137.161001</td>\n",
       "      <td>получение дополнительного образования</td>\n",
       "    </tr>\n",
       "    <tr>\n",
       "      <th>10177</th>\n",
       "      <td>-1</td>\n",
       "      <td>-1743.604011</td>\n",
       "      <td>37</td>\n",
       "      <td>среднее</td>\n",
       "      <td>1</td>\n",
       "      <td>женат / замужем</td>\n",
       "      <td>0</td>\n",
       "      <td>M</td>\n",
       "      <td>сотрудник</td>\n",
       "      <td>0</td>\n",
       "      <td>310367.509001</td>\n",
       "      <td>получение образования</td>\n",
       "    </tr>\n",
       "    <tr>\n",
       "      <th>10365</th>\n",
       "      <td>-1</td>\n",
       "      <td>345774.125957</td>\n",
       "      <td>63</td>\n",
       "      <td>ВЫСШЕЕ</td>\n",
       "      <td>0</td>\n",
       "      <td>вдовец / вдова</td>\n",
       "      <td>2</td>\n",
       "      <td>F</td>\n",
       "      <td>пенсионер</td>\n",
       "      <td>0</td>\n",
       "      <td>170762.751325</td>\n",
       "      <td>строительство жилой недвижимости</td>\n",
       "    </tr>\n",
       "    <tr>\n",
       "      <th>10918</th>\n",
       "      <td>-1</td>\n",
       "      <td>340499.039342</td>\n",
       "      <td>50</td>\n",
       "      <td>среднее</td>\n",
       "      <td>1</td>\n",
       "      <td>женат / замужем</td>\n",
       "      <td>0</td>\n",
       "      <td>M</td>\n",
       "      <td>пенсионер</td>\n",
       "      <td>0</td>\n",
       "      <td>170762.773162</td>\n",
       "      <td>покупка своего жилья</td>\n",
       "    </tr>\n",
       "    <tr>\n",
       "      <th>11109</th>\n",
       "      <td>-1</td>\n",
       "      <td>-3438.463024</td>\n",
       "      <td>59</td>\n",
       "      <td>среднее</td>\n",
       "      <td>1</td>\n",
       "      <td>женат / замужем</td>\n",
       "      <td>0</td>\n",
       "      <td>F</td>\n",
       "      <td>сотрудник</td>\n",
       "      <td>0</td>\n",
       "      <td>219874.012345</td>\n",
       "      <td>операции с жильем</td>\n",
       "    </tr>\n",
       "    <tr>\n",
       "      <th>11268</th>\n",
       "      <td>-1</td>\n",
       "      <td>-1048.782203</td>\n",
       "      <td>30</td>\n",
       "      <td>высшее</td>\n",
       "      <td>0</td>\n",
       "      <td>гражданский брак</td>\n",
       "      <td>1</td>\n",
       "      <td>F</td>\n",
       "      <td>компаньон</td>\n",
       "      <td>0</td>\n",
       "      <td>321603.700207</td>\n",
       "      <td>на покупку автомобиля</td>\n",
       "    </tr>\n",
       "    <tr>\n",
       "      <th>11617</th>\n",
       "      <td>-1</td>\n",
       "      <td>-370.827130</td>\n",
       "      <td>27</td>\n",
       "      <td>среднее</td>\n",
       "      <td>1</td>\n",
       "      <td>женат / замужем</td>\n",
       "      <td>0</td>\n",
       "      <td>F</td>\n",
       "      <td>компаньон</td>\n",
       "      <td>0</td>\n",
       "      <td>164591.260338</td>\n",
       "      <td>покупка жилья для сдачи</td>\n",
       "    </tr>\n",
       "    <tr>\n",
       "      <th>12304</th>\n",
       "      <td>-1</td>\n",
       "      <td>-8493.101252</td>\n",
       "      <td>61</td>\n",
       "      <td>неоконченное высшее</td>\n",
       "      <td>2</td>\n",
       "      <td>женат / замужем</td>\n",
       "      <td>0</td>\n",
       "      <td>M</td>\n",
       "      <td>сотрудник</td>\n",
       "      <td>0</td>\n",
       "      <td>315006.182056</td>\n",
       "      <td>недвижимость</td>\n",
       "    </tr>\n",
       "    <tr>\n",
       "      <th>13786</th>\n",
       "      <td>-1</td>\n",
       "      <td>0.000000</td>\n",
       "      <td>42</td>\n",
       "      <td>среднее</td>\n",
       "      <td>1</td>\n",
       "      <td>Не женат / не замужем</td>\n",
       "      <td>4</td>\n",
       "      <td>M</td>\n",
       "      <td>компаньон</td>\n",
       "      <td>0</td>\n",
       "      <td>172357.950966</td>\n",
       "      <td>автомобиль</td>\n",
       "    </tr>\n",
       "    <tr>\n",
       "      <th>14357</th>\n",
       "      <td>-1</td>\n",
       "      <td>-268.337037</td>\n",
       "      <td>23</td>\n",
       "      <td>среднее</td>\n",
       "      <td>1</td>\n",
       "      <td>в разводе</td>\n",
       "      <td>3</td>\n",
       "      <td>F</td>\n",
       "      <td>компаньон</td>\n",
       "      <td>0</td>\n",
       "      <td>92257.579312</td>\n",
       "      <td>покупка жилой недвижимости</td>\n",
       "    </tr>\n",
       "    <tr>\n",
       "      <th>15147</th>\n",
       "      <td>-1</td>\n",
       "      <td>-9851.184337</td>\n",
       "      <td>44</td>\n",
       "      <td>среднее</td>\n",
       "      <td>1</td>\n",
       "      <td>в разводе</td>\n",
       "      <td>3</td>\n",
       "      <td>F</td>\n",
       "      <td>сотрудник</td>\n",
       "      <td>0</td>\n",
       "      <td>110990.810581</td>\n",
       "      <td>свой автомобиль</td>\n",
       "    </tr>\n",
       "    <tr>\n",
       "      <th>15435</th>\n",
       "      <td>-1</td>\n",
       "      <td>-3614.220232</td>\n",
       "      <td>40</td>\n",
       "      <td>высшее</td>\n",
       "      <td>0</td>\n",
       "      <td>гражданский брак</td>\n",
       "      <td>1</td>\n",
       "      <td>F</td>\n",
       "      <td>сотрудник</td>\n",
       "      <td>0</td>\n",
       "      <td>98127.537462</td>\n",
       "      <td>сыграть свадьбу</td>\n",
       "    </tr>\n",
       "    <tr>\n",
       "      <th>16129</th>\n",
       "      <td>-1</td>\n",
       "      <td>-457.861760</td>\n",
       "      <td>33</td>\n",
       "      <td>среднее</td>\n",
       "      <td>1</td>\n",
       "      <td>женат / замужем</td>\n",
       "      <td>0</td>\n",
       "      <td>F</td>\n",
       "      <td>сотрудник</td>\n",
       "      <td>1</td>\n",
       "      <td>149641.079451</td>\n",
       "      <td>автомобиль</td>\n",
       "    </tr>\n",
       "    <tr>\n",
       "      <th>16265</th>\n",
       "      <td>-1</td>\n",
       "      <td>-2802.218127</td>\n",
       "      <td>40</td>\n",
       "      <td>высшее</td>\n",
       "      <td>0</td>\n",
       "      <td>женат / замужем</td>\n",
       "      <td>0</td>\n",
       "      <td>M</td>\n",
       "      <td>сотрудник</td>\n",
       "      <td>0</td>\n",
       "      <td>111984.472021</td>\n",
       "      <td>покупка жилья</td>\n",
       "    </tr>\n",
       "    <tr>\n",
       "      <th>17095</th>\n",
       "      <td>-1</td>\n",
       "      <td>-2809.693200</td>\n",
       "      <td>34</td>\n",
       "      <td>среднее</td>\n",
       "      <td>1</td>\n",
       "      <td>женат / замужем</td>\n",
       "      <td>0</td>\n",
       "      <td>F</td>\n",
       "      <td>сотрудник</td>\n",
       "      <td>0</td>\n",
       "      <td>182543.890127</td>\n",
       "      <td>на покупку подержанного автомобиля</td>\n",
       "    </tr>\n",
       "    <tr>\n",
       "      <th>17429</th>\n",
       "      <td>-1</td>\n",
       "      <td>-895.379738</td>\n",
       "      <td>37</td>\n",
       "      <td>среднее</td>\n",
       "      <td>1</td>\n",
       "      <td>женат / замужем</td>\n",
       "      <td>0</td>\n",
       "      <td>F</td>\n",
       "      <td>компаньон</td>\n",
       "      <td>0</td>\n",
       "      <td>214814.018780</td>\n",
       "      <td>жилье</td>\n",
       "    </tr>\n",
       "    <tr>\n",
       "      <th>17657</th>\n",
       "      <td>-1</td>\n",
       "      <td>-4571.957475</td>\n",
       "      <td>41</td>\n",
       "      <td>среднее</td>\n",
       "      <td>1</td>\n",
       "      <td>женат / замужем</td>\n",
       "      <td>0</td>\n",
       "      <td>F</td>\n",
       "      <td>сотрудник</td>\n",
       "      <td>0</td>\n",
       "      <td>122105.415823</td>\n",
       "      <td>операции со своей недвижимостью</td>\n",
       "    </tr>\n",
       "    <tr>\n",
       "      <th>18219</th>\n",
       "      <td>-1</td>\n",
       "      <td>-3575.215641</td>\n",
       "      <td>33</td>\n",
       "      <td>среднее</td>\n",
       "      <td>1</td>\n",
       "      <td>женат / замужем</td>\n",
       "      <td>0</td>\n",
       "      <td>F</td>\n",
       "      <td>сотрудник</td>\n",
       "      <td>0</td>\n",
       "      <td>128362.023879</td>\n",
       "      <td>высшее образование</td>\n",
       "    </tr>\n",
       "    <tr>\n",
       "      <th>19100</th>\n",
       "      <td>-1</td>\n",
       "      <td>-617.246968</td>\n",
       "      <td>38</td>\n",
       "      <td>среднее</td>\n",
       "      <td>1</td>\n",
       "      <td>Не женат / не замужем</td>\n",
       "      <td>4</td>\n",
       "      <td>M</td>\n",
       "      <td>сотрудник</td>\n",
       "      <td>0</td>\n",
       "      <td>122205.497527</td>\n",
       "      <td>строительство жилой недвижимости</td>\n",
       "    </tr>\n",
       "    <tr>\n",
       "      <th>19366</th>\n",
       "      <td>-1</td>\n",
       "      <td>-372.034749</td>\n",
       "      <td>43</td>\n",
       "      <td>СРЕДНЕЕ</td>\n",
       "      <td>1</td>\n",
       "      <td>женат / замужем</td>\n",
       "      <td>0</td>\n",
       "      <td>M</td>\n",
       "      <td>сотрудник</td>\n",
       "      <td>0</td>\n",
       "      <td>155588.766795</td>\n",
       "      <td>сделка с подержанным автомобилем</td>\n",
       "    </tr>\n",
       "    <tr>\n",
       "      <th>19417</th>\n",
       "      <td>-1</td>\n",
       "      <td>350340.760224</td>\n",
       "      <td>28</td>\n",
       "      <td>среднее</td>\n",
       "      <td>1</td>\n",
       "      <td>в разводе</td>\n",
       "      <td>3</td>\n",
       "      <td>F</td>\n",
       "      <td>пенсионер</td>\n",
       "      <td>0</td>\n",
       "      <td>52872.993654</td>\n",
       "      <td>автомобили</td>\n",
       "    </tr>\n",
       "    <tr>\n",
       "      <th>20393</th>\n",
       "      <td>-1</td>\n",
       "      <td>355157.107212</td>\n",
       "      <td>69</td>\n",
       "      <td>среднее</td>\n",
       "      <td>1</td>\n",
       "      <td>Не женат / не замужем</td>\n",
       "      <td>4</td>\n",
       "      <td>F</td>\n",
       "      <td>пенсионер</td>\n",
       "      <td>0</td>\n",
       "      <td>116521.045858</td>\n",
       "      <td>операции с недвижимостью</td>\n",
       "    </tr>\n",
       "    <tr>\n",
       "      <th>20717</th>\n",
       "      <td>-1</td>\n",
       "      <td>-661.822321</td>\n",
       "      <td>32</td>\n",
       "      <td>высшее</td>\n",
       "      <td>0</td>\n",
       "      <td>женат / замужем</td>\n",
       "      <td>0</td>\n",
       "      <td>F</td>\n",
       "      <td>сотрудник</td>\n",
       "      <td>0</td>\n",
       "      <td>137405.384917</td>\n",
       "      <td>покупка жилой недвижимости</td>\n",
       "    </tr>\n",
       "    <tr>\n",
       "      <th>21140</th>\n",
       "      <td>-1</td>\n",
       "      <td>-1422.668059</td>\n",
       "      <td>44</td>\n",
       "      <td>среднее</td>\n",
       "      <td>1</td>\n",
       "      <td>женат / замужем</td>\n",
       "      <td>0</td>\n",
       "      <td>F</td>\n",
       "      <td>компаньон</td>\n",
       "      <td>0</td>\n",
       "      <td>169562.091999</td>\n",
       "      <td>операции со своей недвижимостью</td>\n",
       "    </tr>\n",
       "  </tbody>\n",
       "</table>\n",
       "</div>"
      ],
      "text/plain": [
       "       children  days_employed  dob_years            education  education_id  \\\n",
       "291          -1   -4417.703588         46              среднее             1   \n",
       "705          -1    -902.084528         50              среднее             1   \n",
       "742          -1   -3174.456205         57              среднее             1   \n",
       "800          -1  349987.852217         54              среднее             1   \n",
       "941          -1       0.000000         57              Среднее             1   \n",
       "1363         -1   -1195.264956         55              СРЕДНЕЕ             1   \n",
       "1929         -1   -1461.303336         38              среднее             1   \n",
       "2073         -1   -2539.761232         42              среднее             1   \n",
       "3814         -1   -3045.290443         26              Среднее             1   \n",
       "4201         -1    -901.101738         41              среднее             1   \n",
       "4402         -1  398001.302888         64              СРЕДНЕЕ             1   \n",
       "4542         -1   -1811.899756         32              среднее             1   \n",
       "5272         -1   -1143.485347         46              среднее             1   \n",
       "6013         -1   -1361.258696         46               высшее             0   \n",
       "6385         -1  370215.476226         48              среднее             1   \n",
       "7190         -1   -5928.202068         34              СРЕДНЕЕ             1   \n",
       "7278         -1    -526.318451         51              среднее             1   \n",
       "7615         -1       0.000000         35              среднее             1   \n",
       "7685         -1   -3237.360455         53              среднее             1   \n",
       "8229         -1   -1803.441074         54               высшее             0   \n",
       "8251         -1   -3113.998449         31              среднее             1   \n",
       "8561         -1    -195.479496         31              среднее             1   \n",
       "9565         -1   -2896.629686         34               высшее             0   \n",
       "9574         -1   -2710.419901         28               высшее             0   \n",
       "10177        -1   -1743.604011         37              среднее             1   \n",
       "10365        -1  345774.125957         63               ВЫСШЕЕ             0   \n",
       "10918        -1  340499.039342         50              среднее             1   \n",
       "11109        -1   -3438.463024         59              среднее             1   \n",
       "11268        -1   -1048.782203         30               высшее             0   \n",
       "11617        -1    -370.827130         27              среднее             1   \n",
       "12304        -1   -8493.101252         61  неоконченное высшее             2   \n",
       "13786        -1       0.000000         42              среднее             1   \n",
       "14357        -1    -268.337037         23              среднее             1   \n",
       "15147        -1   -9851.184337         44              среднее             1   \n",
       "15435        -1   -3614.220232         40               высшее             0   \n",
       "16129        -1    -457.861760         33              среднее             1   \n",
       "16265        -1   -2802.218127         40               высшее             0   \n",
       "17095        -1   -2809.693200         34              среднее             1   \n",
       "17429        -1    -895.379738         37              среднее             1   \n",
       "17657        -1   -4571.957475         41              среднее             1   \n",
       "18219        -1   -3575.215641         33              среднее             1   \n",
       "19100        -1    -617.246968         38              среднее             1   \n",
       "19366        -1    -372.034749         43              СРЕДНЕЕ             1   \n",
       "19417        -1  350340.760224         28              среднее             1   \n",
       "20393        -1  355157.107212         69              среднее             1   \n",
       "20717        -1    -661.822321         32               высшее             0   \n",
       "21140        -1   -1422.668059         44              среднее             1   \n",
       "\n",
       "               family_status  family_status_id gender  income_type  debt  \\\n",
       "291         гражданский брак                 1      F    сотрудник     0   \n",
       "705          женат / замужем                 0      F  госслужащий     0   \n",
       "742          женат / замужем                 0      F    сотрудник     0   \n",
       "800    Не женат / не замужем                 4      F    пенсионер     0   \n",
       "941          женат / замужем                 0      F    пенсионер     0   \n",
       "1363         женат / замужем                 0      F    компаньон     0   \n",
       "1929   Не женат / не замужем                 4      M    сотрудник     0   \n",
       "2073               в разводе                 3      F    компаньон     0   \n",
       "3814        гражданский брак                 1      F  госслужащий     0   \n",
       "4201         женат / замужем                 0      F  госслужащий     0   \n",
       "4402         женат / замужем                 0      F    пенсионер     0   \n",
       "4542         женат / замужем                 0      F    сотрудник     0   \n",
       "5272          вдовец / вдова                 2      F    сотрудник     0   \n",
       "6013         женат / замужем                 0      F    сотрудник     0   \n",
       "6385          вдовец / вдова                 2      F    пенсионер     0   \n",
       "7190         женат / замужем                 0      M    сотрудник     0   \n",
       "7278         женат / замужем                 0      F    сотрудник     0   \n",
       "7615         женат / замужем                 0      M    сотрудник     0   \n",
       "7685          вдовец / вдова                 2      F    сотрудник     0   \n",
       "8229         женат / замужем                 0      F    компаньон     0   \n",
       "8251        гражданский брак                 1      F    сотрудник     0   \n",
       "8561         женат / замужем                 0      F    сотрудник     0   \n",
       "9565         женат / замужем                 0      M    сотрудник     0   \n",
       "9574         женат / замужем                 0      M  госслужащий     0   \n",
       "10177        женат / замужем                 0      M    сотрудник     0   \n",
       "10365         вдовец / вдова                 2      F    пенсионер     0   \n",
       "10918        женат / замужем                 0      M    пенсионер     0   \n",
       "11109        женат / замужем                 0      F    сотрудник     0   \n",
       "11268       гражданский брак                 1      F    компаньон     0   \n",
       "11617        женат / замужем                 0      F    компаньон     0   \n",
       "12304        женат / замужем                 0      M    сотрудник     0   \n",
       "13786  Не женат / не замужем                 4      M    компаньон     0   \n",
       "14357              в разводе                 3      F    компаньон     0   \n",
       "15147              в разводе                 3      F    сотрудник     0   \n",
       "15435       гражданский брак                 1      F    сотрудник     0   \n",
       "16129        женат / замужем                 0      F    сотрудник     1   \n",
       "16265        женат / замужем                 0      M    сотрудник     0   \n",
       "17095        женат / замужем                 0      F    сотрудник     0   \n",
       "17429        женат / замужем                 0      F    компаньон     0   \n",
       "17657        женат / замужем                 0      F    сотрудник     0   \n",
       "18219        женат / замужем                 0      F    сотрудник     0   \n",
       "19100  Не женат / не замужем                 4      M    сотрудник     0   \n",
       "19366        женат / замужем                 0      M    сотрудник     0   \n",
       "19417              в разводе                 3      F    пенсионер     0   \n",
       "20393  Не женат / не замужем                 4      F    пенсионер     0   \n",
       "20717        женат / замужем                 0      F    сотрудник     0   \n",
       "21140        женат / замужем                 0      F    компаньон     0   \n",
       "\n",
       "        total_income                                 purpose  \n",
       "291    102816.346412                  профильное образование  \n",
       "705    137882.899271                 приобретение автомобиля  \n",
       "742     64268.044444              дополнительное образование  \n",
       "800     86293.724153              дополнительное образование  \n",
       "941    118514.486412            на покупку своего автомобиля  \n",
       "1363    69550.699692                  профильное образование  \n",
       "1929   109121.569013                           покупка жилья  \n",
       "2073   162638.609373                           покупка жилья  \n",
       "3814   131892.785435                   на проведение свадьбы  \n",
       "4201   226375.766751         операции со своей недвижимостью  \n",
       "4402   163264.062064                    покупка недвижимости  \n",
       "4542   160544.718446                             образование  \n",
       "5272   278708.018820                    покупка недвижимости  \n",
       "6013   143008.454914  строительство собственной недвижимости  \n",
       "6385    36052.447435                             образование  \n",
       "7190   184315.121979                 приобретение автомобиля  \n",
       "7278   146928.769439   операции с коммерческой недвижимостью  \n",
       "7615   142594.396847                             образование  \n",
       "7685   159676.174958        строительство жилой недвижимости  \n",
       "8229   138809.082930                    покупка недвижимости  \n",
       "8251    54412.056005                         свой автомобиль  \n",
       "8561   145577.881522                            ремонт жилью  \n",
       "9565   126754.656529                операции с недвижимостью  \n",
       "9574   303137.161001   получение дополнительного образования  \n",
       "10177  310367.509001                   получение образования  \n",
       "10365  170762.751325        строительство жилой недвижимости  \n",
       "10918  170762.773162                    покупка своего жилья  \n",
       "11109  219874.012345                       операции с жильем  \n",
       "11268  321603.700207                   на покупку автомобиля  \n",
       "11617  164591.260338                 покупка жилья для сдачи  \n",
       "12304  315006.182056                            недвижимость  \n",
       "13786  172357.950966                              автомобиль  \n",
       "14357   92257.579312              покупка жилой недвижимости  \n",
       "15147  110990.810581                         свой автомобиль  \n",
       "15435   98127.537462                         сыграть свадьбу  \n",
       "16129  149641.079451                              автомобиль  \n",
       "16265  111984.472021                           покупка жилья  \n",
       "17095  182543.890127      на покупку подержанного автомобиля  \n",
       "17429  214814.018780                                   жилье  \n",
       "17657  122105.415823         операции со своей недвижимостью  \n",
       "18219  128362.023879                      высшее образование  \n",
       "19100  122205.497527        строительство жилой недвижимости  \n",
       "19366  155588.766795        сделка с подержанным автомобилем  \n",
       "19417   52872.993654                              автомобили  \n",
       "20393  116521.045858                операции с недвижимостью  \n",
       "20717  137405.384917              покупка жилой недвижимости  \n",
       "21140  169562.091999         операции со своей недвижимостью  "
      ]
     },
     "execution_count": 7,
     "metadata": {},
     "output_type": "execute_result"
    }
   ],
   "source": [
    "# анализ данных таблицы в строках, имеющих в столбце 'children' отрицательное значение - \"-1\"\n",
    "data[data['children'] == -1]"
   ]
  },
  {
   "cell_type": "code",
   "execution_count": 8,
   "metadata": {},
   "outputs": [
    {
     "data": {
      "text/plain": [
       "0     14149\n",
       "1      4818\n",
       "2      2055\n",
       "3       330\n",
       "20       76\n",
       "4        41\n",
       "5         9\n",
       "Name: children, dtype: int64"
      ]
     },
     "execution_count": 8,
     "metadata": {},
     "output_type": "execute_result"
    }
   ],
   "source": [
    "# удаление строк с отрицательными значениями в столбце 'children'\n",
    "data = data.query('children != -1')\n",
    "# проверка\n",
    "data['children'].value_counts()"
   ]
  },
  {
   "cell_type": "code",
   "execution_count": 9,
   "metadata": {},
   "outputs": [
    {
     "data": {
      "text/plain": [
       "F      14201\n",
       "M       7276\n",
       "XNA        1\n",
       "Name: gender, dtype: int64"
      ]
     },
     "execution_count": 9,
     "metadata": {},
     "output_type": "execute_result"
    }
   ],
   "source": [
    "# поиск нестандартных данных в столбце 'gender'\n",
    "data['gender'].value_counts()"
   ]
  },
  {
   "cell_type": "code",
   "execution_count": 10,
   "metadata": {},
   "outputs": [
    {
     "data": {
      "text/html": [
       "<div>\n",
       "<style scoped>\n",
       "    .dataframe tbody tr th:only-of-type {\n",
       "        vertical-align: middle;\n",
       "    }\n",
       "\n",
       "    .dataframe tbody tr th {\n",
       "        vertical-align: top;\n",
       "    }\n",
       "\n",
       "    .dataframe thead th {\n",
       "        text-align: right;\n",
       "    }\n",
       "</style>\n",
       "<table border=\"1\" class=\"dataframe\">\n",
       "  <thead>\n",
       "    <tr style=\"text-align: right;\">\n",
       "      <th></th>\n",
       "      <th>children</th>\n",
       "      <th>days_employed</th>\n",
       "      <th>dob_years</th>\n",
       "      <th>education</th>\n",
       "      <th>education_id</th>\n",
       "      <th>family_status</th>\n",
       "      <th>family_status_id</th>\n",
       "      <th>gender</th>\n",
       "      <th>income_type</th>\n",
       "      <th>debt</th>\n",
       "      <th>total_income</th>\n",
       "      <th>purpose</th>\n",
       "    </tr>\n",
       "  </thead>\n",
       "  <tbody>\n",
       "    <tr>\n",
       "      <th>10701</th>\n",
       "      <td>0</td>\n",
       "      <td>-2358.600502</td>\n",
       "      <td>24</td>\n",
       "      <td>неоконченное высшее</td>\n",
       "      <td>2</td>\n",
       "      <td>гражданский брак</td>\n",
       "      <td>1</td>\n",
       "      <td>XNA</td>\n",
       "      <td>компаньон</td>\n",
       "      <td>0</td>\n",
       "      <td>203905.157261</td>\n",
       "      <td>покупка недвижимости</td>\n",
       "    </tr>\n",
       "  </tbody>\n",
       "</table>\n",
       "</div>"
      ],
      "text/plain": [
       "       children  days_employed  dob_years            education  education_id  \\\n",
       "10701         0   -2358.600502         24  неоконченное высшее             2   \n",
       "\n",
       "          family_status  family_status_id gender income_type  debt  \\\n",
       "10701  гражданский брак                 1    XNA   компаньон     0   \n",
       "\n",
       "        total_income               purpose  \n",
       "10701  203905.157261  покупка недвижимости  "
      ]
     },
     "execution_count": 10,
     "metadata": {},
     "output_type": "execute_result"
    }
   ],
   "source": [
    "# анализ данных таблицы в строках, имеющих в столбце 'gender' значение \"XNA\"\n",
    "data[data['gender'] == 'XNA']"
   ]
  },
  {
   "cell_type": "code",
   "execution_count": 11,
   "metadata": {},
   "outputs": [
    {
     "data": {
      "text/plain": [
       "F    14201\n",
       "M     7276\n",
       "Name: gender, dtype: int64"
      ]
     },
     "execution_count": 11,
     "metadata": {},
     "output_type": "execute_result"
    }
   ],
   "source": [
    "# удаление строк со значением \"XNA\" в столбце 'gender'\n",
    "data = data.query('gender != \"XNA\"')\n",
    "# проверка\n",
    "data['gender'].value_counts()"
   ]
  },
  {
   "cell_type": "markdown",
   "metadata": {},
   "source": [
    "<div class=\"alert alert-success\"> \n",
    "    \n",
    "**Пропущенные значения**  \n",
    "\n",
    "Пропущенные значения выявлены в двух столбцах 'days_employed' и 'total_income'. Вместо информации об общем трудовом стаже в днях и ежемесячном доходе видим NaN.\n",
    "\n",
    "Скорее всего, информация отсутствует в связи с тем, что человек не предоставляет данные о доходе и стаже. Подтверждение стажа и платежеспособности не нужно, если сумма кредита небольшая. Либо это ошибка при сборе данных, но так как одновременно отсутствует информация о трудовом стаже и доходе, то, наверно, всё-таки первое.\n",
    "\n",
    "Для заполнение пропущенных значений используем метод fillna(). Пропущенные значения не удаляются, так как это приведет к исчезновению других данных в строках, содержащих NaN (данные о детях и семейном положении), что составит 10%. Это может оказаться существенным для результатов исследования.  \n",
    "\n",
    "\n",
    "**Иные значения, выпадающие из общего перечня**  \n",
    "\n",
    "Были обнаружены отрицательные значения в двух стоолбцах: 'children' и 'days_employed'. Кроме того, было найдено одно нетрадиционное значение в столбце 'gender'.\n",
    "\n",
    "Каких либо закономерностей при анализе этих данных выявлено не было. Как кажется, наличие отрицательных значений в столбце 'days_employed' может быть связано с ошибкой сбора данных. Наличие одного и того же отрицательного значения в столбце 'children' можно объяснить возможной заменой отсутствующих значений значением '-1'. Значение 'XNA' в столбце 'gender', как кажется, тоже связано с ошибкой при сборе данных.\n",
    "\n",
    "Поскольку количество иных значений в столбцах 'children' и 'gender' не превышает даже 1%, они были удалены. Отрицательные значения в столбце 'days_employed' оставлены, так как их процент достаточно велик и их удаление может существенно повлиять на результаты исследования. Трансформации они также не были подвергнуты, потому что для исследовательских задач в данном случае не нужны."
   ]
  },
  {
   "cell_type": "markdown",
   "metadata": {},
   "source": [
    "### 1.4. Работа с типами данных"
   ]
  },
  {
   "cell_type": "markdown",
   "metadata": {},
   "source": [
    "<div class=\"alert alert-success\">\n",
    "    \n",
    "Как уже было сказано выше, в таблице присутствует 7 столбцов с количественной информацией, в которых два столбца имеют вещественные данные. Если для столбца с доходом вещественные значения приемлемы, то для столбца с количеством дней - нет. Мы не можем анализировать половину или четверть дня. Поэтому в столбце с информацией об общем трудовом стаже в днях ('days_employed') вещественные значения заменяются нами на целочисленные. Также изменяется тип данных для столбца 'total_income', поскольку для дальнейшей категоризации данных в этом столбце удобнее работать с целыми суммами.\n",
    "\n",
    "Для изменения типа данных используется метод astype(). С помощью него мы можем указать конкретный тип данных, в который хотим преобразовать информацию в столбце."
   ]
  },
  {
   "cell_type": "code",
   "execution_count": 12,
   "metadata": {},
   "outputs": [
    {
     "name": "stdout",
     "output_type": "stream",
     "text": [
      "<class 'pandas.core.frame.DataFrame'>\n",
      "Int64Index: 21477 entries, 0 to 21524\n",
      "Data columns (total 12 columns):\n",
      " #   Column            Non-Null Count  Dtype \n",
      "---  ------            --------------  ----- \n",
      " 0   children          21477 non-null  int64 \n",
      " 1   days_employed     21477 non-null  int32 \n",
      " 2   dob_years         21477 non-null  int64 \n",
      " 3   education         21477 non-null  object\n",
      " 4   education_id      21477 non-null  int64 \n",
      " 5   family_status     21477 non-null  object\n",
      " 6   family_status_id  21477 non-null  int64 \n",
      " 7   gender            21477 non-null  object\n",
      " 8   income_type       21477 non-null  object\n",
      " 9   debt              21477 non-null  int64 \n",
      " 10  total_income      21477 non-null  int32 \n",
      " 11  purpose           21477 non-null  object\n",
      "dtypes: int32(2), int64(5), object(5)\n",
      "memory usage: 2.0+ MB\n"
     ]
    }
   ],
   "source": [
    "# замена типа данных в стобцах 'days_employed' и 'total_income'\n",
    "data[['days_employed', 'total_income']] = data[['days_employed', 'total_income']].astype('int')\n",
    "\n",
    "# проверка\n",
    "data.info()"
   ]
  },
  {
   "cell_type": "markdown",
   "metadata": {},
   "source": [
    "### 1.5. Обработка дубликатов"
   ]
  },
  {
   "cell_type": "code",
   "execution_count": 13,
   "metadata": {},
   "outputs": [
    {
     "data": {
      "text/plain": [
       "среднее                13719\n",
       "высшее                  4710\n",
       "СРЕДНЕЕ                  768\n",
       "Среднее                  709\n",
       "неоконченное высшее      666\n",
       "ВЫСШЕЕ                   273\n",
       "Высшее                   268\n",
       "начальное                250\n",
       "Неоконченное высшее       47\n",
       "НЕОКОНЧЕННОЕ ВЫСШЕЕ       29\n",
       "НАЧАЛЬНОЕ                 17\n",
       "Начальное                 15\n",
       "ученая степень             4\n",
       "Ученая степень             1\n",
       "УЧЕНАЯ СТЕПЕНЬ             1\n",
       "Name: education, dtype: int64"
      ]
     },
     "execution_count": 13,
     "metadata": {},
     "output_type": "execute_result"
    }
   ],
   "source": [
    "# поиск дубликатов в столбце 'education'\n",
    "data['education'].value_counts()"
   ]
  },
  {
   "cell_type": "code",
   "execution_count": 14,
   "metadata": {},
   "outputs": [
    {
     "data": {
      "text/plain": [
       "среднее                15196\n",
       "высшее                  5251\n",
       "неоконченное высшее      742\n",
       "начальное                282\n",
       "ученая степень             6\n",
       "Name: education, dtype: int64"
      ]
     },
     "execution_count": 14,
     "metadata": {},
     "output_type": "execute_result"
    }
   ],
   "source": [
    "# сохраняем список наименований в нижнем регистре\n",
    "data['education'] = data['education'].str.lower()\n",
    "data['family_status'] = data['family_status'].str.lower()\n",
    "# проверка\n",
    "data['education'].value_counts()"
   ]
  },
  {
   "cell_type": "code",
   "execution_count": 15,
   "metadata": {},
   "outputs": [
    {
     "data": {
      "text/plain": [
       "71"
      ]
     },
     "execution_count": 15,
     "metadata": {},
     "output_type": "execute_result"
    }
   ],
   "source": [
    "# поиск полных дубликатов и их подсчет\n",
    "data.duplicated().sum()"
   ]
  },
  {
   "cell_type": "code",
   "execution_count": 16,
   "metadata": {},
   "outputs": [
    {
     "data": {
      "text/html": [
       "<div>\n",
       "<style scoped>\n",
       "    .dataframe tbody tr th:only-of-type {\n",
       "        vertical-align: middle;\n",
       "    }\n",
       "\n",
       "    .dataframe tbody tr th {\n",
       "        vertical-align: top;\n",
       "    }\n",
       "\n",
       "    .dataframe thead th {\n",
       "        text-align: right;\n",
       "    }\n",
       "</style>\n",
       "<table border=\"1\" class=\"dataframe\">\n",
       "  <thead>\n",
       "    <tr style=\"text-align: right;\">\n",
       "      <th></th>\n",
       "      <th>children</th>\n",
       "      <th>days_employed</th>\n",
       "      <th>dob_years</th>\n",
       "      <th>education</th>\n",
       "      <th>education_id</th>\n",
       "      <th>family_status</th>\n",
       "      <th>family_status_id</th>\n",
       "      <th>gender</th>\n",
       "      <th>income_type</th>\n",
       "      <th>debt</th>\n",
       "      <th>total_income</th>\n",
       "      <th>purpose</th>\n",
       "    </tr>\n",
       "  </thead>\n",
       "  <tbody>\n",
       "    <tr>\n",
       "      <th>120</th>\n",
       "      <td>0</td>\n",
       "      <td>0</td>\n",
       "      <td>46</td>\n",
       "      <td>среднее</td>\n",
       "      <td>1</td>\n",
       "      <td>женат / замужем</td>\n",
       "      <td>0</td>\n",
       "      <td>F</td>\n",
       "      <td>сотрудник</td>\n",
       "      <td>0</td>\n",
       "      <td>142594</td>\n",
       "      <td>высшее образование</td>\n",
       "    </tr>\n",
       "    <tr>\n",
       "      <th>9009</th>\n",
       "      <td>0</td>\n",
       "      <td>0</td>\n",
       "      <td>46</td>\n",
       "      <td>среднее</td>\n",
       "      <td>1</td>\n",
       "      <td>женат / замужем</td>\n",
       "      <td>0</td>\n",
       "      <td>F</td>\n",
       "      <td>сотрудник</td>\n",
       "      <td>0</td>\n",
       "      <td>142594</td>\n",
       "      <td>свой автомобиль</td>\n",
       "    </tr>\n",
       "    <tr>\n",
       "      <th>9748</th>\n",
       "      <td>0</td>\n",
       "      <td>0</td>\n",
       "      <td>46</td>\n",
       "      <td>среднее</td>\n",
       "      <td>1</td>\n",
       "      <td>гражданский брак</td>\n",
       "      <td>1</td>\n",
       "      <td>F</td>\n",
       "      <td>сотрудник</td>\n",
       "      <td>0</td>\n",
       "      <td>142594</td>\n",
       "      <td>покупка жилья для сдачи</td>\n",
       "    </tr>\n",
       "    <tr>\n",
       "      <th>14728</th>\n",
       "      <td>0</td>\n",
       "      <td>0</td>\n",
       "      <td>46</td>\n",
       "      <td>среднее</td>\n",
       "      <td>1</td>\n",
       "      <td>гражданский брак</td>\n",
       "      <td>1</td>\n",
       "      <td>F</td>\n",
       "      <td>сотрудник</td>\n",
       "      <td>0</td>\n",
       "      <td>142594</td>\n",
       "      <td>покупка жилья для сдачи</td>\n",
       "    </tr>\n",
       "    <tr>\n",
       "      <th>16378</th>\n",
       "      <td>0</td>\n",
       "      <td>0</td>\n",
       "      <td>46</td>\n",
       "      <td>среднее</td>\n",
       "      <td>1</td>\n",
       "      <td>женат / замужем</td>\n",
       "      <td>0</td>\n",
       "      <td>F</td>\n",
       "      <td>сотрудник</td>\n",
       "      <td>0</td>\n",
       "      <td>142594</td>\n",
       "      <td>высшее образование</td>\n",
       "    </tr>\n",
       "    <tr>\n",
       "      <th>19184</th>\n",
       "      <td>0</td>\n",
       "      <td>0</td>\n",
       "      <td>46</td>\n",
       "      <td>среднее</td>\n",
       "      <td>1</td>\n",
       "      <td>женат / замужем</td>\n",
       "      <td>0</td>\n",
       "      <td>F</td>\n",
       "      <td>сотрудник</td>\n",
       "      <td>0</td>\n",
       "      <td>142594</td>\n",
       "      <td>свой автомобиль</td>\n",
       "    </tr>\n",
       "  </tbody>\n",
       "</table>\n",
       "</div>"
      ],
      "text/plain": [
       "       children  days_employed  dob_years education  education_id  \\\n",
       "120           0              0         46   среднее             1   \n",
       "9009          0              0         46   среднее             1   \n",
       "9748          0              0         46   среднее             1   \n",
       "14728         0              0         46   среднее             1   \n",
       "16378         0              0         46   среднее             1   \n",
       "19184         0              0         46   среднее             1   \n",
       "\n",
       "          family_status  family_status_id gender income_type  debt  \\\n",
       "120     женат / замужем                 0      F   сотрудник     0   \n",
       "9009    женат / замужем                 0      F   сотрудник     0   \n",
       "9748   гражданский брак                 1      F   сотрудник     0   \n",
       "14728  гражданский брак                 1      F   сотрудник     0   \n",
       "16378   женат / замужем                 0      F   сотрудник     0   \n",
       "19184   женат / замужем                 0      F   сотрудник     0   \n",
       "\n",
       "       total_income                  purpose  \n",
       "120          142594       высшее образование  \n",
       "9009         142594          свой автомобиль  \n",
       "9748         142594  покупка жилья для сдачи  \n",
       "14728        142594  покупка жилья для сдачи  \n",
       "16378        142594       высшее образование  \n",
       "19184        142594          свой автомобиль  "
      ]
     },
     "execution_count": 16,
     "metadata": {},
     "output_type": "execute_result"
    }
   ],
   "source": [
    "# анализ дублируемых строк\n",
    "data1 = data[data.duplicated(keep=False)]\n",
    "data1.query('dob_years == 46')"
   ]
  },
  {
   "cell_type": "markdown",
   "metadata": {},
   "source": [
    "<div class=\"alert alert-success\">\n",
    "    \n",
    "**Дубликаты** найдены **в столбце 'education'** при первом рассмотрении таблицы. Чтобы найти их все, используется метод 'value_counts()'. Видим, что категориальные данные записываются разным способом: либо нижним регистром, либо верхним, либо в верхнем регистре только первая буква. Чтобы избавиться от дублей, необходимо привести всё к одному типу.\n",
    "\n",
    "Кроме того с помощью метода 'duplicated()' был найден еще **71 полный дубликат**.\n",
    "\n",
    "Поскольку дубликаты в столбце 'education' отличаются только регистром одной или всех букв, то для приведения к единообразию номинаций в данном столбце используется метод str.lower()\n",
    "\n",
    "**Полные дубликаты оставлены в работе**, так как мы не можем быть до конца уверены, что это дубликаты.\n",
    "\n",
    "В столбце 'education' дубликаты могли появиться в связи с тем, что не были даны четкие критерии того, как заполнять необходимую информацию: только нижним регистром, только верхним и т.д.\n",
    "\n",
    "Полные дубликаты появились по двум причинам. Во-первых, все дублируемые строки в столбце 'days_employed' имеют одинаковое нулевое значение, которым мы заменяли пропущенные значения, а в столбце 'total_income' совпадение данных происходит за счет того, что вместо пропущенных значений внесены медианные. Во-вторых, в таблице нет id клиентов банка, что тоже ведет к кажущемуся дублированию строк."
   ]
  },
  {
   "cell_type": "markdown",
   "metadata": {},
   "source": [
    "### 1.6. Категоризация данных"
   ]
  },
  {
   "cell_type": "code",
   "execution_count": 17,
   "metadata": {},
   "outputs": [
    {
     "name": "stdout",
     "output_type": "stream",
     "text": [
      "свадьба                                   797\n",
      "на проведение свадьбы                     776\n",
      "сыграть свадьбу                           773\n",
      "операции с недвижимостью                  674\n",
      "покупка коммерческой недвижимости         664\n",
      "покупка жилья для сдачи                   652\n",
      "операции с жильем                         652\n",
      "операции с коммерческой недвижимостью     650\n",
      "жилье                                     646\n",
      "покупка жилья                             644\n",
      "покупка жилья для семьи                   641\n",
      "строительство собственной недвижимости    634\n",
      "недвижимость                              633\n",
      "операции со своей недвижимостью           627\n",
      "строительство жилой недвижимости          623\n",
      "покупка недвижимости                      620\n",
      "строительство недвижимости                620\n",
      "покупка своего жилья                      619\n",
      "ремонт жилью                              611\n",
      "покупка жилой недвижимости                605\n",
      "на покупку своего автомобиля              504\n",
      "заняться высшим образованием              496\n",
      "автомобиль                                493\n",
      "сделка с подержанным автомобилем          488\n",
      "свой автомобиль                           478\n",
      "на покупку подержанного автомобиля        478\n",
      "автомобили                                477\n",
      "на покупку автомобиля                     471\n",
      "дополнительное образование                460\n",
      "приобретение автомобиля                   460\n",
      "сделка с автомобилем                      455\n",
      "высшее образование                        452\n",
      "получение дополнительного образования     446\n",
      "образование                               444\n",
      "получение образования                     442\n",
      "профильное образование                    434\n",
      "получение высшего образования             426\n",
      "заняться образованием                     412\n",
      "Name: purpose, dtype: int64\n"
     ]
    }
   ],
   "source": [
    "# поиск дубликатов в столбце 'purpose'\n",
    "print(data['purpose'].value_counts())"
   ]
  },
  {
   "cell_type": "markdown",
   "metadata": {},
   "source": [
    "Первый взгляд на данные позволяет говорить о дублировании смыслов. Например, \"высшее образование\", \"заняться образованием\" и \"получение высшего образования\" - это одно и то же. Посчитаем количество лемм в представленных материалах"
   ]
  },
  {
   "cell_type": "code",
   "execution_count": 18,
   "metadata": {},
   "outputs": [
    {
     "name": "stdout",
     "output_type": "stream",
     "text": [
      "['покупка жилья', 'приобретение автомобиля', 'дополнительное образование', 'сыграть свадьбу', 'операции с жильем', 'образование', 'на проведение свадьбы', 'покупка жилья для семьи', 'покупка недвижимости', 'покупка коммерческой недвижимости', 'покупка жилой недвижимости', 'строительство собственной недвижимости', 'недвижимость', 'строительство недвижимости', 'на покупку подержанного автомобиля', 'на покупку своего автомобиля', 'операции с коммерческой недвижимостью', 'строительство жилой недвижимости', 'жилье', 'операции со своей недвижимостью', 'автомобили', 'заняться образованием', 'сделка с подержанным автомобилем', 'получение образования', 'автомобиль', 'свадьба', 'получение дополнительного образования', 'покупка своего жилья', 'операции с недвижимостью', 'получение высшего образования', 'свой автомобиль', 'сделка с автомобилем', 'профильное образование', 'высшее образование', 'покупка жилья для сдачи', 'на покупку автомобиля', 'ремонт жилью', 'заняться высшим образованием']\n"
     ]
    }
   ],
   "source": [
    "# формирование списка со всеми значениями столбца 'purpose'\n",
    "purpose_list = data['purpose'].tolist()\n",
    "# print(purpose_list)\n",
    "\n",
    "# формирование списка со всеми уникальными значениями столбца 'purpose'\n",
    "purpose_list_short = data['purpose'].unique().tolist()\n",
    "print(purpose_list_short)"
   ]
  },
  {
   "cell_type": "code",
   "execution_count": 19,
   "metadata": {},
   "outputs": [
    {
     "name": "stdout",
     "output_type": "stream",
     "text": [
      "Недвижимость: ['покупка жилья', 'операции с жильем', 'покупка жилья для семьи', 'покупка недвижимости', 'покупка коммерческой недвижимости', 'покупка жилой недвижимости', 'покупка жилой недвижимости', 'строительство собственной недвижимости', 'недвижимость', 'строительство недвижимости', 'операции с коммерческой недвижимостью', 'строительство жилой недвижимости', 'строительство жилой недвижимости', 'жилье', 'операции со своей недвижимостью', 'покупка своего жилья', 'операции с недвижимостью', 'покупка жилья для сдачи', 'ремонт жилью']\n",
      "Автомобиль: ['приобретение автомобиля', 'на покупку подержанного автомобиля', 'на покупку своего автомобиля', 'автомобили', 'сделка с подержанным автомобилем', 'автомобиль', 'свой автомобиль', 'сделка с автомобилем', 'на покупку автомобиля']\n",
      "Образование: ['дополнительное образование', 'образование', 'заняться образованием', 'получение образования', 'получение дополнительного образования', 'получение высшего образования', 'профильное образование', 'высшее образование', 'заняться высшим образованием']\n",
      "Свадьба: ['сыграть свадьбу', 'на проведение свадьбы', 'свадьба']\n"
     ]
    }
   ],
   "source": [
    "# формирование списков со значениями столбца 'purpose', объединённых по леммам\n",
    "purpose_live = []\n",
    "purpose_car = []\n",
    "purpose_study = []\n",
    "purpose_wedding = []\n",
    "for lem in purpose_list_short:\n",
    "    for word in lem.split():\n",
    "        stemmed_word = russian_stemmer.stem(word)\n",
    "        if (stemmed_word == 'жил' or stemmed_word == 'недвижим'):\n",
    "            if word not in purpose_live:\n",
    "                purpose_live.append(lem)\n",
    "        if (stemmed_word == 'автомобил' or stemmed_word == 'автомоб'):\n",
    "            if word not in purpose_live:\n",
    "                purpose_car.append(lem)\n",
    "        if (stemmed_word == 'образован'):\n",
    "            if word not in purpose_live:\n",
    "                purpose_study.append(lem)\n",
    "        if (stemmed_word == 'свадьб'):\n",
    "            if word not in purpose_live:\n",
    "                purpose_wedding.append(lem)\n",
    "\n",
    "print('Недвижимость:', purpose_live)\n",
    "print('Автомобиль:', purpose_car)\n",
    "print('Образование:', purpose_study)\n",
    "print('Свадьба:', purpose_wedding)"
   ]
  },
  {
   "cell_type": "code",
   "execution_count": 20,
   "metadata": {},
   "outputs": [
    {
     "name": "stdout",
     "output_type": "stream",
     "text": [
      "Недвижимость: ['покупка жилья', 'операции с жильем', 'покупка жилья для семьи', 'покупка недвижимости', 'покупка коммерческой недвижимости', 'покупка жилой недвижимости', 'строительство собственной недвижимости', 'недвижимость', 'строительство недвижимости', 'операции с коммерческой недвижимостью', 'строительство жилой недвижимости', 'жилье', 'операции со своей недвижимостью', 'покупка своего жилья', 'операции с недвижимостью', 'покупка жилья для сдачи', 'ремонт жилью']\n"
     ]
    }
   ],
   "source": [
    "# избавление от повторов в списке с леммами 'жил' и 'недвижим'\n",
    "purpose_live2 = []\n",
    "for x in purpose_live:\n",
    "    if x not in purpose_live2:\n",
    "        purpose_live2.append(x)\n",
    "print('Недвижимость:', purpose_live2)"
   ]
  },
  {
   "cell_type": "code",
   "execution_count": 21,
   "metadata": {},
   "outputs": [
    {
     "data": {
      "text/html": [
       "<div>\n",
       "<style scoped>\n",
       "    .dataframe tbody tr th:only-of-type {\n",
       "        vertical-align: middle;\n",
       "    }\n",
       "\n",
       "    .dataframe tbody tr th {\n",
       "        vertical-align: top;\n",
       "    }\n",
       "\n",
       "    .dataframe thead th {\n",
       "        text-align: right;\n",
       "    }\n",
       "</style>\n",
       "<table border=\"1\" class=\"dataframe\">\n",
       "  <thead>\n",
       "    <tr style=\"text-align: right;\">\n",
       "      <th></th>\n",
       "      <th>children</th>\n",
       "      <th>days_employed</th>\n",
       "      <th>dob_years</th>\n",
       "      <th>education</th>\n",
       "      <th>education_id</th>\n",
       "      <th>family_status</th>\n",
       "      <th>family_status_id</th>\n",
       "      <th>gender</th>\n",
       "      <th>income_type</th>\n",
       "      <th>debt</th>\n",
       "      <th>total_income</th>\n",
       "      <th>purpose</th>\n",
       "      <th>purpose_id</th>\n",
       "    </tr>\n",
       "  </thead>\n",
       "  <tbody>\n",
       "    <tr>\n",
       "      <th>0</th>\n",
       "      <td>1</td>\n",
       "      <td>-8437</td>\n",
       "      <td>42</td>\n",
       "      <td>высшее</td>\n",
       "      <td>0</td>\n",
       "      <td>женат / замужем</td>\n",
       "      <td>0</td>\n",
       "      <td>F</td>\n",
       "      <td>сотрудник</td>\n",
       "      <td>0</td>\n",
       "      <td>253875</td>\n",
       "      <td>покупка жилья</td>\n",
       "      <td>недвижимость</td>\n",
       "    </tr>\n",
       "    <tr>\n",
       "      <th>1</th>\n",
       "      <td>1</td>\n",
       "      <td>-4024</td>\n",
       "      <td>36</td>\n",
       "      <td>среднее</td>\n",
       "      <td>1</td>\n",
       "      <td>женат / замужем</td>\n",
       "      <td>0</td>\n",
       "      <td>F</td>\n",
       "      <td>сотрудник</td>\n",
       "      <td>0</td>\n",
       "      <td>112080</td>\n",
       "      <td>приобретение автомобиля</td>\n",
       "      <td>автомобиль</td>\n",
       "    </tr>\n",
       "    <tr>\n",
       "      <th>2</th>\n",
       "      <td>0</td>\n",
       "      <td>-5623</td>\n",
       "      <td>33</td>\n",
       "      <td>среднее</td>\n",
       "      <td>1</td>\n",
       "      <td>женат / замужем</td>\n",
       "      <td>0</td>\n",
       "      <td>M</td>\n",
       "      <td>сотрудник</td>\n",
       "      <td>0</td>\n",
       "      <td>145885</td>\n",
       "      <td>покупка жилья</td>\n",
       "      <td>недвижимость</td>\n",
       "    </tr>\n",
       "    <tr>\n",
       "      <th>3</th>\n",
       "      <td>3</td>\n",
       "      <td>-4124</td>\n",
       "      <td>32</td>\n",
       "      <td>среднее</td>\n",
       "      <td>1</td>\n",
       "      <td>женат / замужем</td>\n",
       "      <td>0</td>\n",
       "      <td>M</td>\n",
       "      <td>сотрудник</td>\n",
       "      <td>0</td>\n",
       "      <td>267628</td>\n",
       "      <td>дополнительное образование</td>\n",
       "      <td>образование</td>\n",
       "    </tr>\n",
       "    <tr>\n",
       "      <th>4</th>\n",
       "      <td>0</td>\n",
       "      <td>340266</td>\n",
       "      <td>53</td>\n",
       "      <td>среднее</td>\n",
       "      <td>1</td>\n",
       "      <td>гражданский брак</td>\n",
       "      <td>1</td>\n",
       "      <td>F</td>\n",
       "      <td>пенсионер</td>\n",
       "      <td>0</td>\n",
       "      <td>158616</td>\n",
       "      <td>сыграть свадьбу</td>\n",
       "      <td>свадьба</td>\n",
       "    </tr>\n",
       "  </tbody>\n",
       "</table>\n",
       "</div>"
      ],
      "text/plain": [
       "   children  days_employed  dob_years education  education_id  \\\n",
       "0         1          -8437         42    высшее             0   \n",
       "1         1          -4024         36   среднее             1   \n",
       "2         0          -5623         33   среднее             1   \n",
       "3         3          -4124         32   среднее             1   \n",
       "4         0         340266         53   среднее             1   \n",
       "\n",
       "      family_status  family_status_id gender income_type  debt  total_income  \\\n",
       "0   женат / замужем                 0      F   сотрудник     0        253875   \n",
       "1   женат / замужем                 0      F   сотрудник     0        112080   \n",
       "2   женат / замужем                 0      M   сотрудник     0        145885   \n",
       "3   женат / замужем                 0      M   сотрудник     0        267628   \n",
       "4  гражданский брак                 1      F   пенсионер     0        158616   \n",
       "\n",
       "                      purpose    purpose_id  \n",
       "0               покупка жилья  недвижимость  \n",
       "1     приобретение автомобиля    автомобиль  \n",
       "2               покупка жилья  недвижимость  \n",
       "3  дополнительное образование   образование  \n",
       "4             сыграть свадьбу       свадьба  "
      ]
     },
     "metadata": {},
     "output_type": "display_data"
    },
    {
     "data": {
      "text/plain": [
       "недвижимость    10815\n",
       "автомобиль       4304\n",
       "образование      4012\n",
       "свадьба          2346\n",
       "Name: purpose_id, dtype: int64"
      ]
     },
     "execution_count": 21,
     "metadata": {},
     "output_type": "execute_result"
    }
   ],
   "source": [
    "# формирование нового столбца номинаций целей кредитов        \n",
    "def purpose_id(row):\n",
    "    lem = row['purpose']\n",
    "    if lem in purpose_live2:\n",
    "        return 'недвижимость'\n",
    "    if lem in purpose_car:\n",
    "        return 'автомобиль'\n",
    "    if lem in purpose_study:\n",
    "        return 'образование'\n",
    "    if lem in purpose_wedding:\n",
    "        return 'свадьба'\n",
    "\n",
    "data['purpose_id'] = data.apply(purpose_id, axis=1)\n",
    "\n",
    "# проверка\n",
    "display(data.head(5))\n",
    "data['purpose_id'].value_counts()"
   ]
  },
  {
   "cell_type": "markdown",
   "metadata": {},
   "source": [
    "<div class=\"alert alert-success\">\n",
    "\n",
    "Чтобы выделить леммы в значениях столбца, мы сначала сформировали список уникальных значений. В этом случае убираются повторы и с номинациями удобнее работать. Также формируется список всех значений столбца для их дальнейшей группировки по леммам. Далее проводится стемминг на материале уникальных значений. После мы группируем значения столбца 'purpose' по леммам. На этом этапе выявляются повторы в списке, объединенном по леммам 'жил' и 'недвижим', так как в нескольких случаях они вместе встречаются в одной строке. Поэтому после формирования групп с помощью цикла избавляемся от повторов в списке 'недвижимость'. Далее формируется новый столбец с обобщенными значениями столбца с целями кредитов - 'purpose_new'."
   ]
  },
  {
   "cell_type": "code",
   "execution_count": 22,
   "metadata": {},
   "outputs": [
    {
     "data": {
      "text/plain": [
       "0     14148\n",
       "1      4818\n",
       "2      2055\n",
       "3       330\n",
       "20       76\n",
       "4        41\n",
       "5         9\n",
       "Name: children, dtype: int64"
      ]
     },
     "execution_count": 22,
     "metadata": {},
     "output_type": "execute_result"
    }
   ],
   "source": [
    "# сформируем перечень уникальных значений столбца 'children'\n",
    "data['children'].value_counts()"
   ]
  },
  {
   "cell_type": "code",
   "execution_count": 23,
   "metadata": {},
   "outputs": [
    {
     "data": {
      "text/html": [
       "<div>\n",
       "<style scoped>\n",
       "    .dataframe tbody tr th:only-of-type {\n",
       "        vertical-align: middle;\n",
       "    }\n",
       "\n",
       "    .dataframe tbody tr th {\n",
       "        vertical-align: top;\n",
       "    }\n",
       "\n",
       "    .dataframe thead th {\n",
       "        text-align: right;\n",
       "    }\n",
       "</style>\n",
       "<table border=\"1\" class=\"dataframe\">\n",
       "  <thead>\n",
       "    <tr style=\"text-align: right;\">\n",
       "      <th></th>\n",
       "      <th>children</th>\n",
       "      <th>days_employed</th>\n",
       "      <th>dob_years</th>\n",
       "      <th>education</th>\n",
       "      <th>education_id</th>\n",
       "      <th>family_status</th>\n",
       "      <th>family_status_id</th>\n",
       "      <th>gender</th>\n",
       "      <th>income_type</th>\n",
       "      <th>debt</th>\n",
       "      <th>total_income</th>\n",
       "      <th>purpose</th>\n",
       "      <th>purpose_id</th>\n",
       "      <th>children_id</th>\n",
       "    </tr>\n",
       "  </thead>\n",
       "  <tbody>\n",
       "    <tr>\n",
       "      <th>0</th>\n",
       "      <td>1</td>\n",
       "      <td>-8437</td>\n",
       "      <td>42</td>\n",
       "      <td>высшее</td>\n",
       "      <td>0</td>\n",
       "      <td>женат / замужем</td>\n",
       "      <td>0</td>\n",
       "      <td>F</td>\n",
       "      <td>сотрудник</td>\n",
       "      <td>0</td>\n",
       "      <td>253875</td>\n",
       "      <td>покупка жилья</td>\n",
       "      <td>недвижимость</td>\n",
       "      <td>1</td>\n",
       "    </tr>\n",
       "    <tr>\n",
       "      <th>1</th>\n",
       "      <td>1</td>\n",
       "      <td>-4024</td>\n",
       "      <td>36</td>\n",
       "      <td>среднее</td>\n",
       "      <td>1</td>\n",
       "      <td>женат / замужем</td>\n",
       "      <td>0</td>\n",
       "      <td>F</td>\n",
       "      <td>сотрудник</td>\n",
       "      <td>0</td>\n",
       "      <td>112080</td>\n",
       "      <td>приобретение автомобиля</td>\n",
       "      <td>автомобиль</td>\n",
       "      <td>1</td>\n",
       "    </tr>\n",
       "    <tr>\n",
       "      <th>2</th>\n",
       "      <td>0</td>\n",
       "      <td>-5623</td>\n",
       "      <td>33</td>\n",
       "      <td>среднее</td>\n",
       "      <td>1</td>\n",
       "      <td>женат / замужем</td>\n",
       "      <td>0</td>\n",
       "      <td>M</td>\n",
       "      <td>сотрудник</td>\n",
       "      <td>0</td>\n",
       "      <td>145885</td>\n",
       "      <td>покупка жилья</td>\n",
       "      <td>недвижимость</td>\n",
       "      <td>0</td>\n",
       "    </tr>\n",
       "    <tr>\n",
       "      <th>3</th>\n",
       "      <td>3</td>\n",
       "      <td>-4124</td>\n",
       "      <td>32</td>\n",
       "      <td>среднее</td>\n",
       "      <td>1</td>\n",
       "      <td>женат / замужем</td>\n",
       "      <td>0</td>\n",
       "      <td>M</td>\n",
       "      <td>сотрудник</td>\n",
       "      <td>0</td>\n",
       "      <td>267628</td>\n",
       "      <td>дополнительное образование</td>\n",
       "      <td>образование</td>\n",
       "      <td>&gt;2</td>\n",
       "    </tr>\n",
       "    <tr>\n",
       "      <th>4</th>\n",
       "      <td>0</td>\n",
       "      <td>340266</td>\n",
       "      <td>53</td>\n",
       "      <td>среднее</td>\n",
       "      <td>1</td>\n",
       "      <td>гражданский брак</td>\n",
       "      <td>1</td>\n",
       "      <td>F</td>\n",
       "      <td>пенсионер</td>\n",
       "      <td>0</td>\n",
       "      <td>158616</td>\n",
       "      <td>сыграть свадьбу</td>\n",
       "      <td>свадьба</td>\n",
       "      <td>0</td>\n",
       "    </tr>\n",
       "    <tr>\n",
       "      <th>5</th>\n",
       "      <td>0</td>\n",
       "      <td>-926</td>\n",
       "      <td>27</td>\n",
       "      <td>высшее</td>\n",
       "      <td>0</td>\n",
       "      <td>гражданский брак</td>\n",
       "      <td>1</td>\n",
       "      <td>M</td>\n",
       "      <td>компаньон</td>\n",
       "      <td>0</td>\n",
       "      <td>255763</td>\n",
       "      <td>покупка жилья</td>\n",
       "      <td>недвижимость</td>\n",
       "      <td>0</td>\n",
       "    </tr>\n",
       "    <tr>\n",
       "      <th>6</th>\n",
       "      <td>0</td>\n",
       "      <td>-2879</td>\n",
       "      <td>43</td>\n",
       "      <td>высшее</td>\n",
       "      <td>0</td>\n",
       "      <td>женат / замужем</td>\n",
       "      <td>0</td>\n",
       "      <td>F</td>\n",
       "      <td>компаньон</td>\n",
       "      <td>0</td>\n",
       "      <td>240525</td>\n",
       "      <td>операции с жильем</td>\n",
       "      <td>недвижимость</td>\n",
       "      <td>0</td>\n",
       "    </tr>\n",
       "    <tr>\n",
       "      <th>7</th>\n",
       "      <td>0</td>\n",
       "      <td>-152</td>\n",
       "      <td>50</td>\n",
       "      <td>среднее</td>\n",
       "      <td>1</td>\n",
       "      <td>женат / замужем</td>\n",
       "      <td>0</td>\n",
       "      <td>M</td>\n",
       "      <td>сотрудник</td>\n",
       "      <td>0</td>\n",
       "      <td>135823</td>\n",
       "      <td>образование</td>\n",
       "      <td>образование</td>\n",
       "      <td>0</td>\n",
       "    </tr>\n",
       "    <tr>\n",
       "      <th>8</th>\n",
       "      <td>2</td>\n",
       "      <td>-6929</td>\n",
       "      <td>35</td>\n",
       "      <td>высшее</td>\n",
       "      <td>0</td>\n",
       "      <td>гражданский брак</td>\n",
       "      <td>1</td>\n",
       "      <td>F</td>\n",
       "      <td>сотрудник</td>\n",
       "      <td>0</td>\n",
       "      <td>95856</td>\n",
       "      <td>на проведение свадьбы</td>\n",
       "      <td>свадьба</td>\n",
       "      <td>&gt;2</td>\n",
       "    </tr>\n",
       "    <tr>\n",
       "      <th>9</th>\n",
       "      <td>0</td>\n",
       "      <td>-2188</td>\n",
       "      <td>41</td>\n",
       "      <td>среднее</td>\n",
       "      <td>1</td>\n",
       "      <td>женат / замужем</td>\n",
       "      <td>0</td>\n",
       "      <td>M</td>\n",
       "      <td>сотрудник</td>\n",
       "      <td>0</td>\n",
       "      <td>144425</td>\n",
       "      <td>покупка жилья для семьи</td>\n",
       "      <td>недвижимость</td>\n",
       "      <td>0</td>\n",
       "    </tr>\n",
       "  </tbody>\n",
       "</table>\n",
       "</div>"
      ],
      "text/plain": [
       "   children  days_employed  dob_years education  education_id  \\\n",
       "0         1          -8437         42    высшее             0   \n",
       "1         1          -4024         36   среднее             1   \n",
       "2         0          -5623         33   среднее             1   \n",
       "3         3          -4124         32   среднее             1   \n",
       "4         0         340266         53   среднее             1   \n",
       "5         0           -926         27    высшее             0   \n",
       "6         0          -2879         43    высшее             0   \n",
       "7         0           -152         50   среднее             1   \n",
       "8         2          -6929         35    высшее             0   \n",
       "9         0          -2188         41   среднее             1   \n",
       "\n",
       "      family_status  family_status_id gender income_type  debt  total_income  \\\n",
       "0   женат / замужем                 0      F   сотрудник     0        253875   \n",
       "1   женат / замужем                 0      F   сотрудник     0        112080   \n",
       "2   женат / замужем                 0      M   сотрудник     0        145885   \n",
       "3   женат / замужем                 0      M   сотрудник     0        267628   \n",
       "4  гражданский брак                 1      F   пенсионер     0        158616   \n",
       "5  гражданский брак                 1      M   компаньон     0        255763   \n",
       "6   женат / замужем                 0      F   компаньон     0        240525   \n",
       "7   женат / замужем                 0      M   сотрудник     0        135823   \n",
       "8  гражданский брак                 1      F   сотрудник     0         95856   \n",
       "9   женат / замужем                 0      M   сотрудник     0        144425   \n",
       "\n",
       "                      purpose    purpose_id children_id  \n",
       "0               покупка жилья  недвижимость           1  \n",
       "1     приобретение автомобиля    автомобиль           1  \n",
       "2               покупка жилья  недвижимость           0  \n",
       "3  дополнительное образование   образование          >2  \n",
       "4             сыграть свадьбу       свадьба           0  \n",
       "5               покупка жилья  недвижимость           0  \n",
       "6           операции с жильем  недвижимость           0  \n",
       "7                 образование   образование           0  \n",
       "8       на проведение свадьбы       свадьба          >2  \n",
       "9     покупка жилья для семьи  недвижимость           0  "
      ]
     },
     "execution_count": 23,
     "metadata": {},
     "output_type": "execute_result"
    }
   ],
   "source": [
    "# категоризация значений столбца 'children'\n",
    "def children_id(row):\n",
    "    children_number = row['children']\n",
    "    if children_number == 0:\n",
    "            return '0'\n",
    "    if children_number == 1:\n",
    "            return '1'\n",
    "    if children_number >= 2:\n",
    "            return '>2'\n",
    "        \n",
    "data['children_id'] = data.apply(children_id, axis=1)\n",
    "data.head(10)"
   ]
  },
  {
   "cell_type": "markdown",
   "metadata": {},
   "source": [
    "Сделаем категоризацию для столбца с доходами. Для формирования категорий воспользуемся методом qcut()."
   ]
  },
  {
   "cell_type": "code",
   "execution_count": 24,
   "metadata": {},
   "outputs": [
    {
     "data": {
      "text/plain": [
       "0        (195624.0, 2265604.0]\n",
       "1         (107775.0, 142594.0]\n",
       "2         (142594.0, 195624.0]\n",
       "3        (195624.0, 2265604.0]\n",
       "4         (142594.0, 195624.0]\n",
       "                 ...          \n",
       "21520    (195624.0, 2265604.0]\n",
       "21521     (142594.0, 195624.0]\n",
       "21522    (20666.999, 107775.0]\n",
       "21523    (195624.0, 2265604.0]\n",
       "21524    (20666.999, 107775.0]\n",
       "Name: total_income, Length: 21477, dtype: category\n",
       "Categories (4, interval[float64, right]): [(20666.999, 107775.0] < (107775.0, 142594.0] < (142594.0, 195624.0] < (195624.0, 2265604.0]]"
      ]
     },
     "execution_count": 24,
     "metadata": {},
     "output_type": "execute_result"
    }
   ],
   "source": [
    "# определение границ дохода для каждой группы\n",
    "pd.qcut(data['total_income'], q=4)"
   ]
  },
  {
   "cell_type": "markdown",
   "metadata": {},
   "source": [
    "С учетом этих данных сформируем категории."
   ]
  },
  {
   "cell_type": "code",
   "execution_count": 25,
   "metadata": {},
   "outputs": [
    {
     "data": {
      "text/html": [
       "<div>\n",
       "<style scoped>\n",
       "    .dataframe tbody tr th:only-of-type {\n",
       "        vertical-align: middle;\n",
       "    }\n",
       "\n",
       "    .dataframe tbody tr th {\n",
       "        vertical-align: top;\n",
       "    }\n",
       "\n",
       "    .dataframe thead th {\n",
       "        text-align: right;\n",
       "    }\n",
       "</style>\n",
       "<table border=\"1\" class=\"dataframe\">\n",
       "  <thead>\n",
       "    <tr style=\"text-align: right;\">\n",
       "      <th></th>\n",
       "      <th>children</th>\n",
       "      <th>days_employed</th>\n",
       "      <th>dob_years</th>\n",
       "      <th>education</th>\n",
       "      <th>education_id</th>\n",
       "      <th>family_status</th>\n",
       "      <th>family_status_id</th>\n",
       "      <th>gender</th>\n",
       "      <th>income_type</th>\n",
       "      <th>debt</th>\n",
       "      <th>total_income</th>\n",
       "      <th>purpose</th>\n",
       "      <th>purpose_id</th>\n",
       "      <th>children_id</th>\n",
       "      <th>income_id</th>\n",
       "    </tr>\n",
       "  </thead>\n",
       "  <tbody>\n",
       "    <tr>\n",
       "      <th>0</th>\n",
       "      <td>1</td>\n",
       "      <td>-8437</td>\n",
       "      <td>42</td>\n",
       "      <td>высшее</td>\n",
       "      <td>0</td>\n",
       "      <td>женат / замужем</td>\n",
       "      <td>0</td>\n",
       "      <td>F</td>\n",
       "      <td>сотрудник</td>\n",
       "      <td>0</td>\n",
       "      <td>253875</td>\n",
       "      <td>покупка жилья</td>\n",
       "      <td>недвижимость</td>\n",
       "      <td>1</td>\n",
       "      <td>&gt; 200 тыс.</td>\n",
       "    </tr>\n",
       "    <tr>\n",
       "      <th>1</th>\n",
       "      <td>1</td>\n",
       "      <td>-4024</td>\n",
       "      <td>36</td>\n",
       "      <td>среднее</td>\n",
       "      <td>1</td>\n",
       "      <td>женат / замужем</td>\n",
       "      <td>0</td>\n",
       "      <td>F</td>\n",
       "      <td>сотрудник</td>\n",
       "      <td>0</td>\n",
       "      <td>112080</td>\n",
       "      <td>приобретение автомобиля</td>\n",
       "      <td>автомобиль</td>\n",
       "      <td>1</td>\n",
       "      <td>110-150 тыс.</td>\n",
       "    </tr>\n",
       "    <tr>\n",
       "      <th>2</th>\n",
       "      <td>0</td>\n",
       "      <td>-5623</td>\n",
       "      <td>33</td>\n",
       "      <td>среднее</td>\n",
       "      <td>1</td>\n",
       "      <td>женат / замужем</td>\n",
       "      <td>0</td>\n",
       "      <td>M</td>\n",
       "      <td>сотрудник</td>\n",
       "      <td>0</td>\n",
       "      <td>145885</td>\n",
       "      <td>покупка жилья</td>\n",
       "      <td>недвижимость</td>\n",
       "      <td>0</td>\n",
       "      <td>110-150 тыс.</td>\n",
       "    </tr>\n",
       "    <tr>\n",
       "      <th>3</th>\n",
       "      <td>3</td>\n",
       "      <td>-4124</td>\n",
       "      <td>32</td>\n",
       "      <td>среднее</td>\n",
       "      <td>1</td>\n",
       "      <td>женат / замужем</td>\n",
       "      <td>0</td>\n",
       "      <td>M</td>\n",
       "      <td>сотрудник</td>\n",
       "      <td>0</td>\n",
       "      <td>267628</td>\n",
       "      <td>дополнительное образование</td>\n",
       "      <td>образование</td>\n",
       "      <td>&gt;2</td>\n",
       "      <td>&gt; 200 тыс.</td>\n",
       "    </tr>\n",
       "    <tr>\n",
       "      <th>4</th>\n",
       "      <td>0</td>\n",
       "      <td>340266</td>\n",
       "      <td>53</td>\n",
       "      <td>среднее</td>\n",
       "      <td>1</td>\n",
       "      <td>гражданский брак</td>\n",
       "      <td>1</td>\n",
       "      <td>F</td>\n",
       "      <td>пенсионер</td>\n",
       "      <td>0</td>\n",
       "      <td>158616</td>\n",
       "      <td>сыграть свадьбу</td>\n",
       "      <td>свадьба</td>\n",
       "      <td>0</td>\n",
       "      <td>150-200 тыс</td>\n",
       "    </tr>\n",
       "  </tbody>\n",
       "</table>\n",
       "</div>"
      ],
      "text/plain": [
       "   children  days_employed  dob_years education  education_id  \\\n",
       "0         1          -8437         42    высшее             0   \n",
       "1         1          -4024         36   среднее             1   \n",
       "2         0          -5623         33   среднее             1   \n",
       "3         3          -4124         32   среднее             1   \n",
       "4         0         340266         53   среднее             1   \n",
       "\n",
       "      family_status  family_status_id gender income_type  debt  total_income  \\\n",
       "0   женат / замужем                 0      F   сотрудник     0        253875   \n",
       "1   женат / замужем                 0      F   сотрудник     0        112080   \n",
       "2   женат / замужем                 0      M   сотрудник     0        145885   \n",
       "3   женат / замужем                 0      M   сотрудник     0        267628   \n",
       "4  гражданский брак                 1      F   пенсионер     0        158616   \n",
       "\n",
       "                      purpose    purpose_id children_id     income_id  \n",
       "0               покупка жилья  недвижимость           1    > 200 тыс.  \n",
       "1     приобретение автомобиля    автомобиль           1  110-150 тыс.  \n",
       "2               покупка жилья  недвижимость           0  110-150 тыс.  \n",
       "3  дополнительное образование   образование          >2    > 200 тыс.  \n",
       "4             сыграть свадьбу       свадьба           0   150-200 тыс  "
      ]
     },
     "metadata": {},
     "output_type": "display_data"
    },
    {
     "data": {
      "text/plain": [
       "110-150 тыс.    6026\n",
       "< 110 тыс.      5632\n",
       "> 200 тыс.      5058\n",
       "150-200 тыс     4761\n",
       "Name: income_id, dtype: int64"
      ]
     },
     "execution_count": 25,
     "metadata": {},
     "output_type": "execute_result"
    }
   ],
   "source": [
    "# формирование нового столбца с уровнем дохода с учетом шкалы дохода\n",
    "def income_id(row):\n",
    "    income = row['total_income']\n",
    "    if income == 0:\n",
    "        return 'нет данных'\n",
    "    if income < 110000:\n",
    "        return '< 110 тыс.'\n",
    "    if 110000 <= income < 150000:\n",
    "        return '110-150 тыс.'\n",
    "    if 150000 <= income < 200000:\n",
    "        return '150-200 тыс'\n",
    "    if income >= 200000:\n",
    "        return '> 200 тыс.'\n",
    "\n",
    "data['income_id'] = data.apply(income_id, axis=1)\n",
    "\n",
    "# проверка\n",
    "display(data.head())\n",
    "data['income_id'].value_counts()"
   ]
  },
  {
   "cell_type": "markdown",
   "metadata": {},
   "source": [
    "<div class=\"alert alert-success\">\n",
    "\n",
    "**Общие замечания**  \n",
    "\n",
    "Категоризация значений проводится для трех столбцов: 'purpose', 'children' и 'total_income'. Были выбраны именно эти столбцы, так как задачи исследования предполагают дальнейшую работу с их данными и удобнее это делать с категоризированными значениями.\n",
    "\n",
    "**Категоризация данных столбца 'purpose'**  \n",
    "Данные столбца 'purpose' разделены на четыре категории в зависимости от того, на что берется кредит: на недвижимость, автомобиль, образование или свадьбу. Можно было бы сделать более подробную категоризацию и разделить, например, кредиты категории 'недвижимость' следующим образом: кредиты 'на покупку недвижимости', кредиты 'на ремонт недвижимости', кредиты 'на строительство недвжимости' - но в этом случае могут возникнуть проблемы с классификацией, поскольку не всегда понятно по данным столбца 'purpose', на что берутся деньги: на покупку, строительство или ремонт.\n",
    "\n",
    "**Категоризация данных столбца 'children'**  \n",
    "Кроме того, категоризированы данные столбца 'children'. Выбраны три категории: '0', '1', '>2'. В категорию '0' попадают нулевые значения, в категорию '1' значения 1, а в категорию '>2' значения 2, 3, 4, 5 и 20. Значение 20 немного смущает, особенно в строке, где человеку всего 21 год, однако теоретически с большой натяжкой такое может быть возможно, если дети усыновлены или взяты под опеку. Возможно, что при сборе данных произошла ошибка и изначально это было 2, в таком случае наша категоризация помогает снять эту проблему без потери какой-либо информации.\n",
    "\n",
    "**Категоризация данных столбца 'total_income'**  \n",
    "Также были категоризированы данные столбца с суммами доходов клиентов банка. Значения категоризировались с учетом процентилей на 4 группы.\n"
   ]
  },
  {
   "cell_type": "markdown",
   "metadata": {},
   "source": [
    "## 2. Анализ данных"
   ]
  },
  {
   "cell_type": "markdown",
   "metadata": {},
   "source": [
    "Посмотрим, есть ли зависимость между наличием детей у клиента и возвратом кредита."
   ]
  },
  {
   "cell_type": "code",
   "execution_count": 26,
   "metadata": {},
   "outputs": [
    {
     "data": {
      "text/html": [
       "<style type=\"text/css\">\n",
       "</style>\n",
       "<table id=\"T_d339e_\">\n",
       "  <thead>\n",
       "    <tr>\n",
       "      <th class=\"blank level0\" >&nbsp;</th>\n",
       "      <th class=\"col_heading level0 col0\" >Кол-во пользователей</th>\n",
       "      <th class=\"col_heading level0 col1\" >Кол-во должников</th>\n",
       "      <th class=\"col_heading level0 col2\" >% должников</th>\n",
       "      <th class=\"col_heading level0 col3\" >% НЕдолжников</th>\n",
       "    </tr>\n",
       "    <tr>\n",
       "      <th class=\"index_name level0\" >children_id</th>\n",
       "      <th class=\"blank col0\" >&nbsp;</th>\n",
       "      <th class=\"blank col1\" >&nbsp;</th>\n",
       "      <th class=\"blank col2\" >&nbsp;</th>\n",
       "      <th class=\"blank col3\" >&nbsp;</th>\n",
       "    </tr>\n",
       "  </thead>\n",
       "  <tbody>\n",
       "    <tr>\n",
       "      <th id=\"T_d339e_level0_row0\" class=\"row_heading level0 row0\" >0</th>\n",
       "      <td id=\"T_d339e_row0_col0\" class=\"data row0 col0\" >14148</td>\n",
       "      <td id=\"T_d339e_row0_col1\" class=\"data row0 col1\" >1063</td>\n",
       "      <td id=\"T_d339e_row0_col2\" class=\"data row0 col2\" >7.51%</td>\n",
       "      <td id=\"T_d339e_row0_col3\" class=\"data row0 col3\" >92.49%</td>\n",
       "    </tr>\n",
       "    <tr>\n",
       "      <th id=\"T_d339e_level0_row1\" class=\"row_heading level0 row1\" >1</th>\n",
       "      <td id=\"T_d339e_row1_col0\" class=\"data row1 col0\" >4818</td>\n",
       "      <td id=\"T_d339e_row1_col1\" class=\"data row1 col1\" >444</td>\n",
       "      <td id=\"T_d339e_row1_col2\" class=\"data row1 col2\" >9.22%</td>\n",
       "      <td id=\"T_d339e_row1_col3\" class=\"data row1 col3\" >90.78%</td>\n",
       "    </tr>\n",
       "    <tr>\n",
       "      <th id=\"T_d339e_level0_row2\" class=\"row_heading level0 row2\" >>2</th>\n",
       "      <td id=\"T_d339e_row2_col0\" class=\"data row2 col0\" >2511</td>\n",
       "      <td id=\"T_d339e_row2_col1\" class=\"data row2 col1\" >233</td>\n",
       "      <td id=\"T_d339e_row2_col2\" class=\"data row2 col2\" >9.28%</td>\n",
       "      <td id=\"T_d339e_row2_col3\" class=\"data row2 col3\" >90.72%</td>\n",
       "    </tr>\n",
       "  </tbody>\n",
       "</table>\n"
      ],
      "text/plain": [
       "<pandas.io.formats.style.Styler at 0x1aca96bf880>"
      ]
     },
     "metadata": {},
     "output_type": "display_data"
    },
    {
     "data": {
      "image/png": "[encoded data removed]",
      "text/plain": [
       "<Figure size 432x288 with 1 Axes>"
      ]
     },
     "metadata": {
      "needs_background": "light"
     },
     "output_type": "display_data"
    }
   ],
   "source": [
    "# сводная таблица для определения того, как зависит возврат кредита в срок от наличия детей у клиента\n",
    "child_debt = data.pivot_table(index = 'children_id', values = 'debt', \n",
    "                            aggfunc = ['count', 'sum', 'mean', lambda x: 1 - x.mean()])\n",
    "child_debt.columns = ['Кол-во пользователей', 'Кол-во должников', '% должников', '% НЕдолжников']\n",
    "display(child_debt.style.format({'% должников': '{:.2%}', '% НЕдолжников': '{:.2%}'}))\n",
    "\n",
    "# график\n",
    "child_debt = sns.countplot(x = 'children_id', hue = 'debt', data = data, palette = 'Set1')\n",
    "plt.xlabel('Кол-во детей', fontsize=12)\n",
    "plt.ylabel('Кол-во пользователей', fontsize=12)\n",
    "plt.title('Долг по кредиту и наличие детей у клиента', fontsize=16);\n",
    "plt.legend(bbox_to_anchor=(1, 1))\n",
    "plt.legend(['НЕдолжники', 'Должники']);"
   ]
  },
  {
   "cell_type": "markdown",
   "metadata": {},
   "source": [
    "Зависимости между наличием детей и возвратом кредита в срок прослеживается небольшая. Среди тех, кто имеет детей, 9% людей имеют долги по кредиту. Среди бездетных, имеющих долги, - 7.5%. При этом количество детей никак не влияет на возврат кредита.\n",
    "\n",
    "Далее посмотрим, есть ли зависимость между семейным положением и возвратом кредита в срок."
   ]
  },
  {
   "cell_type": "code",
   "execution_count": 27,
   "metadata": {},
   "outputs": [
    {
     "data": {
      "text/html": [
       "<style type=\"text/css\">\n",
       "</style>\n",
       "<table id=\"T_59bd2_\">\n",
       "  <thead>\n",
       "    <tr>\n",
       "      <th class=\"blank level0\" >&nbsp;</th>\n",
       "      <th class=\"col_heading level0 col0\" >Кол-во пользователей</th>\n",
       "      <th class=\"col_heading level0 col1\" >Кол-во должников</th>\n",
       "      <th class=\"col_heading level0 col2\" >% должников</th>\n",
       "      <th class=\"col_heading level0 col3\" >% НЕдолжников</th>\n",
       "    </tr>\n",
       "    <tr>\n",
       "      <th class=\"index_name level0\" >family_status</th>\n",
       "      <th class=\"blank col0\" >&nbsp;</th>\n",
       "      <th class=\"blank col1\" >&nbsp;</th>\n",
       "      <th class=\"blank col2\" >&nbsp;</th>\n",
       "      <th class=\"blank col3\" >&nbsp;</th>\n",
       "    </tr>\n",
       "  </thead>\n",
       "  <tbody>\n",
       "    <tr>\n",
       "      <th id=\"T_59bd2_level0_row0\" class=\"row_heading level0 row0\" >в разводе</th>\n",
       "      <td id=\"T_59bd2_row0_col0\" class=\"data row0 col0\" >1191</td>\n",
       "      <td id=\"T_59bd2_row0_col1\" class=\"data row0 col1\" >85</td>\n",
       "      <td id=\"T_59bd2_row0_col2\" class=\"data row0 col2\" >7.14%</td>\n",
       "      <td id=\"T_59bd2_row0_col3\" class=\"data row0 col3\" >92.86%</td>\n",
       "    </tr>\n",
       "    <tr>\n",
       "      <th id=\"T_59bd2_level0_row1\" class=\"row_heading level0 row1\" >вдовец / вдова</th>\n",
       "      <td id=\"T_59bd2_row1_col0\" class=\"data row1 col0\" >956</td>\n",
       "      <td id=\"T_59bd2_row1_col1\" class=\"data row1 col1\" >63</td>\n",
       "      <td id=\"T_59bd2_row1_col2\" class=\"data row1 col2\" >6.59%</td>\n",
       "      <td id=\"T_59bd2_row1_col3\" class=\"data row1 col3\" >93.41%</td>\n",
       "    </tr>\n",
       "    <tr>\n",
       "      <th id=\"T_59bd2_level0_row2\" class=\"row_heading level0 row2\" >гражданский брак</th>\n",
       "      <td id=\"T_59bd2_row2_col0\" class=\"data row2 col0\" >4171</td>\n",
       "      <td id=\"T_59bd2_row2_col1\" class=\"data row2 col1\" >388</td>\n",
       "      <td id=\"T_59bd2_row2_col2\" class=\"data row2 col2\" >9.30%</td>\n",
       "      <td id=\"T_59bd2_row2_col3\" class=\"data row2 col3\" >90.70%</td>\n",
       "    </tr>\n",
       "    <tr>\n",
       "      <th id=\"T_59bd2_level0_row3\" class=\"row_heading level0 row3\" >женат / замужем</th>\n",
       "      <td id=\"T_59bd2_row3_col0\" class=\"data row3 col0\" >12351</td>\n",
       "      <td id=\"T_59bd2_row3_col1\" class=\"data row3 col1\" >930</td>\n",
       "      <td id=\"T_59bd2_row3_col2\" class=\"data row3 col2\" >7.53%</td>\n",
       "      <td id=\"T_59bd2_row3_col3\" class=\"data row3 col3\" >92.47%</td>\n",
       "    </tr>\n",
       "    <tr>\n",
       "      <th id=\"T_59bd2_level0_row4\" class=\"row_heading level0 row4\" >не женат / не замужем</th>\n",
       "      <td id=\"T_59bd2_row4_col0\" class=\"data row4 col0\" >2808</td>\n",
       "      <td id=\"T_59bd2_row4_col1\" class=\"data row4 col1\" >274</td>\n",
       "      <td id=\"T_59bd2_row4_col2\" class=\"data row4 col2\" >9.76%</td>\n",
       "      <td id=\"T_59bd2_row4_col3\" class=\"data row4 col3\" >90.24%</td>\n",
       "    </tr>\n",
       "  </tbody>\n",
       "</table>\n"
      ],
      "text/plain": [
       "<pandas.io.formats.style.Styler at 0x1aca9c837c0>"
      ]
     },
     "metadata": {},
     "output_type": "display_data"
    },
    {
     "data": {
      "image/png": "[encoded data removed]",
      "text/plain": [
       "<Figure size 720x288 with 1 Axes>"
      ]
     },
     "metadata": {
      "needs_background": "light"
     },
     "output_type": "display_data"
    }
   ],
   "source": [
    "# сводная таблица для определения того, как зависит возврат кредита в срок от семейного положения клиента\n",
    "family_debt = data.pivot_table(index = 'family_status', values = 'debt', \n",
    "                            aggfunc = ['count', 'sum', 'mean', lambda x: 1 - x.mean()])\n",
    "family_debt.columns = ['Кол-во пользователей', 'Кол-во должников', '% должников', '% НЕдолжников']\n",
    "display(family_debt.style.format({'% должников': '{:.2%}', '% НЕдолжников': '{:.2%}'}))\n",
    "\n",
    "# график\n",
    "family_debt = sns.countplot(x = 'family_status', hue = 'debt', data = data, palette = 'Set1')\n",
    "plt.xlabel('Семейный статус', fontsize=12)\n",
    "plt.ylabel('Кол-во пользователей', fontsize=12)\n",
    "plt.title('Долг по кредиту и семейный статус', fontsize=18);\n",
    "plt.legend(bbox_to_anchor=(1, 1))\n",
    "plt.legend(['НЕдолжники', 'Должники'])\n",
    "family_debt.figure.set_figwidth(10)\n",
    "family_debt.figure.set_figheight(4)"
   ]
  },
  {
   "cell_type": "markdown",
   "metadata": {},
   "source": [
    "Зависимость между семейным положением и возвратом кредита в срок есть, но она незначительна. Люди, либо находящиеся в гражданском браке, либо неженатые/незамужние, имеют на 2% больше долгов по кредиту, чем те, кто находится в официальном браке или находился в нем, а сейчас либо овдовел, либо в разводе.\n",
    "\n",
    "Посмотрим теперь на зависимость между уровнем дохода и возвратом кредита в срок."
   ]
  },
  {
   "cell_type": "code",
   "execution_count": 28,
   "metadata": {},
   "outputs": [
    {
     "data": {
      "text/html": [
       "<style type=\"text/css\">\n",
       "</style>\n",
       "<table id=\"T_e93e3_\">\n",
       "  <thead>\n",
       "    <tr>\n",
       "      <th class=\"blank level0\" >&nbsp;</th>\n",
       "      <th class=\"col_heading level0 col0\" >Кол-во пользователей</th>\n",
       "      <th class=\"col_heading level0 col1\" >Кол-во должников</th>\n",
       "      <th class=\"col_heading level0 col2\" >% должников</th>\n",
       "      <th class=\"col_heading level0 col3\" >% НЕдолжников</th>\n",
       "    </tr>\n",
       "    <tr>\n",
       "      <th class=\"index_name level0\" >income_id</th>\n",
       "      <th class=\"blank col0\" >&nbsp;</th>\n",
       "      <th class=\"blank col1\" >&nbsp;</th>\n",
       "      <th class=\"blank col2\" >&nbsp;</th>\n",
       "      <th class=\"blank col3\" >&nbsp;</th>\n",
       "    </tr>\n",
       "  </thead>\n",
       "  <tbody>\n",
       "    <tr>\n",
       "      <th id=\"T_e93e3_level0_row0\" class=\"row_heading level0 row0\" >110-150 тыс.</th>\n",
       "      <td id=\"T_e93e3_row0_col0\" class=\"data row0 col0\" >6026</td>\n",
       "      <td id=\"T_e93e3_row0_col1\" class=\"data row0 col1\" >522</td>\n",
       "      <td id=\"T_e93e3_row0_col2\" class=\"data row0 col2\" >8.66%</td>\n",
       "      <td id=\"T_e93e3_row0_col3\" class=\"data row0 col3\" >91.34%</td>\n",
       "    </tr>\n",
       "    <tr>\n",
       "      <th id=\"T_e93e3_level0_row1\" class=\"row_heading level0 row1\" >150-200 тыс</th>\n",
       "      <td id=\"T_e93e3_row1_col0\" class=\"data row1 col0\" >4761</td>\n",
       "      <td id=\"T_e93e3_row1_col1\" class=\"data row1 col1\" >405</td>\n",
       "      <td id=\"T_e93e3_row1_col2\" class=\"data row1 col2\" >8.51%</td>\n",
       "      <td id=\"T_e93e3_row1_col3\" class=\"data row1 col3\" >91.49%</td>\n",
       "    </tr>\n",
       "    <tr>\n",
       "      <th id=\"T_e93e3_level0_row2\" class=\"row_heading level0 row2\" >< 110 тыс.</th>\n",
       "      <td id=\"T_e93e3_row2_col0\" class=\"data row2 col0\" >5632</td>\n",
       "      <td id=\"T_e93e3_row2_col1\" class=\"data row2 col1\" >455</td>\n",
       "      <td id=\"T_e93e3_row2_col2\" class=\"data row2 col2\" >8.08%</td>\n",
       "      <td id=\"T_e93e3_row2_col3\" class=\"data row2 col3\" >91.92%</td>\n",
       "    </tr>\n",
       "    <tr>\n",
       "      <th id=\"T_e93e3_level0_row3\" class=\"row_heading level0 row3\" >> 200 тыс.</th>\n",
       "      <td id=\"T_e93e3_row3_col0\" class=\"data row3 col0\" >5058</td>\n",
       "      <td id=\"T_e93e3_row3_col1\" class=\"data row3 col1\" >358</td>\n",
       "      <td id=\"T_e93e3_row3_col2\" class=\"data row3 col2\" >7.08%</td>\n",
       "      <td id=\"T_e93e3_row3_col3\" class=\"data row3 col3\" >92.92%</td>\n",
       "    </tr>\n",
       "  </tbody>\n",
       "</table>\n"
      ],
      "text/plain": [
       "<pandas.io.formats.style.Styler at 0x1aca9fe3460>"
      ]
     },
     "metadata": {},
     "output_type": "display_data"
    },
    {
     "data": {
      "image/png": "[encoded data removed]",
      "text/plain": [
       "<Figure size 720x288 with 1 Axes>"
      ]
     },
     "metadata": {
      "needs_background": "light"
     },
     "output_type": "display_data"
    }
   ],
   "source": [
    "# сводная таблица для определения того, как зависит возврат кредита в срок от уровня дохода клиента\n",
    "income_debt = data.pivot_table(index = 'income_id', values = 'debt', \n",
    "                            aggfunc = ['count', 'sum', 'mean', lambda x: 1 - x.mean()])\n",
    "income_debt.columns = ['Кол-во пользователей', 'Кол-во должников', '% должников', '% НЕдолжников']\n",
    "display(income_debt.style.format({'% должников': '{:.2%}', '% НЕдолжников': '{:.2%}'}))\n",
    "\n",
    "# график\n",
    "income_debt = sns.countplot(x = 'income_id', hue = 'debt', data = data, palette = 'Set1')\n",
    "plt.xlabel('Доход', fontsize=12)\n",
    "plt.ylabel('Кол-во пользователей', fontsize=12)\n",
    "plt.title('Долг по кредиту и размер дохода', fontsize=18);\n",
    "plt.legend(bbox_to_anchor=(1, 1))\n",
    "plt.legend(['НЕдолжники', 'Должники'])\n",
    "income_debt.figure.set_figwidth(10)\n",
    "income_debt.figure.set_figheight(4)"
   ]
  },
  {
   "cell_type": "markdown",
   "metadata": {},
   "source": [
    "Зависимости между уровнем дохода и возвратом кредита в срок есть, но она незначительна. Процент людей, имеющих долги по кредитам, ниже в категориях с доходом выше 200 тысяч - 7%.\n",
    "\n",
    "Теперь посмотрим, как разные цели кредита влияют на его возврат в срок."
   ]
  },
  {
   "cell_type": "code",
   "execution_count": 29,
   "metadata": {},
   "outputs": [
    {
     "data": {
      "text/html": [
       "<style type=\"text/css\">\n",
       "</style>\n",
       "<table id=\"T_59068_\">\n",
       "  <thead>\n",
       "    <tr>\n",
       "      <th class=\"blank level0\" >&nbsp;</th>\n",
       "      <th class=\"col_heading level0 col0\" >Кол-во пользователей</th>\n",
       "      <th class=\"col_heading level0 col1\" >Кол-во должников</th>\n",
       "      <th class=\"col_heading level0 col2\" >% должников</th>\n",
       "      <th class=\"col_heading level0 col3\" >% НЕдолжников</th>\n",
       "    </tr>\n",
       "    <tr>\n",
       "      <th class=\"index_name level0\" >purpose_id</th>\n",
       "      <th class=\"blank col0\" >&nbsp;</th>\n",
       "      <th class=\"blank col1\" >&nbsp;</th>\n",
       "      <th class=\"blank col2\" >&nbsp;</th>\n",
       "      <th class=\"blank col3\" >&nbsp;</th>\n",
       "    </tr>\n",
       "  </thead>\n",
       "  <tbody>\n",
       "    <tr>\n",
       "      <th id=\"T_59068_level0_row0\" class=\"row_heading level0 row0\" >автомобиль</th>\n",
       "      <td id=\"T_59068_row0_col0\" class=\"data row0 col0\" >4304</td>\n",
       "      <td id=\"T_59068_row0_col1\" class=\"data row0 col1\" >402</td>\n",
       "      <td id=\"T_59068_row0_col2\" class=\"data row0 col2\" >9.34%</td>\n",
       "      <td id=\"T_59068_row0_col3\" class=\"data row0 col3\" >90.66%</td>\n",
       "    </tr>\n",
       "    <tr>\n",
       "      <th id=\"T_59068_level0_row1\" class=\"row_heading level0 row1\" >недвижимость</th>\n",
       "      <td id=\"T_59068_row1_col0\" class=\"data row1 col0\" >10815</td>\n",
       "      <td id=\"T_59068_row1_col1\" class=\"data row1 col1\" >782</td>\n",
       "      <td id=\"T_59068_row1_col2\" class=\"data row1 col2\" >7.23%</td>\n",
       "      <td id=\"T_59068_row1_col3\" class=\"data row1 col3\" >92.77%</td>\n",
       "    </tr>\n",
       "    <tr>\n",
       "      <th id=\"T_59068_level0_row2\" class=\"row_heading level0 row2\" >образование</th>\n",
       "      <td id=\"T_59068_row2_col0\" class=\"data row2 col0\" >4012</td>\n",
       "      <td id=\"T_59068_row2_col1\" class=\"data row2 col1\" >370</td>\n",
       "      <td id=\"T_59068_row2_col2\" class=\"data row2 col2\" >9.22%</td>\n",
       "      <td id=\"T_59068_row2_col3\" class=\"data row2 col3\" >90.78%</td>\n",
       "    </tr>\n",
       "    <tr>\n",
       "      <th id=\"T_59068_level0_row3\" class=\"row_heading level0 row3\" >свадьба</th>\n",
       "      <td id=\"T_59068_row3_col0\" class=\"data row3 col0\" >2346</td>\n",
       "      <td id=\"T_59068_row3_col1\" class=\"data row3 col1\" >186</td>\n",
       "      <td id=\"T_59068_row3_col2\" class=\"data row3 col2\" >7.93%</td>\n",
       "      <td id=\"T_59068_row3_col3\" class=\"data row3 col3\" >92.07%</td>\n",
       "    </tr>\n",
       "  </tbody>\n",
       "</table>\n"
      ],
      "text/plain": [
       "<pandas.io.formats.style.Styler at 0x1aca9d83400>"
      ]
     },
     "metadata": {},
     "output_type": "display_data"
    },
    {
     "data": {
      "image/png": "[encoded data removed]",
      "text/plain": [
       "<Figure size 576x288 with 1 Axes>"
      ]
     },
     "metadata": {
      "needs_background": "light"
     },
     "output_type": "display_data"
    }
   ],
   "source": [
    "# сводная таблица для определения того, как зависит возврат кредита в срок от цели кредита\n",
    "purpose_debt = data.pivot_table(index = 'purpose_id', values = 'debt', \n",
    "                            aggfunc = ['count', 'sum', 'mean', lambda x: 1 - x.mean()])\n",
    "purpose_debt.columns = ['Кол-во пользователей', 'Кол-во должников', '% должников', '% НЕдолжников']\n",
    "display(purpose_debt.style.format({'% должников': '{:.2%}', '% НЕдолжников': '{:.2%}'}))\n",
    "\n",
    "# график\n",
    "income_debt = sns.countplot(x = 'purpose_id', hue = 'debt', data = data, palette = 'Set1')\n",
    "plt.xlabel('Цель кредита', fontsize=12)\n",
    "plt.ylabel('Кол-во пользователей', fontsize=12)\n",
    "plt.title('Долг по кредиту и цель кредита', fontsize=18);\n",
    "plt.legend(bbox_to_anchor=(1, 1))\n",
    "plt.legend(['НЕдолжники', 'Должники'])\n",
    "income_debt.figure.set_figwidth(8)\n",
    "income_debt.figure.set_figheight(4)"
   ]
  },
  {
   "cell_type": "markdown",
   "metadata": {},
   "source": [
    "Прослеживается зависимость между целью кредита и его возвратом в срок. Самый низкий процент долгов наблюдается при кредитах на недвижимость и свадьбу - 7.23% и 7.93%. По кредитам на автомобиль и образование имеется почти одинаковый процент долгов - 9.34% и 9.22%.\n",
    "\n",
    "Посмотрим, как несколько факторов могут влиять на возврат кредита."
   ]
  },
  {
   "cell_type": "code",
   "execution_count": 30,
   "metadata": {},
   "outputs": [
    {
     "data": {
      "text/html": [
       "<style type=\"text/css\">\n",
       "</style>\n",
       "<table id=\"T_3db35_\">\n",
       "  <thead>\n",
       "    <tr>\n",
       "      <th class=\"blank level0\" >&nbsp;</th>\n",
       "      <th class=\"col_heading level0 col0\" >% должников без детей</th>\n",
       "      <th class=\"col_heading level0 col1\" >% должников с 1 ребенком</th>\n",
       "      <th class=\"col_heading level0 col2\" >% должников с 2 детьми и более</th>\n",
       "      <th class=\"col_heading level0 col3\" >% НЕдолжников без детей</th>\n",
       "      <th class=\"col_heading level0 col4\" >% НЕдолжников с 1 ребенком</th>\n",
       "      <th class=\"col_heading level0 col5\" >% НЕдолжников с 2 детьми и более</th>\n",
       "    </tr>\n",
       "    <tr>\n",
       "      <th class=\"index_name level0\" >family_status</th>\n",
       "      <th class=\"blank col0\" >&nbsp;</th>\n",
       "      <th class=\"blank col1\" >&nbsp;</th>\n",
       "      <th class=\"blank col2\" >&nbsp;</th>\n",
       "      <th class=\"blank col3\" >&nbsp;</th>\n",
       "      <th class=\"blank col4\" >&nbsp;</th>\n",
       "      <th class=\"blank col5\" >&nbsp;</th>\n",
       "    </tr>\n",
       "  </thead>\n",
       "  <tbody>\n",
       "    <tr>\n",
       "      <th id=\"T_3db35_level0_row0\" class=\"row_heading level0 row0\" >в разводе</th>\n",
       "      <td id=\"T_3db35_row0_col0\" class=\"data row0 col0\" >7.02%</td>\n",
       "      <td id=\"T_3db35_row0_col1\" class=\"data row0 col1\" >6.73%</td>\n",
       "      <td id=\"T_3db35_row0_col2\" class=\"data row0 col2\" >9.47%</td>\n",
       "      <td id=\"T_3db35_row0_col3\" class=\"data row0 col3\" >92.98%</td>\n",
       "      <td id=\"T_3db35_row0_col4\" class=\"data row0 col4\" >93.27%</td>\n",
       "      <td id=\"T_3db35_row0_col5\" class=\"data row0 col5\" >90.53%</td>\n",
       "    </tr>\n",
       "    <tr>\n",
       "      <th id=\"T_3db35_level0_row1\" class=\"row_heading level0 row1\" >вдовец / вдова</th>\n",
       "      <td id=\"T_3db35_row1_col0\" class=\"data row1 col0\" >6.25%</td>\n",
       "      <td id=\"T_3db35_row1_col1\" class=\"data row1 col1\" >9.09%</td>\n",
       "      <td id=\"T_3db35_row1_col2\" class=\"data row1 col2\" >9.68%</td>\n",
       "      <td id=\"T_3db35_row1_col3\" class=\"data row1 col3\" >93.75%</td>\n",
       "      <td id=\"T_3db35_row1_col4\" class=\"data row1 col4\" >90.91%</td>\n",
       "      <td id=\"T_3db35_row1_col5\" class=\"data row1 col5\" >90.32%</td>\n",
       "    </tr>\n",
       "    <tr>\n",
       "      <th id=\"T_3db35_level0_row2\" class=\"row_heading level0 row2\" >гражданский брак</th>\n",
       "      <td id=\"T_3db35_row2_col0\" class=\"data row2 col0\" >8.32%</td>\n",
       "      <td id=\"T_3db35_row2_col1\" class=\"data row2 col1\" >11.82%</td>\n",
       "      <td id=\"T_3db35_row2_col2\" class=\"data row2 col2\" >9.72%</td>\n",
       "      <td id=\"T_3db35_row2_col3\" class=\"data row2 col3\" >91.68%</td>\n",
       "      <td id=\"T_3db35_row2_col4\" class=\"data row2 col4\" >88.18%</td>\n",
       "      <td id=\"T_3db35_row2_col5\" class=\"data row2 col5\" >90.28%</td>\n",
       "    </tr>\n",
       "    <tr>\n",
       "      <th id=\"T_3db35_level0_row3\" class=\"row_heading level0 row3\" >женат / замужем</th>\n",
       "      <td id=\"T_3db35_row3_col0\" class=\"data row3 col0\" >6.88%</td>\n",
       "      <td id=\"T_3db35_row3_col1\" class=\"data row3 col1\" >8.25%</td>\n",
       "      <td id=\"T_3db35_row3_col2\" class=\"data row3 col2\" >8.99%</td>\n",
       "      <td id=\"T_3db35_row3_col3\" class=\"data row3 col3\" >93.12%</td>\n",
       "      <td id=\"T_3db35_row3_col4\" class=\"data row3 col4\" >91.75%</td>\n",
       "      <td id=\"T_3db35_row3_col5\" class=\"data row3 col5\" >91.01%</td>\n",
       "    </tr>\n",
       "    <tr>\n",
       "      <th id=\"T_3db35_level0_row4\" class=\"row_heading level0 row4\" >не женат / не замужем</th>\n",
       "      <td id=\"T_3db35_row4_col0\" class=\"data row4 col0\" >9.27%</td>\n",
       "      <td id=\"T_3db35_row4_col1\" class=\"data row4 col1\" >11.58%</td>\n",
       "      <td id=\"T_3db35_row4_col2\" class=\"data row4 col2\" >12.77%</td>\n",
       "      <td id=\"T_3db35_row4_col3\" class=\"data row4 col3\" >90.73%</td>\n",
       "      <td id=\"T_3db35_row4_col4\" class=\"data row4 col4\" >88.42%</td>\n",
       "      <td id=\"T_3db35_row4_col5\" class=\"data row4 col5\" >87.23%</td>\n",
       "    </tr>\n",
       "  </tbody>\n",
       "</table>\n"
      ],
      "text/plain": [
       "<pandas.io.formats.style.Styler at 0x1acaa815f10>"
      ]
     },
     "execution_count": 30,
     "metadata": {},
     "output_type": "execute_result"
    }
   ],
   "source": [
    "# сводная таблица для определения того, как зависит возврат кредита в срок от наличия детей и семейного положения клиента\n",
    "family_child_debt = data.pivot_table(index='family_status',values='debt',\n",
    "                                     columns='children_id',\n",
    "                                     aggfunc=['mean', lambda x: 1 - x.mean()])\n",
    "family_child_debt.columns = ['% должников без детей',\n",
    "                             '% должников с 1 ребенком',\n",
    "                             '% должников с 2 детьми и более',\n",
    "                             '% НЕдолжников без детей',\n",
    "                             '% НЕдолжников с 1 ребенком',\n",
    "                             '% НЕдолжников с 2 детьми и более']\n",
    "family_child_debt.style.format({'% должников без детей': '{:.2%}',\n",
    "                                '% должников с 1 ребенком': '{:.2%}',\n",
    "                                '% должников с 2 детьми и более': '{:.2%}',\n",
    "                                '% НЕдолжников без детей': '{:.2%}',\n",
    "                                '% НЕдолжников с 1 ребенком': '{:.2%}',\n",
    "                                '% НЕдолжников с 2 детьми и более': '{:.2%}'})"
   ]
  },
  {
   "cell_type": "markdown",
   "metadata": {},
   "source": [
    "Наличие двух детей или более делает выше процент долгов по кредитам на 2% среди тех, кто находится в разводе. У тех, кто находится в гражданском браке, количество долгов по кредитам выше на 2% при наличии одного ребенка в семье, если сравнивать с аналогичными семьями, имеющими двоих детей или более, и на 3% выше, если сравнивать с теми, кто детей не имеет. В целом наличие двух детей и более повышает процент невозвратов кредита, исключение можно сделать для тех, кто замужем или женат. В этой категории количество детей не очень влияет на возвратность кредита."
   ]
  },
  {
   "cell_type": "code",
   "execution_count": 31,
   "metadata": {},
   "outputs": [
    {
     "data": {
      "text/html": [
       "<style type=\"text/css\">\n",
       "</style>\n",
       "<table id=\"T_b15da_\">\n",
       "  <thead>\n",
       "    <tr>\n",
       "      <th class=\"blank level0\" >&nbsp;</th>\n",
       "      <th class=\"col_heading level0 col0\" >% должников без детей</th>\n",
       "      <th class=\"col_heading level0 col1\" >% должников с 1 ребенком</th>\n",
       "      <th class=\"col_heading level0 col2\" >% должников с 2 детьми и более</th>\n",
       "      <th class=\"col_heading level0 col3\" >% НЕдолжников без детей</th>\n",
       "      <th class=\"col_heading level0 col4\" >% НЕдолжников с 1 ребенком</th>\n",
       "      <th class=\"col_heading level0 col5\" >% НЕдолжников с 2 детьми и более</th>\n",
       "    </tr>\n",
       "    <tr>\n",
       "      <th class=\"index_name level0\" >income_id</th>\n",
       "      <th class=\"blank col0\" >&nbsp;</th>\n",
       "      <th class=\"blank col1\" >&nbsp;</th>\n",
       "      <th class=\"blank col2\" >&nbsp;</th>\n",
       "      <th class=\"blank col3\" >&nbsp;</th>\n",
       "      <th class=\"blank col4\" >&nbsp;</th>\n",
       "      <th class=\"blank col5\" >&nbsp;</th>\n",
       "    </tr>\n",
       "  </thead>\n",
       "  <tbody>\n",
       "    <tr>\n",
       "      <th id=\"T_b15da_level0_row0\" class=\"row_heading level0 row0\" >110-150 тыс.</th>\n",
       "      <td id=\"T_b15da_row0_col0\" class=\"data row0 col0\" >7.92%</td>\n",
       "      <td id=\"T_b15da_row0_col1\" class=\"data row0 col1\" >9.93%</td>\n",
       "      <td id=\"T_b15da_row0_col2\" class=\"data row0 col2\" >10.40%</td>\n",
       "      <td id=\"T_b15da_row0_col3\" class=\"data row0 col3\" >92.08%</td>\n",
       "      <td id=\"T_b15da_row0_col4\" class=\"data row0 col4\" >90.07%</td>\n",
       "      <td id=\"T_b15da_row0_col5\" class=\"data row0 col5\" >89.60%</td>\n",
       "    </tr>\n",
       "    <tr>\n",
       "      <th id=\"T_b15da_level0_row1\" class=\"row_heading level0 row1\" >150-200 тыс</th>\n",
       "      <td id=\"T_b15da_row1_col0\" class=\"data row1 col0\" >7.88%</td>\n",
       "      <td id=\"T_b15da_row1_col1\" class=\"data row1 col1\" >9.64%</td>\n",
       "      <td id=\"T_b15da_row1_col2\" class=\"data row1 col2\" >9.72%</td>\n",
       "      <td id=\"T_b15da_row1_col3\" class=\"data row1 col3\" >92.12%</td>\n",
       "      <td id=\"T_b15da_row1_col4\" class=\"data row1 col4\" >90.36%</td>\n",
       "      <td id=\"T_b15da_row1_col5\" class=\"data row1 col5\" >90.28%</td>\n",
       "    </tr>\n",
       "    <tr>\n",
       "      <th id=\"T_b15da_level0_row2\" class=\"row_heading level0 row2\" >< 110 тыс.</th>\n",
       "      <td id=\"T_b15da_row2_col0\" class=\"data row2 col0\" >7.41%</td>\n",
       "      <td id=\"T_b15da_row2_col1\" class=\"data row2 col1\" >9.63%</td>\n",
       "      <td id=\"T_b15da_row2_col2\" class=\"data row2 col2\" >9.23%</td>\n",
       "      <td id=\"T_b15da_row2_col3\" class=\"data row2 col3\" >92.59%</td>\n",
       "      <td id=\"T_b15da_row2_col4\" class=\"data row2 col4\" >90.37%</td>\n",
       "      <td id=\"T_b15da_row2_col5\" class=\"data row2 col5\" >90.77%</td>\n",
       "    </tr>\n",
       "    <tr>\n",
       "      <th id=\"T_b15da_level0_row3\" class=\"row_heading level0 row3\" >> 200 тыс.</th>\n",
       "      <td id=\"T_b15da_row3_col0\" class=\"data row3 col0\" >6.79%</td>\n",
       "      <td id=\"T_b15da_row3_col1\" class=\"data row3 col1\" >7.57%</td>\n",
       "      <td id=\"T_b15da_row3_col2\" class=\"data row3 col2\" >7.68%</td>\n",
       "      <td id=\"T_b15da_row3_col3\" class=\"data row3 col3\" >93.21%</td>\n",
       "      <td id=\"T_b15da_row3_col4\" class=\"data row3 col4\" >92.43%</td>\n",
       "      <td id=\"T_b15da_row3_col5\" class=\"data row3 col5\" >92.32%</td>\n",
       "    </tr>\n",
       "  </tbody>\n",
       "</table>\n"
      ],
      "text/plain": [
       "<pandas.io.formats.style.Styler at 0x1acaa7b15b0>"
      ]
     },
     "execution_count": 31,
     "metadata": {},
     "output_type": "execute_result"
    }
   ],
   "source": [
    "# сводная таблица для определения того, как зависит возврат кредита в срок от наличия детей у клиента и его уровня дохода\n",
    "income_child_debt = data.pivot_table(index='income_id',values='debt',\n",
    "                                     columns='children_id',\n",
    "                                     aggfunc=['mean', lambda x: 1 - x.mean()])\n",
    "income_child_debt.columns = ['% должников без детей',\n",
    "                             '% должников с 1 ребенком',\n",
    "                             '% должников с 2 детьми и более',\n",
    "                             '% НЕдолжников без детей',\n",
    "                             '% НЕдолжников с 1 ребенком',\n",
    "                             '% НЕдолжников с 2 детьми и более']\n",
    "income_child_debt.style.format({'% должников без детей': '{:.2%}',\n",
    "                                '% должников с 1 ребенком': '{:.2%}',\n",
    "                                '% должников с 2 детьми и более': '{:.2%}',\n",
    "                                '% НЕдолжников без детей': '{:.2%}',\n",
    "                                '% НЕдолжников с 1 ребенком': '{:.2%}',\n",
    "                                '% НЕдолжников с 2 детьми и более': '{:.2%}'})"
   ]
  },
  {
   "cell_type": "markdown",
   "metadata": {},
   "source": [
    "При доходе выше 150 тысяч или ниже 110 тысяч количество детей никак не влияет на возвратность кредита. При доходе же от 110 до 150 тысяч наличие двух детей или более повышает вероятность долга по кредиту на 1%."
   ]
  },
  {
   "cell_type": "code",
   "execution_count": 32,
   "metadata": {},
   "outputs": [
    {
     "data": {
      "text/html": [
       "<style type=\"text/css\">\n",
       "</style>\n",
       "<table id=\"T_8b2f2_\">\n",
       "  <thead>\n",
       "    <tr>\n",
       "      <th class=\"blank level0\" >&nbsp;</th>\n",
       "      <th class=\"col_heading level0 col0\" >% должников с доходом 110-150 тыс.</th>\n",
       "      <th class=\"col_heading level0 col1\" >% должников с доходом 150-200 тыс.</th>\n",
       "      <th class=\"col_heading level0 col2\" >% должников с доходом < 110 тыс.</th>\n",
       "      <th class=\"col_heading level0 col3\" >% должников с доходом > 200 тыс.</th>\n",
       "      <th class=\"col_heading level0 col4\" >% НЕдолжников с доходом 110-150 тыс.</th>\n",
       "      <th class=\"col_heading level0 col5\" >% НЕдолжников с доходом 150-200 тыс.</th>\n",
       "      <th class=\"col_heading level0 col6\" >% НЕдолжников с доходом < 110 тыс.</th>\n",
       "      <th class=\"col_heading level0 col7\" >% НЕдолжников с доходом > 200 тыс.</th>\n",
       "    </tr>\n",
       "    <tr>\n",
       "      <th class=\"index_name level0\" >family_status</th>\n",
       "      <th class=\"blank col0\" >&nbsp;</th>\n",
       "      <th class=\"blank col1\" >&nbsp;</th>\n",
       "      <th class=\"blank col2\" >&nbsp;</th>\n",
       "      <th class=\"blank col3\" >&nbsp;</th>\n",
       "      <th class=\"blank col4\" >&nbsp;</th>\n",
       "      <th class=\"blank col5\" >&nbsp;</th>\n",
       "      <th class=\"blank col6\" >&nbsp;</th>\n",
       "      <th class=\"blank col7\" >&nbsp;</th>\n",
       "    </tr>\n",
       "  </thead>\n",
       "  <tbody>\n",
       "    <tr>\n",
       "      <th id=\"T_8b2f2_level0_row0\" class=\"row_heading level0 row0\" >в разводе</th>\n",
       "      <td id=\"T_8b2f2_row0_col0\" class=\"data row0 col0\" >8.21%</td>\n",
       "      <td id=\"T_8b2f2_row0_col1\" class=\"data row0 col1\" >6.47%</td>\n",
       "      <td id=\"T_8b2f2_row0_col2\" class=\"data row0 col2\" >7.36%</td>\n",
       "      <td id=\"T_8b2f2_row0_col3\" class=\"data row0 col3\" >6.32%</td>\n",
       "      <td id=\"T_8b2f2_row0_col4\" class=\"data row0 col4\" >91.79%</td>\n",
       "      <td id=\"T_8b2f2_row0_col5\" class=\"data row0 col5\" >93.53%</td>\n",
       "      <td id=\"T_8b2f2_row0_col6\" class=\"data row0 col6\" >92.64%</td>\n",
       "      <td id=\"T_8b2f2_row0_col7\" class=\"data row0 col7\" >93.68%</td>\n",
       "    </tr>\n",
       "    <tr>\n",
       "      <th id=\"T_8b2f2_level0_row1\" class=\"row_heading level0 row1\" >вдовец / вдова</th>\n",
       "      <td id=\"T_8b2f2_row1_col0\" class=\"data row1 col0\" >6.33%</td>\n",
       "      <td id=\"T_8b2f2_row1_col1\" class=\"data row1 col1\" >11.05%</td>\n",
       "      <td id=\"T_8b2f2_row1_col2\" class=\"data row1 col2\" >4.86%</td>\n",
       "      <td id=\"T_8b2f2_row1_col3\" class=\"data row1 col3\" >5.81%</td>\n",
       "      <td id=\"T_8b2f2_row1_col4\" class=\"data row1 col4\" >93.67%</td>\n",
       "      <td id=\"T_8b2f2_row1_col5\" class=\"data row1 col5\" >88.95%</td>\n",
       "      <td id=\"T_8b2f2_row1_col6\" class=\"data row1 col6\" >95.14%</td>\n",
       "      <td id=\"T_8b2f2_row1_col7\" class=\"data row1 col7\" >94.19%</td>\n",
       "    </tr>\n",
       "    <tr>\n",
       "      <th id=\"T_8b2f2_level0_row2\" class=\"row_heading level0 row2\" >гражданский брак</th>\n",
       "      <td id=\"T_8b2f2_row2_col0\" class=\"data row2 col0\" >10.94%</td>\n",
       "      <td id=\"T_8b2f2_row2_col1\" class=\"data row2 col1\" >10.11%</td>\n",
       "      <td id=\"T_8b2f2_row2_col2\" class=\"data row2 col2\" >9.23%</td>\n",
       "      <td id=\"T_8b2f2_row2_col3\" class=\"data row2 col3\" >6.63%</td>\n",
       "      <td id=\"T_8b2f2_row2_col4\" class=\"data row2 col4\" >89.06%</td>\n",
       "      <td id=\"T_8b2f2_row2_col5\" class=\"data row2 col5\" >89.89%</td>\n",
       "      <td id=\"T_8b2f2_row2_col6\" class=\"data row2 col6\" >90.77%</td>\n",
       "      <td id=\"T_8b2f2_row2_col7\" class=\"data row2 col7\" >93.37%</td>\n",
       "    </tr>\n",
       "    <tr>\n",
       "      <th id=\"T_8b2f2_level0_row3\" class=\"row_heading level0 row3\" >женат / замужем</th>\n",
       "      <td id=\"T_8b2f2_row3_col0\" class=\"data row3 col0\" >7.91%</td>\n",
       "      <td id=\"T_8b2f2_row3_col1\" class=\"data row3 col1\" >7.39%</td>\n",
       "      <td id=\"T_8b2f2_row3_col2\" class=\"data row3 col2\" >7.86%</td>\n",
       "      <td id=\"T_8b2f2_row3_col3\" class=\"data row3 col3\" >6.87%</td>\n",
       "      <td id=\"T_8b2f2_row3_col4\" class=\"data row3 col4\" >92.09%</td>\n",
       "      <td id=\"T_8b2f2_row3_col5\" class=\"data row3 col5\" >92.61%</td>\n",
       "      <td id=\"T_8b2f2_row3_col6\" class=\"data row3 col6\" >92.14%</td>\n",
       "      <td id=\"T_8b2f2_row3_col7\" class=\"data row3 col7\" >93.13%</td>\n",
       "    </tr>\n",
       "    <tr>\n",
       "      <th id=\"T_8b2f2_level0_row4\" class=\"row_heading level0 row4\" >не женат / не замужем</th>\n",
       "      <td id=\"T_8b2f2_row4_col0\" class=\"data row4 col0\" >9.57%</td>\n",
       "      <td id=\"T_8b2f2_row4_col1\" class=\"data row4 col1\" >11.23%</td>\n",
       "      <td id=\"T_8b2f2_row4_col2\" class=\"data row4 col2\" >9.12%</td>\n",
       "      <td id=\"T_8b2f2_row4_col3\" class=\"data row4 col3\" >9.27%</td>\n",
       "      <td id=\"T_8b2f2_row4_col4\" class=\"data row4 col4\" >90.43%</td>\n",
       "      <td id=\"T_8b2f2_row4_col5\" class=\"data row4 col5\" >88.77%</td>\n",
       "      <td id=\"T_8b2f2_row4_col6\" class=\"data row4 col6\" >90.88%</td>\n",
       "      <td id=\"T_8b2f2_row4_col7\" class=\"data row4 col7\" >90.73%</td>\n",
       "    </tr>\n",
       "  </tbody>\n",
       "</table>\n"
      ],
      "text/plain": [
       "<pandas.io.formats.style.Styler at 0x1acaa831fd0>"
      ]
     },
     "execution_count": 32,
     "metadata": {},
     "output_type": "execute_result"
    }
   ],
   "source": [
    "# сводная таблица для определения того, как зависит возврат кредита в срок от семейного статуса клиента и его уровня дохода\n",
    "family_income_debt = data.pivot_table(index='family_status',values='debt',\n",
    "                                     columns='income_id',\n",
    "                                     aggfunc=['mean', lambda x: 1 - x.mean()])\n",
    "family_income_debt.columns = ['% должников с доходом 110-150 тыс.',\n",
    "                             '% должников с доходом 150-200 тыс.',\n",
    "                             '% должников с доходом < 110 тыс.',\n",
    "                             '% должников с доходом > 200 тыс.',\n",
    "                             '% НЕдолжников с доходом 110-150 тыс.',\n",
    "                             '% НЕдолжников с доходом 150-200 тыс.',\n",
    "                             '% НЕдолжников с доходом < 110 тыс.',\n",
    "                             '% НЕдолжников с доходом > 200 тыс.']\n",
    "family_income_debt.style.format({'% должников с доходом 110-150 тыс.': '{:.2%}',\n",
    "                                '% должников с доходом 150-200 тыс.': '{:.2%}',\n",
    "                                '% должников с доходом < 110 тыс.': '{:.2%}',\n",
    "                                '% должников с доходом > 200 тыс.': '{:.2%}',\n",
    "                                '% НЕдолжников с доходом 110-150 тыс.': '{:.2%}',\n",
    "                                '% НЕдолжников с доходом 150-200 тыс.': '{:.2%}',\n",
    "                                '% НЕдолжников с доходом < 110 тыс.': '{:.2%}',\n",
    "                                '% НЕдолжников с доходом > 200 тыс.': '{:.2%}',})"
   ]
  },
  {
   "cell_type": "markdown",
   "metadata": {},
   "source": [
    "Среди тех, кто находится в разводе или в гражданском браке больше должников с доходом от 110 до 150 тысяч. Среди вдов и вдовцов и тех, кто не женат / не замужем больше долгов у тех, кто зарабатывает от 150 до 200 тысяч. В категории женатых и замужних доход особо не влияет на возратность кредита, если он не составляет больше 200 тысяч."
   ]
  },
  {
   "cell_type": "code",
   "execution_count": 33,
   "metadata": {},
   "outputs": [
    {
     "data": {
      "text/html": [
       "<style type=\"text/css\">\n",
       "</style>\n",
       "<table id=\"T_1bc7d_\">\n",
       "  <thead>\n",
       "    <tr>\n",
       "      <th class=\"blank level0\" >&nbsp;</th>\n",
       "      <th class=\"col_heading level0 col0\" >% должников с кредитом на автомобиль</th>\n",
       "      <th class=\"col_heading level0 col1\" >% должников с кредитом на недвижимость</th>\n",
       "      <th class=\"col_heading level0 col2\" >% должников с кредитом на образование</th>\n",
       "      <th class=\"col_heading level0 col3\" >% должников с кредитом на свадьбу</th>\n",
       "      <th class=\"col_heading level0 col4\" >% НЕдолжников с кредитом на автомобиль</th>\n",
       "      <th class=\"col_heading level0 col5\" >% НЕдолжников с кредитом на недвижимость</th>\n",
       "      <th class=\"col_heading level0 col6\" >% НЕдолжников с кредитом на образование</th>\n",
       "      <th class=\"col_heading level0 col7\" >% НЕдолжников с кредитом на свадьбу</th>\n",
       "    </tr>\n",
       "    <tr>\n",
       "      <th class=\"index_name level0\" >family_status</th>\n",
       "      <th class=\"blank col0\" >&nbsp;</th>\n",
       "      <th class=\"blank col1\" >&nbsp;</th>\n",
       "      <th class=\"blank col2\" >&nbsp;</th>\n",
       "      <th class=\"blank col3\" >&nbsp;</th>\n",
       "      <th class=\"blank col4\" >&nbsp;</th>\n",
       "      <th class=\"blank col5\" >&nbsp;</th>\n",
       "      <th class=\"blank col6\" >&nbsp;</th>\n",
       "      <th class=\"blank col7\" >&nbsp;</th>\n",
       "    </tr>\n",
       "  </thead>\n",
       "  <tbody>\n",
       "    <tr>\n",
       "      <th id=\"T_1bc7d_level0_row0\" class=\"row_heading level0 row0\" >в разводе</th>\n",
       "      <td id=\"T_1bc7d_row0_col0\" class=\"data row0 col0\" >7.53%</td>\n",
       "      <td id=\"T_1bc7d_row0_col1\" class=\"data row0 col1\" >6.97%</td>\n",
       "      <td id=\"T_1bc7d_row0_col2\" class=\"data row0 col2\" >7.14%</td>\n",
       "      <td id=\"T_1bc7d_row0_col3\" class=\"data row0 col3\" >nan%</td>\n",
       "      <td id=\"T_1bc7d_row0_col4\" class=\"data row0 col4\" >92.47%</td>\n",
       "      <td id=\"T_1bc7d_row0_col5\" class=\"data row0 col5\" >93.03%</td>\n",
       "      <td id=\"T_1bc7d_row0_col6\" class=\"data row0 col6\" >92.86%</td>\n",
       "      <td id=\"T_1bc7d_row0_col7\" class=\"data row0 col7\" >nan%</td>\n",
       "    </tr>\n",
       "    <tr>\n",
       "      <th id=\"T_1bc7d_level0_row1\" class=\"row_heading level0 row1\" >вдовец / вдова</th>\n",
       "      <td id=\"T_1bc7d_row1_col0\" class=\"data row1 col0\" >9.17%</td>\n",
       "      <td id=\"T_1bc7d_row1_col1\" class=\"data row1 col1\" >5.19%</td>\n",
       "      <td id=\"T_1bc7d_row1_col2\" class=\"data row1 col2\" >7.58%</td>\n",
       "      <td id=\"T_1bc7d_row1_col3\" class=\"data row1 col3\" >nan%</td>\n",
       "      <td id=\"T_1bc7d_row1_col4\" class=\"data row1 col4\" >90.83%</td>\n",
       "      <td id=\"T_1bc7d_row1_col5\" class=\"data row1 col5\" >94.81%</td>\n",
       "      <td id=\"T_1bc7d_row1_col6\" class=\"data row1 col6\" >92.42%</td>\n",
       "      <td id=\"T_1bc7d_row1_col7\" class=\"data row1 col7\" >nan%</td>\n",
       "    </tr>\n",
       "    <tr>\n",
       "      <th id=\"T_1bc7d_level0_row2\" class=\"row_heading level0 row2\" >гражданский брак</th>\n",
       "      <td id=\"T_1bc7d_row2_col0\" class=\"data row2 col0\" >11.81%</td>\n",
       "      <td id=\"T_1bc7d_row2_col1\" class=\"data row2 col1\" >9.19%</td>\n",
       "      <td id=\"T_1bc7d_row2_col2\" class=\"data row2 col2\" >14.89%</td>\n",
       "      <td id=\"T_1bc7d_row2_col3\" class=\"data row2 col3\" >7.93%</td>\n",
       "      <td id=\"T_1bc7d_row2_col4\" class=\"data row2 col4\" >88.19%</td>\n",
       "      <td id=\"T_1bc7d_row2_col5\" class=\"data row2 col5\" >90.81%</td>\n",
       "      <td id=\"T_1bc7d_row2_col6\" class=\"data row2 col6\" >85.11%</td>\n",
       "      <td id=\"T_1bc7d_row2_col7\" class=\"data row2 col7\" >92.07%</td>\n",
       "    </tr>\n",
       "    <tr>\n",
       "      <th id=\"T_1bc7d_level0_row3\" class=\"row_heading level0 row3\" >женат / замужем</th>\n",
       "      <td id=\"T_1bc7d_row3_col0\" class=\"data row3 col0\" >8.33%</td>\n",
       "      <td id=\"T_1bc7d_row3_col1\" class=\"data row3 col1\" >6.93%</td>\n",
       "      <td id=\"T_1bc7d_row3_col2\" class=\"data row3 col2\" >8.32%</td>\n",
       "      <td id=\"T_1bc7d_row3_col3\" class=\"data row3 col3\" >nan%</td>\n",
       "      <td id=\"T_1bc7d_row3_col4\" class=\"data row3 col4\" >91.67%</td>\n",
       "      <td id=\"T_1bc7d_row3_col5\" class=\"data row3 col5\" >93.07%</td>\n",
       "      <td id=\"T_1bc7d_row3_col6\" class=\"data row3 col6\" >91.68%</td>\n",
       "      <td id=\"T_1bc7d_row3_col7\" class=\"data row3 col7\" >nan%</td>\n",
       "    </tr>\n",
       "    <tr>\n",
       "      <th id=\"T_1bc7d_level0_row4\" class=\"row_heading level0 row4\" >не женат / не замужем</th>\n",
       "      <td id=\"T_1bc7d_row4_col0\" class=\"data row4 col0\" >12.87%</td>\n",
       "      <td id=\"T_1bc7d_row4_col1\" class=\"data row4 col1\" >8.16%</td>\n",
       "      <td id=\"T_1bc7d_row4_col2\" class=\"data row4 col2\" >10.75%</td>\n",
       "      <td id=\"T_1bc7d_row4_col3\" class=\"data row4 col3\" >nan%</td>\n",
       "      <td id=\"T_1bc7d_row4_col4\" class=\"data row4 col4\" >87.13%</td>\n",
       "      <td id=\"T_1bc7d_row4_col5\" class=\"data row4 col5\" >91.84%</td>\n",
       "      <td id=\"T_1bc7d_row4_col6\" class=\"data row4 col6\" >89.25%</td>\n",
       "      <td id=\"T_1bc7d_row4_col7\" class=\"data row4 col7\" >nan%</td>\n",
       "    </tr>\n",
       "  </tbody>\n",
       "</table>\n"
      ],
      "text/plain": [
       "<pandas.io.formats.style.Styler at 0x1aca3283ca0>"
      ]
     },
     "execution_count": 33,
     "metadata": {},
     "output_type": "execute_result"
    }
   ],
   "source": [
    "# сводная таблица для определения того, как зависит возврат кредита в срок от семейного статуса и цели кредита\n",
    "family_purpose_debt = data.pivot_table(index='family_status',values='debt',\n",
    "                                     columns='purpose_id',\n",
    "                                     aggfunc=['mean', lambda x: 1 - x.mean()])\n",
    "family_purpose_debt.columns = ['% должников с кредитом на автомобиль',\n",
    "                             '% должников с кредитом на недвижимость',\n",
    "                             '% должников с кредитом на образование',\n",
    "                             '% должников с кредитом на свадьбу',\n",
    "                             '% НЕдолжников с кредитом на автомобиль',\n",
    "                             '% НЕдолжников с кредитом на недвижимость',\n",
    "                             '% НЕдолжников с кредитом на образование',\n",
    "                             '% НЕдолжников с кредитом на свадьбу']\n",
    "family_purpose_debt.style.format({'% должников с кредитом на автомобиль': '{:.2%}',\n",
    "                                '% должников с кредитом на недвижимость': '{:.2%}',\n",
    "                                '% должников с кредитом на образование': '{:.2%}',\n",
    "                                '% должников с кредитом на свадьбу': '{:.2%}',\n",
    "                                '% НЕдолжников с кредитом на автомобиль': '{:.2%}',\n",
    "                                '% НЕдолжников с кредитом на недвижимость': '{:.2%}',\n",
    "                                '% НЕдолжников с кредитом на образование': '{:.2%}',\n",
    "                                '% НЕдолжников с кредитом на свадьбу': '{:.2%}',})"
   ]
  },
  {
   "cell_type": "markdown",
   "metadata": {},
   "source": [
    "Больший процент долгов по кредиту на недвижимость и образование у клиентов, состоящих в гражданском браке - 9% и 15% соответственно. 12-13% долгов по кредиту на автомобиль у тех, кто не женат/не замужем или в гражданском браке."
   ]
  },
  {
   "cell_type": "markdown",
   "metadata": {},
   "source": [
    "## Вывод"
   ]
  },
  {
   "cell_type": "markdown",
   "metadata": {},
   "source": [
    "<div class=\"alert alert-success\">\n",
    "\n",
    "Итак, мы проанализировали статистику о платёжеспособности клиентов банка и пришли к следующим выводам.\n",
    "\n",
    "**Семейное положение и количество детей клиента влияет на факт погашения кредита в срок, но это влияние незначительно и действует в совокупности с другими факторами, такими как доход клиента и цель кредита**.\n",
    "\n",
    "Однако, прежде чем переходить к подробным выводам, необходимо отметить несколько фактов, которые могут влиять на сделанные выводы.\n",
    "\n",
    "**Во-первых**, нужно отметить **наличие пропущенных значений**. Пропущенные значения выявлены в столбцах с информацией о количестве отработанных дней и доходе клиента. Возможно, это связано с ошибками при сборе данных. Так как для исследования данные о стаже не предоставляли для нас особый интерес, пропуски были заменены на нулевые значения. Недостающая информация в столбце о доходах была возмещена за счет заполнения пропусков медианными значениями доходов в зависимости от типа занятости. Вариант удаления строк с пропущенными значениями не считаем возможным, поскольку это приведет к 10% потери данных, что может оказаться существенным для результатов исследования.\n",
    "\n",
    "**Во-вторых**, были обнаружены **отрицательные значения** в столбцах с информацией о количестве детей и отработанных днях, что опять же могло быть резальтатом ошибок при сборе данных. Кроме того, было найдено одно **нетрадиционное значение** в столбце с информацией о поле клиентов. Поскольку количество иных значений в столбцах 'children' и 'gender' не превышает даже 1%, они были удалены. Отрицательные значения в столбце 'days_employed' оставлены, так как их процент достаточно велик и их удаление может существенно повлиять на результаты исследования. Трансформации они также не были подвергнуты, потому что для исследовательских задач в данном случае были не нужны.\n",
    "\n",
    "**В-третьих**, в данных были обнаружены **дубликаты**. Как кажется, к этому привело наличие пропусков в двух столбцах, отмеченное выше. Если бы данные были бы представлены в полном объеме, предполагаем, что этих дубликатов было бы меньше или не было бы совсем. В связи с предположением, что дублируемые строки могут не оказаться таковыми, они были оставлены и проанализированы наряду с другими данными. Стоит указать также разнобой в данных столбца с информацией об образовании клиентов, что могло возникнуть в случае, если при заполнении соответствуеющей информации не были учтены возможные варианты ее написания (строчными, прописными буквами и др.)\n",
    "\n",
    "Кроме указанных фактов, отметим, что для удобства анализа данных часть из них были **категоризированы**. Так, информация по цели кредита была классифицирована в зависимости от объекта кредита на четыре группы. Однако отметим, что такая категоризация не совсем удачна, поскольку из виду упускаются, например, такие факты, как то, для чего оформляется заем денежных средств: на покупку, строительство или ремонт недвижимости. Более детальная классификация не была возможна, так как информация была указана не всегда достаточно подробно.\n",
    "    \n",
    "Кроме того, категоризированы данные столбца с информацией о количестве детей. Выбраны три категории: '0', '1', '>2'. В категорию '0' попадают нулевые значения, в категорию '1' значения 1, а в категорию '>2' все остальные.\n",
    "Также были категоризированы данные столбца с суммами доходов клиентов банка. Значения категоризировались с шагом - 70 тысяч. Нулевые значения (заполненные пустоты) были отобраны в отдельную группу. В дальнейшем анализе эти данные участия не принимают.\n",
    "\n",
    "Перейдем непосредственно к **результатам исследования**.\n",
    "\n",
    "Если анализировать отдельно **влияние количества детей на возратность кредита**, то можно сказать, что не существует какой-либо закономерности между количеством детей и долгом по кредиту. Влияет только факт их наличия. Так, среди тех, кто имеет детей, 9% людей имеют долги по кредиту. Среди бездетных, имеющих долги, - 7.5%.\n",
    "\n",
    "**Зависимость между семейным положением и возвратом кредита в срок** есть, но она незначительна. Люди, либо находящиеся в гражданском браке, либо больше не имеющие вторую половину (развод, смерть супруга), имеют на 2% больше долгов по кредиту, чем те, кто находится в официальном браке или не женат / не замужем.\n",
    "\n",
    "Однако, если брать во внимание не только количество детей, но и семейное положение, то стоит отметить, что некоторая тенденция присутствует. Наличие двух детей или более делает выше процент долгов по кредитам на 2% среди тех, кто находится в разводе. У тех, кто находится в гражданском браке, количество долгов по кредитам выше на 2% при наличии одного ребенка в семье, если сравнивать с аналогичными семьями, имеющими двоих детей или более, и на 3% выше, если сравнивать с теми, кто детей не имеет. В целом наличие двух детей и более повышает процент невозвратов кредита, исключение можно сделать для тех, кто замужем или женат. В этой категории количество детей не очень влияет на возвратность кредита.\n",
    "\n",
    "Если анализировать **уровень дохода клиента и наличие/отсутствие у него детей**, то можно отметить, что при доходе выше 150 тысяч или ниже 110 тысяч количество детей никак не влияет на возвратность кредита. При доходе же от 110 до 150 тысяч наличие двух детей или более повышает вероятность долга по кредиту на 1%.\n",
    "\n",
    "Кроме того, можно отметить, что среди тех, кто находится в разводе или в гражданском браке больше должников с доходом от 110 до 150 тысяч. Среди вдов и вдовцов и тех, кто не женат / не замужем больше долгов у тех, кто зарабатывает от 150 до 200 тысяч. В категории женатых и замужних доход особо не влияет на возратность кредита, если он не составляет больше 200 тысяч. \n",
    "\n",
    "Если смотреть на **цель кредита**, то можно заметить, что больший процент долгов по кредиту на недвижимость и образование у клиентов, состоящих в гражданском браке - 9% и 15% соответственно. 12-13% долгов по кредиту на автомобиль у тех, кто не женат/не замужем или в гражданском браке.\n",
    "\n",
    "**Таким образом, можно говорить о влиянии количества детей и семейного положения клиента на возвратность кредита, но только при одновременном учете этих критериев или при сопоставлении с другими критериями, такими как цель кредита и доход**.  \n",
    "\n",
    "**Рекомендации**\n",
    "1. Попытаться устранить проблемы с возможными ошибками при сборе данных, чтобы избежать пропусков данных или их некорректного введения.\n",
    "2. Проработать момент с введением информации (как заполнять информацию: строчными, прописными буквами; насколько детальной вводить данные - информация по цели кредита).\n",
    "3. Выгружать данные с id клиентов. Это поможет избежать проблем с выявление дубликатов в таблице."
   ]
  }
 ],
 "metadata": {
  "ExecuteTimeLog": [
   {
    "duration": 636,
    "start_time": "2021-09-04T18:08:08.201Z"
   },
   {
    "duration": 66,
    "start_time": "2021-09-04T18:26:42.234Z"
   },
   {
    "duration": 65,
    "start_time": "2021-09-04T18:32:15.644Z"
   },
   {
    "duration": 67,
    "start_time": "2021-09-04T18:56:37.842Z"
   },
   {
    "duration": 388,
    "start_time": "2021-09-04T19:01:17.883Z"
   },
   {
    "duration": 322,
    "start_time": "2021-09-04T19:02:50.572Z"
   },
   {
    "duration": 69,
    "start_time": "2021-09-04T19:04:19.161Z"
   },
   {
    "duration": 71,
    "start_time": "2021-09-04T19:04:40.843Z"
   },
   {
    "duration": 362,
    "start_time": "2021-09-04T19:06:47.041Z"
   },
   {
    "duration": 64,
    "start_time": "2021-09-04T19:06:58.902Z"
   },
   {
    "duration": 65,
    "start_time": "2021-09-04T19:10:38.294Z"
   },
   {
    "duration": 65,
    "start_time": "2021-09-04T19:14:27.206Z"
   },
   {
    "duration": 147,
    "start_time": "2021-09-04T19:17:07.655Z"
   },
   {
    "duration": 75,
    "start_time": "2021-09-04T19:26:09.153Z"
   },
   {
    "duration": 74,
    "start_time": "2021-09-04T19:27:07.763Z"
   },
   {
    "duration": 99,
    "start_time": "2021-09-04T19:29:16.631Z"
   },
   {
    "duration": 66,
    "start_time": "2021-09-04T19:53:09.540Z"
   },
   {
    "duration": 66,
    "start_time": "2021-09-04T19:55:04.882Z"
   },
   {
    "duration": 72,
    "start_time": "2021-09-04T19:55:57.840Z"
   },
   {
    "duration": 69,
    "start_time": "2021-09-04T19:56:25.442Z"
   },
   {
    "duration": 72,
    "start_time": "2021-09-04T20:02:31.142Z"
   },
   {
    "duration": 66,
    "start_time": "2021-09-04T20:05:08.569Z"
   },
   {
    "duration": 68,
    "start_time": "2021-09-04T20:06:44.880Z"
   },
   {
    "duration": 1658,
    "start_time": "2021-09-05T15:20:17.652Z"
   },
   {
    "duration": 681,
    "start_time": "2021-09-05T17:15:55.753Z"
   },
   {
    "duration": 59,
    "start_time": "2021-09-05T17:16:54.588Z"
   },
   {
    "duration": 5,
    "start_time": "2021-09-05T17:21:47.704Z"
   },
   {
    "duration": 20,
    "start_time": "2021-09-05T17:22:59.995Z"
   },
   {
    "duration": 66,
    "start_time": "2021-09-05T17:24:00.338Z"
   },
   {
    "duration": 19,
    "start_time": "2021-09-05T17:32:03.697Z"
   },
   {
    "duration": 9,
    "start_time": "2021-09-05T17:32:36.127Z"
   },
   {
    "duration": 14,
    "start_time": "2021-09-05T17:36:34.154Z"
   },
   {
    "duration": 16,
    "start_time": "2021-09-05T17:36:45.777Z"
   },
   {
    "duration": 22,
    "start_time": "2021-09-05T17:36:59.847Z"
   },
   {
    "duration": 20,
    "start_time": "2021-09-05T17:37:17.103Z"
   },
   {
    "duration": 22,
    "start_time": "2021-09-05T17:38:20.795Z"
   },
   {
    "duration": 24,
    "start_time": "2021-09-05T17:42:04.992Z"
   },
   {
    "duration": 28,
    "start_time": "2021-09-05T17:43:42.512Z"
   },
   {
    "duration": 19,
    "start_time": "2021-09-05T17:44:05.637Z"
   },
   {
    "duration": 25,
    "start_time": "2021-09-05T17:44:52.494Z"
   },
   {
    "duration": 28,
    "start_time": "2021-09-05T17:45:11.620Z"
   },
   {
    "duration": 16,
    "start_time": "2021-09-05T17:48:40.542Z"
   },
   {
    "duration": 363,
    "start_time": "2021-09-05T17:49:11.001Z"
   },
   {
    "duration": 610,
    "start_time": "2021-09-05T17:49:46.090Z"
   },
   {
    "duration": 13,
    "start_time": "2021-09-05T17:49:51.782Z"
   },
   {
    "duration": 15,
    "start_time": "2021-09-05T17:50:28.232Z"
   },
   {
    "duration": 26,
    "start_time": "2021-09-05T17:51:12.990Z"
   },
   {
    "duration": 10,
    "start_time": "2021-09-05T17:55:27.648Z"
   },
   {
    "duration": 636,
    "start_time": "2021-09-05T17:55:40.040Z"
   },
   {
    "duration": 12,
    "start_time": "2021-09-05T17:55:46.986Z"
   },
   {
    "duration": 14,
    "start_time": "2021-09-05T17:56:16.973Z"
   },
   {
    "duration": 26,
    "start_time": "2021-09-05T18:06:11.257Z"
   },
   {
    "duration": 57,
    "start_time": "2021-09-05T18:33:20.823Z"
   },
   {
    "duration": 62,
    "start_time": "2021-09-05T18:34:18.308Z"
   },
   {
    "duration": 64,
    "start_time": "2021-09-05T18:35:43.320Z"
   },
   {
    "duration": 319,
    "start_time": "2021-09-05T19:10:16.805Z"
   },
   {
    "duration": 60,
    "start_time": "2021-09-05T19:10:31.770Z"
   },
   {
    "duration": 27,
    "start_time": "2021-09-05T19:10:42.226Z"
   },
   {
    "duration": 277,
    "start_time": "2021-09-05T19:10:47.474Z"
   },
   {
    "duration": 19,
    "start_time": "2021-09-05T19:13:41.554Z"
   },
   {
    "duration": 684,
    "start_time": "2021-09-05T19:20:01.052Z"
   },
   {
    "duration": 330,
    "start_time": "2021-09-05T19:28:44.518Z"
   },
   {
    "duration": 61,
    "start_time": "2021-09-05T19:28:56.112Z"
   },
   {
    "duration": 26,
    "start_time": "2021-09-05T19:29:09.487Z"
   },
   {
    "duration": 13,
    "start_time": "2021-09-05T19:29:15.445Z"
   },
   {
    "duration": 19,
    "start_time": "2021-09-05T19:37:10.679Z"
   },
   {
    "duration": 15,
    "start_time": "2021-09-05T19:39:11.699Z"
   },
   {
    "duration": 15,
    "start_time": "2021-09-05T19:39:30.119Z"
   },
   {
    "duration": 15,
    "start_time": "2021-09-05T19:39:36.999Z"
   },
   {
    "duration": 8,
    "start_time": "2021-09-05T19:41:50.043Z"
   },
   {
    "duration": 9,
    "start_time": "2021-09-05T19:42:14.517Z"
   },
   {
    "duration": 7,
    "start_time": "2021-09-05T19:43:04.762Z"
   },
   {
    "duration": 8,
    "start_time": "2021-09-05T19:43:15.112Z"
   },
   {
    "duration": 7,
    "start_time": "2021-09-05T19:43:21.486Z"
   },
   {
    "duration": 8,
    "start_time": "2021-09-05T19:43:29.899Z"
   },
   {
    "duration": 7,
    "start_time": "2021-09-05T19:43:38.257Z"
   },
   {
    "duration": 6,
    "start_time": "2021-09-05T19:43:47.599Z"
   },
   {
    "duration": 5,
    "start_time": "2021-09-05T19:44:16.909Z"
   },
   {
    "duration": 15,
    "start_time": "2021-09-05T19:45:41.227Z"
   },
   {
    "duration": 307,
    "start_time": "2021-09-05T19:50:30.139Z"
   },
   {
    "duration": 13,
    "start_time": "2021-09-05T19:53:21.807Z"
   },
   {
    "duration": 14,
    "start_time": "2021-09-05T19:54:21.579Z"
   },
   {
    "duration": 6,
    "start_time": "2021-09-05T19:56:43.576Z"
   },
   {
    "duration": 8,
    "start_time": "2021-09-05T19:57:15.278Z"
   },
   {
    "duration": 9,
    "start_time": "2021-09-05T19:57:29.607Z"
   },
   {
    "duration": 14400327,
    "start_time": "2021-09-05T15:58:59.786Z"
   },
   {
    "duration": 6320,
    "start_time": "2021-09-05T19:59:09.067Z"
   },
   {
    "duration": 7692,
    "start_time": "2021-09-05T19:59:48.112Z"
   },
   {
    "duration": 6728,
    "start_time": "2021-09-05T20:00:00.206Z"
   },
   {
    "duration": 6,
    "start_time": "2021-09-05T20:00:08.453Z"
   },
   {
    "duration": 4,
    "start_time": "2021-09-05T20:00:22.087Z"
   },
   {
    "duration": 262,
    "start_time": "2021-09-05T20:00:49.397Z"
   },
   {
    "duration": 542,
    "start_time": "2021-09-05T20:00:59.207Z"
   },
   {
    "duration": 5,
    "start_time": "2021-09-05T20:01:06.252Z"
   },
   {
    "duration": 6,
    "start_time": "2021-09-05T20:01:25.577Z"
   },
   {
    "duration": 6,
    "start_time": "2021-09-05T20:02:04.511Z"
   },
   {
    "duration": 6842,
    "start_time": "2021-09-05T20:02:32.547Z"
   },
   {
    "duration": 8,
    "start_time": "2021-09-05T20:03:07.729Z"
   },
   {
    "duration": 6,
    "start_time": "2021-09-05T20:03:39.120Z"
   },
   {
    "duration": 9,
    "start_time": "2021-09-05T20:03:52.306Z"
   },
   {
    "duration": 607,
    "start_time": "2021-09-06T18:09:25.627Z"
   },
   {
    "duration": 27,
    "start_time": "2021-09-06T18:09:32.669Z"
   },
   {
    "duration": 12,
    "start_time": "2021-09-06T18:09:46.370Z"
   },
   {
    "duration": 14,
    "start_time": "2021-09-06T18:21:48.399Z"
   },
   {
    "duration": 6,
    "start_time": "2021-09-06T18:22:42.237Z"
   },
   {
    "duration": 12,
    "start_time": "2021-09-06T18:25:48.665Z"
   },
   {
    "duration": 14,
    "start_time": "2021-09-06T18:25:54.158Z"
   },
   {
    "duration": 6,
    "start_time": "2021-09-06T18:34:34.328Z"
   },
   {
    "duration": 5,
    "start_time": "2021-09-06T18:34:48.279Z"
   },
   {
    "duration": 14,
    "start_time": "2021-09-06T18:35:28.173Z"
   },
   {
    "duration": 16,
    "start_time": "2021-09-06T18:42:25.650Z"
   },
   {
    "duration": 14,
    "start_time": "2021-09-06T18:42:46.899Z"
   },
   {
    "duration": 14,
    "start_time": "2021-09-06T18:42:58.729Z"
   },
   {
    "duration": 16,
    "start_time": "2021-09-06T18:43:08.468Z"
   },
   {
    "duration": 15,
    "start_time": "2021-09-06T18:43:18.926Z"
   },
   {
    "duration": 15,
    "start_time": "2021-09-06T18:43:32.599Z"
   },
   {
    "duration": 15,
    "start_time": "2021-09-06T18:43:39.019Z"
   },
   {
    "duration": 76,
    "start_time": "2021-09-06T18:45:39.918Z"
   },
   {
    "duration": 321,
    "start_time": "2021-09-06T18:45:45.958Z"
   },
   {
    "duration": 388,
    "start_time": "2021-09-06T18:45:55.497Z"
   },
   {
    "duration": 235,
    "start_time": "2021-09-06T18:46:04.737Z"
   },
   {
    "duration": 256,
    "start_time": "2021-09-06T18:46:14.403Z"
   },
   {
    "duration": 266,
    "start_time": "2021-09-06T19:07:12.917Z"
   },
   {
    "duration": 270,
    "start_time": "2021-09-06T19:08:21.899Z"
   },
   {
    "duration": 256,
    "start_time": "2021-09-06T19:12:21.958Z"
   },
   {
    "duration": 63,
    "start_time": "2021-09-06T19:12:26.898Z"
   },
   {
    "duration": 41,
    "start_time": "2021-09-06T19:12:32.424Z"
   },
   {
    "duration": 12,
    "start_time": "2021-09-06T19:12:36.288Z"
   },
   {
    "duration": 6,
    "start_time": "2021-09-06T19:12:40.497Z"
   },
   {
    "duration": 7,
    "start_time": "2021-09-06T19:13:36.258Z"
   },
   {
    "duration": 8,
    "start_time": "2021-09-06T19:23:26.208Z"
   },
   {
    "duration": 10,
    "start_time": "2021-09-06T19:25:22.499Z"
   },
   {
    "duration": 12,
    "start_time": "2021-09-06T19:26:58.982Z"
   },
   {
    "duration": 15,
    "start_time": "2021-09-06T19:28:18.078Z"
   },
   {
    "duration": 16,
    "start_time": "2021-09-06T19:28:58.582Z"
   },
   {
    "duration": 19,
    "start_time": "2021-09-06T19:30:25.308Z"
   },
   {
    "duration": 19,
    "start_time": "2021-09-06T19:31:07.111Z"
   },
   {
    "duration": 20,
    "start_time": "2021-09-06T19:32:39.398Z"
   },
   {
    "duration": 755,
    "start_time": "2021-09-07T17:20:20.983Z"
   },
   {
    "duration": 40,
    "start_time": "2021-09-07T17:22:21.578Z"
   },
   {
    "duration": 20,
    "start_time": "2021-09-07T17:26:29.671Z"
   },
   {
    "duration": 8,
    "start_time": "2021-09-07T17:27:47.276Z"
   },
   {
    "duration": 23,
    "start_time": "2021-09-07T17:30:19.077Z"
   },
   {
    "duration": 39,
    "start_time": "2021-09-07T17:30:34.313Z"
   },
   {
    "duration": 24,
    "start_time": "2021-09-07T17:45:22.177Z"
   },
   {
    "duration": 9,
    "start_time": "2021-09-07T17:59:14.144Z"
   },
   {
    "duration": 30,
    "start_time": "2021-09-07T18:14:18.271Z"
   },
   {
    "duration": 7191,
    "start_time": "2021-09-07T18:17:10.084Z"
   },
   {
    "duration": 412,
    "start_time": "2021-09-07T18:19:17.742Z"
   },
   {
    "duration": 267,
    "start_time": "2021-09-07T18:19:58.497Z"
   },
   {
    "duration": 441,
    "start_time": "2021-09-07T18:22:09.922Z"
   },
   {
    "duration": 12,
    "start_time": "2021-09-07T18:25:39.593Z"
   },
   {
    "duration": 14,
    "start_time": "2021-09-07T18:28:30.699Z"
   },
   {
    "duration": 28,
    "start_time": "2021-09-07T18:28:48.101Z"
   },
   {
    "duration": 277,
    "start_time": "2021-09-07T18:33:41.112Z"
   },
   {
    "duration": 40,
    "start_time": "2021-09-07T18:33:59.223Z"
   },
   {
    "duration": 34,
    "start_time": "2021-09-07T18:34:43.025Z"
   },
   {
    "duration": 52,
    "start_time": "2021-09-07T18:36:43.903Z"
   },
   {
    "duration": 50,
    "start_time": "2021-09-07T18:37:23.301Z"
   },
   {
    "duration": 58,
    "start_time": "2021-09-07T18:38:36.980Z"
   },
   {
    "duration": 60,
    "start_time": "2021-09-07T18:40:11.350Z"
   },
   {
    "duration": 85,
    "start_time": "2021-09-07T18:41:32.341Z"
   },
   {
    "duration": 73,
    "start_time": "2021-09-07T18:42:22.340Z"
   },
   {
    "duration": 80,
    "start_time": "2021-09-07T18:44:00.189Z"
   },
   {
    "duration": 93,
    "start_time": "2021-09-07T18:44:35.166Z"
   },
   {
    "duration": 1000,
    "start_time": "2021-09-07T18:50:54.770Z"
   },
   {
    "duration": 374,
    "start_time": "2021-09-07T18:51:43.108Z"
   },
   {
    "duration": 947,
    "start_time": "2021-09-07T18:53:07.107Z"
   },
   {
    "duration": 972,
    "start_time": "2021-09-07T18:53:53.299Z"
   },
   {
    "duration": 954,
    "start_time": "2021-09-07T19:02:47.039Z"
   },
   {
    "duration": 49,
    "start_time": "2021-09-07T19:03:21.217Z"
   },
   {
    "duration": 40,
    "start_time": "2021-09-07T19:03:57.304Z"
   },
   {
    "duration": 92,
    "start_time": "2021-09-07T19:17:09.723Z"
   },
   {
    "duration": 65,
    "start_time": "2021-09-07T19:17:19.098Z"
   },
   {
    "duration": 4514,
    "start_time": "2021-09-07T19:21:31.068Z"
   },
   {
    "duration": 4830,
    "start_time": "2021-09-07T19:25:19.240Z"
   },
   {
    "duration": 4639,
    "start_time": "2021-09-07T19:34:39.991Z"
   },
   {
    "duration": 335,
    "start_time": "2021-09-07T19:35:34.078Z"
   },
   {
    "duration": 338,
    "start_time": "2021-09-07T19:36:04.936Z"
   },
   {
    "duration": 1802,
    "start_time": "2021-09-07T19:39:26.238Z"
   },
   {
    "duration": 296,
    "start_time": "2021-09-07T19:41:02.530Z"
   },
   {
    "duration": 284,
    "start_time": "2021-09-07T19:41:22.108Z"
   },
   {
    "duration": 275,
    "start_time": "2021-09-07T19:46:20.577Z"
   },
   {
    "duration": 360,
    "start_time": "2021-09-07T19:46:37.853Z"
   },
   {
    "duration": 46,
    "start_time": "2021-09-07T19:47:09.243Z"
   },
   {
    "duration": 863,
    "start_time": "2021-09-07T19:50:09.120Z"
   },
   {
    "duration": 37,
    "start_time": "2021-09-07T19:50:16.386Z"
   },
   {
    "duration": 17,
    "start_time": "2021-09-07T19:50:20.708Z"
   },
   {
    "duration": 22,
    "start_time": "2021-09-07T19:50:24.947Z"
   },
   {
    "duration": 1168,
    "start_time": "2021-09-07T19:50:32.219Z"
   },
   {
    "duration": 767,
    "start_time": "2021-09-07T19:54:19.396Z"
   },
   {
    "duration": 37,
    "start_time": "2021-09-07T19:54:24.556Z"
   },
   {
    "duration": 15,
    "start_time": "2021-09-07T19:54:28.307Z"
   },
   {
    "duration": 21,
    "start_time": "2021-09-07T19:54:32.408Z"
   },
   {
    "duration": 824,
    "start_time": "2021-09-07T19:55:38.755Z"
   },
   {
    "duration": 37,
    "start_time": "2021-09-07T19:55:44.345Z"
   },
   {
    "duration": 821,
    "start_time": "2021-09-08T03:46:59.026Z"
   },
   {
    "duration": 37,
    "start_time": "2021-09-08T03:47:06.438Z"
   },
   {
    "duration": 17,
    "start_time": "2021-09-08T03:47:11.208Z"
   },
   {
    "duration": 22,
    "start_time": "2021-09-08T03:47:16.326Z"
   },
   {
    "duration": 922,
    "start_time": "2021-09-08T03:49:53.889Z"
   },
   {
    "duration": 37,
    "start_time": "2021-09-08T03:50:01.059Z"
   },
   {
    "duration": 18,
    "start_time": "2021-09-08T03:50:05.616Z"
   },
   {
    "duration": 22,
    "start_time": "2021-09-08T03:50:10.039Z"
   },
   {
    "duration": 426,
    "start_time": "2021-09-08T03:50:16.470Z"
   },
   {
    "duration": 348,
    "start_time": "2021-09-08T03:54:32.285Z"
   },
   {
    "duration": 817,
    "start_time": "2021-09-08T03:54:38.943Z"
   },
   {
    "duration": 39,
    "start_time": "2021-09-08T03:54:46.024Z"
   },
   {
    "duration": 19,
    "start_time": "2021-09-08T03:54:51.789Z"
   },
   {
    "duration": 22,
    "start_time": "2021-09-08T03:54:56.599Z"
   },
   {
    "duration": 1156,
    "start_time": "2021-09-08T03:55:02.105Z"
   },
   {
    "duration": 808,
    "start_time": "2021-09-08T03:58:56.233Z"
   },
   {
    "duration": 38,
    "start_time": "2021-09-08T03:59:02.228Z"
   },
   {
    "duration": 19,
    "start_time": "2021-09-08T03:59:07.048Z"
   },
   {
    "duration": 24,
    "start_time": "2021-09-08T03:59:11.548Z"
   },
   {
    "duration": 874,
    "start_time": "2021-09-08T10:29:27.383Z"
   },
   {
    "duration": 802,
    "start_time": "2021-09-08T10:31:47.784Z"
   },
   {
    "duration": 828,
    "start_time": "2021-09-08T12:58:19.654Z"
   },
   {
    "duration": 77,
    "start_time": "2021-09-08T12:58:27.702Z"
   },
   {
    "duration": 36,
    "start_time": "2021-09-08T12:58:56.303Z"
   },
   {
    "duration": 16,
    "start_time": "2021-09-08T12:59:04.763Z"
   },
   {
    "duration": 19,
    "start_time": "2021-09-08T12:59:09.383Z"
   },
   {
    "duration": 441,
    "start_time": "2021-09-08T12:59:30.614Z"
   },
   {
    "duration": 344,
    "start_time": "2021-09-08T13:05:26.315Z"
   },
   {
    "duration": 27,
    "start_time": "2021-09-08T13:08:52.394Z"
   },
   {
    "duration": 1186,
    "start_time": "2021-09-08T13:10:14.153Z"
   },
   {
    "duration": 335,
    "start_time": "2021-09-08T13:10:43.443Z"
   },
   {
    "duration": 10033,
    "start_time": "2021-09-08T13:11:10.149Z"
   },
   {
    "duration": 10029,
    "start_time": "2021-09-08T13:12:24.663Z"
   },
   {
    "duration": 10071,
    "start_time": "2021-09-08T13:14:40.353Z"
   },
   {
    "duration": 17,
    "start_time": "2021-09-08T13:16:02.683Z"
   },
   {
    "duration": 3983,
    "start_time": "2021-09-08T13:25:01.914Z"
   },
   {
    "duration": 4481,
    "start_time": "2021-09-08T13:28:48.903Z"
   },
   {
    "duration": 4469,
    "start_time": "2021-09-08T13:30:46.644Z"
   },
   {
    "duration": 6913,
    "start_time": "2021-09-08T13:35:21.914Z"
   },
   {
    "duration": 118,
    "start_time": "2021-09-08T13:43:54.384Z"
   },
   {
    "duration": 3423,
    "start_time": "2021-09-08T13:45:10.745Z"
   },
   {
    "duration": 3401,
    "start_time": "2021-09-08T13:46:12.874Z"
   },
   {
    "duration": 3394,
    "start_time": "2021-09-08T13:47:40.383Z"
   },
   {
    "duration": 357,
    "start_time": "2021-09-08T13:54:21.354Z"
   },
   {
    "duration": 76,
    "start_time": "2021-09-08T13:55:17.678Z"
   },
   {
    "duration": 36,
    "start_time": "2021-09-08T13:55:22.448Z"
   },
   {
    "duration": 18,
    "start_time": "2021-09-08T13:55:26.729Z"
   },
   {
    "duration": 20,
    "start_time": "2021-09-08T13:55:30.392Z"
   },
   {
    "duration": 389,
    "start_time": "2021-09-08T13:55:37.332Z"
   },
   {
    "duration": 4701,
    "start_time": "2021-09-08T13:56:36.699Z"
   },
   {
    "duration": 4832,
    "start_time": "2021-09-08T13:57:09.368Z"
   },
   {
    "duration": 4341,
    "start_time": "2021-09-08T14:04:32.977Z"
   },
   {
    "duration": 4357,
    "start_time": "2021-09-08T14:05:02.163Z"
   },
   {
    "duration": 12525,
    "start_time": "2021-09-08T14:08:31.827Z"
   },
   {
    "duration": 4054,
    "start_time": "2021-09-08T14:09:16.347Z"
   },
   {
    "duration": 4400,
    "start_time": "2021-09-08T14:10:07.437Z"
   },
   {
    "duration": 4367,
    "start_time": "2021-09-08T14:10:24.647Z"
   },
   {
    "duration": 4333,
    "start_time": "2021-09-08T14:13:17.666Z"
   },
   {
    "duration": 4309,
    "start_time": "2021-09-08T14:18:21.887Z"
   },
   {
    "duration": 4458,
    "start_time": "2021-09-08T14:21:14.618Z"
   },
   {
    "duration": 4507,
    "start_time": "2021-09-08T14:21:21.628Z"
   },
   {
    "duration": 4600,
    "start_time": "2021-09-08T14:22:42.348Z"
   },
   {
    "duration": 4379,
    "start_time": "2021-09-08T14:24:38.147Z"
   },
   {
    "duration": 4453,
    "start_time": "2021-09-08T14:25:54.277Z"
   },
   {
    "duration": 4408,
    "start_time": "2021-09-08T14:26:06.147Z"
   },
   {
    "duration": 3215,
    "start_time": "2021-09-08T14:40:53.187Z"
   },
   {
    "duration": 1446,
    "start_time": "2021-09-08T14:43:52.497Z"
   },
   {
    "duration": 6438,
    "start_time": "2021-09-08T14:44:24.288Z"
   },
   {
    "duration": 3144,
    "start_time": "2021-09-08T14:45:03.677Z"
   },
   {
    "duration": 101,
    "start_time": "2021-09-08T14:47:40.907Z"
   },
   {
    "duration": 3236,
    "start_time": "2021-09-08T14:48:28.805Z"
   },
   {
    "duration": 3239,
    "start_time": "2021-09-08T14:49:33.827Z"
   },
   {
    "duration": 227,
    "start_time": "2021-09-08T14:50:46.937Z"
   },
   {
    "duration": 2404,
    "start_time": "2021-09-08T14:51:58.437Z"
   },
   {
    "duration": 919,
    "start_time": "2021-09-08T14:55:01.678Z"
   },
   {
    "duration": 31,
    "start_time": "2021-09-08T15:06:58.913Z"
   },
   {
    "duration": 25,
    "start_time": "2021-09-08T15:08:29.397Z"
   },
   {
    "duration": 4008,
    "start_time": "2021-09-08T15:08:57.237Z"
   },
   {
    "duration": 4168,
    "start_time": "2021-09-08T15:09:47.147Z"
   },
   {
    "duration": 4050,
    "start_time": "2021-09-08T15:10:50.217Z"
   },
   {
    "duration": 4366,
    "start_time": "2021-09-08T15:12:53.834Z"
   },
   {
    "duration": 4392,
    "start_time": "2021-09-08T15:13:18.347Z"
   },
   {
    "duration": 4405,
    "start_time": "2021-09-08T15:14:17.497Z"
   },
   {
    "duration": 4352,
    "start_time": "2021-09-08T15:16:22.005Z"
   },
   {
    "duration": 10998,
    "start_time": "2021-09-08T15:17:03.006Z"
   },
   {
    "duration": 4343,
    "start_time": "2021-09-08T15:18:24.267Z"
   },
   {
    "duration": 4400,
    "start_time": "2021-09-08T15:28:20.816Z"
   },
   {
    "duration": 4168,
    "start_time": "2021-09-08T15:31:58.726Z"
   },
   {
    "duration": 4089,
    "start_time": "2021-09-08T15:33:34.366Z"
   },
   {
    "duration": 78,
    "start_time": "2021-09-08T15:34:01.372Z"
   },
   {
    "duration": 77,
    "start_time": "2021-09-08T15:34:46.046Z"
   },
   {
    "duration": 75,
    "start_time": "2021-09-08T15:35:55.626Z"
   },
   {
    "duration": 348,
    "start_time": "2021-09-08T15:44:28.216Z"
   },
   {
    "duration": 313,
    "start_time": "2021-09-08T15:45:07.717Z"
   },
   {
    "duration": 348,
    "start_time": "2021-09-08T15:47:27.786Z"
   },
   {
    "duration": 306,
    "start_time": "2021-09-08T15:48:25.436Z"
   },
   {
    "duration": 4007,
    "start_time": "2021-09-08T15:49:52.697Z"
   },
   {
    "duration": 126,
    "start_time": "2021-09-08T15:54:19.077Z"
   },
   {
    "duration": 122,
    "start_time": "2021-09-08T15:54:40.857Z"
   },
   {
    "duration": 4227,
    "start_time": "2021-09-08T15:55:09.066Z"
   },
   {
    "duration": 4182,
    "start_time": "2021-09-08T15:59:12.816Z"
   },
   {
    "duration": 4073,
    "start_time": "2021-09-08T15:59:40.876Z"
   },
   {
    "duration": 4176,
    "start_time": "2021-09-08T16:01:12.717Z"
   },
   {
    "duration": 27,
    "start_time": "2021-09-08T17:01:51.176Z"
   },
   {
    "duration": 31,
    "start_time": "2021-09-08T17:04:10.607Z"
   },
   {
    "duration": 29,
    "start_time": "2021-09-08T17:05:11.937Z"
   },
   {
    "duration": 33,
    "start_time": "2021-09-08T17:07:48.167Z"
   },
   {
    "duration": 33,
    "start_time": "2021-09-08T17:11:11.617Z"
   },
   {
    "duration": 32,
    "start_time": "2021-09-08T17:11:35.207Z"
   },
   {
    "duration": 33,
    "start_time": "2021-09-08T17:12:14.476Z"
   },
   {
    "duration": 38,
    "start_time": "2021-09-08T17:12:42.907Z"
   },
   {
    "duration": 32,
    "start_time": "2021-09-08T17:13:30.564Z"
   },
   {
    "duration": 31,
    "start_time": "2021-09-08T17:14:48.112Z"
   },
   {
    "duration": 33,
    "start_time": "2021-09-08T17:15:19.286Z"
   },
   {
    "duration": 33,
    "start_time": "2021-09-08T17:15:35.216Z"
   },
   {
    "duration": 67,
    "start_time": "2021-09-08T17:20:55.796Z"
   },
   {
    "duration": 488,
    "start_time": "2021-09-08T17:32:56.862Z"
   },
   {
    "duration": 1440,
    "start_time": "2021-09-08T17:33:18.548Z"
   },
   {
    "duration": 2042,
    "start_time": "2021-09-08T17:33:44.603Z"
   },
   {
    "duration": 64,
    "start_time": "2021-09-08T17:34:08.821Z"
   },
   {
    "duration": 64,
    "start_time": "2021-09-08T17:34:49.312Z"
   },
   {
    "duration": 68,
    "start_time": "2021-09-08T17:35:53.541Z"
   },
   {
    "duration": 64,
    "start_time": "2021-09-08T17:38:33.662Z"
   },
   {
    "duration": 61,
    "start_time": "2021-09-08T17:39:39.652Z"
   },
   {
    "duration": 122,
    "start_time": "2021-09-08T17:43:57.261Z"
   },
   {
    "duration": 40,
    "start_time": "2021-09-08T17:47:29.543Z"
   },
   {
    "duration": 56,
    "start_time": "2021-09-08T17:54:01.433Z"
   },
   {
    "duration": 55,
    "start_time": "2021-09-08T17:55:39.343Z"
   },
   {
    "duration": 67,
    "start_time": "2021-09-08T17:55:46.572Z"
   },
   {
    "duration": 408,
    "start_time": "2021-09-08T17:59:22.623Z"
   },
   {
    "duration": 410,
    "start_time": "2021-09-08T18:06:02.492Z"
   },
   {
    "duration": 32,
    "start_time": "2021-09-08T18:19:15.382Z"
   },
   {
    "duration": 530,
    "start_time": "2021-09-08T18:44:26.052Z"
   },
   {
    "duration": 7,
    "start_time": "2021-09-08T19:24:59.307Z"
   },
   {
    "duration": 7,
    "start_time": "2021-09-08T19:30:26.627Z"
   },
   {
    "duration": 8,
    "start_time": "2021-09-08T19:30:27.947Z"
   },
   {
    "duration": 883,
    "start_time": "2021-09-09T03:44:53.630Z"
   },
   {
    "duration": 40,
    "start_time": "2021-09-09T03:45:00.849Z"
   },
   {
    "duration": 17,
    "start_time": "2021-09-09T03:45:05.509Z"
   },
   {
    "duration": 32,
    "start_time": "2021-09-09T03:45:10.579Z"
   },
   {
    "duration": 34,
    "start_time": "2021-09-09T03:45:26.349Z"
   },
   {
    "duration": 1204,
    "start_time": "2021-09-09T03:45:43.710Z"
   },
   {
    "duration": 447,
    "start_time": "2021-09-09T03:45:59.065Z"
   },
   {
    "duration": 7,
    "start_time": "2021-09-09T03:46:13.589Z"
   },
   {
    "duration": 27,
    "start_time": "2021-09-09T03:46:55.729Z"
   },
   {
    "duration": 26,
    "start_time": "2021-09-09T03:48:19.177Z"
   },
   {
    "duration": 20,
    "start_time": "2021-09-09T03:52:26.248Z"
   },
   {
    "duration": 17,
    "start_time": "2021-09-09T03:53:23.489Z"
   },
   {
    "duration": 773,
    "start_time": "2021-09-09T11:18:36.702Z"
   },
   {
    "duration": 15,
    "start_time": "2021-09-09T11:18:44.166Z"
   },
   {
    "duration": 32,
    "start_time": "2021-09-09T11:21:11.438Z"
   },
   {
    "duration": 14,
    "start_time": "2021-09-09T11:22:04.692Z"
   },
   {
    "duration": 12,
    "start_time": "2021-09-09T11:22:38.485Z"
   },
   {
    "duration": 15,
    "start_time": "2021-09-09T11:22:47.154Z"
   },
   {
    "duration": 13,
    "start_time": "2021-09-09T11:22:52.683Z"
   },
   {
    "duration": 21,
    "start_time": "2021-09-09T11:22:55.238Z"
   },
   {
    "duration": 29,
    "start_time": "2021-09-09T11:24:32.132Z"
   },
   {
    "duration": 9,
    "start_time": "2021-09-09T11:26:00.057Z"
   },
   {
    "duration": 23,
    "start_time": "2021-09-09T11:26:06.704Z"
   },
   {
    "duration": 69,
    "start_time": "2021-09-09T11:26:15.704Z"
   },
   {
    "duration": 15,
    "start_time": "2021-09-09T11:26:32.622Z"
   },
   {
    "duration": 12,
    "start_time": "2021-09-09T11:26:36.532Z"
   },
   {
    "duration": 45,
    "start_time": "2021-09-09T11:26:41.304Z"
   },
   {
    "duration": 16,
    "start_time": "2021-09-09T11:26:46.087Z"
   },
   {
    "duration": 8,
    "start_time": "2021-09-09T11:26:53.814Z"
   },
   {
    "duration": 9,
    "start_time": "2021-09-09T11:30:40.374Z"
   },
   {
    "duration": 6,
    "start_time": "2021-09-09T11:30:49.712Z"
   },
   {
    "duration": 23,
    "start_time": "2021-09-09T11:31:02.681Z"
   },
   {
    "duration": 794,
    "start_time": "2021-09-09T11:31:26.584Z"
   },
   {
    "duration": 16,
    "start_time": "2021-09-09T11:31:43.434Z"
   },
   {
    "duration": 16,
    "start_time": "2021-09-09T11:32:58.585Z"
   },
   {
    "duration": 29,
    "start_time": "2021-09-09T11:33:14.006Z"
   },
   {
    "duration": 5,
    "start_time": "2021-09-09T11:33:36.413Z"
   },
   {
    "duration": 5,
    "start_time": "2021-09-09T11:33:56.125Z"
   },
   {
    "duration": 380,
    "start_time": "2021-09-09T11:34:02.098Z"
   },
   {
    "duration": 663,
    "start_time": "2021-09-09T11:43:18.556Z"
   },
   {
    "duration": 709,
    "start_time": "2021-09-09T11:47:22.383Z"
   },
   {
    "duration": 4,
    "start_time": "2021-09-09T11:48:11.277Z"
   },
   {
    "duration": 90,
    "start_time": "2021-09-09T11:57:20.351Z"
   },
   {
    "duration": 27,
    "start_time": "2021-09-09T11:57:28.976Z"
   },
   {
    "duration": 412,
    "start_time": "2021-09-09T11:59:24.042Z"
   },
   {
    "duration": 416,
    "start_time": "2021-09-09T12:00:20.724Z"
   },
   {
    "duration": 17,
    "start_time": "2021-09-09T12:02:25.443Z"
   },
   {
    "duration": 5,
    "start_time": "2021-09-09T12:02:35.621Z"
   },
   {
    "duration": 505,
    "start_time": "2021-09-09T12:02:41.331Z"
   },
   {
    "duration": 411,
    "start_time": "2021-09-09T12:03:10.164Z"
   },
   {
    "duration": 19,
    "start_time": "2021-09-09T12:04:36.607Z"
   },
   {
    "duration": 14,
    "start_time": "2021-09-09T12:05:01.671Z"
   },
   {
    "duration": 396,
    "start_time": "2021-09-09T12:05:11.384Z"
   },
   {
    "duration": 294,
    "start_time": "2021-09-09T12:11:51.009Z"
   },
   {
    "duration": 468,
    "start_time": "2021-09-09T12:12:11.824Z"
   },
   {
    "duration": 7479,
    "start_time": "2021-09-09T12:15:30.272Z"
   },
   {
    "duration": 93,
    "start_time": "2021-09-09T12:16:18.673Z"
   },
   {
    "duration": 99,
    "start_time": "2021-09-09T12:16:30.171Z"
   },
   {
    "duration": 100,
    "start_time": "2021-09-09T12:16:48.787Z"
   },
   {
    "duration": 197,
    "start_time": "2021-09-09T12:16:57.745Z"
   },
   {
    "duration": 378,
    "start_time": "2021-09-09T12:17:21.541Z"
   },
   {
    "duration": 93,
    "start_time": "2021-09-09T12:24:54.292Z"
   },
   {
    "duration": 10147,
    "start_time": "2021-09-09T12:25:09.345Z"
   },
   {
    "duration": 7226,
    "start_time": "2021-09-09T12:25:44.836Z"
   },
   {
    "duration": 7885,
    "start_time": "2021-09-09T12:26:00.271Z"
   },
   {
    "duration": 7,
    "start_time": "2021-09-09T12:26:47.241Z"
   },
   {
    "duration": 69,
    "start_time": "2021-09-09T12:27:39.706Z"
   },
   {
    "duration": 15,
    "start_time": "2021-09-09T12:27:44.854Z"
   },
   {
    "duration": 13,
    "start_time": "2021-09-09T12:27:49.576Z"
   },
   {
    "duration": 31,
    "start_time": "2021-09-09T12:27:52.744Z"
   },
   {
    "duration": 17,
    "start_time": "2021-09-09T12:28:00.448Z"
   },
   {
    "duration": 9,
    "start_time": "2021-09-09T12:28:05.387Z"
   },
   {
    "duration": 8,
    "start_time": "2021-09-09T12:28:10.714Z"
   },
   {
    "duration": 7,
    "start_time": "2021-09-09T12:28:14.896Z"
   },
   {
    "duration": 4,
    "start_time": "2021-09-09T12:28:18.367Z"
   },
   {
    "duration": 17,
    "start_time": "2021-09-09T12:28:25.463Z"
   },
   {
    "duration": 6,
    "start_time": "2021-09-09T12:28:30.376Z"
   },
   {
    "duration": 12,
    "start_time": "2021-09-09T12:28:36.296Z"
   },
   {
    "duration": 177,
    "start_time": "2021-09-09T12:29:38.486Z"
   },
   {
    "duration": 20,
    "start_time": "2021-09-09T12:29:46.526Z"
   },
   {
    "duration": 575,
    "start_time": "2021-09-09T12:37:24.064Z"
   },
   {
    "duration": 513,
    "start_time": "2021-09-09T12:37:30.904Z"
   },
   {
    "duration": 21,
    "start_time": "2021-09-09T12:37:50.314Z"
   },
   {
    "duration": 12,
    "start_time": "2021-09-09T12:41:44.506Z"
   },
   {
    "duration": 650,
    "start_time": "2021-09-09T12:42:44.646Z"
   },
   {
    "duration": 16,
    "start_time": "2021-09-09T12:43:12.119Z"
   },
   {
    "duration": 22,
    "start_time": "2021-09-09T12:50:57.547Z"
   },
   {
    "duration": 27,
    "start_time": "2021-09-09T12:54:31.230Z"
   },
   {
    "duration": 11,
    "start_time": "2021-09-09T12:55:54.366Z"
   },
   {
    "duration": 12,
    "start_time": "2021-09-09T12:58:44.596Z"
   },
   {
    "duration": 9,
    "start_time": "2021-09-09T12:59:01.514Z"
   },
   {
    "duration": 1133,
    "start_time": "2021-09-09T12:59:35.786Z"
   },
   {
    "duration": 8,
    "start_time": "2021-09-09T13:19:20.781Z"
   },
   {
    "duration": 8,
    "start_time": "2021-09-09T13:20:05.579Z"
   },
   {
    "duration": 16,
    "start_time": "2021-09-09T13:21:56.044Z"
   },
   {
    "duration": 18,
    "start_time": "2021-09-09T13:22:48.729Z"
   },
   {
    "duration": 23,
    "start_time": "2021-09-09T13:23:33.810Z"
   },
   {
    "duration": 8968,
    "start_time": "2021-09-09T13:32:39.304Z"
   },
   {
    "duration": 23,
    "start_time": "2021-09-09T13:33:10.279Z"
   },
   {
    "duration": 29,
    "start_time": "2021-09-09T13:36:21.703Z"
   },
   {
    "duration": 37,
    "start_time": "2021-09-09T13:37:40.206Z"
   },
   {
    "duration": 45,
    "start_time": "2021-09-09T13:38:55.954Z"
   },
   {
    "duration": 34,
    "start_time": "2021-09-09T13:39:19.633Z"
   },
   {
    "duration": 36,
    "start_time": "2021-09-09T13:41:19.306Z"
   },
   {
    "duration": 38,
    "start_time": "2021-09-09T13:44:09.154Z"
   },
   {
    "duration": 400,
    "start_time": "2021-09-09T16:32:33.904Z"
   },
   {
    "duration": 19,
    "start_time": "2021-09-09T16:32:41.354Z"
   },
   {
    "duration": 381,
    "start_time": "2021-09-09T16:33:14.584Z"
   },
   {
    "duration": 22,
    "start_time": "2021-09-09T16:33:22.214Z"
   },
   {
    "duration": 72,
    "start_time": "2021-09-09T16:33:46.825Z"
   },
   {
    "duration": 16,
    "start_time": "2021-09-09T16:33:50.364Z"
   },
   {
    "duration": 12,
    "start_time": "2021-09-09T16:33:54.655Z"
   },
   {
    "duration": 29,
    "start_time": "2021-09-09T16:33:57.714Z"
   },
   {
    "duration": 16,
    "start_time": "2021-09-09T16:34:01.706Z"
   },
   {
    "duration": 9,
    "start_time": "2021-09-09T16:34:05.714Z"
   },
   {
    "duration": 29,
    "start_time": "2021-09-09T16:34:11.124Z"
   },
   {
    "duration": 10,
    "start_time": "2021-09-09T16:34:17.865Z"
   },
   {
    "duration": 4,
    "start_time": "2021-09-09T16:34:23.054Z"
   },
   {
    "duration": 17,
    "start_time": "2021-09-09T16:34:28.254Z"
   },
   {
    "duration": 4,
    "start_time": "2021-09-09T16:34:32.424Z"
   },
   {
    "duration": 386,
    "start_time": "2021-09-09T16:34:38.084Z"
   },
   {
    "duration": 4,
    "start_time": "2021-09-09T16:35:18.538Z"
   },
   {
    "duration": 383,
    "start_time": "2021-09-09T16:35:21.784Z"
   },
   {
    "duration": 71,
    "start_time": "2021-09-09T16:35:34.402Z"
   },
   {
    "duration": 15,
    "start_time": "2021-09-09T16:35:38.218Z"
   },
   {
    "duration": 12,
    "start_time": "2021-09-09T16:35:43.003Z"
   },
   {
    "duration": 30,
    "start_time": "2021-09-09T16:35:46.112Z"
   },
   {
    "duration": 16,
    "start_time": "2021-09-09T16:35:49.914Z"
   },
   {
    "duration": 9,
    "start_time": "2021-09-09T16:35:54.004Z"
   },
   {
    "duration": 28,
    "start_time": "2021-09-09T16:35:59.434Z"
   },
   {
    "duration": 9,
    "start_time": "2021-09-09T16:36:10.244Z"
   },
   {
    "duration": 7,
    "start_time": "2021-09-09T16:36:13.984Z"
   },
   {
    "duration": 4,
    "start_time": "2021-09-09T16:36:17.094Z"
   },
   {
    "duration": 16,
    "start_time": "2021-09-09T16:36:26.374Z"
   },
   {
    "duration": 18,
    "start_time": "2021-09-09T16:36:30.912Z"
   },
   {
    "duration": 6,
    "start_time": "2021-09-09T16:36:35.412Z"
   },
   {
    "duration": 381,
    "start_time": "2021-09-09T16:36:40.684Z"
   },
   {
    "duration": 35,
    "start_time": "2021-09-09T16:47:32.220Z"
   },
   {
    "duration": 33,
    "start_time": "2021-09-09T16:48:18.464Z"
   },
   {
    "duration": 32,
    "start_time": "2021-09-09T16:48:32.124Z"
   },
   {
    "duration": 8,
    "start_time": "2021-09-09T16:48:57.074Z"
   },
   {
    "duration": 72,
    "start_time": "2021-09-09T16:49:14.244Z"
   },
   {
    "duration": 14,
    "start_time": "2021-09-09T16:49:18.104Z"
   },
   {
    "duration": 12,
    "start_time": "2021-09-09T16:49:22.594Z"
   },
   {
    "duration": 29,
    "start_time": "2021-09-09T16:49:25.894Z"
   },
   {
    "duration": 19,
    "start_time": "2021-09-09T16:49:29.904Z"
   },
   {
    "duration": 8,
    "start_time": "2021-09-09T16:49:34.414Z"
   },
   {
    "duration": 30,
    "start_time": "2021-09-09T16:49:39.004Z"
   },
   {
    "duration": 10,
    "start_time": "2021-09-09T16:49:47.494Z"
   },
   {
    "duration": 8,
    "start_time": "2021-09-09T16:49:52.064Z"
   },
   {
    "duration": 5,
    "start_time": "2021-09-09T16:49:55.514Z"
   },
   {
    "duration": 19,
    "start_time": "2021-09-09T16:49:59.856Z"
   },
   {
    "duration": 17,
    "start_time": "2021-09-09T16:50:03.025Z"
   },
   {
    "duration": 5,
    "start_time": "2021-09-09T16:50:07.234Z"
   },
   {
    "duration": 405,
    "start_time": "2021-09-09T16:50:11.831Z"
   },
   {
    "duration": 15,
    "start_time": "2021-09-09T16:50:15.564Z"
   },
   {
    "duration": 9,
    "start_time": "2021-09-09T16:50:39.339Z"
   },
   {
    "duration": 8,
    "start_time": "2021-09-09T16:50:45.214Z"
   },
   {
    "duration": 19,
    "start_time": "2021-09-09T16:52:19.214Z"
   },
   {
    "duration": 21,
    "start_time": "2021-09-09T16:52:44.084Z"
   },
   {
    "duration": 9,
    "start_time": "2021-09-09T16:53:18.524Z"
   },
   {
    "duration": 20,
    "start_time": "2021-09-09T16:53:26.264Z"
   },
   {
    "duration": 8,
    "start_time": "2021-09-09T16:53:38.453Z"
   },
   {
    "duration": 18,
    "start_time": "2021-09-09T16:54:29.684Z"
   },
   {
    "duration": 14,
    "start_time": "2021-09-09T16:54:41.844Z"
   },
   {
    "duration": 8,
    "start_time": "2021-09-09T16:55:08.126Z"
   },
   {
    "duration": 12,
    "start_time": "2021-09-09T16:55:11.924Z"
   },
   {
    "duration": 68,
    "start_time": "2021-09-09T16:55:21.994Z"
   },
   {
    "duration": 15,
    "start_time": "2021-09-09T16:55:25.884Z"
   },
   {
    "duration": 13,
    "start_time": "2021-09-09T16:55:32.050Z"
   },
   {
    "duration": 30,
    "start_time": "2021-09-09T16:55:35.259Z"
   },
   {
    "duration": 17,
    "start_time": "2021-09-09T16:55:39.834Z"
   },
   {
    "duration": 9,
    "start_time": "2021-09-09T16:55:44.094Z"
   },
   {
    "duration": 27,
    "start_time": "2021-09-09T16:55:48.184Z"
   },
   {
    "duration": 9,
    "start_time": "2021-09-09T16:55:54.854Z"
   },
   {
    "duration": 7,
    "start_time": "2021-09-09T16:55:59.535Z"
   },
   {
    "duration": 4,
    "start_time": "2021-09-09T16:56:02.934Z"
   },
   {
    "duration": 10,
    "start_time": "2021-09-09T16:56:06.114Z"
   },
   {
    "duration": 17,
    "start_time": "2021-09-09T16:56:10.043Z"
   },
   {
    "duration": 6,
    "start_time": "2021-09-09T16:56:13.524Z"
   },
   {
    "duration": 378,
    "start_time": "2021-09-09T16:56:17.884Z"
   },
   {
    "duration": 15,
    "start_time": "2021-09-09T16:56:21.393Z"
   },
   {
    "duration": 8,
    "start_time": "2021-09-09T16:56:25.266Z"
   },
   {
    "duration": 12,
    "start_time": "2021-09-09T16:56:28.954Z"
   },
   {
    "duration": 13,
    "start_time": "2021-09-09T16:57:18.374Z"
   },
   {
    "duration": 13,
    "start_time": "2021-09-09T16:59:25.084Z"
   },
   {
    "duration": 12,
    "start_time": "2021-09-09T16:59:45.334Z"
   },
   {
    "duration": 14,
    "start_time": "2021-09-09T17:00:41.034Z"
   },
   {
    "duration": 408,
    "start_time": "2021-09-09T17:12:29.338Z"
   },
   {
    "duration": 309,
    "start_time": "2021-09-09T17:13:04.325Z"
   },
   {
    "duration": 295,
    "start_time": "2021-09-09T17:16:14.459Z"
   },
   {
    "duration": 286,
    "start_time": "2021-09-09T17:16:30.635Z"
   },
   {
    "duration": 328,
    "start_time": "2021-09-09T17:17:27.465Z"
   },
   {
    "duration": 13,
    "start_time": "2021-09-09T17:20:17.204Z"
   },
   {
    "duration": 383,
    "start_time": "2021-09-09T17:21:33.167Z"
   },
   {
    "duration": 642,
    "start_time": "2021-09-09T17:21:52.484Z"
   },
   {
    "duration": 305,
    "start_time": "2021-09-09T17:22:55.349Z"
   },
   {
    "duration": 377,
    "start_time": "2021-09-09T17:23:17.644Z"
   },
   {
    "duration": 8,
    "start_time": "2021-09-09T17:24:01.374Z"
   },
   {
    "duration": 372,
    "start_time": "2021-09-09T17:24:07.704Z"
   },
   {
    "duration": 369,
    "start_time": "2021-09-09T17:24:16.071Z"
   },
   {
    "duration": 8513,
    "start_time": "2021-09-09T17:24:40.082Z"
   },
   {
    "duration": 8,
    "start_time": "2021-09-09T17:25:12.404Z"
   },
   {
    "duration": 384,
    "start_time": "2021-09-09T17:25:17.540Z"
   },
   {
    "duration": 8,
    "start_time": "2021-09-09T17:26:43.804Z"
   },
   {
    "duration": 12,
    "start_time": "2021-09-09T17:27:18.254Z"
   },
   {
    "duration": 12,
    "start_time": "2021-09-09T17:27:44.464Z"
   },
   {
    "duration": 392,
    "start_time": "2021-09-09T17:27:49.604Z"
   },
   {
    "duration": 129,
    "start_time": "2021-09-09T17:38:45.215Z"
   },
   {
    "duration": 386,
    "start_time": "2021-09-09T17:38:56.275Z"
   },
   {
    "duration": 472,
    "start_time": "2021-09-09T17:39:04.775Z"
   },
   {
    "duration": 68,
    "start_time": "2021-09-09T17:46:56.004Z"
   },
   {
    "duration": 14,
    "start_time": "2021-09-09T17:46:59.974Z"
   },
   {
    "duration": 12,
    "start_time": "2021-09-09T17:47:04.664Z"
   },
   {
    "duration": 33,
    "start_time": "2021-09-09T17:47:07.884Z"
   },
   {
    "duration": 18,
    "start_time": "2021-09-09T17:47:14.152Z"
   },
   {
    "duration": 9,
    "start_time": "2021-09-09T17:47:18.464Z"
   },
   {
    "duration": 31,
    "start_time": "2021-09-09T17:47:26.325Z"
   },
   {
    "duration": 8,
    "start_time": "2021-09-09T17:47:32.854Z"
   },
   {
    "duration": 6,
    "start_time": "2021-09-09T17:47:37.935Z"
   },
   {
    "duration": 4,
    "start_time": "2021-09-09T17:47:41.462Z"
   },
   {
    "duration": 18,
    "start_time": "2021-09-09T17:47:44.564Z"
   },
   {
    "duration": 5,
    "start_time": "2021-09-09T17:47:48.505Z"
   },
   {
    "duration": 384,
    "start_time": "2021-09-09T17:47:52.547Z"
   },
   {
    "duration": 18,
    "start_time": "2021-09-09T17:47:56.810Z"
   },
   {
    "duration": 9,
    "start_time": "2021-09-09T17:48:00.584Z"
   },
   {
    "duration": 374,
    "start_time": "2021-09-09T17:48:05.484Z"
   },
   {
    "duration": 12,
    "start_time": "2021-09-09T17:49:03.974Z"
   },
   {
    "duration": 16,
    "start_time": "2021-09-09T17:49:47.334Z"
   },
   {
    "duration": 20,
    "start_time": "2021-09-09T17:51:38.925Z"
   },
   {
    "duration": 21,
    "start_time": "2021-09-09T17:51:45.965Z"
   },
   {
    "duration": 21,
    "start_time": "2021-09-09T17:52:00.163Z"
   },
   {
    "duration": 20,
    "start_time": "2021-09-09T17:53:15.423Z"
   },
   {
    "duration": 372,
    "start_time": "2021-09-09T17:53:55.125Z"
   },
   {
    "duration": 22,
    "start_time": "2021-09-09T17:54:05.076Z"
   },
   {
    "duration": 24,
    "start_time": "2021-09-09T17:56:01.784Z"
   },
   {
    "duration": 33,
    "start_time": "2021-09-09T17:58:20.595Z"
   },
   {
    "duration": 9996,
    "start_time": "2021-09-09T18:00:10.424Z"
   },
   {
    "duration": 24,
    "start_time": "2021-09-09T18:00:34.344Z"
   },
   {
    "duration": 9,
    "start_time": "2021-09-09T18:02:36.144Z"
   },
   {
    "duration": 17,
    "start_time": "2021-09-09T18:03:19.274Z"
   },
   {
    "duration": 15,
    "start_time": "2021-09-09T18:04:15.524Z"
   },
   {
    "duration": 8,
    "start_time": "2021-09-09T18:04:53.824Z"
   },
   {
    "duration": 23,
    "start_time": "2021-09-09T18:09:50.884Z"
   },
   {
    "duration": 17,
    "start_time": "2021-09-09T18:10:14.054Z"
   },
   {
    "duration": 16,
    "start_time": "2021-09-09T18:10:31.004Z"
   },
   {
    "duration": 22,
    "start_time": "2021-09-09T18:11:17.424Z"
   },
   {
    "duration": 26,
    "start_time": "2021-09-09T18:11:30.435Z"
   },
   {
    "duration": 19,
    "start_time": "2021-09-09T18:23:01.416Z"
   },
   {
    "duration": 30,
    "start_time": "2021-09-09T18:24:16.304Z"
   },
   {
    "duration": 37,
    "start_time": "2021-09-09T18:26:09.824Z"
   },
   {
    "duration": 35,
    "start_time": "2021-09-09T18:26:33.014Z"
   },
   {
    "duration": 38,
    "start_time": "2021-09-09T18:28:48.044Z"
   },
   {
    "duration": 1683,
    "start_time": "2021-09-09T18:30:41.844Z"
   },
   {
    "duration": 37,
    "start_time": "2021-09-09T18:31:05.114Z"
   },
   {
    "duration": 13,
    "start_time": "2021-09-09T18:35:29.584Z"
   },
   {
    "duration": 16,
    "start_time": "2021-09-09T18:36:02.644Z"
   },
   {
    "duration": 10,
    "start_time": "2021-09-09T18:36:28.698Z"
   },
   {
    "duration": 11,
    "start_time": "2021-09-09T18:36:32.564Z"
   },
   {
    "duration": 11,
    "start_time": "2021-09-09T18:37:10.576Z"
   },
   {
    "duration": 109,
    "start_time": "2021-09-09T18:38:17.084Z"
   },
   {
    "duration": 13,
    "start_time": "2021-09-09T18:38:28.254Z"
   },
   {
    "duration": 18,
    "start_time": "2021-09-09T18:39:06.294Z"
   },
   {
    "duration": 19,
    "start_time": "2021-09-09T18:39:09.874Z"
   },
   {
    "duration": 9,
    "start_time": "2021-09-09T18:39:33.619Z"
   },
   {
    "duration": 8,
    "start_time": "2021-09-09T18:40:15.734Z"
   },
   {
    "duration": 14,
    "start_time": "2021-09-09T18:40:25.475Z"
   },
   {
    "duration": 19,
    "start_time": "2021-09-09T18:40:34.274Z"
   },
   {
    "duration": 20,
    "start_time": "2021-09-09T18:41:05.925Z"
   },
   {
    "duration": 10,
    "start_time": "2021-09-09T18:42:09.685Z"
   },
   {
    "duration": 317,
    "start_time": "2021-09-09T18:42:19.934Z"
   },
   {
    "duration": 10,
    "start_time": "2021-09-09T18:42:29.084Z"
   },
   {
    "duration": 14,
    "start_time": "2021-09-09T18:42:31.514Z"
   },
   {
    "duration": 9,
    "start_time": "2021-09-09T18:42:39.854Z"
   },
   {
    "duration": 282,
    "start_time": "2021-09-09T18:42:45.314Z"
   },
   {
    "duration": 18,
    "start_time": "2021-09-09T18:43:41.414Z"
   },
   {
    "duration": 9,
    "start_time": "2021-09-09T18:44:03.954Z"
   },
   {
    "duration": 289,
    "start_time": "2021-09-09T18:52:09.035Z"
   },
   {
    "duration": 305,
    "start_time": "2021-09-09T18:53:35.098Z"
   },
   {
    "duration": 516,
    "start_time": "2021-09-09T18:53:44.869Z"
   },
   {
    "duration": 405,
    "start_time": "2021-09-09T18:56:17.724Z"
   },
   {
    "duration": 304,
    "start_time": "2021-09-09T18:57:28.844Z"
   },
   {
    "duration": 14,
    "start_time": "2021-09-09T18:57:41.434Z"
   },
   {
    "duration": 11,
    "start_time": "2021-09-09T18:57:49.322Z"
   },
   {
    "duration": 15,
    "start_time": "2021-09-09T18:57:56.084Z"
   },
   {
    "duration": 9,
    "start_time": "2021-09-09T18:58:00.724Z"
   },
   {
    "duration": 19,
    "start_time": "2021-09-09T18:58:11.474Z"
   },
   {
    "duration": 16,
    "start_time": "2021-09-09T18:58:38.904Z"
   },
   {
    "duration": 9,
    "start_time": "2021-09-09T18:59:29.754Z"
   },
   {
    "duration": 14,
    "start_time": "2021-09-09T18:59:37.204Z"
   },
   {
    "duration": 23,
    "start_time": "2021-09-09T19:00:10.005Z"
   },
   {
    "duration": 23,
    "start_time": "2021-09-09T19:00:22.204Z"
   },
   {
    "duration": 9,
    "start_time": "2021-09-09T19:00:27.154Z"
   },
   {
    "duration": 22,
    "start_time": "2021-09-09T19:00:30.675Z"
   },
   {
    "duration": 9,
    "start_time": "2021-09-09T19:00:37.864Z"
   },
   {
    "duration": 14,
    "start_time": "2021-09-09T19:00:40.645Z"
   },
   {
    "duration": 9,
    "start_time": "2021-09-09T19:00:43.975Z"
   },
   {
    "duration": 23,
    "start_time": "2021-09-09T19:00:46.534Z"
   },
   {
    "duration": 24,
    "start_time": "2021-09-09T19:01:10.534Z"
   },
   {
    "duration": 19,
    "start_time": "2021-09-09T19:01:32.303Z"
   },
   {
    "duration": 10,
    "start_time": "2021-09-09T19:02:11.914Z"
   },
   {
    "duration": 17,
    "start_time": "2021-09-09T19:03:24.224Z"
   },
   {
    "duration": 8,
    "start_time": "2021-09-09T19:03:29.694Z"
   },
   {
    "duration": 320,
    "start_time": "2021-09-09T19:04:11.742Z"
   },
   {
    "duration": 392,
    "start_time": "2021-09-09T19:04:23.183Z"
   },
   {
    "duration": 315,
    "start_time": "2021-09-09T19:04:37.504Z"
   },
   {
    "duration": 1531,
    "start_time": "2021-09-09T19:04:54.707Z"
   },
   {
    "duration": 9,
    "start_time": "2021-09-09T19:05:11.565Z"
   },
   {
    "duration": 15,
    "start_time": "2021-09-09T19:05:15.266Z"
   },
   {
    "duration": 8,
    "start_time": "2021-09-09T19:05:18.422Z"
   },
   {
    "duration": 352,
    "start_time": "2021-09-09T19:05:23.909Z"
   },
   {
    "duration": 414,
    "start_time": "2021-09-09T19:05:46.205Z"
   },
   {
    "duration": 9,
    "start_time": "2021-09-09T19:07:19.176Z"
   },
   {
    "duration": 290,
    "start_time": "2021-09-09T19:07:54.742Z"
   },
   {
    "duration": 337,
    "start_time": "2021-09-09T19:07:59.004Z"
   },
   {
    "duration": 11,
    "start_time": "2021-09-09T19:08:18.002Z"
   },
   {
    "duration": 16,
    "start_time": "2021-09-09T19:08:27.780Z"
   },
   {
    "duration": 8,
    "start_time": "2021-09-09T19:08:33.096Z"
   },
   {
    "duration": 344,
    "start_time": "2021-09-09T19:09:14.209Z"
   },
   {
    "duration": 19,
    "start_time": "2021-09-09T19:09:29.855Z"
   },
   {
    "duration": 19,
    "start_time": "2021-09-09T19:11:05.834Z"
   },
   {
    "duration": 23,
    "start_time": "2021-09-09T19:12:11.254Z"
   },
   {
    "duration": 10,
    "start_time": "2021-09-09T19:13:43.314Z"
   },
   {
    "duration": 300,
    "start_time": "2021-09-09T19:33:38.664Z"
   },
   {
    "duration": 20,
    "start_time": "2021-09-09T19:33:53.735Z"
   },
   {
    "duration": 20,
    "start_time": "2021-09-09T19:35:10.644Z"
   },
   {
    "duration": 13,
    "start_time": "2021-09-09T19:35:30.513Z"
   },
   {
    "duration": 10,
    "start_time": "2021-09-09T19:35:34.881Z"
   },
   {
    "duration": 9,
    "start_time": "2021-09-09T19:35:39.934Z"
   },
   {
    "duration": 9,
    "start_time": "2021-09-09T19:35:48.454Z"
   },
   {
    "duration": 12,
    "start_time": "2021-09-09T19:36:11.923Z"
   },
   {
    "duration": 10,
    "start_time": "2021-09-09T19:37:17.183Z"
   },
   {
    "duration": 9,
    "start_time": "2021-09-09T19:38:18.594Z"
   },
   {
    "duration": 10,
    "start_time": "2021-09-09T19:39:07.224Z"
   },
   {
    "duration": 10,
    "start_time": "2021-09-09T19:40:09.244Z"
   },
   {
    "duration": 10,
    "start_time": "2021-09-09T19:40:50.723Z"
   },
   {
    "duration": 19,
    "start_time": "2021-09-09T19:42:13.863Z"
   },
   {
    "duration": 74,
    "start_time": "2021-09-09T19:42:23.792Z"
   },
   {
    "duration": 16,
    "start_time": "2021-09-09T19:42:27.823Z"
   },
   {
    "duration": 13,
    "start_time": "2021-09-09T19:42:32.354Z"
   },
   {
    "duration": 28,
    "start_time": "2021-09-09T19:42:35.663Z"
   },
   {
    "duration": 10,
    "start_time": "2021-09-09T19:42:39.589Z"
   },
   {
    "duration": 14,
    "start_time": "2021-09-09T19:42:42.613Z"
   },
   {
    "duration": 9,
    "start_time": "2021-09-09T19:42:47.103Z"
   },
   {
    "duration": 15,
    "start_time": "2021-09-09T19:42:58.424Z"
   },
   {
    "duration": 16,
    "start_time": "2021-09-09T19:43:08.143Z"
   },
   {
    "duration": 9,
    "start_time": "2021-09-09T19:43:13.223Z"
   },
   {
    "duration": 25,
    "start_time": "2021-09-09T19:43:16.583Z"
   },
   {
    "duration": 28,
    "start_time": "2021-09-09T19:43:20.843Z"
   },
   {
    "duration": 10,
    "start_time": "2021-09-09T19:43:28.381Z"
   },
   {
    "duration": 6,
    "start_time": "2021-09-09T19:43:32.353Z"
   },
   {
    "duration": 4,
    "start_time": "2021-09-09T19:43:35.406Z"
   },
   {
    "duration": 15,
    "start_time": "2021-09-09T19:43:38.823Z"
   },
   {
    "duration": 17,
    "start_time": "2021-09-09T19:43:42.492Z"
   },
   {
    "duration": 6,
    "start_time": "2021-09-09T19:43:45.843Z"
   },
   {
    "duration": 428,
    "start_time": "2021-09-09T19:43:50.503Z"
   },
   {
    "duration": 19,
    "start_time": "2021-09-09T19:43:55.103Z"
   },
   {
    "duration": 9,
    "start_time": "2021-09-09T19:43:58.299Z"
   },
   {
    "duration": 287,
    "start_time": "2021-09-09T19:44:03.453Z"
   },
   {
    "duration": 379,
    "start_time": "2021-09-09T19:44:30.183Z"
   },
   {
    "duration": 15,
    "start_time": "2021-09-09T19:44:40.744Z"
   },
   {
    "duration": 15,
    "start_time": "2021-09-09T19:44:47.108Z"
   },
   {
    "duration": 8,
    "start_time": "2021-09-09T19:44:51.433Z"
   },
   {
    "duration": 15,
    "start_time": "2021-09-09T19:44:55.172Z"
   },
   {
    "duration": 24,
    "start_time": "2021-09-09T19:45:00.281Z"
   },
   {
    "duration": 17,
    "start_time": "2021-09-09T19:46:19.344Z"
   },
   {
    "duration": 16,
    "start_time": "2021-09-09T19:46:29.163Z"
   },
   {
    "duration": 19,
    "start_time": "2021-09-09T19:46:42.663Z"
   },
   {
    "duration": 16,
    "start_time": "2021-09-09T19:47:12.693Z"
   },
   {
    "duration": 9,
    "start_time": "2021-09-09T19:47:59.262Z"
   },
   {
    "duration": 14,
    "start_time": "2021-09-09T19:48:04.423Z"
   },
   {
    "duration": 16,
    "start_time": "2021-09-09T19:49:48.054Z"
   },
   {
    "duration": 382,
    "start_time": "2021-09-09T19:52:08.079Z"
   },
   {
    "duration": 391,
    "start_time": "2021-09-09T19:52:45.064Z"
   },
   {
    "duration": 9,
    "start_time": "2021-09-09T19:55:34.727Z"
   },
   {
    "duration": 13,
    "start_time": "2021-09-09T19:55:38.366Z"
   },
   {
    "duration": 19,
    "start_time": "2021-09-09T19:55:49.494Z"
   },
   {
    "duration": 17,
    "start_time": "2021-09-09T19:56:04.164Z"
   },
   {
    "duration": 17,
    "start_time": "2021-09-09T19:56:12.446Z"
   },
   {
    "duration": 23,
    "start_time": "2021-09-09T20:01:18.432Z"
   },
   {
    "duration": 284,
    "start_time": "2021-09-09T20:01:58.462Z"
   },
   {
    "duration": 24,
    "start_time": "2021-09-09T20:02:09.364Z"
   },
   {
    "duration": 414,
    "start_time": "2021-09-10T10:23:34.536Z"
   },
   {
    "duration": 304,
    "start_time": "2021-09-10T10:24:12.216Z"
   },
   {
    "duration": 964,
    "start_time": "2021-09-10T10:24:18.796Z"
   },
   {
    "duration": 14,
    "start_time": "2021-09-10T10:24:24.564Z"
   },
   {
    "duration": 21,
    "start_time": "2021-09-10T10:24:32.136Z"
   },
   {
    "duration": 32,
    "start_time": "2021-09-10T10:24:36.306Z"
   },
   {
    "duration": 10,
    "start_time": "2021-09-10T10:24:41.565Z"
   },
   {
    "duration": 13,
    "start_time": "2021-09-10T10:25:21.002Z"
   },
   {
    "duration": 15,
    "start_time": "2021-09-10T10:25:32.262Z"
   },
   {
    "duration": 15,
    "start_time": "2021-09-10T10:25:42.316Z"
   },
   {
    "duration": 9,
    "start_time": "2021-09-10T10:25:51.943Z"
   },
   {
    "duration": 24,
    "start_time": "2021-09-10T11:06:15.917Z"
   },
   {
    "duration": 29,
    "start_time": "2021-09-10T11:06:27.619Z"
   },
   {
    "duration": 9,
    "start_time": "2021-09-10T11:06:41.409Z"
   },
   {
    "duration": 6,
    "start_time": "2021-09-10T11:06:53.519Z"
   },
   {
    "duration": 790,
    "start_time": "2021-09-10T11:07:11.169Z"
   },
   {
    "duration": 18,
    "start_time": "2021-09-10T11:07:20.647Z"
   },
   {
    "duration": 5,
    "start_time": "2021-09-10T11:07:25.879Z"
   },
   {
    "duration": 390,
    "start_time": "2021-09-10T11:07:31.135Z"
   },
   {
    "duration": 19,
    "start_time": "2021-09-10T11:07:36.360Z"
   },
   {
    "duration": 8,
    "start_time": "2021-09-10T11:07:40.201Z"
   },
   {
    "duration": 379,
    "start_time": "2021-09-10T11:07:44.900Z"
   },
   {
    "duration": 15,
    "start_time": "2021-09-10T11:07:50.039Z"
   },
   {
    "duration": 22,
    "start_time": "2021-09-10T11:07:54.007Z"
   },
   {
    "duration": 19,
    "start_time": "2021-09-10T11:07:57.666Z"
   },
   {
    "duration": 26,
    "start_time": "2021-09-10T11:08:04.451Z"
   },
   {
    "duration": 408,
    "start_time": "2021-09-10T11:08:09.221Z"
   },
   {
    "duration": 300,
    "start_time": "2021-09-10T11:09:36.191Z"
   },
   {
    "duration": 329,
    "start_time": "2021-09-10T11:09:47.598Z"
   },
   {
    "duration": 23,
    "start_time": "2021-09-10T11:10:41.441Z"
   },
   {
    "duration": 20,
    "start_time": "2021-09-10T11:10:47.771Z"
   },
   {
    "duration": 18,
    "start_time": "2021-09-10T11:11:13.801Z"
   },
   {
    "duration": 46,
    "start_time": "2021-09-10T11:12:12.617Z"
   },
   {
    "duration": 18,
    "start_time": "2021-09-10T11:35:08.651Z"
   },
   {
    "duration": 16,
    "start_time": "2021-09-10T11:35:34.724Z"
   },
   {
    "duration": 14,
    "start_time": "2021-09-10T11:35:52.298Z"
   },
   {
    "duration": 14,
    "start_time": "2021-09-10T11:39:09.480Z"
   },
   {
    "duration": 15,
    "start_time": "2021-09-10T11:39:13.722Z"
   },
   {
    "duration": 17,
    "start_time": "2021-09-10T11:39:20.075Z"
   },
   {
    "duration": 18,
    "start_time": "2021-09-10T11:39:40.176Z"
   },
   {
    "duration": 17,
    "start_time": "2021-09-10T11:40:02.254Z"
   },
   {
    "duration": 29,
    "start_time": "2021-09-10T11:40:30.921Z"
   },
   {
    "duration": 18,
    "start_time": "2021-09-10T11:58:03.330Z"
   },
   {
    "duration": 7485,
    "start_time": "2021-09-10T11:58:39.530Z"
   },
   {
    "duration": 19,
    "start_time": "2021-09-10T11:59:31.135Z"
   },
   {
    "duration": 17,
    "start_time": "2021-09-10T12:00:07.695Z"
   },
   {
    "duration": 20,
    "start_time": "2021-09-10T12:00:14.285Z"
   },
   {
    "duration": 320,
    "start_time": "2021-09-10T12:02:42.895Z"
   },
   {
    "duration": 297,
    "start_time": "2021-09-10T12:02:48.953Z"
   },
   {
    "duration": 18,
    "start_time": "2021-09-10T12:03:22.930Z"
   },
   {
    "duration": 18,
    "start_time": "2021-09-10T12:03:38.055Z"
   },
   {
    "duration": 19,
    "start_time": "2021-09-10T12:03:57.520Z"
   },
   {
    "duration": 18,
    "start_time": "2021-09-10T12:04:17.119Z"
   },
   {
    "duration": 17,
    "start_time": "2021-09-10T12:04:29.801Z"
   },
   {
    "duration": 331,
    "start_time": "2021-09-10T12:04:47.769Z"
   },
   {
    "duration": 328,
    "start_time": "2021-09-10T12:06:45.595Z"
   },
   {
    "duration": 294,
    "start_time": "2021-09-10T12:07:06.500Z"
   },
   {
    "duration": 1396,
    "start_time": "2021-09-10T12:08:36.735Z"
   },
   {
    "duration": 11,
    "start_time": "2021-09-10T12:11:09.157Z"
   },
   {
    "duration": 18,
    "start_time": "2021-09-10T12:11:45.688Z"
   },
   {
    "duration": 19,
    "start_time": "2021-09-10T12:13:03.409Z"
   },
   {
    "duration": 294,
    "start_time": "2021-09-10T12:13:12.265Z"
   },
   {
    "duration": 19,
    "start_time": "2021-09-10T12:13:28.503Z"
   },
   {
    "duration": 81,
    "start_time": "2021-09-10T12:14:29.930Z"
   },
   {
    "duration": 315,
    "start_time": "2021-09-10T12:14:57.949Z"
   },
   {
    "duration": 9,
    "start_time": "2021-09-10T12:24:07.989Z"
   },
   {
    "duration": 20,
    "start_time": "2021-09-10T12:24:46.010Z"
   },
   {
    "duration": 7,
    "start_time": "2021-09-10T12:29:59.166Z"
   },
   {
    "duration": 73,
    "start_time": "2021-09-10T12:33:31.745Z"
   },
   {
    "duration": 15,
    "start_time": "2021-09-10T12:33:35.690Z"
   },
   {
    "duration": 13,
    "start_time": "2021-09-10T12:33:42.680Z"
   },
   {
    "duration": 12,
    "start_time": "2021-09-10T12:33:46.925Z"
   },
   {
    "duration": 15,
    "start_time": "2021-09-10T12:33:56.745Z"
   },
   {
    "duration": 10,
    "start_time": "2021-09-10T12:35:01.696Z"
   },
   {
    "duration": 14,
    "start_time": "2021-09-10T12:35:23.305Z"
   },
   {
    "duration": 8,
    "start_time": "2021-09-10T12:35:26.745Z"
   },
   {
    "duration": 18,
    "start_time": "2021-09-10T12:35:35.960Z"
   },
   {
    "duration": 14,
    "start_time": "2021-09-10T12:37:10.942Z"
   },
   {
    "duration": 14,
    "start_time": "2021-09-10T12:37:19.160Z"
   },
   {
    "duration": 293,
    "start_time": "2021-09-10T12:42:28.299Z"
   },
   {
    "duration": 7,
    "start_time": "2021-09-10T12:42:56.704Z"
   },
   {
    "duration": 95,
    "start_time": "2021-09-10T12:43:11.819Z"
   },
   {
    "duration": 7,
    "start_time": "2021-09-10T12:43:18.409Z"
   },
   {
    "duration": 72,
    "start_time": "2021-09-10T12:44:07.832Z"
   },
   {
    "duration": 16,
    "start_time": "2021-09-10T12:44:11.502Z"
   },
   {
    "duration": 13,
    "start_time": "2021-09-10T12:44:18.677Z"
   },
   {
    "duration": 13,
    "start_time": "2021-09-10T12:44:22.195Z"
   },
   {
    "duration": 15,
    "start_time": "2021-09-10T12:44:32.271Z"
   },
   {
    "duration": 24,
    "start_time": "2021-09-10T12:44:46.397Z"
   },
   {
    "duration": 382,
    "start_time": "2021-09-10T12:45:33.243Z"
   },
   {
    "duration": 10,
    "start_time": "2021-09-10T12:45:41.611Z"
   },
   {
    "duration": 19,
    "start_time": "2021-09-10T12:46:32.381Z"
   },
   {
    "duration": 22,
    "start_time": "2021-09-10T12:47:20.722Z"
   },
   {
    "duration": 36,
    "start_time": "2021-09-10T12:47:48.546Z"
   },
   {
    "duration": 10,
    "start_time": "2021-09-10T12:47:52.611Z"
   },
   {
    "duration": 13,
    "start_time": "2021-09-10T12:48:24.582Z"
   },
   {
    "duration": 16,
    "start_time": "2021-09-10T12:48:32.241Z"
   },
   {
    "duration": 8,
    "start_time": "2021-09-10T12:48:40.532Z"
   },
   {
    "duration": 17,
    "start_time": "2021-09-10T12:48:44.142Z"
   },
   {
    "duration": 12,
    "start_time": "2021-09-10T12:49:05.097Z"
   },
   {
    "duration": 16,
    "start_time": "2021-09-10T12:49:11.877Z"
   },
   {
    "duration": 9,
    "start_time": "2021-09-10T12:49:17.453Z"
   },
   {
    "duration": 30,
    "start_time": "2021-09-10T12:49:22.952Z"
   },
   {
    "duration": 9,
    "start_time": "2021-09-10T12:49:29.746Z"
   },
   {
    "duration": 7,
    "start_time": "2021-09-10T12:49:34.509Z"
   },
   {
    "duration": 5,
    "start_time": "2021-09-10T12:49:37.776Z"
   },
   {
    "duration": 14,
    "start_time": "2021-09-10T12:49:40.751Z"
   },
   {
    "duration": 19,
    "start_time": "2021-09-10T12:49:44.080Z"
   },
   {
    "duration": 5,
    "start_time": "2021-09-10T12:49:48.262Z"
   },
   {
    "duration": 387,
    "start_time": "2021-09-10T12:49:52.592Z"
   },
   {
    "duration": 16,
    "start_time": "2021-09-10T12:49:56.014Z"
   },
   {
    "duration": 9,
    "start_time": "2021-09-10T12:49:59.182Z"
   },
   {
    "duration": 303,
    "start_time": "2021-09-10T12:50:12.781Z"
   },
   {
    "duration": 388,
    "start_time": "2021-09-10T12:50:28.881Z"
   },
   {
    "duration": 15,
    "start_time": "2021-09-10T12:50:37.244Z"
   },
   {
    "duration": 405,
    "start_time": "2021-09-10T12:51:02.581Z"
   },
   {
    "duration": 11,
    "start_time": "2021-09-10T12:51:09.006Z"
   },
   {
    "duration": 11,
    "start_time": "2021-09-10T12:51:17.576Z"
   },
   {
    "duration": 31,
    "start_time": "2021-09-10T12:53:32.432Z"
   },
   {
    "duration": 302,
    "start_time": "2021-09-10T12:54:19.192Z"
   },
   {
    "duration": 19,
    "start_time": "2021-09-10T12:54:52.432Z"
   },
   {
    "duration": 23,
    "start_time": "2021-09-10T12:55:30.415Z"
   },
   {
    "duration": 22,
    "start_time": "2021-09-10T12:55:41.571Z"
   },
   {
    "duration": 19,
    "start_time": "2021-09-10T12:55:53.786Z"
   },
   {
    "duration": 23,
    "start_time": "2021-09-10T12:56:05.917Z"
   },
   {
    "duration": 345,
    "start_time": "2021-09-10T12:57:00.456Z"
   },
   {
    "duration": 33,
    "start_time": "2021-09-10T12:57:08.391Z"
   },
   {
    "duration": 19,
    "start_time": "2021-09-10T12:57:51.151Z"
   },
   {
    "duration": 12,
    "start_time": "2021-09-10T12:59:06.251Z"
   },
   {
    "duration": 11,
    "start_time": "2021-09-10T12:59:14.191Z"
   },
   {
    "duration": 64,
    "start_time": "2021-09-10T12:59:56.954Z"
   },
   {
    "duration": 61,
    "start_time": "2021-09-10T13:00:22.366Z"
   },
   {
    "duration": 61,
    "start_time": "2021-09-10T13:01:08.956Z"
   },
   {
    "duration": 10,
    "start_time": "2021-09-10T13:02:57.806Z"
   },
   {
    "duration": 10,
    "start_time": "2021-09-10T13:03:27.187Z"
   },
   {
    "duration": 25,
    "start_time": "2021-09-10T13:04:30.006Z"
   },
   {
    "duration": 14,
    "start_time": "2021-09-10T13:12:12.311Z"
   },
   {
    "duration": 362,
    "start_time": "2021-09-10T13:12:52.194Z"
   },
   {
    "duration": 529,
    "start_time": "2021-09-10T13:13:04.996Z"
   },
   {
    "duration": 372,
    "start_time": "2021-09-10T13:13:15.863Z"
   },
   {
    "duration": 6,
    "start_time": "2021-09-10T13:14:18.735Z"
   },
   {
    "duration": 448,
    "start_time": "2021-09-10T13:14:25.376Z"
   },
   {
    "duration": 73,
    "start_time": "2021-09-10T15:01:42.394Z"
   },
   {
    "duration": 14,
    "start_time": "2021-09-10T15:01:46.470Z"
   },
   {
    "duration": 13,
    "start_time": "2021-09-10T15:01:52.612Z"
   },
   {
    "duration": 14,
    "start_time": "2021-09-10T15:01:56.085Z"
   },
   {
    "duration": 34,
    "start_time": "2021-09-10T15:02:00.516Z"
   },
   {
    "duration": 10,
    "start_time": "2021-09-10T15:02:04.781Z"
   },
   {
    "duration": 12,
    "start_time": "2021-09-10T15:02:09.127Z"
   },
   {
    "duration": 14,
    "start_time": "2021-09-10T15:02:12.300Z"
   },
   {
    "duration": 7,
    "start_time": "2021-09-10T15:02:15.106Z"
   },
   {
    "duration": 18,
    "start_time": "2021-09-10T15:02:19.265Z"
   },
   {
    "duration": 13,
    "start_time": "2021-09-10T15:02:24.525Z"
   },
   {
    "duration": 18,
    "start_time": "2021-09-10T15:02:28.226Z"
   },
   {
    "duration": 10,
    "start_time": "2021-09-10T15:02:33.905Z"
   },
   {
    "duration": 30,
    "start_time": "2021-09-10T15:02:39.401Z"
   },
   {
    "duration": 9,
    "start_time": "2021-09-10T15:02:46.757Z"
   },
   {
    "duration": 7,
    "start_time": "2021-09-10T15:02:51.631Z"
   },
   {
    "duration": 4,
    "start_time": "2021-09-10T15:02:55.046Z"
   },
   {
    "duration": 17,
    "start_time": "2021-09-10T15:02:59.088Z"
   },
   {
    "duration": 18,
    "start_time": "2021-09-10T15:03:26.582Z"
   },
   {
    "duration": 5,
    "start_time": "2021-09-10T15:03:30.292Z"
   },
   {
    "duration": 503,
    "start_time": "2021-09-10T15:03:35.003Z"
   },
   {
    "duration": 22,
    "start_time": "2021-09-10T15:03:38.842Z"
   },
   {
    "duration": 8,
    "start_time": "2021-09-10T15:03:42.416Z"
   },
   {
    "duration": 382,
    "start_time": "2021-09-10T15:03:46.012Z"
   },
   {
    "duration": 9,
    "start_time": "2021-09-10T15:03:53.162Z"
   },
   {
    "duration": 308,
    "start_time": "2021-09-10T15:03:57.200Z"
   },
   {
    "duration": 9,
    "start_time": "2021-09-10T15:04:26.316Z"
   },
   {
    "duration": 381,
    "start_time": "2021-09-10T15:04:33.534Z"
   },
   {
    "duration": 394,
    "start_time": "2021-09-10T15:05:32.309Z"
   },
   {
    "duration": 303,
    "start_time": "2021-09-10T15:05:45.452Z"
   },
   {
    "duration": 7,
    "start_time": "2021-09-10T15:06:00.022Z"
   },
   {
    "duration": 377,
    "start_time": "2021-09-10T15:06:03.439Z"
   },
   {
    "duration": 9,
    "start_time": "2021-09-10T15:06:11.130Z"
   },
   {
    "duration": 19,
    "start_time": "2021-09-10T15:06:23.002Z"
   },
   {
    "duration": 311,
    "start_time": "2021-09-10T15:07:51.624Z"
   },
   {
    "duration": 11,
    "start_time": "2021-09-10T15:08:53.812Z"
   },
   {
    "duration": 11,
    "start_time": "2021-09-10T15:09:27.576Z"
   },
   {
    "duration": 355,
    "start_time": "2021-09-10T15:09:54.467Z"
   },
   {
    "duration": 13,
    "start_time": "2021-09-10T15:10:25.033Z"
   },
   {
    "duration": 11,
    "start_time": "2021-09-10T15:10:55.440Z"
   },
   {
    "duration": 10,
    "start_time": "2021-09-10T15:11:17.413Z"
   },
   {
    "duration": 9,
    "start_time": "2021-09-10T15:11:23.652Z"
   },
   {
    "duration": 67,
    "start_time": "2021-09-10T15:11:30.762Z"
   },
   {
    "duration": 16,
    "start_time": "2021-09-10T15:13:11.322Z"
   },
   {
    "duration": 287,
    "start_time": "2021-09-10T15:13:58.072Z"
   },
   {
    "duration": 14,
    "start_time": "2021-09-10T15:14:41.372Z"
   },
   {
    "duration": 11,
    "start_time": "2021-09-10T15:14:50.673Z"
   },
   {
    "duration": 9,
    "start_time": "2021-09-10T15:14:54.165Z"
   },
   {
    "duration": 17,
    "start_time": "2021-09-10T15:14:57.982Z"
   },
   {
    "duration": 27,
    "start_time": "2021-09-10T15:16:29.952Z"
   },
   {
    "duration": 27,
    "start_time": "2021-09-10T15:17:02.485Z"
   },
   {
    "duration": 16,
    "start_time": "2021-09-10T15:21:00.938Z"
   },
   {
    "duration": 336,
    "start_time": "2021-09-10T15:23:27.204Z"
   },
   {
    "duration": 21,
    "start_time": "2021-09-10T15:23:37.802Z"
   },
   {
    "duration": 330,
    "start_time": "2021-09-10T15:24:53.532Z"
   },
   {
    "duration": 330,
    "start_time": "2021-09-10T15:25:03.869Z"
   },
   {
    "duration": 320,
    "start_time": "2021-09-10T15:25:25.331Z"
   },
   {
    "duration": 6054,
    "start_time": "2021-09-10T15:25:33.711Z"
   },
   {
    "duration": 308,
    "start_time": "2021-09-10T15:25:42.612Z"
   },
   {
    "duration": 17,
    "start_time": "2021-09-10T15:26:02.181Z"
   },
   {
    "duration": 310,
    "start_time": "2021-09-10T15:30:03.960Z"
   },
   {
    "duration": 9,
    "start_time": "2021-09-10T15:30:20.042Z"
   },
   {
    "duration": 37,
    "start_time": "2021-09-10T15:30:44.452Z"
   },
   {
    "duration": 24,
    "start_time": "2021-09-10T15:31:19.710Z"
   },
   {
    "duration": 35,
    "start_time": "2021-09-10T15:31:48.852Z"
   },
   {
    "duration": 12,
    "start_time": "2021-09-10T15:32:48.881Z"
   },
   {
    "duration": 23,
    "start_time": "2021-09-10T15:33:21.412Z"
   },
   {
    "duration": 10,
    "start_time": "2021-09-10T15:33:32.772Z"
   },
   {
    "duration": 9,
    "start_time": "2021-09-10T15:33:37.556Z"
   },
   {
    "duration": 9,
    "start_time": "2021-09-10T15:53:35.800Z"
   },
   {
    "duration": 7,
    "start_time": "2021-09-10T15:54:11.057Z"
   },
   {
    "duration": 6,
    "start_time": "2021-09-10T15:54:53.740Z"
   },
   {
    "duration": 8,
    "start_time": "2021-09-10T15:58:16.821Z"
   },
   {
    "duration": 7,
    "start_time": "2021-09-10T15:58:46.771Z"
   },
   {
    "duration": 6,
    "start_time": "2021-09-10T15:58:54.221Z"
   },
   {
    "duration": 14399136,
    "start_time": "2021-09-10T11:59:06.183Z"
   },
   {
    "duration": 8,
    "start_time": "2021-09-10T15:59:13.741Z"
   },
   {
    "duration": 4637,
    "start_time": "2021-09-10T15:59:18.340Z"
   },
   {
    "duration": 14399050,
    "start_time": "2021-09-10T11:59:29.336Z"
   },
   {
    "duration": 7,
    "start_time": "2021-09-10T15:59:32.421Z"
   },
   {
    "duration": 5,
    "start_time": "2021-09-10T15:59:46.361Z"
   },
   {
    "duration": 9,
    "start_time": "2021-09-10T15:59:48.321Z"
   },
   {
    "duration": 6,
    "start_time": "2021-09-10T15:59:52.120Z"
   },
   {
    "duration": 9,
    "start_time": "2021-09-10T15:59:59.621Z"
   },
   {
    "duration": 6,
    "start_time": "2021-09-10T16:01:38.930Z"
   },
   {
    "duration": 8,
    "start_time": "2021-09-10T16:01:49.450Z"
   },
   {
    "duration": 8,
    "start_time": "2021-09-10T16:02:20.280Z"
   },
   {
    "duration": 6,
    "start_time": "2021-09-10T16:03:08.706Z"
   },
   {
    "duration": 8,
    "start_time": "2021-09-10T16:03:35.919Z"
   },
   {
    "duration": 9,
    "start_time": "2021-09-10T16:03:49.235Z"
   },
   {
    "duration": 6,
    "start_time": "2021-09-10T16:04:24.459Z"
   },
   {
    "duration": 9,
    "start_time": "2021-09-10T16:07:07.429Z"
   },
   {
    "duration": 7,
    "start_time": "2021-09-10T16:08:06.121Z"
   },
   {
    "duration": 9,
    "start_time": "2021-09-10T16:08:08.889Z"
   },
   {
    "duration": 7,
    "start_time": "2021-09-10T16:08:12.428Z"
   },
   {
    "duration": 9,
    "start_time": "2021-09-10T16:08:15.799Z"
   },
   {
    "duration": 15,
    "start_time": "2021-09-10T16:09:17.167Z"
   },
   {
    "duration": 17,
    "start_time": "2021-09-10T16:10:48.319Z"
   },
   {
    "duration": 18,
    "start_time": "2021-09-10T16:11:55.278Z"
   },
   {
    "duration": 16,
    "start_time": "2021-09-10T16:12:04.569Z"
   },
   {
    "duration": 19,
    "start_time": "2021-09-10T16:12:48.458Z"
   },
   {
    "duration": 75,
    "start_time": "2021-09-10T16:13:07.279Z"
   },
   {
    "duration": 21,
    "start_time": "2021-09-10T16:13:23.618Z"
   },
   {
    "duration": 23,
    "start_time": "2021-09-10T16:13:38.120Z"
   },
   {
    "duration": 19,
    "start_time": "2021-09-10T16:14:13.690Z"
   },
   {
    "duration": 319,
    "start_time": "2021-09-10T16:14:37.829Z"
   },
   {
    "duration": 957,
    "start_time": "2021-09-10T16:14:44.727Z"
   },
   {
    "duration": 24,
    "start_time": "2021-09-10T16:14:50.727Z"
   },
   {
    "duration": 16,
    "start_time": "2021-09-10T16:15:04.198Z"
   },
   {
    "duration": 311,
    "start_time": "2021-09-10T16:16:35.639Z"
   },
   {
    "duration": 299,
    "start_time": "2021-09-10T16:16:50.644Z"
   },
   {
    "duration": 5,
    "start_time": "2021-09-10T16:17:28.198Z"
   },
   {
    "duration": 5,
    "start_time": "2021-09-10T16:17:59.818Z"
   },
   {
    "duration": 5,
    "start_time": "2021-09-10T16:18:47.179Z"
   },
   {
    "duration": 5,
    "start_time": "2021-09-10T16:18:57.629Z"
   },
   {
    "duration": 5,
    "start_time": "2021-09-10T16:19:31.389Z"
   },
   {
    "duration": 4,
    "start_time": "2021-09-10T16:19:52.136Z"
   },
   {
    "duration": 8,
    "start_time": "2021-09-10T16:20:07.120Z"
   },
   {
    "duration": 8,
    "start_time": "2021-09-10T16:21:53.783Z"
   },
   {
    "duration": 8,
    "start_time": "2021-09-10T16:22:15.679Z"
   },
   {
    "duration": 9,
    "start_time": "2021-09-10T16:22:40.370Z"
   },
   {
    "duration": 6,
    "start_time": "2021-09-10T16:23:19.911Z"
   },
   {
    "duration": 7,
    "start_time": "2021-09-10T16:23:40.300Z"
   },
   {
    "duration": 15,
    "start_time": "2021-09-10T16:29:12.653Z"
   },
   {
    "duration": 9,
    "start_time": "2021-09-10T16:35:25.821Z"
   },
   {
    "duration": 99,
    "start_time": "2021-09-10T16:39:31.402Z"
   },
   {
    "duration": 102,
    "start_time": "2021-09-10T16:39:42.581Z"
   },
   {
    "duration": 96,
    "start_time": "2021-09-10T16:41:22.161Z"
   },
   {
    "duration": 7,
    "start_time": "2021-09-10T16:41:35.911Z"
   },
   {
    "duration": 6,
    "start_time": "2021-09-10T16:42:27.341Z"
   },
   {
    "duration": 8,
    "start_time": "2021-09-10T16:45:10.744Z"
   },
   {
    "duration": 10,
    "start_time": "2021-09-10T16:45:20.621Z"
   },
   {
    "duration": 17,
    "start_time": "2021-09-10T16:47:55.982Z"
   },
   {
    "duration": 8,
    "start_time": "2021-09-10T16:55:07.952Z"
   },
   {
    "duration": 6,
    "start_time": "2021-09-10T17:00:30.192Z"
   },
   {
    "duration": 510,
    "start_time": "2021-09-10T17:05:38.302Z"
   },
   {
    "duration": 397,
    "start_time": "2021-09-10T17:06:57.762Z"
   },
   {
    "duration": 11,
    "start_time": "2021-09-10T17:09:02.523Z"
   },
   {
    "duration": 386,
    "start_time": "2021-09-10T17:10:05.230Z"
   },
   {
    "duration": 401,
    "start_time": "2021-09-10T17:10:13.582Z"
   },
   {
    "duration": 384,
    "start_time": "2021-09-10T17:10:22.062Z"
   },
   {
    "duration": 383,
    "start_time": "2021-09-10T17:10:36.040Z"
   },
   {
    "duration": 11,
    "start_time": "2021-09-10T17:12:03.587Z"
   },
   {
    "duration": 286,
    "start_time": "2021-09-10T17:12:35.641Z"
   },
   {
    "duration": 16,
    "start_time": "2021-09-10T17:13:24.751Z"
   },
   {
    "duration": 7,
    "start_time": "2021-09-10T17:14:38.822Z"
   },
   {
    "duration": 23,
    "start_time": "2021-09-10T17:17:16.062Z"
   },
   {
    "duration": 32,
    "start_time": "2021-09-10T17:17:56.631Z"
   },
   {
    "duration": 332,
    "start_time": "2021-09-10T17:19:16.291Z"
   },
   {
    "duration": 17,
    "start_time": "2021-09-10T17:21:25.079Z"
   },
   {
    "duration": 17,
    "start_time": "2021-09-10T17:21:49.562Z"
   },
   {
    "duration": 20,
    "start_time": "2021-09-10T17:22:42.749Z"
   },
   {
    "duration": 29,
    "start_time": "2021-09-10T17:24:19.582Z"
   },
   {
    "duration": 76,
    "start_time": "2021-09-10T17:24:30.792Z"
   },
   {
    "duration": 14,
    "start_time": "2021-09-10T17:24:34.502Z"
   },
   {
    "duration": 14,
    "start_time": "2021-09-10T17:24:39.802Z"
   },
   {
    "duration": 15,
    "start_time": "2021-09-10T17:24:42.952Z"
   },
   {
    "duration": 43,
    "start_time": "2021-09-10T17:24:46.529Z"
   },
   {
    "duration": 9,
    "start_time": "2021-09-10T17:24:51.510Z"
   },
   {
    "duration": 12,
    "start_time": "2021-09-10T17:24:54.281Z"
   },
   {
    "duration": 15,
    "start_time": "2021-09-10T17:24:57.743Z"
   },
   {
    "duration": 8,
    "start_time": "2021-09-10T17:25:01.391Z"
   },
   {
    "duration": 18,
    "start_time": "2021-09-10T17:25:04.193Z"
   },
   {
    "duration": 12,
    "start_time": "2021-09-10T17:25:08.082Z"
   },
   {
    "duration": 25,
    "start_time": "2021-09-10T17:25:12.052Z"
   },
   {
    "duration": 12,
    "start_time": "2021-09-10T17:25:17.632Z"
   },
   {
    "duration": 24,
    "start_time": "2021-09-10T17:25:22.842Z"
   },
   {
    "duration": 27,
    "start_time": "2021-09-10T17:25:26.070Z"
   },
   {
    "duration": 9,
    "start_time": "2021-09-10T17:25:34.422Z"
   },
   {
    "duration": 6,
    "start_time": "2021-09-10T17:25:38.512Z"
   },
   {
    "duration": 4,
    "start_time": "2021-09-10T17:25:43.661Z"
   },
   {
    "duration": 15,
    "start_time": "2021-09-10T17:25:48.872Z"
   },
   {
    "duration": 23,
    "start_time": "2021-09-10T17:25:54.683Z"
   },
   {
    "duration": 5,
    "start_time": "2021-09-10T17:25:58.022Z"
   },
   {
    "duration": 392,
    "start_time": "2021-09-10T17:26:03.729Z"
   },
   {
    "duration": 18,
    "start_time": "2021-09-10T17:26:06.872Z"
   },
   {
    "duration": 9,
    "start_time": "2021-09-10T17:26:10.032Z"
   },
   {
    "duration": 391,
    "start_time": "2021-09-10T17:26:12.972Z"
   },
   {
    "duration": 4,
    "start_time": "2021-09-10T17:26:17.761Z"
   },
   {
    "duration": 4,
    "start_time": "2021-09-10T17:26:24.023Z"
   },
   {
    "duration": 5,
    "start_time": "2021-09-10T17:26:43.891Z"
   },
   {
    "duration": 414,
    "start_time": "2021-09-10T17:26:46.902Z"
   },
   {
    "duration": 7,
    "start_time": "2021-09-10T17:26:51.730Z"
   },
   {
    "duration": 5,
    "start_time": "2021-09-10T17:28:31.402Z"
   },
   {
    "duration": 103,
    "start_time": "2021-09-10T17:29:19.642Z"
   },
   {
    "duration": 5,
    "start_time": "2021-09-10T17:29:31.141Z"
   },
   {
    "duration": 568,
    "start_time": "2021-09-10T17:29:49.272Z"
   },
   {
    "duration": 7,
    "start_time": "2021-09-10T17:29:57.052Z"
   },
   {
    "duration": 21,
    "start_time": "2021-09-10T17:30:03.822Z"
   },
   {
    "duration": 16,
    "start_time": "2021-09-10T17:30:23.982Z"
   },
   {
    "duration": 11,
    "start_time": "2021-09-10T17:30:47.802Z"
   },
   {
    "duration": 7,
    "start_time": "2021-09-10T17:34:57.284Z"
   },
   {
    "duration": 6,
    "start_time": "2021-09-10T17:35:14.926Z"
   },
   {
    "duration": 6,
    "start_time": "2021-09-10T17:36:05.515Z"
   },
   {
    "duration": 388,
    "start_time": "2021-09-10T17:36:41.299Z"
   },
   {
    "duration": 14399153,
    "start_time": "2021-09-10T13:38:21.784Z"
   },
   {
    "duration": 381,
    "start_time": "2021-09-10T17:38:31.635Z"
   },
   {
    "duration": 10,
    "start_time": "2021-09-10T17:38:48.875Z"
   },
   {
    "duration": 400,
    "start_time": "2021-09-10T17:39:04.316Z"
   },
   {
    "duration": 74,
    "start_time": "2021-09-10T17:39:15.666Z"
   },
   {
    "duration": 14,
    "start_time": "2021-09-10T17:39:19.436Z"
   },
   {
    "duration": 12,
    "start_time": "2021-09-10T17:39:24.514Z"
   },
   {
    "duration": 13,
    "start_time": "2021-09-10T17:39:29.456Z"
   },
   {
    "duration": 30,
    "start_time": "2021-09-10T17:39:33.396Z"
   },
   {
    "duration": 10,
    "start_time": "2021-09-10T17:39:37.039Z"
   },
   {
    "duration": 13,
    "start_time": "2021-09-10T17:39:40.115Z"
   },
   {
    "duration": 16,
    "start_time": "2021-09-10T17:39:42.925Z"
   },
   {
    "duration": 9,
    "start_time": "2021-09-10T17:39:45.815Z"
   },
   {
    "duration": 18,
    "start_time": "2021-09-10T17:39:48.869Z"
   },
   {
    "duration": 13,
    "start_time": "2021-09-10T17:39:52.515Z"
   },
   {
    "duration": 18,
    "start_time": "2021-09-10T17:39:57.196Z"
   },
   {
    "duration": 9,
    "start_time": "2021-09-10T17:40:01.817Z"
   },
   {
    "duration": 24,
    "start_time": "2021-09-10T17:40:05.529Z"
   },
   {
    "duration": 27,
    "start_time": "2021-09-10T17:40:08.896Z"
   },
   {
    "duration": 9,
    "start_time": "2021-09-10T17:40:15.225Z"
   },
   {
    "duration": 7,
    "start_time": "2021-09-10T17:40:20.764Z"
   },
   {
    "duration": 4,
    "start_time": "2021-09-10T17:40:24.156Z"
   },
   {
    "duration": 14,
    "start_time": "2021-09-10T17:40:27.705Z"
   },
   {
    "duration": 16,
    "start_time": "2021-09-10T17:40:33.684Z"
   },
   {
    "duration": 6,
    "start_time": "2021-09-10T17:40:37.116Z"
   },
   {
    "duration": 497,
    "start_time": "2021-09-10T17:40:41.343Z"
   },
   {
    "duration": 17,
    "start_time": "2021-09-10T17:40:45.296Z"
   },
   {
    "duration": 8,
    "start_time": "2021-09-10T17:40:49.264Z"
   },
   {
    "duration": 400,
    "start_time": "2021-09-10T17:40:54.876Z"
   },
   {
    "duration": 5,
    "start_time": "2021-09-10T17:40:59.486Z"
   },
   {
    "duration": 429,
    "start_time": "2021-09-10T17:41:02.316Z"
   },
   {
    "duration": 8,
    "start_time": "2021-09-10T17:41:07.915Z"
   },
   {
    "duration": 22,
    "start_time": "2021-09-10T17:41:10.686Z"
   },
   {
    "duration": 7,
    "start_time": "2021-09-10T17:41:15.065Z"
   },
   {
    "duration": 10,
    "start_time": "2021-09-10T17:41:18.805Z"
   },
   {
    "duration": 10,
    "start_time": "2021-09-10T17:41:22.528Z"
   },
   {
    "duration": 17,
    "start_time": "2021-09-10T17:41:25.426Z"
   },
   {
    "duration": 8,
    "start_time": "2021-09-10T17:41:30.405Z"
   },
   {
    "duration": 10,
    "start_time": "2021-09-10T17:41:34.606Z"
   },
   {
    "duration": 8,
    "start_time": "2021-09-10T17:41:54.073Z"
   },
   {
    "duration": 16,
    "start_time": "2021-09-10T17:41:57.694Z"
   },
   {
    "duration": 6,
    "start_time": "2021-09-10T17:42:01.809Z"
   },
   {
    "duration": 9,
    "start_time": "2021-09-10T17:42:05.504Z"
   },
   {
    "duration": 17,
    "start_time": "2021-09-10T17:42:08.398Z"
   },
   {
    "duration": 8,
    "start_time": "2021-09-10T17:42:12.264Z"
   },
   {
    "duration": 10,
    "start_time": "2021-09-10T17:42:16.405Z"
   },
   {
    "duration": 18,
    "start_time": "2021-09-10T17:43:17.526Z"
   },
   {
    "duration": 380,
    "start_time": "2021-09-10T17:44:06.897Z"
   },
   {
    "duration": 10,
    "start_time": "2021-09-10T17:44:15.035Z"
   },
   {
    "duration": 18,
    "start_time": "2021-09-10T17:44:17.726Z"
   },
   {
    "duration": 7,
    "start_time": "2021-09-10T17:44:21.305Z"
   },
   {
    "duration": 9,
    "start_time": "2021-09-10T17:44:24.876Z"
   },
   {
    "duration": 17,
    "start_time": "2021-09-10T17:44:27.655Z"
   },
   {
    "duration": 9,
    "start_time": "2021-09-10T17:44:32.205Z"
   },
   {
    "duration": 9,
    "start_time": "2021-09-10T17:44:36.356Z"
   },
   {
    "duration": 16,
    "start_time": "2021-09-10T17:44:39.511Z"
   },
   {
    "duration": 7639,
    "start_time": "2021-09-10T17:44:44.186Z"
   },
   {
    "duration": 166,
    "start_time": "2021-09-10T17:50:33.793Z"
   },
   {
    "duration": 378,
    "start_time": "2021-09-10T17:50:41.396Z"
   },
   {
    "duration": 400,
    "start_time": "2021-09-10T17:51:25.465Z"
   },
   {
    "duration": 6,
    "start_time": "2021-09-10T17:56:07.163Z"
   },
   {
    "duration": 9,
    "start_time": "2021-09-10T17:56:31.942Z"
   },
   {
    "duration": 18,
    "start_time": "2021-09-10T17:56:53.744Z"
   },
   {
    "duration": 8,
    "start_time": "2021-09-10T18:02:44.098Z"
   },
   {
    "duration": 9,
    "start_time": "2021-09-10T18:08:07.296Z"
   },
   {
    "duration": 16,
    "start_time": "2021-09-10T18:09:08.802Z"
   },
   {
    "duration": 9,
    "start_time": "2021-09-10T18:14:35.849Z"
   },
   {
    "duration": 22,
    "start_time": "2021-09-10T18:22:19.312Z"
   },
   {
    "duration": 17,
    "start_time": "2021-09-10T18:23:33.271Z"
   },
   {
    "duration": 21,
    "start_time": "2021-09-10T18:23:56.642Z"
   },
   {
    "duration": 18,
    "start_time": "2021-09-10T18:24:05.260Z"
   },
   {
    "duration": 14,
    "start_time": "2021-09-10T18:33:47.882Z"
   },
   {
    "duration": 309,
    "start_time": "2021-09-10T18:51:26.410Z"
   },
   {
    "duration": 21,
    "start_time": "2021-09-10T18:51:37.720Z"
   },
   {
    "duration": 23,
    "start_time": "2021-09-10T18:54:34.290Z"
   },
   {
    "duration": 19,
    "start_time": "2021-09-10T18:55:43.651Z"
   },
   {
    "duration": 15,
    "start_time": "2021-09-10T19:07:23.009Z"
   },
   {
    "duration": 20,
    "start_time": "2021-09-10T19:12:43.850Z"
   },
   {
    "duration": 28,
    "start_time": "2021-09-10T19:14:39.808Z"
   },
   {
    "duration": 29,
    "start_time": "2021-09-10T19:16:19.780Z"
   },
   {
    "duration": 26,
    "start_time": "2021-09-10T19:24:31.241Z"
   },
   {
    "duration": 65,
    "start_time": "2021-09-10T19:27:03.428Z"
   },
   {
    "duration": 61,
    "start_time": "2021-09-10T19:28:23.020Z"
   },
   {
    "duration": 331,
    "start_time": "2021-09-10T19:30:54.728Z"
   },
   {
    "duration": 325,
    "start_time": "2021-09-10T19:31:10.391Z"
   },
   {
    "duration": 15,
    "start_time": "2021-09-10T19:31:21.644Z"
   },
   {
    "duration": 59,
    "start_time": "2021-09-10T19:32:20.763Z"
   },
   {
    "duration": 60,
    "start_time": "2021-09-10T19:35:04.402Z"
   },
   {
    "duration": 80,
    "start_time": "2021-09-10T19:54:30.024Z"
   },
   {
    "duration": 66,
    "start_time": "2021-09-10T19:54:44.681Z"
   },
   {
    "duration": 55,
    "start_time": "2021-09-10T19:56:53.713Z"
   },
   {
    "duration": 50,
    "start_time": "2021-09-10T19:59:22.883Z"
   },
   {
    "duration": 686,
    "start_time": "2021-09-11T07:46:16.642Z"
   },
   {
    "duration": 14,
    "start_time": "2021-09-11T07:46:24.534Z"
   },
   {
    "duration": 17,
    "start_time": "2021-09-11T07:47:43.955Z"
   },
   {
    "duration": 11,
    "start_time": "2021-09-11T07:47:52.212Z"
   },
   {
    "duration": 25,
    "start_time": "2021-09-11T07:48:07.444Z"
   },
   {
    "duration": 26,
    "start_time": "2021-09-11T07:49:23.195Z"
   },
   {
    "duration": 8,
    "start_time": "2021-09-11T07:51:13.384Z"
   },
   {
    "duration": 13,
    "start_time": "2021-09-11T07:54:36.353Z"
   },
   {
    "duration": 11,
    "start_time": "2021-09-11T07:56:15.742Z"
   },
   {
    "duration": 9,
    "start_time": "2021-09-11T07:57:13.155Z"
   },
   {
    "duration": 8,
    "start_time": "2021-09-11T07:59:32.838Z"
   },
   {
    "duration": 8,
    "start_time": "2021-09-11T08:03:08.255Z"
   },
   {
    "duration": 8,
    "start_time": "2021-09-11T08:04:20.675Z"
   },
   {
    "duration": 8,
    "start_time": "2021-09-11T08:04:55.865Z"
   },
   {
    "duration": 6,
    "start_time": "2021-09-11T08:05:24.585Z"
   },
   {
    "duration": 8,
    "start_time": "2021-09-11T08:06:00.833Z"
   },
   {
    "duration": 10,
    "start_time": "2021-09-11T08:07:19.061Z"
   },
   {
    "duration": 13,
    "start_time": "2021-09-11T08:08:16.305Z"
   },
   {
    "duration": 8,
    "start_time": "2021-09-11T08:09:13.914Z"
   },
   {
    "duration": 8,
    "start_time": "2021-09-11T08:11:13.698Z"
   },
   {
    "duration": 58,
    "start_time": "2021-09-11T08:11:46.164Z"
   },
   {
    "duration": 19,
    "start_time": "2021-09-11T08:11:50.065Z"
   },
   {
    "duration": 11,
    "start_time": "2021-09-11T08:12:02.844Z"
   },
   {
    "duration": 11,
    "start_time": "2021-09-11T08:12:06.305Z"
   },
   {
    "duration": 8,
    "start_time": "2021-09-11T08:12:11.195Z"
   },
   {
    "duration": 5,
    "start_time": "2021-09-11T08:14:16.715Z"
   },
   {
    "duration": 373,
    "start_time": "2021-09-11T08:14:31.275Z"
   },
   {
    "duration": 5,
    "start_time": "2021-09-11T08:14:39.085Z"
   },
   {
    "duration": 5,
    "start_time": "2021-09-11T08:17:15.215Z"
   },
   {
    "duration": 58,
    "start_time": "2021-09-11T08:17:30.705Z"
   },
   {
    "duration": 11,
    "start_time": "2021-09-11T08:17:34.455Z"
   },
   {
    "duration": 11,
    "start_time": "2021-09-11T08:17:38.854Z"
   },
   {
    "duration": 10,
    "start_time": "2021-09-11T08:17:42.115Z"
   },
   {
    "duration": 5,
    "start_time": "2021-09-11T08:17:45.844Z"
   },
   {
    "duration": 16,
    "start_time": "2021-09-11T08:18:26.362Z"
   },
   {
    "duration": 6,
    "start_time": "2021-09-11T08:18:49.101Z"
   },
   {
    "duration": 5,
    "start_time": "2021-09-11T08:19:43.241Z"
   },
   {
    "duration": 24,
    "start_time": "2021-09-11T08:19:51.890Z"
   },
   {
    "duration": 6,
    "start_time": "2021-09-11T08:19:55.474Z"
   },
   {
    "duration": 13,
    "start_time": "2021-09-11T08:20:03.415Z"
   },
   {
    "duration": 10,
    "start_time": "2021-09-11T08:20:09.228Z"
   },
   {
    "duration": 3,
    "start_time": "2021-09-11T08:20:14.506Z"
   },
   {
    "duration": 2,
    "start_time": "2021-09-11T08:20:49.225Z"
   },
   {
    "duration": 2,
    "start_time": "2021-09-11T08:20:53.684Z"
   },
   {
    "duration": 2,
    "start_time": "2021-09-11T08:20:57.445Z"
   },
   {
    "duration": 2,
    "start_time": "2021-09-11T08:21:04.932Z"
   },
   {
    "duration": 2,
    "start_time": "2021-09-11T08:21:09.944Z"
   },
   {
    "duration": 8,
    "start_time": "2021-09-11T08:21:31.685Z"
   },
   {
    "duration": 11,
    "start_time": "2021-09-11T08:21:34.995Z"
   },
   {
    "duration": 13,
    "start_time": "2021-09-11T08:21:39.004Z"
   },
   {
    "duration": 6,
    "start_time": "2021-09-11T08:21:54.325Z"
   },
   {
    "duration": 62,
    "start_time": "2021-09-11T08:25:30.175Z"
   },
   {
    "duration": 59,
    "start_time": "2021-09-11T08:25:39.213Z"
   },
   {
    "duration": 13,
    "start_time": "2021-09-11T08:25:43.235Z"
   },
   {
    "duration": 12,
    "start_time": "2021-09-11T08:25:54.785Z"
   },
   {
    "duration": 11,
    "start_time": "2021-09-11T08:25:57.694Z"
   },
   {
    "duration": 27,
    "start_time": "2021-09-11T08:26:01.249Z"
   },
   {
    "duration": 7,
    "start_time": "2021-09-11T08:26:04.697Z"
   },
   {
    "duration": 12,
    "start_time": "2021-09-11T08:26:07.905Z"
   },
   {
    "duration": 11,
    "start_time": "2021-09-11T08:26:11.450Z"
   },
   {
    "duration": 8,
    "start_time": "2021-09-11T08:26:14.390Z"
   },
   {
    "duration": 10,
    "start_time": "2021-09-11T08:26:17.604Z"
   },
   {
    "duration": 13,
    "start_time": "2021-09-11T08:26:20.134Z"
   },
   {
    "duration": 16,
    "start_time": "2021-09-11T08:37:19.274Z"
   },
   {
    "duration": 8,
    "start_time": "2021-09-11T08:40:00.540Z"
   },
   {
    "duration": 20,
    "start_time": "2021-09-11T08:40:06.106Z"
   },
   {
    "duration": 6,
    "start_time": "2021-09-11T08:41:59.093Z"
   },
   {
    "duration": 6,
    "start_time": "2021-09-11T08:42:07.165Z"
   },
   {
    "duration": 3,
    "start_time": "2021-09-11T08:42:17.580Z"
   },
   {
    "duration": 640,
    "start_time": "2021-09-11T08:42:22.465Z"
   },
   {
    "duration": 12,
    "start_time": "2021-09-11T08:42:33.245Z"
   },
   {
    "duration": 4,
    "start_time": "2021-09-11T08:42:41.224Z"
   },
   {
    "duration": 13,
    "start_time": "2021-09-11T08:44:06.124Z"
   },
   {
    "duration": 5,
    "start_time": "2021-09-11T08:44:10.671Z"
   },
   {
    "duration": 253,
    "start_time": "2021-09-11T08:44:17.533Z"
   },
   {
    "duration": 14,
    "start_time": "2021-09-11T08:44:23.144Z"
   },
   {
    "duration": 6,
    "start_time": "2021-09-11T08:44:28.664Z"
   },
   {
    "duration": 255,
    "start_time": "2021-09-11T08:44:44.794Z"
   },
   {
    "duration": 260,
    "start_time": "2021-09-11T08:45:09.634Z"
   },
   {
    "duration": 7,
    "start_time": "2021-09-11T09:01:24.570Z"
   },
   {
    "duration": 16,
    "start_time": "2021-09-11T09:01:55.242Z"
   },
   {
    "duration": 12,
    "start_time": "2021-09-11T09:02:12.282Z"
   },
   {
    "duration": 13,
    "start_time": "2021-09-11T09:03:35.312Z"
   },
   {
    "duration": 13,
    "start_time": "2021-09-11T09:03:49.031Z"
   },
   {
    "duration": 9,
    "start_time": "2021-09-11T09:05:09.620Z"
   },
   {
    "duration": 13,
    "start_time": "2021-09-11T09:05:52.500Z"
   },
   {
    "duration": 37,
    "start_time": "2021-09-11T09:06:46.442Z"
   },
   {
    "duration": 8,
    "start_time": "2021-09-11T09:08:16.472Z"
   },
   {
    "duration": 17,
    "start_time": "2021-09-11T09:10:53.302Z"
   },
   {
    "duration": 12,
    "start_time": "2021-09-11T09:12:17.341Z"
   },
   {
    "duration": 42,
    "start_time": "2021-09-11T09:17:24.433Z"
   },
   {
    "duration": 256,
    "start_time": "2021-09-11T09:28:54.461Z"
   },
   {
    "duration": 258,
    "start_time": "2021-09-11T09:29:42.204Z"
   },
   {
    "duration": 258,
    "start_time": "2021-09-11T09:30:27.784Z"
   },
   {
    "duration": 7975,
    "start_time": "2021-09-11T09:30:44.494Z"
   },
   {
    "duration": 260,
    "start_time": "2021-09-11T09:31:10.581Z"
   },
   {
    "duration": 58,
    "start_time": "2021-09-11T09:31:40.014Z"
   },
   {
    "duration": 12,
    "start_time": "2021-09-11T09:31:45.031Z"
   },
   {
    "duration": 11,
    "start_time": "2021-09-11T09:31:49.299Z"
   },
   {
    "duration": 9,
    "start_time": "2021-09-11T09:31:53.052Z"
   },
   {
    "duration": 26,
    "start_time": "2021-09-11T09:31:56.861Z"
   },
   {
    "duration": 6,
    "start_time": "2021-09-11T09:32:00.782Z"
   },
   {
    "duration": 17,
    "start_time": "2021-09-11T09:32:03.871Z"
   },
   {
    "duration": 9,
    "start_time": "2021-09-11T09:32:08.793Z"
   },
   {
    "duration": 7,
    "start_time": "2021-09-11T09:32:12.032Z"
   },
   {
    "duration": 9,
    "start_time": "2021-09-11T09:32:15.104Z"
   },
   {
    "duration": 12,
    "start_time": "2021-09-11T09:32:18.023Z"
   },
   {
    "duration": 16,
    "start_time": "2021-09-11T09:32:22.919Z"
   },
   {
    "duration": 7,
    "start_time": "2021-09-11T09:32:27.309Z"
   },
   {
    "duration": 18,
    "start_time": "2021-09-11T09:32:30.582Z"
   },
   {
    "duration": 20,
    "start_time": "2021-09-11T09:32:34.222Z"
   },
   {
    "duration": 7,
    "start_time": "2021-09-11T09:32:41.154Z"
   },
   {
    "duration": 5,
    "start_time": "2021-09-11T09:32:45.484Z"
   },
   {
    "duration": 4,
    "start_time": "2021-09-11T09:32:48.443Z"
   },
   {
    "duration": 10,
    "start_time": "2021-09-11T09:32:51.961Z"
   },
   {
    "duration": 12,
    "start_time": "2021-09-11T09:32:55.272Z"
   },
   {
    "duration": 5,
    "start_time": "2021-09-11T09:32:58.641Z"
   },
   {
    "duration": 258,
    "start_time": "2021-09-11T09:33:03.074Z"
   },
   {
    "duration": 12,
    "start_time": "2021-09-11T09:33:32.884Z"
   },
   {
    "duration": 6,
    "start_time": "2021-09-11T09:33:36.563Z"
   },
   {
    "duration": 244,
    "start_time": "2021-09-11T09:33:39.583Z"
   },
   {
    "duration": 255,
    "start_time": "2021-09-11T09:34:57.844Z"
   },
   {
    "duration": 247,
    "start_time": "2021-09-11T09:36:23.580Z"
   },
   {
    "duration": 268,
    "start_time": "2021-09-11T09:37:47.054Z"
   },
   {
    "duration": 262,
    "start_time": "2021-09-11T09:39:12.542Z"
   },
   {
    "duration": 259,
    "start_time": "2021-09-11T09:40:46.795Z"
   },
   {
    "duration": 253,
    "start_time": "2021-09-11T09:42:26.833Z"
   },
   {
    "duration": 7,
    "start_time": "2021-09-11T09:44:37.300Z"
   },
   {
    "duration": 12,
    "start_time": "2021-09-11T09:44:40.774Z"
   },
   {
    "duration": 4,
    "start_time": "2021-09-11T09:44:45.045Z"
   },
   {
    "duration": 8,
    "start_time": "2021-09-11T09:44:57.426Z"
   },
   {
    "duration": 14,
    "start_time": "2021-09-11T09:45:04.423Z"
   },
   {
    "duration": 6,
    "start_time": "2021-09-11T09:45:16.824Z"
   },
   {
    "duration": 8,
    "start_time": "2021-09-11T09:45:56.974Z"
   },
   {
    "duration": 12,
    "start_time": "2021-09-11T09:46:32.264Z"
   },
   {
    "duration": 12,
    "start_time": "2021-09-11T09:46:47.354Z"
   },
   {
    "duration": 5,
    "start_time": "2021-09-11T09:49:15.904Z"
   },
   {
    "duration": 35,
    "start_time": "2021-09-11T09:49:49.074Z"
   },
   {
    "duration": 36,
    "start_time": "2021-09-11T09:51:42.664Z"
   },
   {
    "duration": 39,
    "start_time": "2021-09-11T09:51:59.204Z"
   },
   {
    "duration": 7,
    "start_time": "2021-09-11T09:52:41.132Z"
   },
   {
    "duration": 12,
    "start_time": "2021-09-11T09:52:46.085Z"
   },
   {
    "duration": 6,
    "start_time": "2021-09-11T09:56:10.709Z"
   },
   {
    "duration": 37,
    "start_time": "2021-09-11T09:56:24.004Z"
   },
   {
    "duration": 40,
    "start_time": "2021-09-11T10:00:13.804Z"
   },
   {
    "duration": 8,
    "start_time": "2021-09-11T10:12:07.185Z"
   },
   {
    "duration": 13,
    "start_time": "2021-09-11T10:14:15.969Z"
   },
   {
    "duration": 6,
    "start_time": "2021-09-11T10:14:23.442Z"
   },
   {
    "duration": 40,
    "start_time": "2021-09-11T10:15:38.716Z"
   },
   {
    "duration": 36,
    "start_time": "2021-09-11T10:17:01.144Z"
   },
   {
    "duration": 59,
    "start_time": "2021-09-11T10:21:51.556Z"
   },
   {
    "duration": 13,
    "start_time": "2021-09-11T10:21:57.857Z"
   },
   {
    "duration": 11,
    "start_time": "2021-09-11T10:22:03.507Z"
   },
   {
    "duration": 11,
    "start_time": "2021-09-11T10:22:07.182Z"
   },
   {
    "duration": 26,
    "start_time": "2021-09-11T10:22:11.402Z"
   },
   {
    "duration": 6,
    "start_time": "2021-09-11T10:22:15.087Z"
   },
   {
    "duration": 13,
    "start_time": "2021-09-11T10:22:18.293Z"
   },
   {
    "duration": 11,
    "start_time": "2021-09-11T10:22:23.974Z"
   },
   {
    "duration": 8,
    "start_time": "2021-09-11T10:22:26.969Z"
   },
   {
    "duration": 10,
    "start_time": "2021-09-11T10:22:30.225Z"
   },
   {
    "duration": 11,
    "start_time": "2021-09-11T10:22:33.735Z"
   },
   {
    "duration": 12,
    "start_time": "2021-09-11T10:22:53.560Z"
   },
   {
    "duration": 15,
    "start_time": "2021-09-11T10:22:59.921Z"
   },
   {
    "duration": 7,
    "start_time": "2021-09-11T10:23:04.389Z"
   },
   {
    "duration": 18,
    "start_time": "2021-09-11T10:23:07.490Z"
   },
   {
    "duration": 22,
    "start_time": "2021-09-11T10:23:10.753Z"
   },
   {
    "duration": 7,
    "start_time": "2021-09-11T10:23:19.095Z"
   },
   {
    "duration": 5,
    "start_time": "2021-09-11T10:23:22.930Z"
   },
   {
    "duration": 3,
    "start_time": "2021-09-11T10:23:26.023Z"
   },
   {
    "duration": 10,
    "start_time": "2021-09-11T10:23:29.798Z"
   },
   {
    "duration": 12,
    "start_time": "2021-09-11T10:23:35.522Z"
   },
   {
    "duration": 4,
    "start_time": "2021-09-11T10:23:39.183Z"
   },
   {
    "duration": 255,
    "start_time": "2021-09-11T10:23:43.668Z"
   },
   {
    "duration": 13,
    "start_time": "2021-09-11T10:23:47.803Z"
   },
   {
    "duration": 6,
    "start_time": "2021-09-11T10:23:51.550Z"
   },
   {
    "duration": 245,
    "start_time": "2021-09-11T10:23:54.747Z"
   },
   {
    "duration": 268,
    "start_time": "2021-09-11T10:23:57.923Z"
   },
   {
    "duration": 6,
    "start_time": "2021-09-11T10:24:05.321Z"
   },
   {
    "duration": 15,
    "start_time": "2021-09-11T10:24:08.498Z"
   },
   {
    "duration": 5,
    "start_time": "2021-09-11T10:24:12.090Z"
   },
   {
    "duration": 7,
    "start_time": "2021-09-11T10:24:16.313Z"
   },
   {
    "duration": 15,
    "start_time": "2021-09-11T10:24:20.143Z"
   },
   {
    "duration": 7,
    "start_time": "2021-09-11T10:24:24.401Z"
   },
   {
    "duration": 38,
    "start_time": "2021-09-11T10:24:28.778Z"
   },
   {
    "duration": 8,
    "start_time": "2021-09-11T10:24:33.454Z"
   },
   {
    "duration": 13,
    "start_time": "2021-09-11T10:24:37.054Z"
   },
   {
    "duration": 6,
    "start_time": "2021-09-11T10:24:41.390Z"
   },
   {
    "duration": 36,
    "start_time": "2021-09-11T10:24:45.522Z"
   },
   {
    "duration": 38,
    "start_time": "2021-09-11T10:24:49.055Z"
   },
   {
    "duration": 10,
    "start_time": "2021-09-11T10:24:54.010Z"
   },
   {
    "duration": 12,
    "start_time": "2021-09-11T10:24:57.248Z"
   },
   {
    "duration": 9,
    "start_time": "2021-09-11T10:25:01.008Z"
   },
   {
    "duration": 40,
    "start_time": "2021-09-11T10:25:04.466Z"
   },
   {
    "duration": 35,
    "start_time": "2021-09-11T10:25:07.551Z"
   },
   {
    "duration": 252,
    "start_time": "2021-09-11T10:35:39.179Z"
   },
   {
    "duration": 258,
    "start_time": "2021-09-11T10:36:22.920Z"
   },
   {
    "duration": 6,
    "start_time": "2021-09-11T10:40:04.996Z"
   },
   {
    "duration": 7,
    "start_time": "2021-09-11T10:40:50.452Z"
   },
   {
    "duration": 12,
    "start_time": "2021-09-11T10:40:58.560Z"
   },
   {
    "duration": 6,
    "start_time": "2021-09-11T10:44:48.326Z"
   },
   {
    "duration": 8,
    "start_time": "2021-09-11T10:45:45.803Z"
   },
   {
    "duration": 13,
    "start_time": "2021-09-11T10:45:49.024Z"
   },
   {
    "duration": 6,
    "start_time": "2021-09-11T10:45:55.376Z"
   },
   {
    "duration": 38,
    "start_time": "2021-09-11T10:48:16.282Z"
   },
   {
    "duration": 8,
    "start_time": "2021-09-11T10:48:54.615Z"
   },
   {
    "duration": 12,
    "start_time": "2021-09-11T10:48:58.579Z"
   },
   {
    "duration": 6,
    "start_time": "2021-09-11T10:49:03.424Z"
   },
   {
    "duration": 36,
    "start_time": "2021-09-11T10:49:07.541Z"
   },
   {
    "duration": 39,
    "start_time": "2021-09-11T10:49:37.143Z"
   },
   {
    "duration": 8,
    "start_time": "2021-09-11T10:49:42.582Z"
   },
   {
    "duration": 13,
    "start_time": "2021-09-11T10:49:46.817Z"
   },
   {
    "duration": 6,
    "start_time": "2021-09-11T10:49:51.426Z"
   },
   {
    "duration": 39,
    "start_time": "2021-09-11T10:49:55.420Z"
   },
   {
    "duration": 38,
    "start_time": "2021-09-11T10:50:00.603Z"
   },
   {
    "duration": 826,
    "start_time": "2021-09-12T07:34:43.932Z"
   },
   {
    "duration": 15,
    "start_time": "2021-09-12T07:34:44.760Z"
   },
   {
    "duration": 38,
    "start_time": "2021-09-12T07:34:44.778Z"
   },
   {
    "duration": 14,
    "start_time": "2021-09-12T07:34:44.819Z"
   },
   {
    "duration": 29,
    "start_time": "2021-09-12T07:34:44.836Z"
   },
   {
    "duration": 7,
    "start_time": "2021-09-12T07:34:44.868Z"
   },
   {
    "duration": 50,
    "start_time": "2021-09-12T07:34:44.878Z"
   },
   {
    "duration": 13,
    "start_time": "2021-09-12T07:34:44.932Z"
   },
   {
    "duration": 10,
    "start_time": "2021-09-12T07:34:44.949Z"
   },
   {
    "duration": 13,
    "start_time": "2021-09-12T07:34:44.961Z"
   },
   {
    "duration": 59,
    "start_time": "2021-09-12T07:34:44.976Z"
   },
   {
    "duration": 18,
    "start_time": "2021-09-12T07:34:45.038Z"
   },
   {
    "duration": 8,
    "start_time": "2021-09-12T07:34:45.059Z"
   },
   {
    "duration": 58,
    "start_time": "2021-09-12T07:34:45.070Z"
   },
   {
    "duration": 27,
    "start_time": "2021-09-12T07:34:45.131Z"
   },
   {
    "duration": 8,
    "start_time": "2021-09-12T07:34:45.161Z"
   },
   {
    "duration": 8,
    "start_time": "2021-09-12T07:34:45.171Z"
   },
   {
    "duration": 35,
    "start_time": "2021-09-12T07:34:45.181Z"
   },
   {
    "duration": 767,
    "start_time": "2021-09-12T07:34:45.218Z"
   },
   {
    "duration": 17,
    "start_time": "2021-09-12T07:34:45.988Z"
   },
   {
    "duration": 5,
    "start_time": "2021-09-12T07:34:46.017Z"
   },
   {
    "duration": 421,
    "start_time": "2021-09-12T07:34:46.024Z"
   },
   {
    "duration": 16,
    "start_time": "2021-09-12T07:34:46.450Z"
   },
   {
    "duration": 8,
    "start_time": "2021-09-12T07:34:46.469Z"
   },
   {
    "duration": 431,
    "start_time": "2021-09-12T07:34:46.479Z"
   },
   {
    "duration": 418,
    "start_time": "2021-09-12T07:34:46.916Z"
   },
   {
    "duration": 9,
    "start_time": "2021-09-12T07:34:47.336Z"
   },
   {
    "duration": 32,
    "start_time": "2021-09-12T07:34:47.347Z"
   },
   {
    "duration": 7,
    "start_time": "2021-09-12T07:34:47.381Z"
   },
   {
    "duration": 10,
    "start_time": "2021-09-12T07:34:47.417Z"
   },
   {
    "duration": 18,
    "start_time": "2021-09-12T07:34:47.429Z"
   },
   {
    "duration": 8,
    "start_time": "2021-09-12T07:34:47.449Z"
   },
   {
    "duration": 88,
    "start_time": "2021-09-12T07:34:47.459Z"
   },
   {
    "duration": 8,
    "start_time": "2021-09-12T07:34:47.550Z"
   },
   {
    "duration": 18,
    "start_time": "2021-09-12T07:34:47.561Z"
   },
   {
    "duration": 7,
    "start_time": "2021-09-12T07:34:47.581Z"
   },
   {
    "duration": 53,
    "start_time": "2021-09-12T07:34:47.617Z"
   },
   {
    "duration": 79,
    "start_time": "2021-09-12T07:34:47.673Z"
   },
   {
    "duration": 9,
    "start_time": "2021-09-12T07:34:47.755Z"
   },
   {
    "duration": 20,
    "start_time": "2021-09-12T07:34:47.766Z"
   },
   {
    "duration": 31,
    "start_time": "2021-09-12T07:34:47.788Z"
   },
   {
    "duration": 54,
    "start_time": "2021-09-12T07:34:47.821Z"
   },
   {
    "duration": 73,
    "start_time": "2021-09-12T07:34:47.878Z"
   },
   {
    "duration": 714,
    "start_time": "2021-09-12T07:41:43.710Z"
   },
   {
    "duration": 348,
    "start_time": "2021-09-12T07:42:36.350Z"
   },
   {
    "duration": 962,
    "start_time": "2021-09-12T07:42:58.071Z"
   },
   {
    "duration": 397,
    "start_time": "2021-09-12T13:33:59.426Z"
   },
   {
    "duration": 289,
    "start_time": "2021-09-12T13:34:18.173Z"
   },
   {
    "duration": 264,
    "start_time": "2021-09-12T13:34:38.506Z"
   },
   {
    "duration": 707,
    "start_time": "2021-09-12T13:34:50.096Z"
   },
   {
    "duration": 13,
    "start_time": "2021-09-12T13:34:55.593Z"
   },
   {
    "duration": 17,
    "start_time": "2021-09-12T13:35:02.926Z"
   },
   {
    "duration": 11,
    "start_time": "2021-09-12T13:35:09.997Z"
   },
   {
    "duration": 26,
    "start_time": "2021-09-12T13:35:10.314Z"
   },
   {
    "duration": 17,
    "start_time": "2021-09-12T13:35:40.966Z"
   },
   {
    "duration": 679,
    "start_time": "2021-09-12T16:29:16.202Z"
   },
   {
    "duration": 14,
    "start_time": "2021-09-12T16:29:21.261Z"
   },
   {
    "duration": 16,
    "start_time": "2021-09-12T16:29:27.412Z"
   },
   {
    "duration": 11,
    "start_time": "2021-09-12T16:29:35.924Z"
   },
   {
    "duration": 18,
    "start_time": "2021-09-12T16:29:40.904Z"
   },
   {
    "duration": 12,
    "start_time": "2021-09-12T16:31:00.272Z"
   },
   {
    "duration": 8,
    "start_time": "2021-09-12T16:33:26.002Z"
   },
   {
    "duration": 16,
    "start_time": "2021-09-12T16:34:35.162Z"
   },
   {
    "duration": 22,
    "start_time": "2021-09-12T16:35:45.673Z"
   },
   {
    "duration": 6,
    "start_time": "2021-09-12T16:59:23.995Z"
   },
   {
    "duration": 58,
    "start_time": "2021-09-12T16:59:34.915Z"
   },
   {
    "duration": 12,
    "start_time": "2021-09-12T16:59:39.624Z"
   },
   {
    "duration": 10,
    "start_time": "2021-09-12T16:59:45.503Z"
   },
   {
    "duration": 9,
    "start_time": "2021-09-12T16:59:49.375Z"
   },
   {
    "duration": 15,
    "start_time": "2021-09-12T16:59:53.846Z"
   },
   {
    "duration": 8,
    "start_time": "2021-09-12T16:59:58.415Z"
   },
   {
    "duration": 5,
    "start_time": "2021-09-12T17:00:02.973Z"
   },
   {
    "duration": 291,
    "start_time": "2021-09-12T17:00:11.495Z"
   },
   {
    "duration": 156,
    "start_time": "2021-09-12T17:02:17.262Z"
   },
   {
    "duration": 99,
    "start_time": "2021-09-12T17:02:55.145Z"
   },
   {
    "duration": 6,
    "start_time": "2021-09-12T17:04:36.843Z"
   },
   {
    "duration": 931,
    "start_time": "2021-09-12T17:04:53.293Z"
   },
   {
    "duration": 14,
    "start_time": "2021-09-12T17:04:58.978Z"
   },
   {
    "duration": 16,
    "start_time": "2021-09-12T17:05:04.817Z"
   },
   {
    "duration": 11,
    "start_time": "2021-09-12T17:05:10.258Z"
   },
   {
    "duration": 9,
    "start_time": "2021-09-12T17:06:06.498Z"
   },
   {
    "duration": 14,
    "start_time": "2021-09-12T17:06:35.907Z"
   },
   {
    "duration": 13,
    "start_time": "2021-09-12T17:06:59.998Z"
   },
   {
    "duration": 14,
    "start_time": "2021-09-12T17:07:14.137Z"
   },
   {
    "duration": 13,
    "start_time": "2021-09-12T17:07:47.258Z"
   },
   {
    "duration": 15,
    "start_time": "2021-09-12T17:08:56.015Z"
   },
   {
    "duration": 26,
    "start_time": "2021-09-12T17:09:51.697Z"
   },
   {
    "duration": 6,
    "start_time": "2021-09-12T17:10:21.412Z"
   },
   {
    "duration": 32,
    "start_time": "2021-09-12T17:10:34.417Z"
   },
   {
    "duration": 8,
    "start_time": "2021-09-12T17:11:30.448Z"
   },
   {
    "duration": 8,
    "start_time": "2021-09-12T17:13:49.667Z"
   },
   {
    "duration": 9,
    "start_time": "2021-09-12T17:14:11.738Z"
   },
   {
    "duration": 7,
    "start_time": "2021-09-12T17:16:31.928Z"
   },
   {
    "duration": 8,
    "start_time": "2021-09-12T17:17:35.467Z"
   },
   {
    "duration": 8,
    "start_time": "2021-09-12T17:18:25.212Z"
   },
   {
    "duration": 7,
    "start_time": "2021-09-12T17:19:04.818Z"
   },
   {
    "duration": 8,
    "start_time": "2021-09-12T17:19:21.788Z"
   },
   {
    "duration": 9,
    "start_time": "2021-09-12T17:19:40.710Z"
   },
   {
    "duration": 8,
    "start_time": "2021-09-12T17:20:31.058Z"
   },
   {
    "duration": 3,
    "start_time": "2021-09-12T17:25:26.158Z"
   },
   {
    "duration": 5,
    "start_time": "2021-09-12T17:25:44.848Z"
   },
   {
    "duration": 4,
    "start_time": "2021-09-12T17:25:58.856Z"
   },
   {
    "duration": 8,
    "start_time": "2021-09-12T17:35:41.338Z"
   },
   {
    "duration": 13,
    "start_time": "2021-09-12T17:36:15.428Z"
   },
   {
    "duration": 24,
    "start_time": "2021-09-12T17:38:08.774Z"
   },
   {
    "duration": 22,
    "start_time": "2021-09-12T17:39:57.549Z"
   },
   {
    "duration": 96,
    "start_time": "2021-09-12T17:53:12.428Z"
   },
   {
    "duration": 318,
    "start_time": "2021-09-12T17:53:20.368Z"
   },
   {
    "duration": 17,
    "start_time": "2021-09-12T17:53:58.645Z"
   },
   {
    "duration": 8,
    "start_time": "2021-09-12T17:54:08.718Z"
   },
   {
    "duration": 13,
    "start_time": "2021-09-12T17:54:12.398Z"
   },
   {
    "duration": 12,
    "start_time": "2021-09-12T17:54:18.537Z"
   },
   {
    "duration": 12,
    "start_time": "2021-09-12T17:54:25.097Z"
   },
   {
    "duration": 13,
    "start_time": "2021-09-12T17:54:33.677Z"
   },
   {
    "duration": 43,
    "start_time": "2021-09-12T17:54:52.536Z"
   },
   {
    "duration": 42,
    "start_time": "2021-09-12T17:55:15.518Z"
   },
   {
    "duration": 29,
    "start_time": "2021-09-12T17:55:37.908Z"
   },
   {
    "duration": 24,
    "start_time": "2021-09-12T17:55:51.437Z"
   },
   {
    "duration": 25,
    "start_time": "2021-09-12T17:56:44.275Z"
   },
   {
    "duration": 21,
    "start_time": "2021-09-12T17:56:52.328Z"
   },
   {
    "duration": 24,
    "start_time": "2021-09-12T17:57:05.438Z"
   },
   {
    "duration": 24,
    "start_time": "2021-09-12T17:57:09.688Z"
   },
   {
    "duration": 56,
    "start_time": "2021-09-12T17:57:20.906Z"
   },
   {
    "duration": 12,
    "start_time": "2021-09-12T17:57:25.338Z"
   },
   {
    "duration": 11,
    "start_time": "2021-09-12T17:57:30.528Z"
   },
   {
    "duration": 11,
    "start_time": "2021-09-12T17:57:34.807Z"
   },
   {
    "duration": 16,
    "start_time": "2021-09-12T17:57:40.098Z"
   },
   {
    "duration": 13,
    "start_time": "2021-09-12T17:58:14.617Z"
   },
   {
    "duration": 12,
    "start_time": "2021-09-12T17:58:17.597Z"
   },
   {
    "duration": 13,
    "start_time": "2021-09-12T17:58:21.035Z"
   },
   {
    "duration": 14,
    "start_time": "2021-09-12T17:58:24.457Z"
   },
   {
    "duration": 26,
    "start_time": "2021-09-12T17:58:28.216Z"
   },
   {
    "duration": 24,
    "start_time": "2021-09-12T17:58:31.587Z"
   },
   {
    "duration": 39,
    "start_time": "2021-09-12T18:03:22.495Z"
   },
   {
    "duration": 23,
    "start_time": "2021-09-12T18:03:34.548Z"
   },
   {
    "duration": 23,
    "start_time": "2021-09-12T18:05:53.366Z"
   },
   {
    "duration": 62,
    "start_time": "2021-09-12T18:06:26.718Z"
   },
   {
    "duration": 12,
    "start_time": "2021-09-12T18:06:35.652Z"
   },
   {
    "duration": 10,
    "start_time": "2021-09-12T18:06:41.147Z"
   },
   {
    "duration": 11,
    "start_time": "2021-09-12T18:06:54.058Z"
   },
   {
    "duration": 16,
    "start_time": "2021-09-12T18:07:06.728Z"
   },
   {
    "duration": 16,
    "start_time": "2021-09-12T18:07:41.458Z"
   },
   {
    "duration": 8,
    "start_time": "2021-09-12T18:07:45.475Z"
   },
   {
    "duration": 13,
    "start_time": "2021-09-12T18:08:21.238Z"
   },
   {
    "duration": 14,
    "start_time": "2021-09-12T18:08:25.020Z"
   },
   {
    "duration": 14,
    "start_time": "2021-09-12T18:08:28.107Z"
   },
   {
    "duration": 13,
    "start_time": "2021-09-12T18:08:31.738Z"
   },
   {
    "duration": 21,
    "start_time": "2021-09-12T18:08:36.238Z"
   },
   {
    "duration": 23,
    "start_time": "2021-09-12T18:08:45.797Z"
   },
   {
    "duration": 9,
    "start_time": "2021-09-12T18:09:21.827Z"
   },
   {
    "duration": 9,
    "start_time": "2021-09-12T18:09:41.259Z"
   },
   {
    "duration": 24,
    "start_time": "2021-09-12T18:10:08.529Z"
   },
   {
    "duration": 90,
    "start_time": "2021-09-12T18:52:06.972Z"
   },
   {
    "duration": 65,
    "start_time": "2021-09-12T18:53:11.240Z"
   },
   {
    "duration": 87,
    "start_time": "2021-09-12T18:54:49.108Z"
   },
   {
    "duration": 99,
    "start_time": "2021-09-12T18:54:57.378Z"
   },
   {
    "duration": 89,
    "start_time": "2021-09-12T18:56:13.491Z"
   },
   {
    "duration": 256,
    "start_time": "2021-09-12T18:56:25.137Z"
   },
   {
    "duration": 11,
    "start_time": "2021-09-12T18:58:50.278Z"
   },
   {
    "duration": 9,
    "start_time": "2021-09-12T18:59:27.608Z"
   },
   {
    "duration": 22,
    "start_time": "2021-09-12T18:59:34.724Z"
   },
   {
    "duration": 8,
    "start_time": "2021-09-12T19:02:14.828Z"
   },
   {
    "duration": 17,
    "start_time": "2021-09-12T19:02:18.888Z"
   },
   {
    "duration": 13,
    "start_time": "2021-09-12T19:02:21.777Z"
   },
   {
    "duration": 13,
    "start_time": "2021-09-12T19:02:24.988Z"
   },
   {
    "duration": 13,
    "start_time": "2021-09-12T19:02:28.177Z"
   },
   {
    "duration": 22,
    "start_time": "2021-09-12T19:02:32.485Z"
   },
   {
    "duration": 24,
    "start_time": "2021-09-12T19:02:36.457Z"
   },
   {
    "duration": 9,
    "start_time": "2021-09-12T19:02:46.579Z"
   },
   {
    "duration": 6,
    "start_time": "2021-09-12T19:03:11.238Z"
   },
   {
    "duration": 23,
    "start_time": "2021-09-12T19:03:48.258Z"
   },
   {
    "duration": 11,
    "start_time": "2021-09-12T19:03:53.257Z"
   },
   {
    "duration": 8,
    "start_time": "2021-09-12T19:04:08.424Z"
   },
   {
    "duration": 10,
    "start_time": "2021-09-12T19:04:12.237Z"
   },
   {
    "duration": 12,
    "start_time": "2021-09-12T19:04:19.107Z"
   },
   {
    "duration": 15,
    "start_time": "2021-09-12T19:04:49.208Z"
   },
   {
    "duration": 7,
    "start_time": "2021-09-12T19:05:07.638Z"
   },
   {
    "duration": 17,
    "start_time": "2021-09-12T19:05:31.309Z"
   },
   {
    "duration": 23,
    "start_time": "2021-09-12T19:05:41.018Z"
   },
   {
    "duration": 10,
    "start_time": "2021-09-12T19:05:53.045Z"
   },
   {
    "duration": 10,
    "start_time": "2021-09-12T19:06:16.478Z"
   },
   {
    "duration": 22,
    "start_time": "2021-09-12T19:06:34.328Z"
   },
   {
    "duration": 20,
    "start_time": "2021-09-12T19:06:50.348Z"
   },
   {
    "duration": 19,
    "start_time": "2021-09-12T19:08:13.248Z"
   },
   {
    "duration": 7,
    "start_time": "2021-09-12T19:08:39.558Z"
   },
   {
    "duration": 5,
    "start_time": "2021-09-12T19:09:06.508Z"
   },
   {
    "duration": 7,
    "start_time": "2021-09-12T19:12:46.938Z"
   },
   {
    "duration": 6,
    "start_time": "2021-09-12T19:13:00.618Z"
   },
   {
    "duration": 6,
    "start_time": "2021-09-12T19:13:13.047Z"
   },
   {
    "duration": 16,
    "start_time": "2021-09-12T19:14:43.517Z"
   },
   {
    "duration": 18,
    "start_time": "2021-09-12T19:14:56.363Z"
   },
   {
    "duration": 24,
    "start_time": "2021-09-12T19:15:20.508Z"
   },
   {
    "duration": 31,
    "start_time": "2021-09-12T19:17:42.657Z"
   },
   {
    "duration": 1826,
    "start_time": "2021-09-12T19:18:01.327Z"
   },
   {
    "duration": 32,
    "start_time": "2021-09-12T19:18:11.887Z"
   },
   {
    "duration": 27,
    "start_time": "2021-09-12T19:36:03.579Z"
   },
   {
    "duration": 32,
    "start_time": "2021-09-12T19:37:53.507Z"
   },
   {
    "duration": 38,
    "start_time": "2021-09-12T19:40:59.027Z"
   },
   {
    "duration": 23,
    "start_time": "2021-09-12T19:41:35.381Z"
   },
   {
    "duration": 31,
    "start_time": "2021-09-12T19:41:40.825Z"
   },
   {
    "duration": 19,
    "start_time": "2021-09-12T19:42:36.327Z"
   },
   {
    "duration": 1056,
    "start_time": "2021-09-12T19:43:16.098Z"
   },
   {
    "duration": 21,
    "start_time": "2021-09-12T19:43:44.078Z"
   },
   {
    "duration": 21,
    "start_time": "2021-09-12T19:44:25.705Z"
   },
   {
    "duration": 21,
    "start_time": "2021-09-12T19:45:08.418Z"
   },
   {
    "duration": 20,
    "start_time": "2021-09-12T19:45:40.836Z"
   },
   {
    "duration": 20,
    "start_time": "2021-09-12T19:47:05.854Z"
   },
   {
    "duration": 20,
    "start_time": "2021-09-12T19:47:26.777Z"
   },
   {
    "duration": 17,
    "start_time": "2021-09-12T19:47:34.027Z"
   },
   {
    "duration": 817,
    "start_time": "2021-09-13T09:40:37.920Z"
   },
   {
    "duration": 16,
    "start_time": "2021-09-13T09:40:53.278Z"
   },
   {
    "duration": 13,
    "start_time": "2021-09-13T09:42:37.080Z"
   },
   {
    "duration": 25,
    "start_time": "2021-09-13T09:42:57.661Z"
   },
   {
    "duration": 22,
    "start_time": "2021-09-13T09:43:25.050Z"
   },
   {
    "duration": 11,
    "start_time": "2021-09-13T09:43:41.560Z"
   },
   {
    "duration": 18,
    "start_time": "2021-09-13T09:43:46.461Z"
   },
   {
    "duration": 20,
    "start_time": "2021-09-13T09:43:50.455Z"
   },
   {
    "duration": 7,
    "start_time": "2021-09-13T09:46:03.468Z"
   },
   {
    "duration": 8,
    "start_time": "2021-09-13T09:46:07.440Z"
   },
   {
    "duration": 9,
    "start_time": "2021-09-13T09:46:16.854Z"
   },
   {
    "duration": 8,
    "start_time": "2021-09-13T09:46:30.606Z"
   },
   {
    "duration": 10,
    "start_time": "2021-09-13T09:46:58.065Z"
   },
   {
    "duration": 28,
    "start_time": "2021-09-13T09:50:25.913Z"
   },
   {
    "duration": 27,
    "start_time": "2021-09-13T09:50:29.949Z"
   },
   {
    "duration": 26,
    "start_time": "2021-09-13T09:50:56.820Z"
   },
   {
    "duration": 786,
    "start_time": "2021-09-13T09:54:08.100Z"
   },
   {
    "duration": 342,
    "start_time": "2021-09-13T09:57:10.008Z"
   },
   {
    "duration": 495,
    "start_time": "2021-09-13T09:58:05.910Z"
   },
   {
    "duration": 363,
    "start_time": "2021-09-13T09:58:18.977Z"
   },
   {
    "duration": 435,
    "start_time": "2021-09-13T10:01:36.740Z"
   },
   {
    "duration": 356,
    "start_time": "2021-09-13T10:02:26.110Z"
   },
   {
    "duration": 460,
    "start_time": "2021-09-13T10:03:39.815Z"
   },
   {
    "duration": 4,
    "start_time": "2021-09-13T10:09:06.581Z"
   },
   {
    "duration": 4,
    "start_time": "2021-09-13T10:09:28.790Z"
   },
   {
    "duration": 113,
    "start_time": "2021-09-13T10:12:30.620Z"
   },
   {
    "duration": 370,
    "start_time": "2021-09-13T10:12:40.060Z"
   },
   {
    "duration": 129,
    "start_time": "2021-09-13T10:15:40.729Z"
   },
   {
    "duration": 1871,
    "start_time": "2021-09-13T10:15:48.961Z"
   },
   {
    "duration": 110,
    "start_time": "2021-09-13T10:15:59.670Z"
   },
   {
    "duration": 141,
    "start_time": "2021-09-13T10:16:13.930Z"
   },
   {
    "duration": 19,
    "start_time": "2021-09-13T10:16:42.740Z"
   },
   {
    "duration": 19,
    "start_time": "2021-09-13T10:16:47.370Z"
   },
   {
    "duration": 30,
    "start_time": "2021-09-13T10:16:50.575Z"
   },
   {
    "duration": 25,
    "start_time": "2021-09-13T10:16:54.048Z"
   },
   {
    "duration": 28,
    "start_time": "2021-09-13T10:16:58.490Z"
   },
   {
    "duration": 31,
    "start_time": "2021-09-13T10:17:03.848Z"
   },
   {
    "duration": 12,
    "start_time": "2021-09-13T10:17:06.350Z"
   },
   {
    "duration": 8,
    "start_time": "2021-09-13T10:17:14.950Z"
   },
   {
    "duration": 35,
    "start_time": "2021-09-13T10:17:37.990Z"
   },
   {
    "duration": 15,
    "start_time": "2021-09-13T10:17:43.870Z"
   },
   {
    "duration": 10,
    "start_time": "2021-09-13T10:18:47.907Z"
   },
   {
    "duration": 17,
    "start_time": "2021-09-13T10:18:55.249Z"
   },
   {
    "duration": 19,
    "start_time": "2021-09-13T10:19:06.370Z"
   },
   {
    "duration": 9,
    "start_time": "2021-09-13T10:19:18.396Z"
   },
   {
    "duration": 31,
    "start_time": "2021-09-13T10:19:34.568Z"
   },
   {
    "duration": 25,
    "start_time": "2021-09-13T10:19:38.410Z"
   },
   {
    "duration": 369,
    "start_time": "2021-09-13T10:22:59.870Z"
   },
   {
    "duration": 9,
    "start_time": "2021-09-13T10:23:14.840Z"
   },
   {
    "duration": 8,
    "start_time": "2021-09-13T10:24:14.491Z"
   },
   {
    "duration": 16,
    "start_time": "2021-09-13T10:25:27.970Z"
   },
   {
    "duration": 367,
    "start_time": "2021-09-13T10:25:38.900Z"
   },
   {
    "duration": 422,
    "start_time": "2021-09-13T10:26:10.900Z"
   },
   {
    "duration": 13,
    "start_time": "2021-09-13T10:27:56.621Z"
   },
   {
    "duration": 12,
    "start_time": "2021-09-13T10:28:11.335Z"
   },
   {
    "duration": 348,
    "start_time": "2021-09-13T10:28:21.540Z"
   },
   {
    "duration": 146,
    "start_time": "2021-09-13T10:28:26.170Z"
   },
   {
    "duration": 1360,
    "start_time": "2021-09-13T10:28:37.390Z"
   },
   {
    "duration": 366,
    "start_time": "2021-09-13T10:28:44.773Z"
   },
   {
    "duration": 419,
    "start_time": "2021-09-13T10:29:04.450Z"
   },
   {
    "duration": 17,
    "start_time": "2021-09-13T10:29:18.639Z"
   },
   {
    "duration": 16,
    "start_time": "2021-09-13T10:29:24.980Z"
   },
   {
    "duration": 17,
    "start_time": "2021-09-13T10:34:03.630Z"
   },
   {
    "duration": 19,
    "start_time": "2021-09-13T10:34:32.835Z"
   },
   {
    "duration": 24,
    "start_time": "2021-09-13T10:35:02.921Z"
   },
   {
    "duration": 24,
    "start_time": "2021-09-13T10:35:17.629Z"
   },
   {
    "duration": 39,
    "start_time": "2021-09-13T10:35:44.290Z"
   },
   {
    "duration": 52,
    "start_time": "2021-09-13T10:38:04.329Z"
   },
   {
    "duration": 1073,
    "start_time": "2021-09-13T10:38:22.178Z"
   },
   {
    "duration": 56,
    "start_time": "2021-09-13T10:39:02.063Z"
   },
   {
    "duration": 32,
    "start_time": "2021-09-13T10:39:03.708Z"
   },
   {
    "duration": 42,
    "start_time": "2021-09-13T10:41:10.890Z"
   },
   {
    "duration": 49,
    "start_time": "2021-09-13T10:42:09.602Z"
   },
   {
    "duration": 47,
    "start_time": "2021-09-13T10:44:10.458Z"
   },
   {
    "duration": 48,
    "start_time": "2021-09-13T10:44:31.378Z"
   },
   {
    "duration": 49,
    "start_time": "2021-09-13T10:44:50.320Z"
   },
   {
    "duration": 51,
    "start_time": "2021-09-13T10:45:34.209Z"
   },
   {
    "duration": 45,
    "start_time": "2021-09-13T10:45:53.300Z"
   },
   {
    "duration": 57,
    "start_time": "2021-09-13T10:46:00.750Z"
   },
   {
    "duration": 51,
    "start_time": "2021-09-13T10:46:07.010Z"
   },
   {
    "duration": 52,
    "start_time": "2021-09-13T10:46:11.000Z"
   },
   {
    "duration": 21,
    "start_time": "2021-09-13T10:47:08.890Z"
   },
   {
    "duration": 24,
    "start_time": "2021-09-13T10:47:56.270Z"
   },
   {
    "duration": 33,
    "start_time": "2021-09-13T10:48:02.370Z"
   },
   {
    "duration": 34,
    "start_time": "2021-09-13T10:48:29.770Z"
   },
   {
    "duration": 50,
    "start_time": "2021-09-13T10:48:29.950Z"
   },
   {
    "duration": 50,
    "start_time": "2021-09-13T10:50:55.249Z"
   },
   {
    "duration": 1425,
    "start_time": "2021-09-13T10:52:12.390Z"
   },
   {
    "duration": 23,
    "start_time": "2021-09-13T10:52:21.730Z"
   },
   {
    "duration": 29,
    "start_time": "2021-09-13T10:57:18.562Z"
   },
   {
    "duration": 35,
    "start_time": "2021-09-13T11:00:14.620Z"
   },
   {
    "duration": 55,
    "start_time": "2021-09-13T11:17:25.210Z"
   },
   {
    "duration": 9,
    "start_time": "2021-09-13T11:28:41.620Z"
   },
   {
    "duration": 76,
    "start_time": "2021-09-13T11:28:49.860Z"
   },
   {
    "duration": 15,
    "start_time": "2021-09-13T11:28:54.530Z"
   },
   {
    "duration": 13,
    "start_time": "2021-09-13T11:29:00.551Z"
   },
   {
    "duration": 25,
    "start_time": "2021-09-13T11:29:05.648Z"
   },
   {
    "duration": 22,
    "start_time": "2021-09-13T11:29:11.630Z"
   },
   {
    "duration": 14,
    "start_time": "2021-09-13T11:29:17.000Z"
   },
   {
    "duration": 19,
    "start_time": "2021-09-13T11:29:20.590Z"
   },
   {
    "duration": 18,
    "start_time": "2021-09-13T11:29:27.901Z"
   },
   {
    "duration": 20,
    "start_time": "2021-09-13T11:29:51.650Z"
   },
   {
    "duration": 19,
    "start_time": "2021-09-13T11:29:55.360Z"
   },
   {
    "duration": 20,
    "start_time": "2021-09-13T11:30:00.658Z"
   },
   {
    "duration": 29,
    "start_time": "2021-09-13T11:30:05.300Z"
   },
   {
    "duration": 667,
    "start_time": "2021-09-13T16:51:55.194Z"
   },
   {
    "duration": 11,
    "start_time": "2021-09-13T16:52:01.474Z"
   },
   {
    "duration": 9,
    "start_time": "2021-09-13T16:52:08.119Z"
   },
   {
    "duration": 16,
    "start_time": "2021-09-13T16:52:12.219Z"
   },
   {
    "duration": 16,
    "start_time": "2021-09-13T16:52:18.019Z"
   },
   {
    "duration": 7,
    "start_time": "2021-09-13T16:52:22.256Z"
   },
   {
    "duration": 13,
    "start_time": "2021-09-13T16:52:25.969Z"
   },
   {
    "duration": 12,
    "start_time": "2021-09-13T16:52:29.701Z"
   },
   {
    "duration": 11,
    "start_time": "2021-09-13T16:52:32.850Z"
   },
   {
    "duration": 13,
    "start_time": "2021-09-13T16:52:36.349Z"
   },
   {
    "duration": 20,
    "start_time": "2021-09-13T16:52:40.959Z"
   },
   {
    "duration": 21,
    "start_time": "2021-09-13T16:52:45.070Z"
   },
   {
    "duration": 8,
    "start_time": "2021-09-13T16:52:52.353Z"
   },
   {
    "duration": 6,
    "start_time": "2021-09-13T16:52:57.485Z"
   },
   {
    "duration": 22,
    "start_time": "2021-09-13T16:53:01.089Z"
   },
   {
    "duration": 10,
    "start_time": "2021-09-13T16:53:04.899Z"
   },
   {
    "duration": 7,
    "start_time": "2021-09-13T16:53:09.279Z"
   },
   {
    "duration": 11,
    "start_time": "2021-09-13T16:53:12.152Z"
   },
   {
    "duration": 11,
    "start_time": "2021-09-13T16:53:15.709Z"
   },
   {
    "duration": 15,
    "start_time": "2021-09-13T16:53:22.229Z"
   },
   {
    "duration": 7,
    "start_time": "2021-09-13T16:53:27.809Z"
   },
   {
    "duration": 14,
    "start_time": "2021-09-13T16:53:34.529Z"
   },
   {
    "duration": 21,
    "start_time": "2021-09-13T16:54:11.599Z"
   },
   {
    "duration": 17,
    "start_time": "2021-09-13T16:55:24.265Z"
   },
   {
    "duration": 32,
    "start_time": "2021-09-13T16:55:31.351Z"
   },
   {
    "duration": 7,
    "start_time": "2021-09-13T16:55:41.059Z"
   },
   {
    "duration": 5,
    "start_time": "2021-09-13T16:55:45.469Z"
   },
   {
    "duration": 3,
    "start_time": "2021-09-13T16:55:49.607Z"
   },
   {
    "duration": 601,
    "start_time": "2021-09-13T16:55:56.029Z"
   },
   {
    "duration": 11,
    "start_time": "2021-09-13T16:55:59.840Z"
   },
   {
    "duration": 3,
    "start_time": "2021-09-13T16:56:03.470Z"
   },
   {
    "duration": 224,
    "start_time": "2021-09-13T16:56:08.770Z"
   },
   {
    "duration": 13,
    "start_time": "2021-09-13T16:56:23.109Z"
   },
   {
    "duration": 6,
    "start_time": "2021-09-13T16:56:28.244Z"
   },
   {
    "duration": 222,
    "start_time": "2021-09-13T16:56:32.599Z"
   },
   {
    "duration": 230,
    "start_time": "2021-09-13T16:56:36.125Z"
   },
   {
    "duration": 10,
    "start_time": "2021-09-13T16:56:48.300Z"
   },
   {
    "duration": 27,
    "start_time": "2021-09-13T16:57:06.276Z"
   },
   {
    "duration": 27,
    "start_time": "2021-09-13T16:58:16.020Z"
   },
   {
    "duration": 21,
    "start_time": "2021-09-13T16:58:30.897Z"
   },
   {
    "duration": 20,
    "start_time": "2021-09-13T16:59:22.580Z"
   },
   {
    "duration": 21,
    "start_time": "2021-09-13T17:00:04.859Z"
   },
   {
    "duration": 73,
    "start_time": "2021-09-13T17:22:41.109Z"
   },
   {
    "duration": 12,
    "start_time": "2021-09-13T17:23:15.289Z"
   },
   {
    "duration": 767,
    "start_time": "2021-09-14T12:30:29.741Z"
   },
   {
    "duration": 13,
    "start_time": "2021-09-14T12:30:30.510Z"
   },
   {
    "duration": 31,
    "start_time": "2021-09-14T12:30:30.526Z"
   },
   {
    "duration": 36,
    "start_time": "2021-09-14T12:30:30.559Z"
   },
   {
    "duration": 19,
    "start_time": "2021-09-14T12:30:30.597Z"
   },
   {
    "duration": 27,
    "start_time": "2021-09-14T12:30:30.618Z"
   },
   {
    "duration": 47,
    "start_time": "2021-09-14T12:30:30.647Z"
   },
   {
    "duration": 27,
    "start_time": "2021-09-14T12:30:30.697Z"
   },
   {
    "duration": 22,
    "start_time": "2021-09-14T12:30:30.727Z"
   },
   {
    "duration": 25,
    "start_time": "2021-09-14T12:30:30.751Z"
   },
   {
    "duration": 37,
    "start_time": "2021-09-14T12:30:30.777Z"
   },
   {
    "duration": 26,
    "start_time": "2021-09-14T12:30:30.816Z"
   },
   {
    "duration": 10,
    "start_time": "2021-09-14T12:30:30.844Z"
   },
   {
    "duration": 22,
    "start_time": "2021-09-14T12:30:30.856Z"
   },
   {
    "duration": 39,
    "start_time": "2021-09-14T12:30:30.880Z"
   },
   {
    "duration": 26,
    "start_time": "2021-09-14T12:30:30.921Z"
   },
   {
    "duration": 28,
    "start_time": "2021-09-14T12:30:30.949Z"
   },
   {
    "duration": 38,
    "start_time": "2021-09-14T12:30:30.979Z"
   },
   {
    "duration": 37,
    "start_time": "2021-09-14T12:30:31.019Z"
   },
   {
    "duration": 43,
    "start_time": "2021-09-14T12:30:31.058Z"
   },
   {
    "duration": 18,
    "start_time": "2021-09-14T12:30:31.103Z"
   },
   {
    "duration": 36,
    "start_time": "2021-09-14T12:30:31.124Z"
   },
   {
    "duration": 19,
    "start_time": "2021-09-14T12:30:31.164Z"
   },
   {
    "duration": 58,
    "start_time": "2021-09-14T12:30:31.186Z"
   },
   {
    "duration": 6,
    "start_time": "2021-09-14T12:30:31.246Z"
   },
   {
    "duration": 21,
    "start_time": "2021-09-14T12:30:31.254Z"
   },
   {
    "duration": 23,
    "start_time": "2021-09-14T12:30:31.277Z"
   },
   {
    "duration": 799,
    "start_time": "2021-09-14T12:30:31.302Z"
   },
   {
    "duration": 13,
    "start_time": "2021-09-14T12:30:32.104Z"
   },
   {
    "duration": 11,
    "start_time": "2021-09-14T12:30:32.120Z"
   },
   {
    "duration": 280,
    "start_time": "2021-09-14T12:30:32.134Z"
   },
   {
    "duration": 775,
    "start_time": "2021-09-14T12:30:32.417Z"
   },
   {
    "duration": 17,
    "start_time": "2021-09-14T12:30:33.194Z"
   },
   {
    "duration": 13,
    "start_time": "2021-09-14T12:30:33.213Z"
   },
   {
    "duration": 276,
    "start_time": "2021-09-14T12:30:33.229Z"
   },
   {
    "duration": 282,
    "start_time": "2021-09-14T12:30:33.507Z"
   },
   {
    "duration": 8,
    "start_time": "2021-09-14T12:30:33.791Z"
   },
   {
    "duration": 33,
    "start_time": "2021-09-14T12:30:33.801Z"
   },
   {
    "duration": 8,
    "start_time": "2021-09-14T12:30:33.835Z"
   },
   {
    "duration": 46,
    "start_time": "2021-09-14T12:30:33.845Z"
   },
   {
    "duration": 39,
    "start_time": "2021-09-14T12:30:33.893Z"
   },
   {
    "duration": 8,
    "start_time": "2021-09-14T12:30:33.933Z"
   },
   {
    "duration": 50,
    "start_time": "2021-09-14T12:30:33.943Z"
   },
   {
    "duration": 37,
    "start_time": "2021-09-14T12:30:33.995Z"
   },
   {
    "duration": 59,
    "start_time": "2021-09-14T12:30:34.033Z"
   },
   {
    "duration": 10,
    "start_time": "2021-09-14T12:30:34.095Z"
   },
   {
    "duration": 30,
    "start_time": "2021-09-14T12:30:34.107Z"
   },
   {
    "duration": 63,
    "start_time": "2021-09-14T12:30:34.139Z"
   },
   {
    "duration": 39,
    "start_time": "2021-09-14T12:30:34.204Z"
   },
   {
    "duration": 13005,
    "start_time": "2021-09-14T12:35:30.776Z"
   },
   {
    "duration": 561,
    "start_time": "2022-05-05T14:34:20.100Z"
   },
   {
    "duration": 65,
    "start_time": "2022-05-05T14:34:26.491Z"
   },
   {
    "duration": 4,
    "start_time": "2022-05-05T14:35:18.252Z"
   },
   {
    "duration": 79,
    "start_time": "2022-05-05T14:36:12.718Z"
   },
   {
    "duration": 16,
    "start_time": "2022-05-05T14:40:18.967Z"
   },
   {
    "duration": 8,
    "start_time": "2022-05-05T14:41:24.911Z"
   },
   {
    "duration": 14,
    "start_time": "2022-05-05T14:42:04.009Z"
   },
   {
    "duration": 24,
    "start_time": "2022-05-05T14:42:59.511Z"
   },
   {
    "duration": 74,
    "start_time": "2022-05-05T14:48:27.616Z"
   },
   {
    "duration": 5,
    "start_time": "2022-05-05T14:48:30.904Z"
   },
   {
    "duration": 16,
    "start_time": "2022-05-05T14:48:37.195Z"
   },
   {
    "duration": 15,
    "start_time": "2022-05-05T14:48:47.853Z"
   },
   {
    "duration": 11,
    "start_time": "2022-05-05T14:49:56.323Z"
   },
   {
    "duration": 22,
    "start_time": "2022-05-05T14:52:58.407Z"
   },
   {
    "duration": 66,
    "start_time": "2022-05-05T14:53:11.042Z"
   },
   {
    "duration": 4,
    "start_time": "2022-05-05T14:53:15.264Z"
   },
   {
    "duration": 14,
    "start_time": "2022-05-05T14:53:24.312Z"
   },
   {
    "duration": 23,
    "start_time": "2022-05-05T14:53:49.545Z"
   },
   {
    "duration": 6,
    "start_time": "2022-05-05T14:55:35.904Z"
   },
   {
    "duration": 13,
    "start_time": "2022-05-05T14:56:55.821Z"
   },
   {
    "duration": 19,
    "start_time": "2022-05-05T14:58:32.123Z"
   },
   {
    "duration": 31,
    "start_time": "2022-05-05T14:59:24.125Z"
   },
   {
    "duration": 8,
    "start_time": "2022-05-05T15:03:15.991Z"
   },
   {
    "duration": 23,
    "start_time": "2022-05-05T15:03:20.006Z"
   },
   {
    "duration": 18,
    "start_time": "2022-05-05T15:03:46.184Z"
   },
   {
    "duration": 22,
    "start_time": "2022-05-05T15:03:58.752Z"
   },
   {
    "duration": 32,
    "start_time": "2022-05-05T15:04:18.032Z"
   },
   {
    "duration": 38,
    "start_time": "2022-05-05T15:05:07.045Z"
   },
   {
    "duration": 31,
    "start_time": "2022-05-05T15:06:04.873Z"
   },
   {
    "duration": 26,
    "start_time": "2022-05-05T15:06:56.771Z"
   },
   {
    "duration": 7,
    "start_time": "2022-05-05T15:12:55.164Z"
   },
   {
    "duration": 5,
    "start_time": "2022-05-05T15:13:01.894Z"
   },
   {
    "duration": 78,
    "start_time": "2022-05-05T15:13:15.393Z"
   },
   {
    "duration": 3,
    "start_time": "2022-05-05T15:14:23.774Z"
   },
   {
    "duration": 1006,
    "start_time": "2022-05-05T15:14:37.132Z"
   },
   {
    "duration": 11,
    "start_time": "2022-05-05T15:14:54.763Z"
   },
   {
    "duration": 4,
    "start_time": "2022-05-05T15:15:14.613Z"
   },
   {
    "duration": 155,
    "start_time": "2022-05-05T15:15:26.335Z"
   },
   {
    "duration": 151,
    "start_time": "2022-05-05T15:15:35.494Z"
   },
   {
    "duration": 760,
    "start_time": "2022-05-05T15:18:41.537Z"
   },
   {
    "duration": 796,
    "start_time": "2022-05-05T15:19:15.396Z"
   },
   {
    "duration": 4489,
    "start_time": "2022-05-05T15:24:05.644Z"
   },
   {
    "duration": 3840,
    "start_time": "2022-05-05T15:24:55.997Z"
   },
   {
    "duration": 15,
    "start_time": "2022-05-05T15:25:20.744Z"
   },
   {
    "duration": 8,
    "start_time": "2022-05-05T15:26:25.861Z"
   },
   {
    "duration": 445,
    "start_time": "2022-05-05T18:41:25.635Z"
   },
   {
    "duration": 4,
    "start_time": "2022-05-05T18:41:30.016Z"
   },
   {
    "duration": 14,
    "start_time": "2022-05-05T18:41:40.837Z"
   },
   {
    "duration": 23,
    "start_time": "2022-05-05T18:41:46.306Z"
   },
   {
    "duration": 6,
    "start_time": "2022-05-05T18:41:51.587Z"
   },
   {
    "duration": 23,
    "start_time": "2022-05-05T18:41:57.295Z"
   },
   {
    "duration": 10,
    "start_time": "2022-05-05T18:42:09.685Z"
   },
   {
    "duration": 7,
    "start_time": "2022-05-05T18:42:13.905Z"
   },
   {
    "duration": 11,
    "start_time": "2022-05-05T18:42:17.561Z"
   },
   {
    "duration": 12,
    "start_time": "2022-05-05T18:42:22.286Z"
   },
   {
    "duration": 16,
    "start_time": "2022-05-05T18:42:30.824Z"
   },
   {
    "duration": 7,
    "start_time": "2022-05-05T18:42:38.305Z"
   },
   {
    "duration": 15,
    "start_time": "2022-05-05T18:42:42.536Z"
   },
   {
    "duration": 19,
    "start_time": "2022-05-05T18:42:46.467Z"
   },
   {
    "duration": 25,
    "start_time": "2022-05-05T18:43:04.244Z"
   },
   {
    "duration": 7,
    "start_time": "2022-05-05T18:43:21.085Z"
   },
   {
    "duration": 5,
    "start_time": "2022-05-05T18:43:36.874Z"
   },
   {
    "duration": 60,
    "start_time": "2022-05-05T18:43:40.846Z"
   },
   {
    "duration": 890,
    "start_time": "2022-05-05T18:43:55.686Z"
   },
   {
    "duration": 3,
    "start_time": "2022-05-05T18:44:01.209Z"
   },
   {
    "duration": 3786,
    "start_time": "2022-05-05T18:44:20.514Z"
   },
   {
    "duration": 9,
    "start_time": "2022-05-05T18:44:26.074Z"
   },
   {
    "duration": 1743,
    "start_time": "2022-05-05T18:44:45.729Z"
   },
   {
    "duration": 1741,
    "start_time": "2022-05-05T18:45:20.928Z"
   },
   {
    "duration": 1555,
    "start_time": "2022-05-05T18:47:05.903Z"
   },
   {
    "duration": 1649,
    "start_time": "2022-05-05T18:47:16.311Z"
   },
   {
    "duration": 1662,
    "start_time": "2022-05-05T18:50:00.102Z"
   },
   {
    "duration": 9,
    "start_time": "2022-05-05T18:51:35.610Z"
   },
   {
    "duration": 4007,
    "start_time": "2022-05-05T18:54:38.166Z"
   },
   {
    "duration": 9,
    "start_time": "2022-05-05T18:54:42.175Z"
   },
   {
    "duration": 14,
    "start_time": "2022-05-05T19:05:23.655Z"
   },
   {
    "duration": 22,
    "start_time": "2022-05-05T19:05:52.285Z"
   },
   {
    "duration": 5,
    "start_time": "2022-05-05T19:06:31.464Z"
   },
   {
    "duration": 133,
    "start_time": "2022-05-05T19:06:41.217Z"
   },
   {
    "duration": 141,
    "start_time": "2022-05-05T19:07:26.622Z"
   },
   {
    "duration": 140,
    "start_time": "2022-05-05T19:09:06.533Z"
   },
   {
    "duration": 142,
    "start_time": "2022-05-05T19:09:25.537Z"
   },
   {
    "duration": 1606,
    "start_time": "2022-05-05T19:14:07.045Z"
   },
   {
    "duration": 12,
    "start_time": "2022-05-05T19:14:24.385Z"
   },
   {
    "duration": 242,
    "start_time": "2022-05-05T19:20:15.676Z"
   },
   {
    "duration": 161,
    "start_time": "2022-05-05T19:21:00.643Z"
   },
   {
    "duration": 279,
    "start_time": "2022-05-05T19:22:18.877Z"
   },
   {
    "duration": 159,
    "start_time": "2022-05-05T19:23:01.066Z"
   },
   {
    "duration": 59,
    "start_time": "2022-05-19T16:09:54.698Z"
   },
   {
    "duration": 1239,
    "start_time": "2022-05-19T16:10:07.347Z"
   },
   {
    "duration": 789,
    "start_time": "2022-05-19T16:10:15.947Z"
   },
   {
    "duration": 7,
    "start_time": "2022-05-19T16:10:16.738Z"
   },
   {
    "duration": 89,
    "start_time": "2022-05-19T16:10:16.747Z"
   },
   {
    "duration": 16,
    "start_time": "2022-05-19T16:10:16.838Z"
   },
   {
    "duration": 44,
    "start_time": "2022-05-19T16:10:16.855Z"
   },
   {
    "duration": 6,
    "start_time": "2022-05-19T16:10:16.901Z"
   },
   {
    "duration": 28,
    "start_time": "2022-05-19T16:10:16.909Z"
   },
   {
    "duration": 10,
    "start_time": "2022-05-19T16:10:16.938Z"
   },
   {
    "duration": 35,
    "start_time": "2022-05-19T16:10:16.951Z"
   },
   {
    "duration": 13,
    "start_time": "2022-05-19T16:10:16.988Z"
   },
   {
    "duration": 17,
    "start_time": "2022-05-19T16:10:17.003Z"
   },
   {
    "duration": 26,
    "start_time": "2022-05-19T16:10:17.021Z"
   },
   {
    "duration": 41,
    "start_time": "2022-05-19T16:10:17.049Z"
   },
   {
    "duration": 23,
    "start_time": "2022-05-19T16:10:17.093Z"
   },
   {
    "duration": 25,
    "start_time": "2022-05-19T16:10:17.118Z"
   },
   {
    "duration": 53,
    "start_time": "2022-05-19T16:10:17.144Z"
   },
   {
    "duration": 6,
    "start_time": "2022-05-19T16:10:17.200Z"
   },
   {
    "duration": 92,
    "start_time": "2022-05-19T16:10:17.208Z"
   },
   {
    "duration": 0,
    "start_time": "2022-05-19T16:10:17.303Z"
   },
   {
    "duration": 0,
    "start_time": "2022-05-19T16:10:17.304Z"
   },
   {
    "duration": 0,
    "start_time": "2022-05-19T16:10:17.306Z"
   },
   {
    "duration": 0,
    "start_time": "2022-05-19T16:10:17.307Z"
   },
   {
    "duration": 0,
    "start_time": "2022-05-19T16:10:17.308Z"
   },
   {
    "duration": 0,
    "start_time": "2022-05-19T16:10:17.309Z"
   },
   {
    "duration": 0,
    "start_time": "2022-05-19T16:10:17.310Z"
   },
   {
    "duration": 0,
    "start_time": "2022-05-19T16:10:17.311Z"
   },
   {
    "duration": 0,
    "start_time": "2022-05-19T16:10:17.312Z"
   },
   {
    "duration": 0,
    "start_time": "2022-05-19T16:10:17.313Z"
   },
   {
    "duration": 0,
    "start_time": "2022-05-19T16:10:17.315Z"
   },
   {
    "duration": 0,
    "start_time": "2022-05-19T16:10:17.316Z"
   },
   {
    "duration": 0,
    "start_time": "2022-05-19T16:10:17.318Z"
   },
   {
    "duration": 0,
    "start_time": "2022-05-19T16:10:17.319Z"
   },
   {
    "duration": 0,
    "start_time": "2022-05-19T16:10:17.321Z"
   },
   {
    "duration": 0,
    "start_time": "2022-05-19T16:10:17.322Z"
   },
   {
    "duration": 0,
    "start_time": "2022-05-19T16:10:17.324Z"
   },
   {
    "duration": 0,
    "start_time": "2022-05-19T16:10:17.325Z"
   },
   {
    "duration": 0,
    "start_time": "2022-05-19T16:10:17.327Z"
   },
   {
    "duration": 0,
    "start_time": "2022-05-19T16:10:17.328Z"
   },
   {
    "duration": 0,
    "start_time": "2022-05-19T16:10:17.330Z"
   },
   {
    "duration": 0,
    "start_time": "2022-05-19T16:10:17.332Z"
   },
   {
    "duration": 0,
    "start_time": "2022-05-19T16:10:17.333Z"
   },
   {
    "duration": 0,
    "start_time": "2022-05-19T16:10:17.334Z"
   },
   {
    "duration": 523,
    "start_time": "2022-05-21T17:09:53.384Z"
   },
   {
    "duration": 5,
    "start_time": "2022-05-21T17:09:53.909Z"
   },
   {
    "duration": 120,
    "start_time": "2022-05-21T17:09:53.916Z"
   },
   {
    "duration": 16,
    "start_time": "2022-05-21T17:09:54.039Z"
   },
   {
    "duration": 55,
    "start_time": "2022-05-21T17:09:54.057Z"
   },
   {
    "duration": 6,
    "start_time": "2022-05-21T17:09:54.114Z"
   },
   {
    "duration": 38,
    "start_time": "2022-05-21T17:09:54.122Z"
   },
   {
    "duration": 9,
    "start_time": "2022-05-21T17:09:54.163Z"
   },
   {
    "duration": 33,
    "start_time": "2022-05-21T17:09:54.174Z"
   },
   {
    "duration": 19,
    "start_time": "2022-05-21T17:09:54.211Z"
   },
   {
    "duration": 24,
    "start_time": "2022-05-21T17:09:54.231Z"
   },
   {
    "duration": 19,
    "start_time": "2022-05-21T17:09:54.257Z"
   },
   {
    "duration": 32,
    "start_time": "2022-05-21T17:09:54.278Z"
   },
   {
    "duration": 26,
    "start_time": "2022-05-21T17:09:54.312Z"
   },
   {
    "duration": 28,
    "start_time": "2022-05-21T17:09:54.340Z"
   },
   {
    "duration": 66,
    "start_time": "2022-05-21T17:09:54.370Z"
   },
   {
    "duration": 6,
    "start_time": "2022-05-21T17:09:54.438Z"
   },
   {
    "duration": 91,
    "start_time": "2022-05-21T17:09:54.445Z"
   },
   {
    "duration": 0,
    "start_time": "2022-05-21T17:09:54.539Z"
   },
   {
    "duration": 0,
    "start_time": "2022-05-21T17:09:54.541Z"
   },
   {
    "duration": 0,
    "start_time": "2022-05-21T17:09:54.542Z"
   },
   {
    "duration": 0,
    "start_time": "2022-05-21T17:09:54.544Z"
   },
   {
    "duration": 0,
    "start_time": "2022-05-21T17:09:54.546Z"
   },
   {
    "duration": 0,
    "start_time": "2022-05-21T17:09:54.547Z"
   },
   {
    "duration": 0,
    "start_time": "2022-05-21T17:09:54.548Z"
   },
   {
    "duration": 0,
    "start_time": "2022-05-21T17:09:54.549Z"
   },
   {
    "duration": 0,
    "start_time": "2022-05-21T17:09:54.551Z"
   },
   {
    "duration": 0,
    "start_time": "2022-05-21T17:09:54.552Z"
   },
   {
    "duration": 1,
    "start_time": "2022-05-21T17:09:54.553Z"
   },
   {
    "duration": 0,
    "start_time": "2022-05-21T17:09:54.555Z"
   },
   {
    "duration": 0,
    "start_time": "2022-05-21T17:09:54.556Z"
   },
   {
    "duration": 0,
    "start_time": "2022-05-21T17:09:54.557Z"
   },
   {
    "duration": 0,
    "start_time": "2022-05-21T17:09:54.558Z"
   },
   {
    "duration": 0,
    "start_time": "2022-05-21T17:09:54.561Z"
   },
   {
    "duration": 0,
    "start_time": "2022-05-21T17:09:54.602Z"
   },
   {
    "duration": 0,
    "start_time": "2022-05-21T17:09:54.604Z"
   },
   {
    "duration": 0,
    "start_time": "2022-05-21T17:09:54.606Z"
   },
   {
    "duration": 0,
    "start_time": "2022-05-21T17:09:54.607Z"
   },
   {
    "duration": 0,
    "start_time": "2022-05-21T17:09:54.609Z"
   },
   {
    "duration": 0,
    "start_time": "2022-05-21T17:09:54.610Z"
   },
   {
    "duration": 0,
    "start_time": "2022-05-21T17:09:54.611Z"
   },
   {
    "duration": 0,
    "start_time": "2022-05-21T17:09:54.613Z"
   },
   {
    "duration": 306,
    "start_time": "2022-05-21T17:21:32.415Z"
   },
   {
    "duration": 2345,
    "start_time": "2022-05-21T17:21:41.966Z"
   },
   {
    "duration": 83,
    "start_time": "2022-05-21T17:24:10.632Z"
   },
   {
    "duration": 12,
    "start_time": "2022-05-21T17:24:38.693Z"
   },
   {
    "duration": 6,
    "start_time": "2022-05-21T17:27:17.174Z"
   },
   {
    "duration": 8,
    "start_time": "2022-05-21T17:28:12.656Z"
   },
   {
    "duration": 9,
    "start_time": "2022-05-21T17:28:28.059Z"
   },
   {
    "duration": 3,
    "start_time": "2022-05-21T17:30:33.293Z"
   },
   {
    "duration": 1179,
    "start_time": "2022-05-21T17:31:31.485Z"
   },
   {
    "duration": 6,
    "start_time": "2022-05-21T17:31:32.666Z"
   },
   {
    "duration": 73,
    "start_time": "2022-05-21T17:31:32.673Z"
   },
   {
    "duration": 12,
    "start_time": "2022-05-21T17:31:32.748Z"
   },
   {
    "duration": 20,
    "start_time": "2022-05-21T17:31:32.762Z"
   },
   {
    "duration": 5,
    "start_time": "2022-05-21T17:31:32.802Z"
   },
   {
    "duration": 26,
    "start_time": "2022-05-21T17:31:32.809Z"
   },
   {
    "duration": 9,
    "start_time": "2022-05-21T17:31:32.836Z"
   },
   {
    "duration": 6,
    "start_time": "2022-05-21T17:31:32.846Z"
   },
   {
    "duration": 11,
    "start_time": "2022-05-21T17:31:32.855Z"
   },
   {
    "duration": 45,
    "start_time": "2022-05-21T17:31:32.867Z"
   },
   {
    "duration": 16,
    "start_time": "2022-05-21T17:31:32.913Z"
   },
   {
    "duration": 6,
    "start_time": "2022-05-21T17:31:32.931Z"
   },
   {
    "duration": 17,
    "start_time": "2022-05-21T17:31:32.939Z"
   },
   {
    "duration": 46,
    "start_time": "2022-05-21T17:31:32.957Z"
   },
   {
    "duration": 25,
    "start_time": "2022-05-21T17:31:33.005Z"
   },
   {
    "duration": 6,
    "start_time": "2022-05-21T17:31:33.031Z"
   },
   {
    "duration": 2492,
    "start_time": "2022-05-21T17:31:33.039Z"
   },
   {
    "duration": 6,
    "start_time": "2022-05-21T17:31:35.533Z"
   },
   {
    "duration": 7,
    "start_time": "2022-05-21T17:31:35.540Z"
   },
   {
    "duration": 14,
    "start_time": "2022-05-21T17:31:35.549Z"
   },
   {
    "duration": 6,
    "start_time": "2022-05-21T17:31:35.565Z"
   },
   {
    "duration": 173,
    "start_time": "2022-05-21T17:31:35.572Z"
   },
   {
    "duration": 0,
    "start_time": "2022-05-21T17:31:35.747Z"
   },
   {
    "duration": 0,
    "start_time": "2022-05-21T17:31:35.748Z"
   },
   {
    "duration": 0,
    "start_time": "2022-05-21T17:31:35.749Z"
   },
   {
    "duration": 0,
    "start_time": "2022-05-21T17:31:35.750Z"
   },
   {
    "duration": 1,
    "start_time": "2022-05-21T17:31:35.751Z"
   },
   {
    "duration": 0,
    "start_time": "2022-05-21T17:31:35.752Z"
   },
   {
    "duration": 0,
    "start_time": "2022-05-21T17:31:35.754Z"
   },
   {
    "duration": 1,
    "start_time": "2022-05-21T17:31:35.755Z"
   },
   {
    "duration": 0,
    "start_time": "2022-05-21T17:31:35.757Z"
   },
   {
    "duration": 0,
    "start_time": "2022-05-21T17:31:35.758Z"
   },
   {
    "duration": 0,
    "start_time": "2022-05-21T17:31:35.760Z"
   },
   {
    "duration": 0,
    "start_time": "2022-05-21T17:31:35.761Z"
   },
   {
    "duration": 0,
    "start_time": "2022-05-21T17:31:35.762Z"
   },
   {
    "duration": 0,
    "start_time": "2022-05-21T17:31:35.763Z"
   },
   {
    "duration": 0,
    "start_time": "2022-05-21T17:31:35.765Z"
   },
   {
    "duration": 0,
    "start_time": "2022-05-21T17:31:35.766Z"
   },
   {
    "duration": 0,
    "start_time": "2022-05-21T17:31:35.767Z"
   },
   {
    "duration": 0,
    "start_time": "2022-05-21T17:31:35.802Z"
   },
   {
    "duration": 0,
    "start_time": "2022-05-21T17:31:35.803Z"
   },
   {
    "duration": 157,
    "start_time": "2022-05-21T17:35:44.372Z"
   },
   {
    "duration": 157,
    "start_time": "2022-05-21T17:35:54.819Z"
   },
   {
    "duration": 7,
    "start_time": "2022-05-21T17:36:03.839Z"
   },
   {
    "duration": 152,
    "start_time": "2022-05-21T17:36:46.331Z"
   },
   {
    "duration": 6,
    "start_time": "2022-05-21T17:39:32.305Z"
   },
   {
    "duration": 133,
    "start_time": "2022-05-21T17:39:37.064Z"
   },
   {
    "duration": 149,
    "start_time": "2022-05-21T17:39:52.329Z"
   },
   {
    "duration": 16,
    "start_time": "2022-05-21T17:42:18.933Z"
   },
   {
    "duration": 11,
    "start_time": "2022-05-21T17:44:31.730Z"
   },
   {
    "duration": 9,
    "start_time": "2022-05-21T17:47:52.571Z"
   },
   {
    "duration": 144,
    "start_time": "2022-05-21T17:50:16.931Z"
   },
   {
    "duration": 150,
    "start_time": "2022-05-21T17:52:11.426Z"
   },
   {
    "duration": 133,
    "start_time": "2022-05-21T17:52:47.659Z"
   },
   {
    "duration": 167,
    "start_time": "2022-05-21T17:53:38.498Z"
   },
   {
    "duration": 152,
    "start_time": "2022-05-21T17:53:59.163Z"
   },
   {
    "duration": 152,
    "start_time": "2022-05-21T17:54:28.563Z"
   },
   {
    "duration": 173,
    "start_time": "2022-05-21T17:54:54.312Z"
   },
   {
    "duration": 150,
    "start_time": "2022-05-21T17:56:46.016Z"
   },
   {
    "duration": 146,
    "start_time": "2022-05-21T17:57:20.530Z"
   },
   {
    "duration": 140,
    "start_time": "2022-05-21T17:57:46.609Z"
   },
   {
    "duration": 9,
    "start_time": "2022-05-21T17:59:13.576Z"
   },
   {
    "duration": 27,
    "start_time": "2022-05-21T17:59:18.608Z"
   },
   {
    "duration": 41,
    "start_time": "2022-05-21T18:05:14.355Z"
   },
   {
    "duration": 47,
    "start_time": "2022-05-21T18:05:20.721Z"
   },
   {
    "duration": 13,
    "start_time": "2022-05-21T18:06:07.613Z"
   },
   {
    "duration": 10,
    "start_time": "2022-05-21T18:10:51.154Z"
   },
   {
    "duration": 30,
    "start_time": "2022-05-21T18:13:26.365Z"
   },
   {
    "duration": 10,
    "start_time": "2022-05-21T18:13:34.062Z"
   },
   {
    "duration": 35,
    "start_time": "2022-05-21T18:13:51.127Z"
   },
   {
    "duration": 48,
    "start_time": "2022-05-21T18:13:56.325Z"
   },
   {
    "duration": 62,
    "start_time": "2022-05-21T18:15:44.568Z"
   },
   {
    "duration": 415,
    "start_time": "2022-05-21T18:20:25.324Z"
   },
   {
    "duration": 29,
    "start_time": "2022-05-21T18:26:52.314Z"
   },
   {
    "duration": 99,
    "start_time": "2022-05-21T18:27:08.694Z"
   },
   {
    "duration": 80,
    "start_time": "2022-05-21T18:29:36.542Z"
   },
   {
    "duration": 7,
    "start_time": "2022-05-21T18:30:24.469Z"
   },
   {
    "duration": 46,
    "start_time": "2022-05-22T13:38:01.689Z"
   },
   {
    "duration": 12,
    "start_time": "2022-05-22T13:39:43.100Z"
   },
   {
    "duration": 12,
    "start_time": "2022-05-22T13:40:08.730Z"
   },
   {
    "duration": 54,
    "start_time": "2022-05-22T13:42:41.880Z"
   },
   {
    "duration": 90,
    "start_time": "2022-05-22T13:53:27.209Z"
   },
   {
    "duration": 8,
    "start_time": "2022-05-22T13:54:18.170Z"
   },
   {
    "duration": 2435,
    "start_time": "2022-05-22T13:56:45.640Z"
   },
   {
    "duration": 7,
    "start_time": "2022-05-22T13:57:18.978Z"
   },
   {
    "duration": 2489,
    "start_time": "2022-05-22T13:57:30.169Z"
   },
   {
    "duration": 124,
    "start_time": "2022-05-22T13:57:51.759Z"
   },
   {
    "duration": 12,
    "start_time": "2022-05-22T13:58:01.294Z"
   },
   {
    "duration": 11,
    "start_time": "2022-05-22T13:58:10.557Z"
   },
   {
    "duration": 57,
    "start_time": "2022-05-22T18:10:48.397Z"
   },
   {
    "duration": 1261,
    "start_time": "2022-05-22T18:10:58.898Z"
   },
   {
    "duration": 5,
    "start_time": "2022-05-22T18:11:00.162Z"
   },
   {
    "duration": 85,
    "start_time": "2022-05-22T18:11:00.169Z"
   },
   {
    "duration": 15,
    "start_time": "2022-05-22T18:11:00.256Z"
   },
   {
    "duration": 27,
    "start_time": "2022-05-22T18:11:00.273Z"
   },
   {
    "duration": 5,
    "start_time": "2022-05-22T18:11:00.302Z"
   },
   {
    "duration": 41,
    "start_time": "2022-05-22T18:11:00.309Z"
   },
   {
    "duration": 11,
    "start_time": "2022-05-22T18:11:00.352Z"
   },
   {
    "duration": 25,
    "start_time": "2022-05-22T18:11:00.365Z"
   },
   {
    "duration": 19,
    "start_time": "2022-05-22T18:11:00.392Z"
   },
   {
    "duration": 31,
    "start_time": "2022-05-22T18:11:00.414Z"
   },
   {
    "duration": 19,
    "start_time": "2022-05-22T18:11:00.447Z"
   },
   {
    "duration": 7,
    "start_time": "2022-05-22T18:11:00.468Z"
   },
   {
    "duration": 36,
    "start_time": "2022-05-22T18:11:00.478Z"
   },
   {
    "duration": 36,
    "start_time": "2022-05-22T18:11:00.516Z"
   },
   {
    "duration": 30,
    "start_time": "2022-05-22T18:11:00.554Z"
   },
   {
    "duration": 7,
    "start_time": "2022-05-22T18:11:00.586Z"
   },
   {
    "duration": 2602,
    "start_time": "2022-05-22T18:11:00.595Z"
   },
   {
    "duration": 6,
    "start_time": "2022-05-22T18:11:03.199Z"
   },
   {
    "duration": 11,
    "start_time": "2022-05-22T18:11:03.207Z"
   },
   {
    "duration": 23,
    "start_time": "2022-05-22T18:11:03.219Z"
   },
   {
    "duration": 16,
    "start_time": "2022-05-22T18:11:03.243Z"
   },
   {
    "duration": 175,
    "start_time": "2022-05-22T18:11:03.262Z"
   },
   {
    "duration": 6,
    "start_time": "2022-05-22T18:11:03.439Z"
   },
   {
    "duration": 171,
    "start_time": "2022-05-22T18:11:03.447Z"
   },
   {
    "duration": 24,
    "start_time": "2022-05-22T18:11:03.619Z"
   },
   {
    "duration": 165,
    "start_time": "2022-05-22T18:11:03.645Z"
   },
   {
    "duration": 18,
    "start_time": "2022-05-22T18:11:03.813Z"
   },
   {
    "duration": 638,
    "start_time": "2022-05-22T18:11:03.833Z"
   },
   {
    "duration": 11,
    "start_time": "2022-05-22T18:11:04.472Z"
   },
   {
    "duration": 52,
    "start_time": "2022-05-22T18:11:04.484Z"
   },
   {
    "duration": 61,
    "start_time": "2022-05-22T18:11:04.538Z"
   },
   {
    "duration": 26,
    "start_time": "2022-05-22T18:11:04.601Z"
   },
   {
    "duration": 39,
    "start_time": "2022-05-22T18:11:04.629Z"
   },
   {
    "duration": 78,
    "start_time": "2022-05-22T18:11:04.669Z"
   },
   {
    "duration": 83,
    "start_time": "2022-05-22T18:11:04.749Z"
   },
   {
    "duration": 7,
    "start_time": "2022-05-22T18:11:04.834Z"
   },
   {
    "duration": 58,
    "start_time": "2022-05-22T18:11:04.842Z"
   },
   {
    "duration": 44,
    "start_time": "2022-05-22T18:11:04.901Z"
   },
   {
    "duration": 33,
    "start_time": "2022-05-22T18:11:04.947Z"
   },
   {
    "duration": 62,
    "start_time": "2022-05-22T18:23:14.124Z"
   },
   {
    "duration": 57,
    "start_time": "2022-05-22T18:25:44.005Z"
   }
  ],
  "kernelspec": {
   "display_name": "Python 3 (ipykernel)",
   "language": "python",
   "name": "python3"
  },
  "language_info": {
   "codemirror_mode": {
    "name": "ipython",
    "version": 3
   },
   "file_extension": ".py",
   "mimetype": "text/x-python",
   "name": "python",
   "nbconvert_exporter": "python",
   "pygments_lexer": "ipython3",
   "version": "3.9.7"
  },
  "toc": {
   "base_numbering": 1,
   "nav_menu": {},
   "number_sections": false,
   "sideBar": true,
   "skip_h1_title": true,
   "title_cell": "Table of Contents",
   "title_sidebar": "Contents",
   "toc_cell": false,
   "toc_position": {},
   "toc_section_display": true,
   "toc_window_display": true
  }
 },
 "nbformat": 4,
 "nbformat_minor": 2
}
